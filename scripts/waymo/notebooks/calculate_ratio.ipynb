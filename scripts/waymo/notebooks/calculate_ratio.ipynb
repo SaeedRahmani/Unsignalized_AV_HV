{
 "cells": [
  {
   "cell_type": "code",
   "execution_count": 1,
   "id": "26a892d4-8498-4f2f-98fe-133479535944",
   "metadata": {},
   "outputs": [],
   "source": [
    "import pickle\n",
    "import numpy as np\n",
    "np.set_printoptions(suppress=True)\n",
    "import pandas as pd\n",
    "import matplotlib.pyplot as plt\n",
    "%matplotlib inline\n",
    "# import scienceplots\n",
    "from tqdm import tqdm\n",
    "from shapely import LineString, Point\n",
    "from seaborn import displot, histplot, relplot\n",
    "plt.style.use(['seaborn-v0_8-paper'])\n",
    "# plt.style.use(['ieee', 'notebook'])\n",
    "\n",
    "from waymo_devkit.conflict import Conflict"
   ]
  },
  {
   "cell_type": "code",
   "execution_count": 2,
   "id": "4fcbc2bd-90c0-4d5c-b5ee-bf0d4ed12a17",
   "metadata": {},
   "outputs": [
    {
     "name": "stdout",
     "output_type": "stream",
     "text": [
      "#Conflicts: 889\n"
     ]
    },
    {
     "name": "stderr",
     "output_type": "stream",
     "text": [
      "/home/gavin/waymo/waymo_devkit/conflict.py:149: RuntimeWarning: divide by zero encountered in double_scalars\n",
      "  TTCs.append(follower_trajectory_length / (self.follower_beforeConflict_speeds[follower_index]))\n",
      "/home/gavin/waymo/waymo_devkit/conflict.py:164: RuntimeWarning: divide by zero encountered in double_scalars\n",
      "  follower_trajectory_length / self.follower_beforeConflict_speeds[follower_index] - \\\n",
      "/home/gavin/waymo/waymo_devkit/conflict.py:165: RuntimeWarning: divide by zero encountered in double_scalars\n",
      "  leader_trajectory_length / self.leader_beforeConflict_speeds[leader_index]\n"
     ]
    }
   ],
   "source": [
    "with open('./pkl/conflict_pet15s.pkl', 'rb') as file:\n",
    "    conflict_list_from_pickle = pickle.load(file)\n",
    "print(f\"#Conflicts: {len(conflict_list_from_pickle)}\")\n",
    "\n",
    "conflict_list = list()\n",
    "for c in conflict_list_from_pickle:\n",
    "    conflict_list.append(\n",
    "        Conflict(\n",
    "            leader_id=c['leader_id'],\n",
    "            leader_index=c['leader_index'],\n",
    "            leader_states=c['leader_states'],\n",
    "            leader_time_at_conflict=c['leader_time_at_conflict'],\n",
    "            follower_id=c['follower_id'],\n",
    "            follower_index=c['follower_index'],\n",
    "            follower_states=c['follower_states'],\n",
    "            follower_time_at_conflict=c['follower_time_at_conflict'],\n",
    "            PET=c['PET'],\n",
    "            conflict_type=c['conflict_type'],\n",
    "            leader_is_av=c['leader_is_av'],\n",
    "            follower_is_av=c['follower_is_av'],\n",
    "    ))"
   ]
  },
  {
   "cell_type": "code",
   "execution_count": 26,
   "id": "4cb0a7b3-5f81-43af-ace9-6e941d807d34",
   "metadata": {},
   "outputs": [
    {
     "name": "stderr",
     "output_type": "stream",
     "text": [
      "889it [00:00, 58220.57it/s]"
     ]
    },
    {
     "name": "stdout",
     "output_type": "stream",
     "text": [
      "<class 'pandas.core.frame.DataFrame'>\n",
      "Int64Index: 843 entries, 0 to 863\n",
      "Data columns (total 6 columns):\n",
      " #   Column         Non-Null Count  Dtype  \n",
      "---  ------         --------------  -----  \n",
      " 0   Conflict type  843 non-null    object \n",
      " 1   Vehicle order  843 non-null    object \n",
      " 2   leader_type    843 non-null    bool   \n",
      " 3   follower_type  843 non-null    bool   \n",
      " 4   PET            843 non-null    float64\n",
      " 5   TA             843 non-null    float64\n",
      "dtypes: bool(2), float64(2), object(2)\n",
      "memory usage: 34.6+ KB\n"
     ]
    },
    {
     "name": "stderr",
     "output_type": "stream",
     "text": [
      "\n"
     ]
    }
   ],
   "source": [
    "\"\"\"\n",
    "Construct a dataframe with the following columns:\n",
    "- Conflict type\n",
    "- Vehicle order\n",
    "- PET\n",
    "\"\"\"\n",
    "conflict_cols_in_df = [\n",
    "    \"Conflict type\",\n",
    "    \"Vehicle order\",\n",
    "    \"leader_type\",\n",
    "    \"follower_type\",\n",
    "    \"PET\",\n",
    "    \"TA\",\n",
    "]\n",
    "\n",
    "# generate each rows in the dataframe\n",
    "conflict_rows_in_df = list()\n",
    "for index, conflict in tqdm(enumerate(conflict_list)):\n",
    "\n",
    "    leader_type = \"AV\" if conflict.leader_is_av else \"HV\"\n",
    "    follower_type = \"AV\" if conflict.follower_is_av else \"HV\" \n",
    "    conflict_type = \"Cross\" if conflict.conflict_type == \"CROSS\" else \"Merge\"\n",
    "\n",
    "    TAs = conflict.time_advantages\n",
    "    if len(TAs) > 0:\n",
    "        conflict_rows_in_df.append([\n",
    "            conflict_type,\n",
    "            leader_type+\"-\"+follower_type,\n",
    "            conflict.leader_is_av,\n",
    "            conflict.follower_is_av,\n",
    "            conflict.PET, \n",
    "            TAs[0],\n",
    "        ])\n",
    "conflict_df = pd.DataFrame(conflict_rows_in_df, columns=conflict_cols_in_df)\n",
    "\n",
    "# Post-process\n",
    "PET_THRESHOLD = 10\n",
    "conflict_df = conflict_df[conflict_df[\"PET\"] <= PET_THRESHOLD]\n",
    "\n",
    "# display info\n",
    "conflict_df.info()"
   ]
  },
  {
   "cell_type": "code",
   "execution_count": 28,
   "id": "37f3665b-a538-4d88-8cb9-4c79ccaa51c1",
   "metadata": {},
   "outputs": [
    {
     "name": "stdout",
     "output_type": "stream",
     "text": [
      "AV: 134, 134\n",
      "HV: 0, 709\n",
      "AV: 1.0\n",
      "HV: 0.0\n"
     ]
    }
   ],
   "source": [
    "HV_numerator, HV_denominator = 0, 0\n",
    "AV_numerator, AV_denominator = 0, 0\n",
    "\n",
    "for index, row in conflict_df.iterrows():\n",
    "    # print(row.TA)\n",
    "    if (row.TA > 0 and row.leader_type) or (row.TA < 0 and row.follower_type):\n",
    "        # this means AV has the time advantage \n",
    "        AV_denominator += 1\n",
    "        if conflict.leader_type:\n",
    "            AV_numerator += 1\n",
    "    elif (row.TA > 0 and not row.leader_type) or (row.TA < 0 and not row.follower_type):\n",
    "        # this means HV has the time advantage \n",
    "        HV_denominator += 1\n",
    "        if not conflict.leader_type:\n",
    "            HV_numerator += 1\n",
    "\n",
    "print(f\"AV: {AV_numerator}, {AV_denominator}\")\n",
    "print(f\"HV: {HV_numerator}, {HV_denominator}\") \n",
    "print(f\"AV: {AV_numerator / AV_denominator}\")\n",
    "print(f\"HV: {HV_numerator / HV_denominator}\")"
   ]
  },
  {
   "cell_type": "code",
   "execution_count": null,
   "id": "9a6b8e63-db80-48d3-a84a-2a87182234e2",
   "metadata": {},
   "outputs": [],
   "source": []
  },
  {
   "cell_type": "code",
   "execution_count": null,
   "id": "5a9a4d53-4776-4f9e-b944-619f5bcf8f38",
   "metadata": {},
   "outputs": [],
   "source": []
  }
 ],
 "metadata": {
  "kernelspec": {
   "display_name": "Python 3 (ipykernel)",
   "language": "python",
   "name": "python3"
  },
  "language_info": {
   "codemirror_mode": {
    "name": "ipython",
    "version": 3
   },
   "file_extension": ".py",
   "mimetype": "text/x-python",
   "name": "python",
   "nbconvert_exporter": "python",
   "pygments_lexer": "ipython3",
   "version": "3.10.14"
  }
 },
 "nbformat": 4,
 "nbformat_minor": 5
}
