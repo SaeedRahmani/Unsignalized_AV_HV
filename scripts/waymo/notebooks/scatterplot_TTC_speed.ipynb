{
 "cells": [
  {
   "cell_type": "markdown",
   "id": "2df00075-0524-4f12-b5ac-79e77f877888",
   "metadata": {},
   "source": [
    "# Waymo: scatterplot - TTC - speed"
   ]
  },
  {
   "cell_type": "code",
   "execution_count": 1,
   "id": "2687e71f-ce5e-4eb2-bb4b-f1c7c36475d2",
   "metadata": {},
   "outputs": [],
   "source": [
    "import pickle\n",
    "import numpy as np\n",
    "np.set_printoptions(suppress=True)\n",
    "import pandas as pd\n",
    "import matplotlib.pyplot as plt\n",
    "%matplotlib inline\n",
    "# import scienceplots\n",
    "from tqdm import tqdm\n",
    "from shapely import LineString, Point\n",
    "from seaborn import displot, histplot, relplot, scatterplot\n",
    "plt.style.use(['seaborn-v0_8-paper'])\n",
    "# plt.style.use(['ieee', 'notebook'])\n",
    "\n",
    "from waymo_devkit.conflict import Conflict"
   ]
  },
  {
   "cell_type": "code",
   "execution_count": 2,
   "id": "71e5603a-01a7-4abd-8315-9bec355a2a15",
   "metadata": {},
   "outputs": [
    {
     "name": "stdout",
     "output_type": "stream",
     "text": [
      "#Conflicts: 889\n"
     ]
    },
    {
     "name": "stderr",
     "output_type": "stream",
     "text": [
      "/home/gavin/waymo/waymo_devkit/conflict.py:149: RuntimeWarning: divide by zero encountered in double_scalars\n",
      "  TTCs.append(follower_trajectory_length / (self.follower_beforeConflict_speeds[follower_index]))\n",
      "/home/gavin/waymo/waymo_devkit/conflict.py:164: RuntimeWarning: divide by zero encountered in double_scalars\n",
      "  follower_trajectory_length / self.follower_beforeConflict_speeds[follower_index] - \\\n",
      "/home/gavin/waymo/waymo_devkit/conflict.py:165: RuntimeWarning: divide by zero encountered in double_scalars\n",
      "  leader_trajectory_length / self.leader_beforeConflict_speeds[leader_index]\n"
     ]
    }
   ],
   "source": [
    "with open('./pkl/conflict_pet15s.pkl', 'rb') as file:\n",
    "    conflict_list_from_pickle = pickle.load(file)\n",
    "print(f\"#Conflicts: {len(conflict_list_from_pickle)}\")\n",
    "\n",
    "conflict_list = list()\n",
    "for c in conflict_list_from_pickle:\n",
    "    conflict_list.append(\n",
    "        Conflict(\n",
    "            leader_id=c['leader_id'],\n",
    "            leader_index=c['leader_index'],\n",
    "            leader_states=c['leader_states'],\n",
    "            leader_time_at_conflict=c['leader_time_at_conflict'],\n",
    "            follower_id=c['follower_id'],\n",
    "            follower_index=c['follower_index'],\n",
    "            follower_states=c['follower_states'],\n",
    "            follower_time_at_conflict=c['follower_time_at_conflict'],\n",
    "            PET=c['PET'],\n",
    "            conflict_type=c['conflict_type'],\n",
    "            leader_is_av=c['leader_is_av'],\n",
    "            follower_is_av=c['follower_is_av'],\n",
    "    ))"
   ]
  },
  {
   "cell_type": "code",
   "execution_count": 3,
   "id": "a0af89bd-1c96-4ecc-b733-8ed437facee4",
   "metadata": {},
   "outputs": [
    {
     "name": "stdout",
     "output_type": "stream",
     "text": [
      "<class 'pandas.core.frame.DataFrame'>\n",
      "Int64Index: 50487 entries, 0 to 51298\n",
      "Data columns (total 6 columns):\n",
      " #   Column          Non-Null Count  Dtype  \n",
      "---  ------          --------------  -----  \n",
      " 0   Conflict type   50487 non-null  object \n",
      " 1   Vehicle order   50487 non-null  object \n",
      " 2   PET             50487 non-null  float64\n",
      " 3   TTC             50487 non-null  float64\n",
      " 4   leader_speed    50487 non-null  float64\n",
      " 5   follower_speed  50487 non-null  float64\n",
      "dtypes: float64(4), object(2)\n",
      "memory usage: 2.7+ MB\n"
     ]
    },
    {
     "data": {
      "text/plain": [
       "(None, (50487, 6))"
      ]
     },
     "execution_count": 3,
     "metadata": {},
     "output_type": "execute_result"
    }
   ],
   "source": [
    "conflict_cols_in_df = [\n",
    "    \"Conflict type\",\n",
    "    \"Vehicle order\",\n",
    "    \"PET\",\n",
    "    \"TTC\",\n",
    "    \"leader_speed\",\n",
    "    \"follower_speed\",\n",
    "]\n",
    "\n",
    "# generate each rows in the dataframe\n",
    "conflict_rows_in_df = list()\n",
    "for conflict in conflict_list:\n",
    "    leader_type = \"AV\" if conflict.leader_is_av else \"HV\"\n",
    "    follower_type = \"AV\" if conflict.follower_is_av else \"HV\" \n",
    "    conflict_type = \"Cross\" if conflict.conflict_type == \"CROSS\" else \"Merge\"\n",
    "    PET = conflict.PET\n",
    "\n",
    "    if conflict.two_vehicles_co_exist:\n",
    "        states = conflict.states_before_conflictPoint[:, [1,6,7]]\n",
    "        states = states[~np.isnan(states).any(axis=1)]\n",
    "        \n",
    "        for state in states:\n",
    "            conflict_rows_in_df.append([\n",
    "                    conflict_type,\n",
    "                    leader_type+\"-\"+follower_type,\n",
    "                    PET,\n",
    "                    state[0],\n",
    "                    state[1],\n",
    "                    state[2],\n",
    "                ])\n",
    "\n",
    "conflict_df = pd.DataFrame(conflict_rows_in_df, columns=conflict_cols_in_df)\n",
    "\n",
    "# Post-process\n",
    "PET_THRESHOLD = 10\n",
    "conflict_df = conflict_df[conflict_df[\"PET\"] <= PET_THRESHOLD]\n",
    "\n",
    "# display info\n",
    "conflict_df.info(), conflict_df.shape"
   ]
  },
  {
   "cell_type": "code",
   "execution_count": 4,
   "id": "3efeb1e5-eec8-4a3f-99a6-f252aea33c1c",
   "metadata": {},
   "outputs": [
    {
     "name": "stdout",
     "output_type": "stream",
     "text": [
      "<class 'pandas.core.frame.DataFrame'>\n",
      "Int64Index: 50487 entries, 0 to 51298\n",
      "Data columns (total 6 columns):\n",
      " #   Column          Non-Null Count  Dtype  \n",
      "---  ------          --------------  -----  \n",
      " 0   Conflict type   50487 non-null  object \n",
      " 1   Vehicle order   50487 non-null  object \n",
      " 2   PET             50487 non-null  float64\n",
      " 3   TTC             50487 non-null  float64\n",
      " 4   leader_speed    50487 non-null  float64\n",
      " 5   follower_speed  50487 non-null  float64\n",
      "dtypes: float64(4), object(2)\n",
      "memory usage: 2.7+ MB\n"
     ]
    }
   ],
   "source": [
    "# remove nan value\n",
    "conflict_df = conflict_df.dropna()\n",
    "conflict_df.info()"
   ]
  },
  {
   "cell_type": "code",
   "execution_count": 5,
   "id": "6142dad5-927c-4b5d-81fd-4fcb1c8799a6",
   "metadata": {},
   "outputs": [
    {
     "name": "stdout",
     "output_type": "stream",
     "text": [
      "<class 'pandas.core.frame.DataFrame'>\n",
      "Int64Index: 23423 entries, 0 to 51265\n",
      "Data columns (total 6 columns):\n",
      " #   Column          Non-Null Count  Dtype  \n",
      "---  ------          --------------  -----  \n",
      " 0   Conflict type   23423 non-null  object \n",
      " 1   Vehicle order   23423 non-null  object \n",
      " 2   PET             23423 non-null  float64\n",
      " 3   TTC             23423 non-null  float64\n",
      " 4   leader_speed    23423 non-null  float64\n",
      " 5   follower_speed  23423 non-null  float64\n",
      "dtypes: float64(4), object(2)\n",
      "memory usage: 1.3+ MB\n"
     ]
    }
   ],
   "source": [
    "# Post-process: remove TTC greater than 10s\n",
    "TTC_THRESHOLD = 10\n",
    "conflict_df = conflict_df[conflict_df[\"TTC\"] <= TTC_THRESHOLD]\n",
    "\n",
    "# display info\n",
    "conflict_df.info()"
   ]
  },
  {
   "cell_type": "code",
   "execution_count": 6,
   "id": "792ce9bc-796b-449d-94a0-f3f45b9a0dfd",
   "metadata": {},
   "outputs": [
    {
     "data": {
      "text/plain": [
       "AV-HV    10179\n",
       "HV-HV     8869\n",
       "HV-AV     4375\n",
       "Name: Vehicle order, dtype: int64"
      ]
     },
     "execution_count": 6,
     "metadata": {},
     "output_type": "execute_result"
    }
   ],
   "source": [
    "conflict_df[\"Vehicle order\"].value_counts()"
   ]
  },
  {
   "cell_type": "markdown",
   "id": "a9c2dbe4-88eb-4659-bccd-11f5cb003a5f",
   "metadata": {},
   "source": [
    "## Distplots"
   ]
  },
  {
   "cell_type": "markdown",
   "id": "5571999b-2f41-4b78-8ebc-60aad9df658b",
   "metadata": {},
   "source": [
    "### All"
   ]
  },
  {
   "cell_type": "code",
   "execution_count": 16,
   "id": "2cf2b5e6-830d-42d6-97ef-b361901d13c5",
   "metadata": {
    "scrolled": true
   },
   "outputs": [
    {
     "data": {
      "text/plain": [
       "<Figure size 300x300 with 0 Axes>"
      ]
     },
     "metadata": {},
     "output_type": "display_data"
    },
    {
     "data": {
      "image/png": "[encoded data removed]",
      "text/plain": [
       "<Figure size 300x300 with 1 Axes>"
      ]
     },
     "metadata": {},
     "output_type": "display_data"
    }
   ],
   "source": [
    "FIGURE_WIDTH, FIGURE_HEIGHT = 3, 3\n",
    "conflictType = \"Total\"\n",
    "plt.figure(figsize=(FIGURE_WIDTH, FIGURE_HEIGHT))\n",
    "\n",
    "displot(\n",
    "    data=conflict_df,\n",
    "    x=\"TTC\", \n",
    "    y=\"follower_speed\",\n",
    "    height=FIGURE_HEIGHT,\n",
    "    aspect=1.0,\n",
    ")\n",
    "\n",
    "plt.xlim([0, TTC_THRESHOLD])\n",
    "plt.ylim([0, 15])\n",
    "# plt.legend([\"HV-AV\", \"AV-HV\", \"HV-HV\"], title=\"Vehicle order\")\n",
    "plt.title(f\"TTC - Follower speed [{conflictType}] (Waymo)\")\n",
    "# plt.savefig(f\"./outputs/plots/waymo_distribution_TTC_{conflictType}.png\", dpi=300, bbox_inches=\"tight\")\n",
    "plt.show()"
   ]
  },
  {
   "cell_type": "code",
   "execution_count": 17,
   "id": "5074fab2-08e2-4d6b-9d89-7ab46ce7b4b2",
   "metadata": {},
   "outputs": [
    {
     "data": {
      "text/plain": [
       "<Figure size 300x300 with 0 Axes>"
      ]
     },
     "metadata": {},
     "output_type": "display_data"
    },
    {
     "data": {
      "image/png": "[encoded data removed]",
      "text/plain": [
       "<Figure size 300x300 with 1 Axes>"
      ]
     },
     "metadata": {},
     "output_type": "display_data"
    }
   ],
   "source": [
    "FIGURE_WIDTH, FIGURE_HEIGHT = 3, 3\n",
    "conflictType = \"Total\"\n",
    "plt.figure(figsize=(FIGURE_WIDTH, FIGURE_HEIGHT))\n",
    "\n",
    "displot(\n",
    "    data=conflict_df,\n",
    "    x=\"TTC\", \n",
    "    y=\"leader_speed\",\n",
    "    height=FIGURE_HEIGHT,\n",
    "    aspect=1.0,\n",
    ")\n",
    "\n",
    "plt.xlim([0, TTC_THRESHOLD])\n",
    "plt.ylim([0, 15])\n",
    "# plt.legend([\"HV-AV\", \"AV-HV\", \"HV-HV\"], title=\"Vehicle order\")\n",
    "plt.title(f\"TTC - Leader speed [{conflictType}] (Waymo)\")\n",
    "# plt.savefig(f\"./outputs/plots/waymo_distribution_TTC_{conflictType}.png\", dpi=300, bbox_inches=\"tight\")\n",
    "plt.show()"
   ]
  },
  {
   "cell_type": "code",
   "execution_count": null,
   "id": "a27c411d-5443-4bbc-900d-02a1d59d0988",
   "metadata": {},
   "outputs": [],
   "source": []
  }
 ],
 "metadata": {
  "kernelspec": {
   "display_name": "Python 3 (ipykernel)",
   "language": "python",
   "name": "python3"
  },
  "language_info": {
   "codemirror_mode": {
    "name": "ipython",
    "version": 3
   },
   "file_extension": ".py",
   "mimetype": "text/x-python",
   "name": "python",
   "nbconvert_exporter": "python",
   "pygments_lexer": "ipython3",
   "version": "3.10.14"
  }
 },
 "nbformat": 4,
 "nbformat_minor": 5
}
