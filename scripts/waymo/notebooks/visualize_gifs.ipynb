{
 "cells": [
  {
   "cell_type": "code",
   "execution_count": 1,
   "id": "eb7c44a5-f6d8-4ea8-9501-aeb26cf17912",
   "metadata": {},
   "outputs": [],
   "source": [
    "import os\n",
    "os.environ['TF_CPP_MIN_LOG_LEVEL'] = '2'\n",
    "import pickle\n",
    "import numpy as np\n",
    "import pandas as pd\n",
    "import tensorflow as tf\n",
    "from waymo_open_dataset.protos import scenario_pb2\n",
    "\n",
    "from waymo_devkit.query import get_intersection_stopSigns, get_intersection_circle, get_intersection_lanes\n",
    "from waymo_devkit.query import get_egoTrajectory, get_vehicleTrajectories, get_scenario_metadata\n",
    "from waymo_devkit.shape import construct_intersection_polygon\n",
    "from waymo_devkit.identify import ConflictType, identify_conflict, identify_complex_conflicts\n",
    "from waymo_devkit.visualize import visualize_gif, visualize_map, visualize_traj"
   ]
  },
  {
   "cell_type": "code",
   "execution_count": 2,
   "id": "9a0b10c1-4c6f-46fc-924a-587845be88e1",
   "metadata": {},
   "outputs": [
    {
     "name": "stdout",
     "output_type": "stream",
     "text": [
      "\u001b[0m\u001b[01;32mfind_conflicts.py\u001b[0m*  \u001b[34;42mtraining_20s\u001b[0m/              \u001b[01;32mvisualize_traj.py\u001b[0m*\n",
      "\u001b[01;32mfind_scenarios.py\u001b[0m*  \u001b[01;32mvisualize_PET_dist.ipynb\u001b[0m*  \u001b[34;42mwaymo_devkit\u001b[0m/\n",
      "\u001b[34;42moutputs\u001b[0m/            visualize_gifs.ipynb\n",
      "\u001b[01;34mpkl\u001b[0m/                visualize_traj.ipynb\n"
     ]
    }
   ],
   "source": [
    "ls"
   ]
  },
  {
   "cell_type": "code",
   "execution_count": 3,
   "id": "3284a887-b0b5-479b-bdad-b9ddecb78188",
   "metadata": {},
   "outputs": [],
   "source": [
    "with open('./pkl/cross_conflict_pet15s.pkl', 'rb') as file:\n",
    "    all_cross_conflicts = pickle.load(file)\n",
    "with open('./pkl/merge_conflict_pet15s.pkl', 'rb') as file:\n",
    "    all_merge_conflicts = pickle.load(file)\n",
    "with open('./pkl/conflict_pet15s.pkl', 'rb') as file:\n",
    "    all_conflicts = pickle.load(file)"
   ]
  },
  {
   "cell_type": "code",
   "execution_count": 10,
   "id": "0fa8e61d-a18b-4849-8398-3339a4fe08e2",
   "metadata": {},
   "outputs": [
    {
     "data": {
      "text/plain": [
       "((605, 5), (306, 5))"
      ]
     },
     "execution_count": 10,
     "metadata": {},
     "output_type": "execute_result"
    }
   ],
   "source": [
    "cross_PETs = list()\n",
    "for c in all_cross_conflicts:\n",
    "    leader_type = \"AV\" if c.leader_is_av else \"HV\"\n",
    "    follower_type = \"AV\" if c.follower_is_av else \"HV\" \n",
    "    tfrecord_index = c.tfrecord_index\n",
    "    scenario_index = c.scenario_index\n",
    "    scene_index = c.scene_index\n",
    "    cross_PETs.append([c.PET, leader_type+\"-\"+follower_type, tfrecord_index, scenario_index, scene_index])\n",
    "\n",
    "cross_PET_df = pd.DataFrame(cross_PETs, columns=[\"PET\", \"type\", \"tfrecord_index\", \"scenario_index\", \"scene_index\"])\n",
    "\n",
    "merge_PETs = list()\n",
    "for c in all_merge_conflicts:\n",
    "    leader_type = \"AV\" if c.leader_is_av else \"HV\"\n",
    "    follower_type = \"AV\" if c.follower_is_av else \"HV\"\n",
    "    tfrecord_index = c.tfrecord_index\n",
    "    scenario_index = c.scenario_index\n",
    "    scene_index = c.scene_index\n",
    "    merge_PETs.append([c.PET, leader_type+\"-\"+follower_type, tfrecord_index, scenario_index, scene_index])\n",
    "\n",
    "merge_PET_df = pd.DataFrame(merge_PETs, columns=[\"PET\", \"type\", \"tfrecord_index\", \"scenario_index\", \"scene_index\"])\n",
    "\n",
    "cross_PET_df.shape, merge_PET_df.shape"
   ]
  },
  {
   "cell_type": "code",
   "execution_count": null,
   "id": "ee848dd0-bd97-4988-beca-99c9e18547e9",
   "metadata": {},
   "outputs": [
    {
     "name": "stdout",
     "output_type": "stream",
     "text": [
      "0 00109 15\n",
      "1 00109 15\n",
      "2 00130 38\n",
      "3 00154 54\n",
      "4 00154 54\n",
      "5 00182 53\n"
     ]
    }
   ],
   "source": [
    "import os\n",
    "os.environ['TF_CPP_MIN_LOG_LEVEL'] = '2'\n",
    "import tensorflow as tf\n",
    "from tqdm import tqdm\n",
    "from waymo_devkit.visualize import visualize_gif, visualize_traj\n",
    "from waymo_open_dataset.protos import scenario_pb2, map_pb2\n",
    "\n",
    "distance_threshold = 45\n",
    "buffer = 10\n",
    "\n",
    "for merge_index, row in merge_PET_df.iterrows():\n",
    "    print(merge_index, row.tfrecord_index, row.scenario_index)  \n",
    "    \n",
    "    tfrecord_path = f\"./training_20s/training_20s.tfrecord-{tfrecord_index}-of-01000\"\n",
    "    # get scenario object\n",
    "    dataset = tf.data.TFRecordDataset(tfrecord_path)\n",
    "    for index, scenario_proto in enumerate(dataset):\n",
    "        if index == int(scenario_index): \n",
    "            scenario_proto = scenario_proto.numpy()\n",
    "            scenario = scenario_pb2.Scenario()\n",
    "            scenario.ParseFromString(scenario_proto)\n",
    "            break\n",
    "    visualize_gif(scenario, row.tfrecord_index, int(row.scenario_index), distance_threshold=distance_threshold)"
   ]
  },
  {
   "cell_type": "code",
   "execution_count": null,
   "id": "6876d027-4b5a-489b-b514-528558f9940c",
   "metadata": {},
   "outputs": [],
   "source": [
    "import os\n",
    "os.environ['TF_CPP_MIN_LOG_LEVEL'] = '2'\n",
    "import tensorflow as tf\n",
    "from waymo_devkit.visualize import visualize_gif, visualize_traj\n",
    "from waymo_open_dataset.protos import scenario_pb2, map_pb2\n",
    "\n",
    "distance_threshold = 45\n",
    "buffer = 10\n",
    "\n",
    "for cross_index, row in cross_PET_df.iterrows():\n",
    "    print(cross_index, row.tfrecord_index, row.scenario_index)  \n",
    "\n",
    "    tfrecord_path = f\"./training_20s/training_20s.tfrecord-{tfrecord_index}-of-01000\"\n",
    "    # get scenario object\n",
    "    dataset = tf.data.TFRecordDataset(tfrecord_path)\n",
    "    for index, scenario_proto in enumerate(dataset):\n",
    "        if index == int(scenario_index): \n",
    "            scenario_proto = scenario_proto.numpy()\n",
    "            scenario = scenario_pb2.Scenario()\n",
    "            scenario.ParseFromString(scenario_proto)\n",
    "            break\n",
    "    visualize_gif(scenario, row.tfrecord_index, int(row.scenario_index), distance_threshold=distance_threshold)"
   ]
  }
 ],
 "metadata": {
  "kernelspec": {
   "display_name": "Python 3 (ipykernel)",
   "language": "python",
   "name": "python3"
  },
  "language_info": {
   "codemirror_mode": {
    "name": "ipython",
    "version": 3
   },
   "file_extension": ".py",
   "mimetype": "text/x-python",
   "name": "python",
   "nbconvert_exporter": "python",
   "pygments_lexer": "ipython3",
   "version": "3.10.14"
  }
 },
 "nbformat": 4,
 "nbformat_minor": 5
}
