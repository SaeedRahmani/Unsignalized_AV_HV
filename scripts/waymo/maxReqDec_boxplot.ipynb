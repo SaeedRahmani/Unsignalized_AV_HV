{
 "cells": [
  {
   "cell_type": "markdown",
   "id": "2df00075-0524-4f12-b5ac-79e77f877888",
   "metadata": {},
   "source": [
    "# Waymo: max required deceleration distribution "
   ]
  },
  {
   "cell_type": "markdown",
   "id": "027bc38c-69e5-481c-9c56-9b0e62f21c48",
   "metadata": {},
   "source": [
    "- Box plot\n",
    "    - Total\n",
    "    - Merge\n",
    "    - Cross \n",
    "- Distribution plot\n",
    "    - Total\n",
    "    - Merge\n",
    "    - Cross "
   ]
  },
  {
   "cell_type": "code",
   "execution_count": 1,
   "id": "2687e71f-ce5e-4eb2-bb4b-f1c7c36475d2",
   "metadata": {},
   "outputs": [],
   "source": [
    "import pickle\n",
    "import numpy as np\n",
    "np.set_printoptions(suppress=True)\n",
    "import pandas as pd\n",
    "import matplotlib.pyplot as plt\n",
    "%matplotlib inline\n",
    "# import scienceplots\n",
    "from tqdm import tqdm\n",
    "from shapely import LineString, Point\n",
    "from seaborn import displot, histplot, relplot, boxplot\n",
    "plt.style.use(['seaborn-v0_8-paper'])\n",
    "# plt.style.use(['ieee', 'notebook'])\n",
    "\n",
    "from scipy import stats\n",
    "from waymo_devkit.conflict import Conflict"
   ]
  },
  {
   "cell_type": "code",
   "execution_count": 2,
   "id": "71e5603a-01a7-4abd-8315-9bec355a2a15",
   "metadata": {},
   "outputs": [
    {
     "name": "stdout",
     "output_type": "stream",
     "text": [
      "#Conflicts: 889\n"
     ]
    }
   ],
   "source": [
    "with open('./pkl/conflict_pet15s.pkl', 'rb') as file:\n",
    "    conflict_list_from_pickle = pickle.load(file)\n",
    "print(f\"#Conflicts: {len(conflict_list_from_pickle)}\")\n",
    "\n",
    "conflict_list = list()\n",
    "for c in conflict_list_from_pickle:\n",
    "    conflict_list.append(\n",
    "        Conflict(\n",
    "            leader_id=c['leader_id'],\n",
    "            leader_index=c['leader_index'],\n",
    "            leader_states=c['leader_states'],\n",
    "            leader_time_at_conflict=c['leader_time_at_conflict'],\n",
    "            follower_id=c['follower_id'],\n",
    "            follower_index=c['follower_index'],\n",
    "            follower_states=c['follower_states'],\n",
    "            follower_time_at_conflict=c['follower_time_at_conflict'],\n",
    "            PET=c['PET'],\n",
    "            conflict_type=c['conflict_type'],\n",
    "            leader_is_av=c['leader_is_av'],\n",
    "            follower_is_av=c['follower_is_av'],\n",
    "            center=c['center'],\n",
    "            radius=c['radius'],\n",
    "    ))"
   ]
  },
  {
   "cell_type": "code",
   "execution_count": 3,
   "id": "a0af89bd-1c96-4ecc-b733-8ed437facee4",
   "metadata": {},
   "outputs": [
    {
     "name": "stderr",
     "output_type": "stream",
     "text": [
      "889it [00:00, 120281.81it/s]"
     ]
    },
    {
     "name": "stdout",
     "output_type": "stream",
     "text": [
      "<class 'pandas.core.frame.DataFrame'>\n",
      "Int64Index: 864 entries, 0 to 888\n",
      "Data columns (total 4 columns):\n",
      " #   Column         Non-Null Count  Dtype  \n",
      "---  ------         --------------  -----  \n",
      " 0   Conflict type  864 non-null    object \n",
      " 1   Vehicle order  864 non-null    object \n",
      " 2   PET            864 non-null    float64\n",
      " 3   maxREQDEC      842 non-null    float64\n",
      "dtypes: float64(2), object(2)\n",
      "memory usage: 33.8+ KB\n"
     ]
    },
    {
     "name": "stderr",
     "output_type": "stream",
     "text": [
      "\n"
     ]
    }
   ],
   "source": [
    "\"\"\"\n",
    "Construct a dataframe with the following columns:\n",
    "- Conflict type\n",
    "- Vehicle order\n",
    "- PET\n",
    "- maxREQDEC\n",
    "\"\"\"\n",
    "conflict_cols_in_df = [\n",
    "    \"Conflict type\",\n",
    "    \"Vehicle order\",\n",
    "    \"PET\",\n",
    "    \"maxREQDEC\"\n",
    "]\n",
    "\n",
    "# generate each rows in the dataframe\n",
    "conflict_rows_in_df = list()\n",
    "for index, conflict in tqdm(enumerate(conflict_list)):\n",
    "\n",
    "    leader_type = \"AV\" if conflict.leader_is_av else \"HV\"\n",
    "    follower_type = \"AV\" if conflict.follower_is_av else \"HV\" \n",
    "    conflict_type = \"Cross\" if conflict.conflict_type == \"CROSS\" else \"Merge\"\n",
    "    conflict_rows_in_df.append([\n",
    "        conflict_type,\n",
    "        leader_type+\"-\"+follower_type,\n",
    "        conflict.PET,\n",
    "        conflict.max_req_deceleration,\n",
    "    ])\n",
    "conflict_df = pd.DataFrame(conflict_rows_in_df, columns=conflict_cols_in_df)\n",
    "\n",
    "# Post-process\n",
    "PET_THRESHOLD = 10\n",
    "conflict_df = conflict_df[conflict_df[\"PET\"] <= PET_THRESHOLD]\n",
    "\n",
    "# display info\n",
    "conflict_df.info()"
   ]
  },
  {
   "cell_type": "code",
   "execution_count": 4,
   "id": "6142dad5-927c-4b5d-81fd-4fcb1c8799a6",
   "metadata": {},
   "outputs": [
    {
     "name": "stdout",
     "output_type": "stream",
     "text": [
      "<class 'pandas.core.frame.DataFrame'>\n",
      "Int64Index: 836 entries, 1 to 888\n",
      "Data columns (total 4 columns):\n",
      " #   Column         Non-Null Count  Dtype  \n",
      "---  ------         --------------  -----  \n",
      " 0   Conflict type  836 non-null    object \n",
      " 1   Vehicle order  836 non-null    object \n",
      " 2   PET            836 non-null    float64\n",
      " 3   maxREQDEC      836 non-null    float64\n",
      "dtypes: float64(2), object(2)\n",
      "memory usage: 32.7+ KB\n"
     ]
    }
   ],
   "source": [
    "# Post-process: remove maxREQDEC greater than 10s\n",
    "maxREQDEC_THRESHOLD = 3\n",
    "conflict_df = conflict_df[conflict_df[\"maxREQDEC\"] <= maxREQDEC_THRESHOLD]\n",
    "\n",
    "# display info\n",
    "conflict_df.info()"
   ]
  },
  {
   "cell_type": "code",
   "execution_count": 5,
   "id": "792ce9bc-796b-449d-94a0-f3f45b9a0dfd",
   "metadata": {},
   "outputs": [
    {
     "data": {
      "text/plain": [
       "HV-HV    365\n",
       "AV-HV    283\n",
       "HV-AV    188\n",
       "Name: Vehicle order, dtype: int64"
      ]
     },
     "execution_count": 5,
     "metadata": {},
     "output_type": "execute_result"
    }
   ],
   "source": [
    "conflict_df[\"Vehicle order\"].value_counts()"
   ]
  },
  {
   "cell_type": "code",
   "execution_count": 6,
   "id": "d2ee448b-8aaf-496a-8bcf-8b74faea0fc3",
   "metadata": {},
   "outputs": [
    {
     "data": {
      "text/plain": [
       "Conflict type  Vehicle order\n",
       "Cross          AV-HV            0.693458\n",
       "               HV-AV            0.387622\n",
       "               HV-HV            0.525769\n",
       "Merge          AV-HV            0.892431\n",
       "               HV-AV            0.377149\n",
       "               HV-HV            0.584221\n",
       "Name: maxREQDEC, dtype: float64"
      ]
     },
     "execution_count": 6,
     "metadata": {},
     "output_type": "execute_result"
    }
   ],
   "source": [
    "conflict_df.groupby([\"Conflict type\", \"Vehicle order\"])['maxREQDEC'].mean()"
   ]
  },
  {
   "cell_type": "code",
   "execution_count": 7,
   "id": "e5cf5945-4aa2-48af-a687-beea65f47f94",
   "metadata": {},
   "outputs": [
    {
     "data": {
      "text/plain": [
       "Conflict type  Vehicle order\n",
       "Cross          AV-HV            0.472259\n",
       "               HV-AV            0.284138\n",
       "               HV-HV            0.465143\n",
       "Merge          AV-HV            0.431050\n",
       "               HV-AV            0.176771\n",
       "               HV-HV            0.412764\n",
       "Name: maxREQDEC, dtype: float64"
      ]
     },
     "execution_count": 7,
     "metadata": {},
     "output_type": "execute_result"
    }
   ],
   "source": [
    "conflict_df.groupby([\"Conflict type\", \"Vehicle order\"])['maxREQDEC'].std()"
   ]
  },
  {
   "cell_type": "code",
   "execution_count": 8,
   "id": "20b8b95e-a6c3-4783-b1c0-3d8049c631ff",
   "metadata": {},
   "outputs": [],
   "source": [
    "HVHV = conflict_df[conflict_df[\"Vehicle order\"] == \"HV-HV\"]\n",
    "AVHV = conflict_df[conflict_df[\"Vehicle order\"] == \"AV-HV\"]\n",
    "HVAV = conflict_df[conflict_df[\"Vehicle order\"] == \"HV-AV\"]\n",
    "\n",
    "cross_df = conflict_df[conflict_df[\"Conflict type\"] == \"Cross\"]\n",
    "merge_df = conflict_df[conflict_df[\"Conflict type\"] == \"Merge\"]\n",
    "\n",
    "HVHV_cross = cross_df[cross_df[\"Vehicle order\"] == \"HV-HV\"]\n",
    "AVHV_cross = cross_df[cross_df[\"Vehicle order\"] == \"AV-HV\"]\n",
    "HVAV_cross = cross_df[cross_df[\"Vehicle order\"] == \"HV-AV\"]\n",
    "\n",
    "HVHV_merge = merge_df[merge_df[\"Vehicle order\"] == \"HV-HV\"]\n",
    "AVHV_merge = merge_df[merge_df[\"Vehicle order\"] == \"AV-HV\"]\n",
    "HVAV_merge = merge_df[merge_df[\"Vehicle order\"] == \"HV-AV\"]"
   ]
  },
  {
   "cell_type": "markdown",
   "id": "8c5296ce-8878-4071-b33d-e7fac8105904",
   "metadata": {},
   "source": [
    "## ANOVA"
   ]
  },
  {
   "cell_type": "code",
   "execution_count": 10,
   "id": "140ff2c9-548c-403d-bd4e-2ab15d1bf7e9",
   "metadata": {},
   "outputs": [
    {
     "data": {
      "text/plain": [
       "F_onewayResult(statistic=36.043696627728586, pvalue=1.2849315739615066e-14)"
      ]
     },
     "execution_count": 10,
     "metadata": {},
     "output_type": "execute_result"
    }
   ],
   "source": [
    "stats.f_oneway(HVHV_merge.maxREQDEC, HVAV_merge.maxREQDEC, AVHV_merge.maxREQDEC)"
   ]
  },
  {
   "cell_type": "code",
   "execution_count": 11,
   "id": "d160ad85-7e0e-42b7-8f49-101b1d3e39fb",
   "metadata": {},
   "outputs": [
    {
     "data": {
      "text/plain": [
       "F_onewayResult(statistic=18.546288386910025, pvalue=1.59330089638987e-08)"
      ]
     },
     "execution_count": 11,
     "metadata": {},
     "output_type": "execute_result"
    }
   ],
   "source": [
    "stats.f_oneway(HVHV_cross.maxREQDEC, HVAV_cross.maxREQDEC, AVHV_cross.maxREQDEC)"
   ]
  },
  {
   "cell_type": "markdown",
   "id": "247241bf",
   "metadata": {},
   "source": [
    "## T-test"
   ]
  },
  {
   "cell_type": "markdown",
   "id": "33f61991",
   "metadata": {},
   "source": [
    "cross"
   ]
  },
  {
   "cell_type": "code",
   "execution_count": 10,
   "id": "5db6ecf7-dae1-40af-9c92-5781ecf41192",
   "metadata": {},
   "outputs": [
    {
     "data": {
      "text/plain": [
       "Ttest_indResult(statistic=3.225327474621418, pvalue=0.0013593685308114494)"
      ]
     },
     "execution_count": 10,
     "metadata": {},
     "output_type": "execute_result"
    }
   ],
   "source": [
    "stats.ttest_ind(HVHV_cross.maxREQDEC, HVAV_cross.maxREQDEC)"
   ]
  },
  {
   "cell_type": "code",
   "execution_count": 11,
   "id": "fb1aeb71-b302-4efc-8337-f3129b78b1b0",
   "metadata": {},
   "outputs": [
    {
     "data": {
      "text/plain": [
       "Ttest_indResult(statistic=-3.5133455635232247, pvalue=0.0004909071953155817)"
      ]
     },
     "execution_count": 11,
     "metadata": {},
     "output_type": "execute_result"
    }
   ],
   "source": [
    "stats.ttest_ind(HVHV_cross.maxREQDEC, AVHV_cross.maxREQDEC)"
   ]
  },
  {
   "cell_type": "code",
   "execution_count": 12,
   "id": "1570f293-7987-46eb-8019-d71ca04673f9",
   "metadata": {},
   "outputs": [
    {
     "data": {
      "text/plain": [
       "Ttest_indResult(statistic=-6.636399945790546, pvalue=1.5921838715077572e-10)"
      ]
     },
     "execution_count": 12,
     "metadata": {},
     "output_type": "execute_result"
    }
   ],
   "source": [
    "stats.ttest_ind(HVAV_cross.maxREQDEC, AVHV_cross.maxREQDEC)"
   ]
  },
  {
   "cell_type": "markdown",
   "id": "3f70249d",
   "metadata": {},
   "source": [
    "merge"
   ]
  },
  {
   "cell_type": "code",
   "execution_count": 13,
   "id": "1db009b5",
   "metadata": {},
   "outputs": [
    {
     "data": {
      "text/plain": [
       "Ttest_indResult(statistic=3.2886795316815296, pvalue=0.0012731296967855832)"
      ]
     },
     "execution_count": 13,
     "metadata": {},
     "output_type": "execute_result"
    }
   ],
   "source": [
    "stats.ttest_ind(HVHV_merge.maxREQDEC, HVAV_merge.maxREQDEC)"
   ]
  },
  {
   "cell_type": "code",
   "execution_count": 14,
   "id": "5b15b9a6",
   "metadata": {},
   "outputs": [
    {
     "data": {
      "text/plain": [
       "Ttest_indResult(statistic=-1.8485612401034872, pvalue=0.06574104753778981)"
      ]
     },
     "execution_count": 14,
     "metadata": {},
     "output_type": "execute_result"
    }
   ],
   "source": [
    "stats.ttest_ind(HVHV_merge.maxREQDEC, AVHV_cross.maxREQDEC)"
   ]
  },
  {
   "cell_type": "code",
   "execution_count": 15,
   "id": "cb46b71e-90bb-441a-880c-69fea53e1ca2",
   "metadata": {},
   "outputs": [
    {
     "data": {
      "text/plain": [
       "Ttest_indResult(statistic=-4.487019329956374, pvalue=1.2360328473267937e-05)"
      ]
     },
     "execution_count": 15,
     "metadata": {},
     "output_type": "execute_result"
    }
   ],
   "source": [
    "stats.ttest_ind(HVAV_merge.maxREQDEC, AVHV_cross.maxREQDEC)"
   ]
  },
  {
   "cell_type": "markdown",
   "id": "e9f40d40",
   "metadata": {},
   "source": [
    "## Mann-Whitney U Test"
   ]
  },
  {
   "cell_type": "markdown",
   "id": "7bda426c",
   "metadata": {},
   "source": [
    "cross"
   ]
  },
  {
   "cell_type": "code",
   "execution_count": 16,
   "id": "4e4d10f8",
   "metadata": {},
   "outputs": [
    {
     "data": {
      "text/plain": [
       "0.0496199776397865"
      ]
     },
     "execution_count": 16,
     "metadata": {},
     "output_type": "execute_result"
    }
   ],
   "source": [
    "stats.mannwhitneyu(\n",
    "    x=HVHV_cross.maxREQDEC, \n",
    "    y=HVAV_cross.maxREQDEC,\n",
    "    alternative='two-sided'\n",
    ").pvalue # pvalue=0.0496199776397865"
   ]
  },
  {
   "cell_type": "code",
   "execution_count": 17,
   "id": "f29bc16e",
   "metadata": {},
   "outputs": [
    {
     "data": {
      "text/plain": [
       "0.0001520655039329194"
      ]
     },
     "execution_count": 17,
     "metadata": {},
     "output_type": "execute_result"
    }
   ],
   "source": [
    "stats.mannwhitneyu(\n",
    "    x=HVHV_cross.maxREQDEC, \n",
    "    y=AVHV_cross.maxREQDEC,\n",
    "    alternative='two-sided'\n",
    ").pvalue"
   ]
  },
  {
   "cell_type": "code",
   "execution_count": 18,
   "id": "aabfa689-4390-4ee1-80c0-7924daf12f59",
   "metadata": {},
   "outputs": [
    {
     "data": {
      "text/plain": [
       "1.7951941912740878e-08"
      ]
     },
     "execution_count": 18,
     "metadata": {},
     "output_type": "execute_result"
    }
   ],
   "source": [
    "stats.mannwhitneyu(\n",
    "    x=HVAV_cross.maxREQDEC, \n",
    "    y=AVHV_cross.maxREQDEC,\n",
    "    alternative='two-sided'\n",
    ").pvalue"
   ]
  },
  {
   "cell_type": "markdown",
   "id": "d94097ea",
   "metadata": {},
   "source": [
    "merge"
   ]
  },
  {
   "cell_type": "code",
   "execution_count": 19,
   "id": "d64fd610",
   "metadata": {},
   "outputs": [
    {
     "data": {
      "text/plain": [
       "MannwhitneyuResult(statistic=2828.0, pvalue=0.009895484856327677)"
      ]
     },
     "execution_count": 19,
     "metadata": {},
     "output_type": "execute_result"
    }
   ],
   "source": [
    "stats.mannwhitneyu(\n",
    "    x=HVHV_merge.maxREQDEC, \n",
    "    y=HVAV_merge.maxREQDEC,\n",
    "    alternative='two-sided'\n",
    ") # 0.009895484856327677"
   ]
  },
  {
   "cell_type": "code",
   "execution_count": 20,
   "id": "58014470",
   "metadata": {},
   "outputs": [
    {
     "data": {
      "text/plain": [
       "MannwhitneyuResult(statistic=3606.0, pvalue=2.3435277652005332e-08)"
      ]
     },
     "execution_count": 20,
     "metadata": {},
     "output_type": "execute_result"
    }
   ],
   "source": [
    "stats.mannwhitneyu(\n",
    "    x=HVHV_merge.maxREQDEC, \n",
    "    y=AVHV_merge.maxREQDEC,\n",
    "    alternative='two-sided'\n",
    ") # pvalue=2.3435277652005332e-08"
   ]
  },
  {
   "cell_type": "code",
   "execution_count": 22,
   "id": "b82abdf3-c9bd-4037-a6a5-4b24942318c9",
   "metadata": {},
   "outputs": [
    {
     "data": {
      "text/plain": [
       "MannwhitneyuResult(statistic=850.0, pvalue=1.0299318015827832e-13)"
      ]
     },
     "execution_count": 22,
     "metadata": {},
     "output_type": "execute_result"
    }
   ],
   "source": [
    "stats.mannwhitneyu(\n",
    "    x=HVAV_merge.maxREQDEC, \n",
    "    y=AVHV_merge.maxREQDEC,\n",
    "    alternative='two-sided'\n",
    ") # pvalue=1.0299318015827832e-13"
   ]
  },
  {
   "cell_type": "markdown",
   "id": "4e9891e9-9520-4374-bd3c-a608b90fafb4",
   "metadata": {},
   "source": [
    "## Boxplots"
   ]
  },
  {
   "cell_type": "markdown",
   "id": "d6edc255-5c57-49da-91fe-d0a2c139f900",
   "metadata": {},
   "source": [
    "### Merge"
   ]
  },
  {
   "cell_type": "code",
   "execution_count": null,
   "id": "8ad1cc27-14b3-453c-aed5-2086ebae0c7e",
   "metadata": {},
   "outputs": [],
   "source": [
    "conflictType = \"Merge\"\n",
    "plt.figure(figsize=(FIGURE_WIDTH, FIGURE_HEIGHT))\n",
    "\n",
    "g = boxplot(\n",
    "    data=conflict_df[conflict_df[\"Conflict type\"] == conflictType],\n",
    "    y=\"maxREQDEC\",\n",
    "    hue=\"Vehicle order\",\n",
    "    hue_order=[\"HV-HV\", \"AV-HV\", \"HV-AV\"],\n",
    "    palette=palette,\n",
    "    gap=.5,\n",
    "    legend=True,\n",
    ")\n",
    "\n",
    "g.set_xlabel(\"Vehicle order\")\n",
    "g.set_ylabel(\"Max required deceleration\")\n",
    "\n",
    "plt.title(f\"Max req dec distribution [{conflictType}] (Waymo)\")\n",
    "plt.savefig(f\"./outputs/plots/waymo_boxplot_maxREQDEC_{conflictType}.png\", dpi=300, bbox_inches=\"tight\")\n",
    "plt.show()\n",
    "conflict_df[conflict_df[\"Conflict type\"] == conflictType].to_csv(\"./waymo_max_req_dec_merge.csv\")"
   ]
  },
  {
   "cell_type": "markdown",
   "id": "f51b271c-68cd-498c-9eab-cfd59b3d5f99",
   "metadata": {},
   "source": [
    "### Cross"
   ]
  },
  {
   "cell_type": "code",
   "execution_count": 49,
   "id": "078c617a-4307-45a4-b0f8-72fb78815815",
   "metadata": {},
   "outputs": [
    {
     "data": {
      "image/png": "[encoded data removed]",
      "text/plain": [
       "<Figure size 300x300 with 1 Axes>"
      ]
     },
     "metadata": {},
     "output_type": "display_data"
    }
   ],
   "source": [
    "conflictType = \"Cross\"\n",
    "plt.figure(figsize=(FIGURE_WIDTH, FIGURE_HEIGHT))\n",
    "\n",
    "g = boxplot(\n",
    "    data=conflict_df[conflict_df[\"Conflict type\"] == conflictType],\n",
    "    y=\"maxREQDEC\",\n",
    "    hue=\"Vehicle order\",\n",
    "    hue_order=[\"HV-HV\", \"AV-HV\", \"HV-AV\"],\n",
    "    palette=palette,\n",
    "    gap=.5,\n",
    "    legend=True,\n",
    ")\n",
    "\n",
    "g.set_xlabel(\"Vehicle order\")\n",
    "g.set_ylabel(\"Max required deceleration\")\n",
    "\n",
    "plt.title(f\"Max req dec distribution [{conflictType}] (Waymo)\")\n",
    "plt.savefig(f\"./outputs/plots/waymo_boxplot_maxREQDEC_{conflictType}.png\", dpi=300, bbox_inches=\"tight\")\n",
    "plt.show()\n",
    "conflict_df[conflict_df[\"Conflict type\"] == conflictType].to_csv(\"./waymo_max_req_dec_merge.csv\")"
   ]
  },
  {
   "cell_type": "markdown",
   "id": "a9c2dbe4-88eb-4659-bccd-11f5cb003a5f",
   "metadata": {},
   "source": [
    "## Distplots"
   ]
  },
  {
   "cell_type": "markdown",
   "id": "5571999b-2f41-4b78-8ebc-60aad9df658b",
   "metadata": {},
   "source": [
    "### All"
   ]
  },
  {
   "cell_type": "code",
   "execution_count": 38,
   "id": "2cf2b5e6-830d-42d6-97ef-b361901d13c5",
   "metadata": {
    "scrolled": true
   },
   "outputs": [
    {
     "data": {
      "text/plain": [
       "<Figure size 300x300 with 0 Axes>"
      ]
     },
     "metadata": {},
     "output_type": "display_data"
    },
    {
     "data": {
      "image/png": "[encoded data removed]",
      "text/plain": [
       "<Figure size 300x300 with 1 Axes>"
      ]
     },
     "metadata": {},
     "output_type": "display_data"
    }
   ],
   "source": [
    "palette = {\n",
    "    \"HV-HV\" : '#257ab6', \n",
    "    \"AV-HV\" : '#31a231',\n",
    "    \"HV-AV\" : '#ff8214',\n",
    "}\n",
    "\n",
    "HVHV_COLOR = '#257ab6'\n",
    "HVAV_COLOR = '#31a231'\n",
    "AVHV_COLOR = '#ff8214'\n",
    "\n",
    "FIGURE_WIDTH, FIGURE_HEIGHT = 3, 3\n",
    "conflictType = \"Total\"\n",
    "plt.figure(figsize=(FIGURE_WIDTH, FIGURE_HEIGHT))\n",
    "\n",
    "displot(\n",
    "    data=conflict_df,\n",
    "    x=\"maxREQDEC\", \n",
    "    hue=\"Vehicle order\",\n",
    "    hue_order=[\"HV-HV\", \"AV-HV\", \"HV-AV\"],\n",
    "    kind=\"kde\",\n",
    "    common_norm=False,\n",
    "    palette=palette,\n",
    "    height=FIGURE_HEIGHT,\n",
    "    aspect=1.0,\n",
    "    legend=False,\n",
    ")\n",
    "\n",
    "# plt.xlim([0, maxREQDEC_THRESHOLD])\n",
    "# plt.ylim([0,0.15])\n",
    "plt.legend([\"HV-AV\", \"AV-HV\", \"HV-HV\"], title=\"Vehicle order\")\n",
    "plt.title(f\"Max req dec distribution [{conflictType}] (Waymo)\")\n",
    "plt.savefig(f\"./outputs/plots/waymo_distribution_maxREQDEC_{conflictType}.png\", dpi=300, bbox_inches=\"tight\")\n",
    "plt.show()"
   ]
  },
  {
   "cell_type": "markdown",
   "id": "6ed68da8-1e7a-4d21-8279-97c33774d038",
   "metadata": {},
   "source": [
    "### Merge"
   ]
  },
  {
   "cell_type": "code",
   "execution_count": 16,
   "id": "cfa60790-e4d6-43c6-82f8-2b265ccc0bef",
   "metadata": {},
   "outputs": [
    {
     "data": {
      "text/plain": [
       "<Figure size 300x300 with 0 Axes>"
      ]
     },
     "metadata": {},
     "output_type": "display_data"
    },
    {
     "data": {
      "image/png": "[encoded data removed]",
      "text/plain": [
       "<Figure size 300x300 with 1 Axes>"
      ]
     },
     "metadata": {},
     "output_type": "display_data"
    }
   ],
   "source": [
    "conflictType = \"Merge\"\n",
    "plt.figure(figsize=(FIGURE_WIDTH, FIGURE_HEIGHT))\n",
    "\n",
    "displot(\n",
    "    data=conflict_df[conflict_df[\"Conflict type\"]==conflictType],\n",
    "    x=\"maxREQDEC\", \n",
    "    hue=\"Vehicle order\",\n",
    "    hue_order=[\"HV-HV\", \"AV-HV\", \"HV-AV\"],\n",
    "    kind=\"kde\",\n",
    "    common_norm=False,\n",
    "    palette=palette,\n",
    "    height=FIGURE_HEIGHT,\n",
    "    aspect=1.0,\n",
    "    legend=False,\n",
    ")\n",
    "\n",
    "# plt.xlim([0, maxREQDEC_THRESHOLD])\n",
    "# plt.ylim([0,0.15])\n",
    "plt.legend([\"HV-AV\", \"AV-HV\", \"HV-HV\"], title=\"Vehicle order\")\n",
    "plt.title(f\"Max req dec distribution [{conflictType}] (Waymo)\")\n",
    "plt.savefig(f\"./outputs/plots/waymo_distribution_maxREQDEC_{conflictType}.png\", dpi=300, bbox_inches=\"tight\")\n",
    "plt.show()"
   ]
  },
  {
   "cell_type": "markdown",
   "id": "f23ba838-4889-4140-8319-cd1a52ee68d4",
   "metadata": {},
   "source": [
    "### Cross"
   ]
  },
  {
   "cell_type": "code",
   "execution_count": 17,
   "id": "397e6204-23bf-4150-afd8-cb85e8a4d505",
   "metadata": {},
   "outputs": [
    {
     "data": {
      "text/plain": [
       "<Figure size 300x300 with 0 Axes>"
      ]
     },
     "metadata": {},
     "output_type": "display_data"
    },
    {
     "data": {
      "image/png": "[encoded data removed]",
      "text/plain": [
       "<Figure size 300x300 with 1 Axes>"
      ]
     },
     "metadata": {},
     "output_type": "display_data"
    }
   ],
   "source": [
    "conflictType = \"Cross\"\n",
    "plt.figure(figsize=(FIGURE_WIDTH, FIGURE_HEIGHT))\n",
    "\n",
    "displot(\n",
    "    data=conflict_df[conflict_df[\"Conflict type\"]==conflictType],\n",
    "    x=\"maxREQDEC\", \n",
    "    hue=\"Vehicle order\",\n",
    "    hue_order=[\"HV-HV\", \"AV-HV\", \"HV-AV\"],\n",
    "    kind=\"kde\",\n",
    "    common_norm=False,\n",
    "    palette=palette,\n",
    "    height=FIGURE_HEIGHT,\n",
    "    aspect=1.0,\n",
    "    legend=False,\n",
    ")\n",
    "\n",
    "# plt.xlim([0, maxREQDEC_THRESHOLD])\n",
    "# plt.ylim([0,0.15])\n",
    "plt.legend([\"HV-AV\", \"AV-HV\", \"HV-HV\"], title=\"Vehicle order\")\n",
    "plt.title(f\"Max req dec distribution [{conflictType}] (Waymo)\")\n",
    "plt.savefig(f\"./outputs/plots/waymo_distribution_maxREQDEC_{conflictType}.png\", dpi=300, bbox_inches=\"tight\")\n",
    "plt.show()"
   ]
  },
  {
   "cell_type": "code",
   "execution_count": null,
   "id": "6ad5f3a4-94b2-4e59-be7e-d1d343998216",
   "metadata": {},
   "outputs": [],
   "source": []
  }
 ],
 "metadata": {
  "kernelspec": {
   "display_name": "Python 3 (ipykernel)",
   "language": "python",
   "name": "python3"
  },
  "language_info": {
   "codemirror_mode": {
    "name": "ipython",
    "version": 3
   },
   "file_extension": ".py",
   "mimetype": "text/x-python",
   "name": "python",
   "nbconvert_exporter": "python",
   "pygments_lexer": "ipython3",
   "version": "3.10.14"
  }
 },
 "nbformat": 4,
 "nbformat_minor": 5
}
