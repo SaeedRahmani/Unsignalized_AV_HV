{
 "cells": [
  {
   "cell_type": "code",
   "execution_count": 1,
   "id": "1c18759b-9d30-46de-ab9b-91b54009b93e",
   "metadata": {},
   "outputs": [
    {
     "name": "stdout",
     "output_type": "stream",
     "text": [
      "#Conflicts: 889\n"
     ]
    }
   ],
   "source": [
    "import pickle\n",
    "import numpy as np\n",
    "np.set_printoptions(suppress=True)\n",
    "import pandas as pd\n",
    "import matplotlib.pyplot as plt\n",
    "%matplotlib inline\n",
    "# import scienceplots\n",
    "from tqdm import tqdm\n",
    "from shapely import LineString, Point\n",
    "from seaborn import displot, histplot, relplot\n",
    "plt.style.use(['seaborn-v0_8-paper'])\n",
    "# plt.style.use(['ieee', 'notebook'])\n",
    "\n",
    "from waymo_devkit.conflict import Conflict\n",
    "\n",
    "# load all the conflict with PET <= 15s\n",
    "with open('./pkl/conflict_pet15s.pkl', 'rb') as file:\n",
    "    conflict_list_from_pickle = pickle.load(file)\n",
    "print(f\"#Conflicts: {len(conflict_list_from_pickle)}\")\n",
    "\n",
    "# convert the conflict dict into conflict object\n",
    "# then, save them into a list\n",
    "conflict_list = list()\n",
    "for c in conflict_list_from_pickle:\n",
    "    conflict_list.append(\n",
    "        Conflict(\n",
    "            leader_id=c['leader_id'],\n",
    "            leader_index=c['leader_index'],\n",
    "            leader_states=c['leader_states'],\n",
    "            leader_time_at_conflict=c['leader_time_at_conflict'],\n",
    "            follower_id=c['follower_id'],\n",
    "            follower_index=c['follower_index'],\n",
    "            follower_states=c['follower_states'],\n",
    "            follower_time_at_conflict=c['follower_time_at_conflict'],\n",
    "            PET=c['PET'],\n",
    "            conflict_type=c['conflict_type'],\n",
    "            leader_is_av=c['leader_is_av'],\n",
    "            follower_is_av=c['follower_is_av'],\n",
    "            center=c['center'],\n",
    "            radius=c['radius']\n",
    "    ))\n",
    "assert len(conflict_list) == len(conflict_list_from_pickle)"
   ]
  },
  {
   "cell_type": "code",
   "execution_count": 2,
   "id": "7141bc96-d91f-4c05-84af-d44683a97214",
   "metadata": {},
   "outputs": [
    {
     "data": {
      "image/png": "[encoded data removed]",
      "text/plain": [
       "<Figure size 500x200 with 1 Axes>"
      ]
     },
     "metadata": {},
     "output_type": "display_data"
    }
   ],
   "source": [
    "c = conflict_list[10]\n",
    "c.plot_speed_profile()"
   ]
  },
  {
   "cell_type": "code",
   "execution_count": 4,
   "id": "19ce8ebc-7658-4bbe-8859-84f3e669d8aa",
   "metadata": {},
   "outputs": [],
   "source": [
    "# assert c.leader_traj_timestamp.shape[0] == c.leader_traj.shape[0]\n",
    "# assert c.follower_traj_timestamp.shape[0] == c.follower_traj.shape[0]\n",
    "\n",
    "# leader_index_in_intersection = list()\n",
    "# follower_index_in_intersection = list()\n",
    "\n",
    "# for index, t in enumerate(c.leader_traj_timestamp):\n",
    "#     coord_t = c.leader_traj[index,:]\n",
    "#     if np.isnan(coord_t[0]) or np.isnan(coord_t[1]): \n",
    "#         pass\n",
    "#     else:\n",
    "#         if Point((coord_t[0], coord_t[1])).within(intersection_area):\n",
    "#             leader_index_in_intersection.append(index)  \n",
    "\n",
    "# for index, t in enumerate(c.follower_traj_timestamp):\n",
    "#     coord_t = c.follower_traj[index,:]\n",
    "#     if np.isnan(coord_t[0]) or np.isnan(coord_t[1]): \n",
    "#         pass\n",
    "#     else:\n",
    "#         if Point((coord_t[0], coord_t[1])).within(intersection_area):\n",
    "#             follower_index_in_intersection.append(index)  \n",
    "\n",
    "# c.leader_traj = c.leader_traj[leader_index_in_intersection,:]\n",
    "# c.leader_traj_speed = c.leader_traj_speed[leader_index_in_intersection]\n",
    "# c.leader_traj_timestamp = c.leader_traj_timestamp[leader_index_in_intersection]"
   ]
  },
  {
   "cell_type": "code",
   "execution_count": null,
   "id": "e5dc617a-eac8-4c66-8a43-b2b6b4a7d068",
   "metadata": {},
   "outputs": [],
   "source": []
  }
 ],
 "metadata": {
  "kernelspec": {
   "display_name": "Python 3 (ipykernel)",
   "language": "python",
   "name": "python3"
  },
  "language_info": {
   "codemirror_mode": {
    "name": "ipython",
    "version": 3
   },
   "file_extension": ".py",
   "mimetype": "text/x-python",
   "name": "python",
   "nbconvert_exporter": "python",
   "pygments_lexer": "ipython3",
   "version": "3.10.14"
  }
 },
 "nbformat": 4,
 "nbformat_minor": 5
}
