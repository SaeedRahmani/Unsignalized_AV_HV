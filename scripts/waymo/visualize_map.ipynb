{
 "cells": [
  {
   "cell_type": "code",
   "execution_count": 1,
   "id": "d7df3631-6ad2-47fe-a95e-a770f647724f",
   "metadata": {},
   "outputs": [],
   "source": [
    "import os\n",
    "os.environ['TF_CPP_MIN_LOG_LEVEL'] = '2'\n",
    "import pickle\n",
    "import numpy as np\n",
    "import pandas as pd\n",
    "import matplotlib.pyplot as plt\n",
    "import scienceplots\n",
    "plt.style.use(\"nature\")\n",
    "from shapely import Point, LineString, Polygon\n",
    "import tensorflow as tf\n",
    "from waymo_open_dataset.protos import scenario_pb2\n",
    "\n",
    "from waymo_devkit.query import get_intersection_stopSigns, get_intersection_circle, get_intersection_lanes\n",
    "from waymo_devkit.query import get_egoTrajectory, get_vehicleTrajectories, get_scenario_metadata\n",
    "from waymo_devkit.shape import construct_intersection_polygon\n",
    "from waymo_devkit.identify import identify_conflict, identify_complex_conflicts\n",
    "from waymo_devkit.visualize import visualize_gif, visualize_map, visualize_traj\n",
    "from waymo_devkit.conflict import Conflict"
   ]
  },
  {
   "cell_type": "code",
   "execution_count": 2,
   "id": "67cc9942-a52f-4cef-8891-4afc1c9575ce",
   "metadata": {},
   "outputs": [
    {
     "name": "stdout",
     "output_type": "stream",
     "text": [
      "\u001b[0m\u001b[01;32mPET_minTTC_relationship_distributions.ipynb\u001b[0m*\n",
      "\u001b[01;32mTA_distribution.ipynb\u001b[0m*\n",
      "\u001b[34;42mcsv\u001b[0m/\n",
      "\u001b[01;32mfind_conflicts.py\u001b[0m*\n",
      "\u001b[01;32mfind_scenarios.py\u001b[0m*\n",
      "\u001b[01;32mfollow_conflict_speed_distribution.ipynb\u001b[0m*\n",
      "\u001b[01;32mmaxReqDec_boxplot.ipynb\u001b[0m*\n",
      "\u001b[01;32mminTTC_distribution.ipynb\u001b[0m*\n",
      "\u001b[34;42mnotebooks\u001b[0m/\n",
      "\u001b[34;42moutputs\u001b[0m/\n",
      "\u001b[01;32mpet_distribution.ipynb\u001b[0m*\n",
      "\u001b[34;42mpkl\u001b[0m/\n",
      "\u001b[01;32mspeedProfile_confidenceInterval.ipynb\u001b[0m*\n",
      "\u001b[01;32mtest.ipynb\u001b[0m*\n",
      "\u001b[34;42mtraining_20s\u001b[0m/\n",
      "\u001b[01;32mvisualize_map.ipynb\u001b[0m*\n",
      "\u001b[01;32mvisualize_traj.ipynb\u001b[0m*\n",
      "\u001b[34;42mwaymo_devkit\u001b[0m/\n"
     ]
    }
   ],
   "source": [
    "ls"
   ]
  },
  {
   "cell_type": "code",
   "execution_count": 3,
   "id": "3ef246ce-17f3-4a19-a987-272c0084e0ab",
   "metadata": {},
   "outputs": [],
   "source": [
    "with open('./pkl/cross_conflict_pet15s.pkl', 'rb') as file:\n",
    "    all_cross_conflicts = pickle.load(file)"
   ]
  },
  {
   "cell_type": "markdown",
   "id": "06a5616d-cdf7-485f-a9e4-3311e87b6627",
   "metadata": {},
   "source": [
    "## Generate intersection map"
   ]
  },
  {
   "cell_type": "code",
   "execution_count": 4,
   "id": "a7956ef4-7abb-4824-a387-9f61aa3d147d",
   "metadata": {},
   "outputs": [
    {
     "name": "stderr",
     "output_type": "stream",
     "text": [
      "\n",
      "KeyboardInterrupt\n",
      "\n"
     ]
    },
    {
     "name": "stdout",
     "output_type": "stream",
     "text": [
      "Error in callback <function flush_figures at 0x7f41927ce710> (for post_execute), with arguments args (),kwargs {}:\n"
     ]
    },
    {
     "name": "stderr",
     "output_type": "stream",
     "text": [
      "\n",
      "KeyboardInterrupt\n",
      "\n"
     ]
    }
   ],
   "source": [
    "txt_path=\"./outputs/scenario_metadata/4stopSigns.csv\"\n",
    "metadatas = get_scenario_metadata(txt_path)\n",
    "distance_threshold = 45\n",
    "buffer = 10\n",
    "pet = 10\n",
    "\n",
    "for scene_id, (tfrecord_index, scenario_index) in enumerate(metadatas):\n",
    "    # print(scene_id, (tfrecord_index, int(scenario_index)))\n",
    "    scene_conflicts = []\n",
    "\n",
    "    tfrecord_path = f\"./training_20s/training_20s.tfrecord-{tfrecord_index}-of-01000\"\n",
    "    # get scenario object\n",
    "    dataset = tf.data.TFRecordDataset(tfrecord_path)\n",
    "    for index, scenario_proto in enumerate(dataset):\n",
    "        if index == int(scenario_index): \n",
    "            scenario_proto = scenario_proto.numpy()\n",
    "            scenario = scenario_pb2.Scenario()\n",
    "            scenario.ParseFromString(scenario_proto)\n",
    "            break\n",
    "\n",
    "    \"\"\" extract info in scenario \"\"\"\n",
    "    # get map elements\n",
    "    stopSigns = get_intersection_stopSigns(scenario)\n",
    "    intersection_centerCoordinate, intersection_radius = get_intersection_circle(stopSigns, buffer=buffer)\n",
    "    intersection_polygon = construct_intersection_polygon(intersection_centerCoordinate, intersection_radius)\n",
    "\n",
    "    inbound_lanes, outbound_lanes = get_intersection_lanes(scenario, intersection_polygon)\n",
    "\n",
    "    # get trajectories\n",
    "    egoTrajectory = get_egoTrajectory(scenario)\n",
    "    vehicleTrajectories = get_vehicleTrajectories(scenario, intersection_polygon)\n",
    "    n_legs=3 if len(stopSigns)==3 else 4\n",
    "    visualize_map(scenario, tfrecord_index, int(scenario_index), n_legs, distance_threshold=distance_threshold, buffer=buffer)"
   ]
  },
  {
   "cell_type": "code",
   "execution_count": null,
   "id": "905ab742-832d-4057-98d5-f6647298c129",
   "metadata": {},
   "outputs": [],
   "source": [
    "# txt_path=\"./outputs/scenario_metadata/3stopSigns.csv\"\n",
    "# metadatas = get_scenario_metadata(txt_path)\n",
    "# distance_threshold = 45\n",
    "# buffer = 10\n",
    "# pet = 10\n",
    "\n",
    "# for scene_id, (tfrecord_index, scenario_index) in enumerate(metadatas):\n",
    "#     # print(scene_id, (tfrecord_index, int(scenario_index)))\n",
    "#     scene_conflicts = []\n",
    "\n",
    "#     tfrecord_path = f\"./training_20s/training_20s.tfrecord-{tfrecord_index}-of-01000\"\n",
    "#     # get scenario object\n",
    "#     dataset = tf.data.TFRecordDataset(tfrecord_path)\n",
    "#     for index, scenario_proto in enumerate(dataset):\n",
    "#         if index == int(scenario_index): \n",
    "#             scenario_proto = scenario_proto.numpy()\n",
    "#             scenario = scenario_pb2.Scenario()\n",
    "#             scenario.ParseFromString(scenario_proto)\n",
    "#             break\n",
    "\n",
    "#     \"\"\" extract info in scenario \"\"\"\n",
    "#     # get map elements\n",
    "#     stopSigns = get_intersection_stopSigns(scenario)\n",
    "#     intersection_centerCoordinate, intersection_radius = get_intersection_circle(stopSigns, buffer=buffer)\n",
    "#     intersection_polygon = construct_intersection_polygon(intersection_centerCoordinate, intersection_radius)\n",
    "\n",
    "#     inbound_lanes, outbound_lanes = get_intersection_lanes(scenario, intersection_polygon)\n",
    "\n",
    "#     # get trajectories\n",
    "#     egoTrajectory = get_egoTrajectory(scenario)\n",
    "#     vehicleTrajectories = get_vehicleTrajectories(scenario, intersection_polygon)\n",
    "#     n_legs=3 if len(stopSigns)==3 else 4\n",
    "#     visualize_map(scenario, tfrecord_index, int(scenario_index), n_legs, distance_threshold=distance_threshold, buffer=buffer)"
   ]
  },
  {
   "cell_type": "markdown",
   "id": "c35e9211-603e-4222-9196-fcf8a53532d2",
   "metadata": {},
   "source": [
    "Figure 4: middle `00838-68`"
   ]
  },
  {
   "cell_type": "code",
   "execution_count": 10,
   "id": "4b8bdd0e-d44d-4de6-87df-5061f2461fef",
   "metadata": {},
   "outputs": [],
   "source": [
    "txt_path=\"./outputs/scenario_metadata/4stopSigns.csv\"\n",
    "metadatas = get_scenario_metadata(txt_path)\n",
    "distance_threshold = 45\n",
    "buffer = 10\n",
    "pet = 10\n",
    "\n",
    "# for scene_id, (tfrecord_index, scenario_index) in enumerate(metadatas):\n",
    "#     # print(scene_id, (tfrecord_index, int(scenario_index)))\n",
    "#     scene_conflicts = []\n",
    "tfrecord_index=\"00838\"\n",
    "scenario_index = 68\n",
    "\n",
    "tfrecord_path = f\"./training_20s/training_20s.tfrecord-{tfrecord_index}-of-01000\"\n",
    "# get scenario object\n",
    "dataset = tf.data.TFRecordDataset(tfrecord_path)\n",
    "for index, scenario_proto in enumerate(dataset):\n",
    "    if index == int(scenario_index): \n",
    "        scenario_proto = scenario_proto.numpy()\n",
    "        scenario = scenario_pb2.Scenario()\n",
    "        scenario.ParseFromString(scenario_proto)\n",
    "        break\n",
    "\n",
    "\"\"\" extract info in scenario \"\"\"\n",
    "# get map elements\n",
    "stopSigns = get_intersection_stopSigns(scenario)\n",
    "intersection_centerCoordinate, intersection_radius = get_intersection_circle(stopSigns, buffer=buffer)\n",
    "intersection_polygon = construct_intersection_polygon(intersection_centerCoordinate, intersection_radius)\n",
    "\n",
    "inbound_lanes, outbound_lanes = get_intersection_lanes(scenario, intersection_polygon)\n",
    "\n",
    "# get trajectories\n",
    "egoTrajectory = get_egoTrajectory(scenario)\n",
    "vehicleTrajectories = get_vehicleTrajectories(scenario, intersection_polygon)\n",
    "n_legs=3 if len(stopSigns)==3 else 4\n",
    "visualize_map(scenario, tfrecord_index, int(scenario_index), n_legs, distance_threshold=distance_threshold, buffer=buffer)"
   ]
  },
  {
   "cell_type": "markdown",
   "id": "7d5de3be-174c-4d54-a474-112d2f039975",
   "metadata": {},
   "source": [
    "Figure 4: left `00057-53`"
   ]
  },
  {
   "cell_type": "code",
   "execution_count": 11,
   "id": "e953c33f-2edf-499a-a4ca-6022dd32f36e",
   "metadata": {},
   "outputs": [],
   "source": [
    "txt_path=\"./outputs/scenario_metadata/4stopSigns.csv\"\n",
    "metadatas = get_scenario_metadata(txt_path)\n",
    "distance_threshold = 45\n",
    "buffer = 10\n",
    "pet = 10\n",
    "\n",
    "# for scene_id, (tfrecord_index, scenario_index) in enumerate(metadatas):\n",
    "#     # print(scene_id, (tfrecord_index, int(scenario_index)))\n",
    "#     scene_conflicts = []\n",
    "tfrecord_index=\"00057\"\n",
    "scenario_index = 53\n",
    "\n",
    "tfrecord_path = f\"./training_20s/training_20s.tfrecord-{tfrecord_index}-of-01000\"\n",
    "# get scenario object\n",
    "dataset = tf.data.TFRecordDataset(tfrecord_path)\n",
    "for index, scenario_proto in enumerate(dataset):\n",
    "    if index == int(scenario_index): \n",
    "        scenario_proto = scenario_proto.numpy()\n",
    "        scenario = scenario_pb2.Scenario()\n",
    "        scenario.ParseFromString(scenario_proto)\n",
    "        break\n",
    "\n",
    "\"\"\" extract info in scenario \"\"\"\n",
    "# get map elements\n",
    "stopSigns = get_intersection_stopSigns(scenario)\n",
    "intersection_centerCoordinate, intersection_radius = get_intersection_circle(stopSigns, buffer=buffer)\n",
    "intersection_polygon = construct_intersection_polygon(intersection_centerCoordinate, intersection_radius)\n",
    "\n",
    "inbound_lanes, outbound_lanes = get_intersection_lanes(scenario, intersection_polygon)\n",
    "\n",
    "# get trajectories\n",
    "egoTrajectory = get_egoTrajectory(scenario)\n",
    "vehicleTrajectories = get_vehicleTrajectories(scenario, intersection_polygon)\n",
    "n_legs=3 if len(stopSigns)==3 else 4\n",
    "visualize_map(scenario, tfrecord_index, int(scenario_index), n_legs, distance_threshold=distance_threshold, buffer=buffer)"
   ]
  },
  {
   "cell_type": "markdown",
   "id": "a241e123-5676-4c2d-b03f-e0200bbcbb0b",
   "metadata": {},
   "source": [
    "Figure 4: right `00525-52`"
   ]
  },
  {
   "cell_type": "code",
   "execution_count": 12,
   "id": "733e6b90-6cce-4027-b1de-4ce1946bd802",
   "metadata": {},
   "outputs": [],
   "source": [
    "txt_path=\"./outputs/scenario_metadata/4stopSigns.csv\"\n",
    "metadatas = get_scenario_metadata(txt_path)\n",
    "distance_threshold = 45\n",
    "buffer = 10\n",
    "pet = 10\n",
    "\n",
    "# for scene_id, (tfrecord_index, scenario_index) in enumerate(metadatas):\n",
    "#     # print(scene_id, (tfrecord_index, int(scenario_index)))\n",
    "#     scene_conflicts = []\n",
    "tfrecord_index=\"00525\"\n",
    "scenario_index = 52\n",
    "\n",
    "tfrecord_path = f\"./training_20s/training_20s.tfrecord-{tfrecord_index}-of-01000\"\n",
    "# get scenario object\n",
    "dataset = tf.data.TFRecordDataset(tfrecord_path)\n",
    "for index, scenario_proto in enumerate(dataset):\n",
    "    if index == int(scenario_index): \n",
    "        scenario_proto = scenario_proto.numpy()\n",
    "        scenario = scenario_pb2.Scenario()\n",
    "        scenario.ParseFromString(scenario_proto)\n",
    "        break\n",
    "\n",
    "\"\"\" extract info in scenario \"\"\"\n",
    "# get map elements\n",
    "stopSigns = get_intersection_stopSigns(scenario)\n",
    "intersection_centerCoordinate, intersection_radius = get_intersection_circle(stopSigns, buffer=buffer)\n",
    "intersection_polygon = construct_intersection_polygon(intersection_centerCoordinate, intersection_radius)\n",
    "\n",
    "inbound_lanes, outbound_lanes = get_intersection_lanes(scenario, intersection_polygon)\n",
    "\n",
    "# get trajectories\n",
    "egoTrajectory = get_egoTrajectory(scenario)\n",
    "vehicleTrajectories = get_vehicleTrajectories(scenario, intersection_polygon)\n",
    "n_legs=3 if len(stopSigns)==3 else 4\n",
    "visualize_map(scenario, tfrecord_index, int(scenario_index), n_legs, distance_threshold=distance_threshold, buffer=buffer)"
   ]
  },
  {
   "cell_type": "code",
   "execution_count": null,
   "id": "0588ab3f-4911-441e-bf44-ffc3eabac268",
   "metadata": {},
   "outputs": [],
   "source": []
  }
 ],
 "metadata": {
  "kernelspec": {
   "display_name": "Python 3 (ipykernel)",
   "language": "python",
   "name": "python3"
  },
  "language_info": {
   "codemirror_mode": {
    "name": "ipython",
    "version": 3
   },
   "file_extension": ".py",
   "mimetype": "text/x-python",
   "name": "python",
   "nbconvert_exporter": "python",
   "pygments_lexer": "ipython3",
   "version": "3.10.14"
  }
 },
 "nbformat": 4,
 "nbformat_minor": 5
}
