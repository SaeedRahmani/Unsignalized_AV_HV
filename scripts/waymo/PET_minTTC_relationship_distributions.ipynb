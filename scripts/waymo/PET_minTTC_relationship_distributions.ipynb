{
 "cells": [
  {
   "cell_type": "markdown",
   "id": "465f534e-655f-44c5-97d2-26502767dfba",
   "metadata": {},
   "source": [
    "# Waymo: PET-minTTC relationship"
   ]
  },
  {
   "cell_type": "markdown",
   "id": "52c4a642-3ca6-4247-b7ad-23a3a1183141",
   "metadata": {},
   "source": [
    "- Scatter plot\n",
    "    - Total\n",
    "    - Merge\n",
    "    - Cross "
   ]
  },
  {
   "cell_type": "code",
   "execution_count": 1,
   "id": "d97bd32f-1b78-423a-8370-acbb0fd7e79c",
   "metadata": {},
   "outputs": [],
   "source": [
    "import pickle\n",
    "import numpy as np\n",
    "np.set_printoptions(suppress=True)\n",
    "import pandas as pd\n",
    "import matplotlib.pyplot as plt\n",
    "%matplotlib inline\n",
    "import scienceplots\n",
    "from tqdm import tqdm\n",
    "from shapely import LineString, Point\n",
    "from seaborn import displot, histplot, relplot, jointplot\n",
    "plt.style.use(['nature'])\n",
    "\n",
    "from waymo_devkit.conflict import Conflict"
   ]
  },
  {
   "cell_type": "code",
   "execution_count": 2,
   "id": "aa7ac231-1863-4203-b776-19b2404ace15",
   "metadata": {},
   "outputs": [
    {
     "name": "stdout",
     "output_type": "stream",
     "text": [
      "#Conflicts: 889\n"
     ]
    }
   ],
   "source": [
    "with open('./pkl/conflict_pet15s.pkl', 'rb') as file:\n",
    "    conflict_list_from_pickle = pickle.load(file)\n",
    "print(f\"#Conflicts: {len(conflict_list_from_pickle)}\")\n",
    "\n",
    "conflict_list = list()\n",
    "for c in conflict_list_from_pickle:\n",
    "    conflict_list.append(\n",
    "        Conflict(\n",
    "            leader_id=c['leader_id'],\n",
    "            leader_index=c['leader_index'],\n",
    "            leader_states=c['leader_states'],\n",
    "            leader_time_at_conflict=c['leader_time_at_conflict'],\n",
    "            follower_id=c['follower_id'],\n",
    "            follower_index=c['follower_index'],\n",
    "            follower_states=c['follower_states'],\n",
    "            follower_time_at_conflict=c['follower_time_at_conflict'],\n",
    "            PET=c['PET'],\n",
    "            conflict_type=c['conflict_type'],\n",
    "            leader_is_av=c['leader_is_av'],\n",
    "            follower_is_av=c['follower_is_av'],\n",
    "            center=c['center'],\n",
    "            radius=c['radius'],\n",
    "            tfrecord_index=c['tfrecord_index'],\n",
    "            scenario_index=c['scenario_index'],\n",
    "    ))"
   ]
  },
  {
   "cell_type": "code",
   "execution_count": 3,
   "id": "b599b4cf-dc5d-4138-8ec5-9db9592455b0",
   "metadata": {
    "scrolled": true
   },
   "outputs": [
    {
     "name": "stderr",
     "output_type": "stream",
     "text": [
      "889it [00:00, 119434.22it/s]"
     ]
    },
    {
     "name": "stdout",
     "output_type": "stream",
     "text": [
      "<class 'pandas.core.frame.DataFrame'>\n",
      "Int64Index: 864 entries, 0 to 888\n",
      "Data columns (total 4 columns):\n",
      " #   Column         Non-Null Count  Dtype  \n",
      "---  ------         --------------  -----  \n",
      " 0   Conflict type  864 non-null    object \n",
      " 1   Vehicle order  864 non-null    object \n",
      " 2   PET            864 non-null    float64\n",
      " 3   minTTC         811 non-null    float64\n",
      "dtypes: float64(2), object(2)\n",
      "memory usage: 33.8+ KB\n"
     ]
    },
    {
     "name": "stderr",
     "output_type": "stream",
     "text": [
      "\n"
     ]
    }
   ],
   "source": [
    "\"\"\"\n",
    "Construct a dataframe with the following columns:\n",
    "- Conflict type\n",
    "- Vehicle order\n",
    "- PET\n",
    "- minTTC\n",
    "\"\"\"\n",
    "conflict_cols_in_df = [\n",
    "    \"Conflict type\",\n",
    "    \"Vehicle order\",\n",
    "    \"PET\",\n",
    "    \"minTTC\"\n",
    "]\n",
    "\n",
    "# generate each rows in the dataframe\n",
    "conflict_rows_in_df = list()\n",
    "for index, conflict in tqdm(enumerate(conflict_list)):\n",
    "\n",
    "    leader_type = \"AV\" if conflict.leader_is_av else \"HV\"\n",
    "    follower_type = \"AV\" if conflict.follower_is_av else \"HV\" \n",
    "    conflict_type = \"Cross\" if conflict.conflict_type == \"CROSS\" else \"Merge\"\n",
    "    conflict_rows_in_df.append([\n",
    "        conflict_type,\n",
    "        leader_type+\"-\"+follower_type,\n",
    "        conflict.PET,\n",
    "        conflict.minimum_TTC,\n",
    "    ])\n",
    "conflict_df = pd.DataFrame(conflict_rows_in_df, columns=conflict_cols_in_df)\n",
    "\n",
    "# Post-process\n",
    "PET_THRESHOLD = 10\n",
    "conflict_df = conflict_df[conflict_df[\"PET\"] <= PET_THRESHOLD]\n",
    "\n",
    "# display info\n",
    "conflict_df.info()"
   ]
  },
  {
   "cell_type": "code",
   "execution_count": 4,
   "id": "89076e0e-e9e8-4d57-adf4-a0bba13a36dc",
   "metadata": {},
   "outputs": [
    {
     "name": "stdout",
     "output_type": "stream",
     "text": [
      "<class 'pandas.core.frame.DataFrame'>\n",
      "Int64Index: 811 entries, 1 to 888\n",
      "Data columns (total 4 columns):\n",
      " #   Column         Non-Null Count  Dtype  \n",
      "---  ------         --------------  -----  \n",
      " 0   Conflict type  811 non-null    object \n",
      " 1   Vehicle order  811 non-null    object \n",
      " 2   PET            811 non-null    float64\n",
      " 3   minTTC         811 non-null    float64\n",
      "dtypes: float64(2), object(2)\n",
      "memory usage: 31.7+ KB\n"
     ]
    }
   ],
   "source": [
    "# remove nan value\n",
    "conflict_df = conflict_df.dropna()\n",
    "conflict_df.info()"
   ]
  },
  {
   "cell_type": "code",
   "execution_count": 5,
   "id": "2eef0fc5-a676-4fbc-8cc9-b47f4d9531b7",
   "metadata": {},
   "outputs": [
    {
     "name": "stdout",
     "output_type": "stream",
     "text": [
      "<class 'pandas.core.frame.DataFrame'>\n",
      "Int64Index: 591 entries, 1 to 888\n",
      "Data columns (total 4 columns):\n",
      " #   Column         Non-Null Count  Dtype  \n",
      "---  ------         --------------  -----  \n",
      " 0   Conflict type  591 non-null    object \n",
      " 1   Vehicle order  591 non-null    object \n",
      " 2   PET            591 non-null    float64\n",
      " 3   minTTC         591 non-null    float64\n",
      "dtypes: float64(2), object(2)\n",
      "memory usage: 23.1+ KB\n"
     ]
    }
   ],
   "source": [
    "# Post-process: remove minTTC greater than 10s\n",
    "minTTC_THRESHOLD = 10\n",
    "conflict_df = conflict_df[(conflict_df[\"minTTC\"] <= minTTC_THRESHOLD) & (conflict_df[\"minTTC\"] >= 0)]\n",
    "\n",
    "# display info\n",
    "conflict_df.info()"
   ]
  },
  {
   "cell_type": "code",
   "execution_count": 6,
   "id": "0cdfbfb2-0f11-4140-811f-a51c11dd309b",
   "metadata": {},
   "outputs": [
    {
     "data": {
      "text/plain": [
       "HV-HV    261\n",
       "AV-HV    247\n",
       "HV-AV     83\n",
       "Name: Vehicle order, dtype: int64"
      ]
     },
     "execution_count": 6,
     "metadata": {},
     "output_type": "execute_result"
    }
   ],
   "source": [
    "conflict_df[\"Vehicle order\"].value_counts()"
   ]
  },
  {
   "cell_type": "code",
   "execution_count": 7,
   "id": "02ac3144-4109-4e76-a5c6-9a304acefc9e",
   "metadata": {},
   "outputs": [
    {
     "data": {
      "text/plain": [
       "count    591.000000\n",
       "mean       5.116998\n",
       "std        1.731623\n",
       "min        2.063166\n",
       "25%        3.737393\n",
       "50%        4.720153\n",
       "75%        6.234004\n",
       "max        9.959505\n",
       "Name: minTTC, dtype: float64"
      ]
     },
     "execution_count": 7,
     "metadata": {},
     "output_type": "execute_result"
    }
   ],
   "source": [
    "conflict_df[\"minTTC\"].describe()"
   ]
  },
  {
   "cell_type": "markdown",
   "id": "49d32702-1173-4698-a6ce-317a6b3c64a8",
   "metadata": {},
   "source": [
    "## Scatterplots"
   ]
  },
  {
   "cell_type": "code",
   "execution_count": 8,
   "id": "e4239333-4355-4776-88cb-1f6745b9257f",
   "metadata": {},
   "outputs": [],
   "source": [
    "palette = {\n",
    "    \"HV-HV\" : '#257ab6', \n",
    "    \"AV-HV\" : '#31a231',\n",
    "    \"HV-AV\" : '#ff8214',\n",
    "}"
   ]
  },
  {
   "cell_type": "code",
   "execution_count": 10,
   "id": "87930432-bb6a-44f3-b7e6-ebab4d0cb901",
   "metadata": {},
   "outputs": [
    {
     "data": {
      "text/plain": [
       "Text(9.972222222222223, 0.5, 'PET (s)')"
      ]
     },
     "execution_count": 10,
     "metadata": {},
     "output_type": "execute_result"
    },
    {
     "data": {
      "text/plain": [
       "<Figure size 300x300 with 0 Axes>"
      ]
     },
     "metadata": {},
     "output_type": "display_data"
    },
    {
     "data": {
      "image/png": "[encoded data removed]",
      "text/plain": [
       "<Figure size 300x300 with 3 Axes>"
      ]
     },
     "metadata": {},
     "output_type": "display_data"
    }
   ],
   "source": [
    "FIGURE_WIDTH, FIGURE_HEIGHT = 3, 3\n",
    "OFFSET = 0.5\n",
    "conflictType = \"Merge\"\n",
    "plt.figure(figsize=(FIGURE_WIDTH, FIGURE_HEIGHT))\n",
    "\n",
    "g = jointplot(\n",
    "    data=conflict_df[conflict_df[\"Conflict type\"] == conflictType],\n",
    "    x=\"minTTC\",\n",
    "    y=\"PET\",  \n",
    "    hue=\"Vehicle order\",\n",
    "    palette=palette,\n",
    "    hue_order=[\"HV-HV\", \"AV-HV\", \"HV-AV\"],\n",
    "    height=FIGURE_HEIGHT,\n",
    "    xlim=[0, minTTC_THRESHOLD], ylim=[0, PET_THRESHOLD],\n",
    "    # xlim=[-OFFSET, minTTC_THRESHOLD+OFFSET], ylim=[-OFFSET, PET_THRESHOLD+OFFSET],\n",
    "    # joint_kws={'common_norm': True},\n",
    "    marginal_kws={'common_norm': False}\n",
    ")\n",
    "\n",
    "plt.xlabel(\"Minimum TTC (s)\")\n",
    "plt.ylabel(\"PET (s)\")\n",
    "\n",
    "# plt.savefig(f\"./outputs/plots/pet_ttc_waymo_merge.png\", dpi=400, bbox_inches='tight')"
   ]
  },
  {
   "cell_type": "code",
   "execution_count": 11,
   "id": "cd12e7bf-3719-4120-8b74-570a3b47cbac",
   "metadata": {},
   "outputs": [
    {
     "data": {
      "text/plain": [
       "Text(9.972222222222223, 0.5, 'PET (s)')"
      ]
     },
     "execution_count": 11,
     "metadata": {},
     "output_type": "execute_result"
    },
    {
     "data": {
      "text/plain": [
       "<Figure size 300x300 with 0 Axes>"
      ]
     },
     "metadata": {},
     "output_type": "display_data"
    },
    {
     "data": {
      "image/png": "[encoded data removed]",
      "text/plain": [
       "<Figure size 300x300 with 3 Axes>"
      ]
     },
     "metadata": {},
     "output_type": "display_data"
    }
   ],
   "source": [
    "FIGURE_WIDTH, FIGURE_HEIGHT = 3, 3\n",
    "OFFSET = 0.5\n",
    "conflictType = \"Cross\"\n",
    "plt.figure(figsize=(FIGURE_WIDTH, FIGURE_HEIGHT))\n",
    "\n",
    "g = jointplot(\n",
    "    data=conflict_df[conflict_df[\"Conflict type\"] == conflictType],\n",
    "    x=\"minTTC\",\n",
    "    y=\"PET\",  \n",
    "    hue=\"Vehicle order\",\n",
    "    palette=palette,\n",
    "    hue_order=[\"HV-HV\", \"AV-HV\", \"HV-AV\"],\n",
    "    height=FIGURE_HEIGHT,\n",
    "    xlim=[0, minTTC_THRESHOLD], ylim=[0, PET_THRESHOLD],\n",
    "    # xlim=[-OFFSET, minTTC_THRESHOLD+OFFSET], ylim=[-OFFSET, PET_THRESHOLD+OFFSET],\n",
    "    # joint_kws={'common_norm': True},\n",
    "    marginal_kws={'common_norm': False}\n",
    ")\n",
    "\n",
    "plt.xlabel(\"Minimum TTC (s)\")\n",
    "plt.ylabel(\"PET (s)\")\n",
    "\n",
    "# plt.savefig(f\"./outputs/plots/pet_ttc_waymo_cross.png\", dpi=400, bbox_inches='tight')"
   ]
  },
  {
   "cell_type": "markdown",
   "id": "2722e766-3444-43ec-bc5a-e06cb256615a",
   "metadata": {},
   "source": [
    "## Scatterplots"
   ]
  },
  {
   "cell_type": "markdown",
   "id": "6caa6a44-71cd-4603-9ccc-eae48b08f246",
   "metadata": {},
   "source": [
    "### All"
   ]
  },
  {
   "cell_type": "code",
   "execution_count": null,
   "id": "5ce974eb-60c8-495e-9b5d-8c73de6f8fa6",
   "metadata": {},
   "outputs": [],
   "source": [
    "# palette = {\n",
    "#     \"HV-HV\" : '#257ab6', \n",
    "#     \"AV-HV\" : '#31a231',\n",
    "#     \"HV-AV\" : '#ff8214',\n",
    "# }\n",
    "\n",
    "# HVHV_COLOR = '#257ab6'\n",
    "# HVAV_COLOR = '#31a231'\n",
    "# AVHV_COLOR = '#ff8214'\n",
    "\n",
    "# FIGURE_WIDTH, FIGURE_HEIGHT = 3, 3\n",
    "# conflictType = \"Total\"\n",
    "# plt.figure(figsize=(FIGURE_WIDTH, FIGURE_HEIGHT))\n",
    "\n",
    "# # scatterplots\n",
    "# g = relplot(\n",
    "#     data=conflict_df,\n",
    "#     x=\"minTTC\",\n",
    "#     y=\"PET\",\n",
    "#     # size=1,\n",
    "#     hue=\"Vehicle order\",\n",
    "#     col=\"Vehicle order\",\n",
    "#     col_order=[\"HV-HV\", \"AV-HV\", \"HV-AV\"],\n",
    "#     palette=palette,\n",
    "#     height=FIGURE_HEIGHT,\n",
    "#     aspect=0.9,\n",
    "#     legend=False,\n",
    "# )\n",
    "# g.axes[0,0].set_xlim([0, minTTC_THRESHOLD])\n",
    "# g.axes[0,0].set_ylim([0, PET_THRESHOLD])\n",
    "\n",
    "# # suptitle and its location\n",
    "# g.set_titles(\"{col_name}\")\n",
    "# g.fig.suptitle(f\"PET-min TTC relationship [{conflictType}] (Waymo)\", size=10)\n",
    "# g.figure.subplots_adjust(top=.85)\n",
    "\n",
    "# plt.savefig(f\"./outputs/plots/waymo_scatterplot_PET_minTTC_{conflictType}.png\", dpi=300, bbox_inches=\"tight\")\n",
    "# plt.show()"
   ]
  },
  {
   "cell_type": "markdown",
   "id": "2ea89362-07b8-4c74-98b8-a10cb03a679a",
   "metadata": {
    "jp-MarkdownHeadingCollapsed": true
   },
   "source": [
    "### Merge"
   ]
  },
  {
   "cell_type": "code",
   "execution_count": null,
   "id": "29b32b6c-069f-41b8-8abf-2d2c4016dad5",
   "metadata": {},
   "outputs": [],
   "source": [
    "# FIGURE_WIDTH, FIGURE_HEIGHT = 3, 3\n",
    "# conflictType = \"Merge\"\n",
    "# plt.figure(figsize=(FIGURE_WIDTH, FIGURE_HEIGHT))\n",
    "\n",
    "# # scatterplots\n",
    "# g = relplot(\n",
    "#     data=conflict_df[conflict_df[\"Conflict type\"] == conflictType],\n",
    "#     x=\"minTTC\",\n",
    "#     y=\"PET\",\n",
    "#     size=1,\n",
    "#     hue=\"Vehicle order\",\n",
    "#     col=\"Vehicle order\",\n",
    "#     col_order=[\"HV-HV\", \"AV-HV\", \"HV-AV\"],\n",
    "#     palette=palette,\n",
    "#     height=FIGURE_HEIGHT,\n",
    "#     aspect=0.9,\n",
    "#     legend=False,\n",
    "# )\n",
    "# g.axes[0,0].set_xlim([0, minTTC_THRESHOLD])\n",
    "# g.axes[0,0].set_ylim([0, PET_THRESHOLD])\n",
    "\n",
    "# # suptitle and its location\n",
    "# g.set_titles(\"{col_name}\")\n",
    "# g.fig.suptitle(f\"PET-min TTC relationship [{conflictType}] (Waymo)\", size=10)\n",
    "# g.figure.subplots_adjust(top=.85)\n",
    "\n",
    "# plt.savefig(f\"./outputs/plots/waymo_scatterplot_PET_minTTC_{conflictType}.png\", dpi=300, bbox_inches=\"tight\")\n",
    "# plt.show()"
   ]
  },
  {
   "cell_type": "markdown",
   "id": "ccb7c8ab-3b9c-4bea-9704-9d90c1e44349",
   "metadata": {},
   "source": [
    "### Cross"
   ]
  },
  {
   "cell_type": "code",
   "execution_count": null,
   "id": "e054bf7d-b853-4e86-926f-9b06be70452f",
   "metadata": {},
   "outputs": [],
   "source": [
    "# FIGURE_WIDTH, FIGURE_HEIGHT = 3, 3\n",
    "# conflictType = \"Cross\"\n",
    "# plt.figure(figsize=(FIGURE_WIDTH, FIGURE_HEIGHT))\n",
    "\n",
    "# # scatterplots\n",
    "# g = relplot(\n",
    "#     data=conflict_df[conflict_df[\"Conflict type\"] == conflictType],\n",
    "#     x=\"minTTC\",\n",
    "#     y=\"PET\",\n",
    "#     size=1,\n",
    "#     hue=\"Vehicle order\",\n",
    "#     col=\"Vehicle order\",\n",
    "#     col_order=[\"HV-HV\", \"AV-HV\", \"HV-AV\"],\n",
    "#     palette=palette,\n",
    "#     height=FIGURE_HEIGHT,\n",
    "#     aspect=0.9,\n",
    "#     legend=False,\n",
    "# )\n",
    "# g.axes[0,0].set_xlim([0, minTTC_THRESHOLD])\n",
    "# g.axes[0,0].set_ylim([0, PET_THRESHOLD])\n",
    "\n",
    "# # suptitle and its location\n",
    "# g.set_titles(\"{col_name}\")\n",
    "# g.fig.suptitle(f\"PET-min TTC relationship [{conflictType}] (Waymo)\", size=10)\n",
    "# g.figure.subplots_adjust(top=.85)\n",
    "\n",
    "# plt.savefig(f\"./outputs/plots/waymo_scatterplot_PET_minTTC_{conflictType}.png\", dpi=300, bbox_inches=\"tight\")\n",
    "# plt.show()"
   ]
  },
  {
   "cell_type": "code",
   "execution_count": null,
   "id": "3d6d24ac-39ed-49d4-86c5-7b346cde2068",
   "metadata": {},
   "outputs": [],
   "source": []
  }
 ],
 "metadata": {
  "kernelspec": {
   "display_name": "Python 3 (ipykernel)",
   "language": "python",
   "name": "python3"
  },
  "language_info": {
   "codemirror_mode": {
    "name": "ipython",
    "version": 3
   },
   "file_extension": ".py",
   "mimetype": "text/x-python",
   "name": "python",
   "nbconvert_exporter": "python",
   "pygments_lexer": "ipython3",
   "version": "3.10.14"
  }
 },
 "nbformat": 4,
 "nbformat_minor": 5
}
