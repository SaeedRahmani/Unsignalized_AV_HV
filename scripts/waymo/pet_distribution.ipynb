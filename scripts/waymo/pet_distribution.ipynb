{
 "cells": [
  {
   "cell_type": "code",
   "execution_count": 1,
   "id": "12b6e0fa-8d8d-4c39-a4c7-536c03f63380",
   "metadata": {},
   "outputs": [],
   "source": [
    "import pickle\n",
    "import numpy as np\n",
    "np.set_printoptions(suppress=True, precision=1) \n",
    "import pandas as pd\n",
    "import matplotlib.pyplot as plt\n",
    "%matplotlib inline\n",
    "import scienceplots\n",
    "from tqdm import tqdm\n",
    "from shapely import LineString, Point\n",
    "from seaborn import displot, histplot, relplot\n",
    "plt.style.use(['nature'])\n",
    "\n",
    "from scipy import stats\n",
    "from waymo_devkit.conflict import Conflict"
   ]
  },
  {
   "cell_type": "code",
   "execution_count": 3,
   "id": "c24aeeb9-f73d-4821-8061-416d2229b716",
   "metadata": {},
   "outputs": [
    {
     "name": "stdout",
     "output_type": "stream",
     "text": [
      "#Conflicts: 889\n"
     ]
    }
   ],
   "source": [
    "with open('./pkl/conflict_pet15s.pkl', 'rb') as file:\n",
    "    conflict_list_from_pickle = pickle.load(file)\n",
    "print(f\"#Conflicts: {len(conflict_list_from_pickle)}\")\n",
    "\n",
    "conflict_list = list()\n",
    "for c in conflict_list_from_pickle:\n",
    "    conflict_list.append(\n",
    "        Conflict(\n",
    "            leader_id=c['leader_id'],\n",
    "            leader_index=c['leader_index'],\n",
    "            leader_states=c['leader_states'],\n",
    "            leader_time_at_conflict=c['leader_time_at_conflict'],\n",
    "            follower_id=c['follower_id'],\n",
    "            follower_index=c['follower_index'],\n",
    "            follower_states=c['follower_states'],\n",
    "            follower_time_at_conflict=c['follower_time_at_conflict'],\n",
    "            PET=c['PET'],\n",
    "            conflict_type=c['conflict_type'],\n",
    "            leader_is_av=c['leader_is_av'],\n",
    "            follower_is_av=c['follower_is_av'],\n",
    "            center=c['center'],\n",
    "            radius=c['radius'],\n",
    "            tfrecord_index=c['tfrecord_index'],\n",
    "            scenario_index=c['scenario_index'],\n",
    "    ))"
   ]
  },
  {
   "cell_type": "code",
   "execution_count": 4,
   "id": "4184b616-ca7b-4e17-b4d8-e128a7143a9d",
   "metadata": {},
   "outputs": [
    {
     "name": "stderr",
     "output_type": "stream",
     "text": [
      "889it [00:00, 873854.29it/s]"
     ]
    },
    {
     "name": "stdout",
     "output_type": "stream",
     "text": [
      "<class 'pandas.core.frame.DataFrame'>\n",
      "Int64Index: 864 entries, 0 to 888\n",
      "Data columns (total 3 columns):\n",
      " #   Column         Non-Null Count  Dtype  \n",
      "---  ------         --------------  -----  \n",
      " 0   Conflict type  864 non-null    object \n",
      " 1   Vehicle order  864 non-null    object \n",
      " 2   PET            864 non-null    float64\n",
      "dtypes: float64(1), object(2)\n",
      "memory usage: 27.0+ KB\n"
     ]
    },
    {
     "name": "stderr",
     "output_type": "stream",
     "text": [
      "\n"
     ]
    }
   ],
   "source": [
    "\"\"\"\n",
    "Construct a dataframe with the following columns:\n",
    "- Conflict type\n",
    "- Vehicle order\n",
    "- PET\n",
    "\"\"\"\n",
    "conflict_cols_in_df = [\n",
    "    \"Conflict type\",\n",
    "    \"Vehicle order\",\n",
    "    \"PET\"\n",
    "]\n",
    "\n",
    "# generate each rows in the dataframe\n",
    "conflict_rows_in_df = list()\n",
    "for index, conflict in tqdm(enumerate(conflict_list)):\n",
    "\n",
    "    leader_type = \"AV\" if conflict.leader_is_av else \"HV\"\n",
    "    follower_type = \"AV\" if conflict.follower_is_av else \"HV\" \n",
    "    conflict_type = \"Cross\" if conflict.conflict_type == \"CROSS\" else \"Merge\"\n",
    "    conflict_rows_in_df.append([\n",
    "        conflict_type,\n",
    "        leader_type+\"-\"+follower_type,\n",
    "        conflict.PET,\n",
    "    ])\n",
    "conflict_df = pd.DataFrame(conflict_rows_in_df, columns=conflict_cols_in_df)\n",
    "\n",
    "# Post-process\n",
    "PET_THRESHOLD = 10\n",
    "conflict_df = conflict_df[conflict_df[\"PET\"] <= PET_THRESHOLD]\n",
    "\n",
    "conflict_df.to_csv(\"./outputs/waymo_pet.csv\", index=False)\n",
    "\n",
    "# display info\n",
    "conflict_df.info()"
   ]
  },
  {
   "cell_type": "markdown",
   "id": "f33e85e8-ba17-4c70-9368-52a9b400e4fa",
   "metadata": {},
   "source": [
    "report the number of scenarios for merging and crossing"
   ]
  },
  {
   "cell_type": "code",
   "execution_count": 4,
   "id": "1ba8a3c4-a090-446f-b7d4-4b3a074539c2",
   "metadata": {},
   "outputs": [
    {
     "data": {
      "text/plain": [
       "Conflict type  Vehicle order\n",
       "Cross          HV-HV            283\n",
       "               AV-HV            149\n",
       "               HV-AV            142\n",
       "Merge          AV-HV            135\n",
       "               HV-HV            107\n",
       "               HV-AV             48\n",
       "dtype: int64"
      ]
     },
     "execution_count": 4,
     "metadata": {},
     "output_type": "execute_result"
    }
   ],
   "source": [
    "conflict_df[[\"Conflict type\", \"Vehicle order\"]].value_counts()"
   ]
  },
  {
   "cell_type": "code",
   "execution_count": 5,
   "id": "4e2ee80a-9151-4268-a5aa-1426b11de2e2",
   "metadata": {},
   "outputs": [
    {
     "data": {
      "text/plain": [
       "Conflict type\n",
       "Cross            574\n",
       "Merge            290\n",
       "dtype: int64"
      ]
     },
     "execution_count": 5,
     "metadata": {},
     "output_type": "execute_result"
    }
   ],
   "source": [
    "conflict_df[[\"Conflict type\"]].value_counts()"
   ]
  },
  {
   "cell_type": "code",
   "execution_count": 6,
   "id": "af324bdc-7a12-44c2-93c3-dc6ce7ef7ccd",
   "metadata": {},
   "outputs": [
    {
     "data": {
      "text/plain": [
       "Conflict type  Vehicle order\n",
       "Cross          AV-HV            3.832886\n",
       "               HV-AV            5.326761\n",
       "               HV-HV            4.081979\n",
       "Merge          AV-HV            3.433333\n",
       "               HV-AV            4.725000\n",
       "               HV-HV            3.969159\n",
       "Name: PET, dtype: float64"
      ]
     },
     "execution_count": 6,
     "metadata": {},
     "output_type": "execute_result"
    }
   ],
   "source": [
    "conflict_df.groupby([\"Conflict type\", \"Vehicle order\"])['PET'].mean()"
   ]
  },
  {
   "cell_type": "code",
   "execution_count": 7,
   "id": "c0fb890a-d23f-4252-ba59-fceded96f02a",
   "metadata": {
    "scrolled": true
   },
   "outputs": [
    {
     "data": {
      "text/plain": [
       "Conflict type  Vehicle order\n",
       "Cross          AV-HV            1.460768\n",
       "               HV-AV            1.735647\n",
       "               HV-HV            1.524874\n",
       "Merge          AV-HV            0.965989\n",
       "               HV-AV            1.688824\n",
       "               HV-HV            1.876288\n",
       "Name: PET, dtype: float64"
      ]
     },
     "execution_count": 7,
     "metadata": {},
     "output_type": "execute_result"
    }
   ],
   "source": [
    "conflict_df.groupby([\"Conflict type\", \"Vehicle order\"])['PET'].std()"
   ]
  },
  {
   "cell_type": "code",
   "execution_count": 8,
   "id": "fed329a5-0ce7-4b92-acd0-668e7bdc95c7",
   "metadata": {},
   "outputs": [],
   "source": [
    "cross_df = conflict_df[conflict_df[\"Conflict type\"] == \"Cross\"]\n",
    "merge_df = conflict_df[conflict_df[\"Conflict type\"] == \"Merge\"]\n",
    "\n",
    "HVHV_cross = cross_df[cross_df[\"Vehicle order\"] == \"HV-HV\"]\n",
    "AVHV_cross = cross_df[cross_df[\"Vehicle order\"] == \"AV-HV\"]\n",
    "HVAV_cross = cross_df[cross_df[\"Vehicle order\"] == \"HV-AV\"]\n",
    "\n",
    "HVHV_merge = merge_df[merge_df[\"Vehicle order\"] == \"HV-HV\"]\n",
    "AVHV_merge = merge_df[merge_df[\"Vehicle order\"] == \"AV-HV\"]\n",
    "HVAV_merge = merge_df[merge_df[\"Vehicle order\"] == \"HV-AV\"]"
   ]
  },
  {
   "cell_type": "markdown",
   "id": "eb0b004d-4e2d-4fad-aff7-4831b8f707f7",
   "metadata": {},
   "source": [
    "## ANOVA"
   ]
  },
  {
   "cell_type": "code",
   "execution_count": 9,
   "id": "a1bc47b9-3e2c-46eb-a21c-995a587ac2a4",
   "metadata": {},
   "outputs": [
    {
     "data": {
      "text/plain": [
       "F_onewayResult(statistic=14.003469801963691, pvalue=1.5743988355364758e-06)"
      ]
     },
     "execution_count": 9,
     "metadata": {},
     "output_type": "execute_result"
    }
   ],
   "source": [
    "stats.f_oneway(HVHV_merge.PET, HVAV_merge.PET, AVHV_merge.PET)"
   ]
  },
  {
   "cell_type": "code",
   "execution_count": 10,
   "id": "fe33dd8c-e536-48b3-b2df-c4e7034a0d2d",
   "metadata": {
    "scrolled": true
   },
   "outputs": [
    {
     "data": {
      "text/plain": [
       "F_onewayResult(statistic=39.93289125313939, pvalue=5.858719427869532e-17)"
      ]
     },
     "execution_count": 10,
     "metadata": {},
     "output_type": "execute_result"
    }
   ],
   "source": [
    "stats.f_oneway(HVHV_cross.PET, HVAV_cross.PET, AVHV_cross.PET)"
   ]
  },
  {
   "cell_type": "markdown",
   "id": "f00834b2-e765-4280-bb44-32d94eed8c54",
   "metadata": {},
   "source": [
    "## T test"
   ]
  },
  {
   "cell_type": "code",
   "execution_count": 10,
   "id": "89739fb2-e928-4e71-9c67-579e1e365fb7",
   "metadata": {},
   "outputs": [
    {
     "data": {
      "text/plain": [
       "Ttest_indResult(statistic=-7.573535808667401, pvalue=2.304947297040081e-13)"
      ]
     },
     "execution_count": 10,
     "metadata": {},
     "output_type": "execute_result"
    }
   ],
   "source": [
    "# HVHV_cross, HVAV_cross\n",
    "stats.ttest_ind(HVHV_cross.PET, HVAV_cross.PET)"
   ]
  },
  {
   "cell_type": "code",
   "execution_count": 11,
   "id": "250bbccc-554c-4aed-aef7-b1fbc436e59a",
   "metadata": {},
   "outputs": [
    {
     "data": {
      "text/plain": [
       "Ttest_indResult(statistic=-2.3896014063460407, pvalue=0.018084114022118538)"
      ]
     },
     "execution_count": 11,
     "metadata": {},
     "output_type": "execute_result"
    }
   ],
   "source": [
    "# HVHV_merge, HVAV_merge\n",
    "stats.ttest_ind(HVHV_merge.PET, HVAV_merge.PET)"
   ]
  },
  {
   "cell_type": "code",
   "execution_count": 12,
   "id": "db4dde1a-e529-4c54-8ac4-15fa8bf3d27f",
   "metadata": {},
   "outputs": [
    {
     "data": {
      "text/plain": [
       "Ttest_indResult(statistic=1.6372410152007477, pvalue=0.10231169574430166)"
      ]
     },
     "execution_count": 12,
     "metadata": {},
     "output_type": "execute_result"
    }
   ],
   "source": [
    "# HVHV_cross, AVHV_cross\n",
    "stats.ttest_ind(HVHV_cross.PET, AVHV_cross.PET)"
   ]
  },
  {
   "cell_type": "code",
   "execution_count": 13,
   "id": "81936ede-83be-4019-b69d-4f9fcfd291e9",
   "metadata": {},
   "outputs": [
    {
     "data": {
      "text/plain": [
       "Ttest_indResult(statistic=2.873258361457282, pvalue=0.004426639646748311)"
      ]
     },
     "execution_count": 13,
     "metadata": {},
     "output_type": "execute_result"
    }
   ],
   "source": [
    "# HVHV_merge, AVHV_merge\n",
    "stats.ttest_ind(HVHV_merge.PET, AVHV_merge.PET)"
   ]
  },
  {
   "cell_type": "code",
   "execution_count": 14,
   "id": "b871eff6-3556-422d-9f4d-c9b3bd276a0d",
   "metadata": {},
   "outputs": [
    {
     "data": {
      "text/plain": [
       "Ttest_indResult(statistic=7.957408722748365, pvalue=4.0223846758020117e-14)"
      ]
     },
     "execution_count": 14,
     "metadata": {},
     "output_type": "execute_result"
    }
   ],
   "source": [
    "# HVAV_cross, AVHV_cross\n",
    "stats.ttest_ind(HVAV_cross.PET, AVHV_cross.PET)"
   ]
  },
  {
   "cell_type": "code",
   "execution_count": 15,
   "id": "8524d514-b69f-4317-9cfa-51dc587ef386",
   "metadata": {},
   "outputs": [
    {
     "data": {
      "text/plain": [
       "Ttest_indResult(statistic=6.424308266472839, pvalue=1.1354031857827542e-09)"
      ]
     },
     "execution_count": 15,
     "metadata": {},
     "output_type": "execute_result"
    }
   ],
   "source": [
    "# HVAV_merge, AVHV_merge\n",
    "stats.ttest_ind(HVAV_merge.PET, AVHV_merge.PET)"
   ]
  },
  {
   "cell_type": "markdown",
   "id": "4a79e321",
   "metadata": {},
   "source": [
    "## Mann-Whitney U test"
   ]
  },
  {
   "cell_type": "markdown",
   "id": "75a3d8f8",
   "metadata": {},
   "source": [
    "Cross"
   ]
  },
  {
   "cell_type": "code",
   "execution_count": 16,
   "id": "a9274d90",
   "metadata": {},
   "outputs": [
    {
     "data": {
      "text/plain": [
       "MannwhitneyuResult(statistic=10673.5, pvalue=3.094463244674448e-15)"
      ]
     },
     "execution_count": 16,
     "metadata": {},
     "output_type": "execute_result"
    }
   ],
   "source": [
    "stats.mannwhitneyu(\n",
    "    x=HVHV_cross.PET,\n",
    "    y=HVAV_cross.PET,\n",
    "    alternative='two-sided'\n",
    ") # pvalue=3.094463244674448e-15"
   ]
  },
  {
   "cell_type": "code",
   "execution_count": 17,
   "id": "440ee0b5",
   "metadata": {},
   "outputs": [
    {
     "data": {
      "text/plain": [
       "MannwhitneyuResult(statistic=23222.0, pvalue=0.0829966601282357)"
      ]
     },
     "execution_count": 17,
     "metadata": {},
     "output_type": "execute_result"
    }
   ],
   "source": [
    "stats.mannwhitneyu(\n",
    "    x=HVHV_cross.PET,\n",
    "    y=AVHV_cross.PET,\n",
    "    alternative='two-sided'\n",
    ") # pvalue=0.0829966601282357"
   ]
  },
  {
   "cell_type": "code",
   "execution_count": 19,
   "id": "112de0ab-3e45-4bb4-8186-f23e6a9115cf",
   "metadata": {},
   "outputs": [
    {
     "data": {
      "text/plain": [
       "MannwhitneyuResult(statistic=16378.5, pvalue=6.321654319067501e-16)"
      ]
     },
     "execution_count": 19,
     "metadata": {},
     "output_type": "execute_result"
    }
   ],
   "source": [
    "stats.mannwhitneyu(\n",
    "    x=HVAV_cross.PET,\n",
    "    y=AVHV_cross.PET,\n",
    "    alternative='two-sided'\n",
    ") # pvalue=6.321654319067501e-16"
   ]
  },
  {
   "cell_type": "markdown",
   "id": "2dcca46d",
   "metadata": {},
   "source": [
    "Merge"
   ]
  },
  {
   "cell_type": "code",
   "execution_count": 20,
   "id": "5e850b50",
   "metadata": {},
   "outputs": [
    {
     "data": {
      "text/plain": [
       "MannwhitneyuResult(statistic=1722.0, pvalue=0.0010638774198889096)"
      ]
     },
     "execution_count": 20,
     "metadata": {},
     "output_type": "execute_result"
    }
   ],
   "source": [
    "stats.mannwhitneyu(\n",
    "    x=HVHV_merge.PET,\n",
    "    y=HVAV_merge.PET,\n",
    "    alternative='two-sided'\n",
    ") # 0.0010638774198889096"
   ]
  },
  {
   "cell_type": "code",
   "execution_count": 21,
   "id": "bb968061",
   "metadata": {},
   "outputs": [
    {
     "data": {
      "text/plain": [
       "MannwhitneyuResult(statistic=8102.0, pvalue=0.10402100769180175)"
      ]
     },
     "execution_count": 21,
     "metadata": {},
     "output_type": "execute_result"
    }
   ],
   "source": [
    "stats.mannwhitneyu(\n",
    "    x=HVHV_merge.PET,\n",
    "    y=AVHV_merge.PET,\n",
    "    alternative='two-sided'\n",
    ") # pvalue=0.10402100769180175"
   ]
  },
  {
   "cell_type": "code",
   "execution_count": 23,
   "id": "509c6a7b-701d-4db2-bb78-1a737573e792",
   "metadata": {},
   "outputs": [
    {
     "data": {
      "text/plain": [
       "MannwhitneyuResult(statistic=4896.5, pvalue=1.4800319690948374e-07)"
      ]
     },
     "execution_count": 23,
     "metadata": {},
     "output_type": "execute_result"
    }
   ],
   "source": [
    "stats.mannwhitneyu(\n",
    "    x=HVAV_merge.PET,\n",
    "    y=AVHV_merge.PET,\n",
    "    alternative='two-sided'\n",
    ") # pvalue=1.4800319690948374e-07"
   ]
  },
  {
   "cell_type": "markdown",
   "id": "517e33d5-0c78-4370-8ace-ee4ae26daa1c",
   "metadata": {},
   "source": [
    "## Draw distributions"
   ]
  },
  {
   "cell_type": "markdown",
   "id": "56d09052-86c7-40bd-99f0-4863dde5d603",
   "metadata": {},
   "source": [
    "### All"
   ]
  },
  {
   "cell_type": "code",
   "execution_count": 4,
   "id": "7bc78806-1c95-48b5-8b47-d3594b743783",
   "metadata": {
    "scrolled": true
   },
   "outputs": [
    {
     "data": {
      "text/plain": [
       "<Figure size 300x300 with 0 Axes>"
      ]
     },
     "metadata": {},
     "output_type": "display_data"
    },
    {
     "data": {
      "image/png": "[encoded data removed]",
      "text/plain": [
       "<Figure size 300x300 with 1 Axes>"
      ]
     },
     "metadata": {},
     "output_type": "display_data"
    }
   ],
   "source": [
    "palette = {\n",
    "    \"HV-HV\" : '#257ab6', \n",
    "    \"AV-HV\" : '#31a231',\n",
    "    \"HV-AV\" : '#ff8214',\n",
    "}\n",
    "\n",
    "HVHV_COLOR = '#257ab6'\n",
    "HVAV_COLOR = '#31a231'\n",
    "AVHV_COLOR = '#ff8214'\n",
    "\n",
    "FIGURE_WIDTH, FIGURE_HEIGHT = 3, 3\n",
    "plt.figure(figsize=(FIGURE_WIDTH, FIGURE_HEIGHT))\n",
    "\n",
    "displot(\n",
    "    data=conflict_df,\n",
    "    x=\"PET\", \n",
    "    hue=\"Vehicle order\",\n",
    "    hue_order=[\"HV-HV\", \"AV-HV\", \"HV-AV\"],\n",
    "    kind=\"kde\",\n",
    "    common_norm=False,\n",
    "    palette=palette,\n",
    "    height=FIGURE_HEIGHT,\n",
    "    aspect=1.0,\n",
    "    legend=False,\n",
    ")\n",
    "\n",
    "plt.xlim([0,PET_THRESHOLD])\n",
    "# plt.ylim([0,0.15])\n",
    "plt.legend([\"HV-AV\", \"AV-HV\", \"HV-HV\"], title=\"Vehicle order\")\n",
    "plt.title(\"PET distribution [Total] (Waymo)\")\n",
    "# plt.savefig(\"./outputs/plots/waymo_distribution_PET_Total.png\", dpi=300, bbox_inches=\"tight\")\n",
    "plt.show()"
   ]
  },
  {
   "cell_type": "markdown",
   "id": "f2c4a90b-5091-4214-8785-a5b64cf3608b",
   "metadata": {},
   "source": [
    "### Merge"
   ]
  },
  {
   "cell_type": "code",
   "execution_count": 5,
   "id": "3bb824ff-bb57-43ed-a2af-dbb0e66aef63",
   "metadata": {},
   "outputs": [
    {
     "data": {
      "text/plain": [
       "<Figure size 300x300 with 0 Axes>"
      ]
     },
     "metadata": {},
     "output_type": "display_data"
    },
    {
     "data": {
      "image/png": "[encoded data removed]",
      "text/plain": [
       "<Figure size 300x300 with 1 Axes>"
      ]
     },
     "metadata": {},
     "output_type": "display_data"
    }
   ],
   "source": [
    "plt.figure(figsize=(FIGURE_WIDTH, FIGURE_HEIGHT))\n",
    "\n",
    "displot(\n",
    "    data=conflict_df[conflict_df[\"Conflict type\"]==\"Merge\"],\n",
    "    x=\"PET\", \n",
    "    hue=\"Vehicle order\",\n",
    "    hue_order=[\"HV-HV\", \"AV-HV\", \"HV-AV\"],\n",
    "    kind=\"kde\",\n",
    "    common_norm=False,\n",
    "    palette=palette,\n",
    "    height=FIGURE_HEIGHT,\n",
    "    aspect=1.0,\n",
    "    legend=False,\n",
    ")\n",
    "\n",
    "plt.xlim([0,PET_THRESHOLD])\n",
    "# plt.ylim([0,0.15])\n",
    "plt.legend([\"HV-AV\", \"AV-HV\", \"HV-HV\"], title=\"Vehicle order\")\n",
    "plt.title(\"PET distribution [Merge] (Waymo)\")\n",
    "# plt.savefig(\"./outputs/plots/waymo_distribution_PET_Merge.png\", dpi=300, bbox_inches=\"tight\")\n",
    "plt.show()"
   ]
  },
  {
   "cell_type": "markdown",
   "id": "a60ba8b9-991c-42bc-afad-b57f0c86aaa2",
   "metadata": {},
   "source": [
    "### Cross"
   ]
  },
  {
   "cell_type": "code",
   "execution_count": 6,
   "id": "e9131ffd-c31b-4297-82a8-4d7a9c7cbdff",
   "metadata": {
    "scrolled": true
   },
   "outputs": [
    {
     "data": {
      "text/plain": [
       "<Figure size 300x300 with 0 Axes>"
      ]
     },
     "metadata": {},
     "output_type": "display_data"
    },
    {
     "data": {
      "image/png": "[encoded data removed]",
      "text/plain": [
       "<Figure size 300x300 with 1 Axes>"
      ]
     },
     "metadata": {},
     "output_type": "display_data"
    }
   ],
   "source": [
    "plt.figure(figsize=(FIGURE_WIDTH, FIGURE_HEIGHT))\n",
    "\n",
    "displot(\n",
    "    data=conflict_df[conflict_df[\"Conflict type\"]==\"Cross\"],\n",
    "    x=\"PET\", \n",
    "    hue=\"Vehicle order\",\n",
    "    hue_order=[\"HV-HV\", \"AV-HV\", \"HV-AV\"],\n",
    "    kind=\"kde\",\n",
    "    common_norm=False,\n",
    "    palette=palette,\n",
    "    height=FIGURE_HEIGHT,\n",
    "    aspect=1.0,\n",
    "    legend=False,\n",
    ")\n",
    "\n",
    "plt.xlim([0,PET_THRESHOLD])\n",
    "# plt.ylim([0,0.15])\n",
    "plt.legend([\"HV-AV\", \"AV-HV\", \"HV-HV\"], title=\"Vehicle order\")\n",
    "plt.title(\"PET distribution [Cross] (Waymo)\")\n",
    "# plt.savefig(\"./outputs/plots/waymo_distribution_PET_Cross.png\", dpi=300, bbox_inches=\"tight\")\n",
    "plt.show()"
   ]
  },
  {
   "cell_type": "markdown",
   "id": "935df133-cdc7-4f70-a6e4-57a3723a04ac",
   "metadata": {
    "jp-MarkdownHeadingCollapsed": true
   },
   "source": [
    "## Histplots"
   ]
  },
  {
   "cell_type": "markdown",
   "id": "5c50db76-fff5-45ce-9a5c-3f06d5054f16",
   "metadata": {
    "jp-MarkdownHeadingCollapsed": true
   },
   "source": [
    "### All"
   ]
  },
  {
   "cell_type": "code",
   "execution_count": 7,
   "id": "2d6f8d6c-0216-4c5e-955f-bf2c891f9f49",
   "metadata": {},
   "outputs": [
    {
     "data": {
      "text/plain": [
       "<Figure size 900x300 with 0 Axes>"
      ]
     },
     "metadata": {},
     "output_type": "display_data"
    },
    {
     "data": {
      "image/png": "[encoded data removed]",
      "text/plain": [
       "<Figure size 810x300 with 3 Axes>"
      ]
     },
     "metadata": {},
     "output_type": "display_data"
    }
   ],
   "source": [
    "plt.figure(figsize=(FIGURE_WIDTH * 3, FIGURE_HEIGHT))\n",
    "\n",
    "g = displot(\n",
    "    data=conflict_df,\n",
    "    x=\"PET\", \n",
    "    col=\"Vehicle order\",\n",
    "    col_order=[\"HV-HV\", \"AV-HV\", \"HV-AV\"],\n",
    "    hue=\"Vehicle order\",\n",
    "    kind=\"hist\",\n",
    "    palette=palette,\n",
    "    height=FIGURE_HEIGHT,\n",
    "    aspect=0.9,\n",
    "    legend=False,\n",
    ")\n",
    "\n",
    "plt.xlim([0,PET_THRESHOLD])\n",
    "# suptitle and its location\n",
    "g.set_titles(\"{col_name}\")\n",
    "g.fig.suptitle(\"PET distribution [Total] (Waymo)\", size=10)\n",
    "g.figure.subplots_adjust(top=.85)\n",
    "\n",
    "plt.savefig(\"./outputs/plots/waymo_histogram_PET_all.png\", dpi=300, bbox_inches=\"tight\")\n",
    "plt.show()"
   ]
  },
  {
   "cell_type": "markdown",
   "id": "2baa0501-1cba-4eae-a2a8-474bc91dec1d",
   "metadata": {
    "jp-MarkdownHeadingCollapsed": true
   },
   "source": [
    "### Merge"
   ]
  },
  {
   "cell_type": "code",
   "execution_count": 8,
   "id": "f58159ab-e519-49ca-b617-327c02ef1d89",
   "metadata": {},
   "outputs": [
    {
     "data": {
      "text/plain": [
       "<Figure size 900x300 with 0 Axes>"
      ]
     },
     "metadata": {},
     "output_type": "display_data"
    },
    {
     "data": {
      "image/png": "[encoded data removed]",
      "text/plain": [
       "<Figure size 810x300 with 3 Axes>"
      ]
     },
     "metadata": {},
     "output_type": "display_data"
    }
   ],
   "source": [
    "plt.figure(figsize=(FIGURE_WIDTH * 3, FIGURE_HEIGHT))\n",
    "\n",
    "g = displot(\n",
    "    data=conflict_df[conflict_df[\"Conflict type\"]==\"Merge\"],\n",
    "    x=\"PET\", \n",
    "    col=\"Vehicle order\",\n",
    "    col_order=[\"HV-HV\", \"AV-HV\", \"HV-AV\"],\n",
    "    hue=\"Vehicle order\",\n",
    "    kind=\"hist\",\n",
    "    palette=palette,\n",
    "    height=FIGURE_HEIGHT,\n",
    "    aspect=0.9,\n",
    "    legend=False,\n",
    ")\n",
    "\n",
    "plt.xlim([0,PET_THRESHOLD])\n",
    "# suptitle and its location\n",
    "g.set_titles(\"{col_name}\")\n",
    "g.fig.suptitle(\"PET distribution [Merge] (Waymo)\", size=10)\n",
    "g.figure.subplots_adjust(top=.85)\n",
    "\n",
    "plt.savefig(\"./outputs/plots/waymo_histogram_PET_merge.png\", dpi=300, bbox_inches=\"tight\")\n",
    "plt.show()"
   ]
  },
  {
   "cell_type": "markdown",
   "id": "f6137ad0-c9e2-4ba2-a002-21f1b15b13d6",
   "metadata": {
    "jp-MarkdownHeadingCollapsed": true
   },
   "source": [
    "### Cross"
   ]
  },
  {
   "cell_type": "code",
   "execution_count": 9,
   "id": "f4455888-57bc-4ce5-9ca1-e0e661868650",
   "metadata": {},
   "outputs": [
    {
     "data": {
      "text/plain": [
       "<Figure size 900x300 with 0 Axes>"
      ]
     },
     "metadata": {},
     "output_type": "display_data"
    },
    {
     "data": {
      "image/png": "[encoded data removed]",
      "text/plain": [
       "<Figure size 810x300 with 3 Axes>"
      ]
     },
     "metadata": {},
     "output_type": "display_data"
    }
   ],
   "source": [
    "plt.figure(figsize=(FIGURE_WIDTH * 3, FIGURE_HEIGHT))\n",
    "\n",
    "g = displot(\n",
    "    data=conflict_df[conflict_df[\"Conflict type\"] == \"Cross\"],\n",
    "    x=\"PET\", \n",
    "    col=\"Vehicle order\",\n",
    "    col_order=[\"HV-HV\", \"AV-HV\", \"HV-AV\"],\n",
    "    hue=\"Vehicle order\",\n",
    "    kind=\"hist\",\n",
    "    palette=palette,\n",
    "    height=FIGURE_HEIGHT,\n",
    "    aspect=0.9,\n",
    "    legend=False,\n",
    ")\n",
    "\n",
    "plt.xlim([0,PET_THRESHOLD])\n",
    "# suptitle and its location\n",
    "g.set_titles(\"{col_name}\")\n",
    "g.fig.suptitle(\"PET distribution [Cross] (Waymo)\", size=10)\n",
    "g.figure.subplots_adjust(top=.85)\n",
    "\n",
    "plt.savefig(\"./outputs/plots/waymo_histogram_PET_cross.png\", dpi=300, bbox_inches=\"tight\")\n",
    "plt.show()"
   ]
  },
  {
   "cell_type": "code",
   "execution_count": null,
   "id": "9c8b25bd-d3f1-4107-bcc1-bf80172a7c14",
   "metadata": {},
   "outputs": [],
   "source": []
  }
 ],
 "metadata": {
  "kernelspec": {
   "display_name": "Python 3 (ipykernel)",
   "language": "python",
   "name": "python3"
  },
  "language_info": {
   "codemirror_mode": {
    "name": "ipython",
    "version": 3
   },
   "file_extension": ".py",
   "mimetype": "text/x-python",
   "name": "python",
   "nbconvert_exporter": "python",
   "pygments_lexer": "ipython3",
   "version": "3.10.14"
  }
 },
 "nbformat": 4,
 "nbformat_minor": 5
}
