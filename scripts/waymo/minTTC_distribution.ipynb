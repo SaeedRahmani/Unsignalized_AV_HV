{
 "cells": [
  {
   "cell_type": "markdown",
   "id": "2df00075-0524-4f12-b5ac-79e77f877888",
   "metadata": {},
   "source": [
    "# Waymo: min TTC distribution "
   ]
  },
  {
   "cell_type": "markdown",
   "id": "027bc38c-69e5-481c-9c56-9b0e62f21c48",
   "metadata": {},
   "source": [
    "- Distribution plot\n",
    "    - Total\n",
    "    - Merge\n",
    "    - Cross "
   ]
  },
  {
   "cell_type": "code",
   "execution_count": 1,
   "id": "2687e71f-ce5e-4eb2-bb4b-f1c7c36475d2",
   "metadata": {},
   "outputs": [
    {
     "name": "stdout",
     "output_type": "stream",
     "text": [
      "#Conflicts: 889\n"
     ]
    }
   ],
   "source": [
    "import pickle\n",
    "import numpy as np\n",
    "np.set_printoptions(suppress=True, precision=1) \n",
    "import pandas as pd\n",
    "import matplotlib.pyplot as plt\n",
    "%matplotlib inline\n",
    "import scienceplots\n",
    "from tqdm import tqdm\n",
    "from shapely import LineString, Point\n",
    "from seaborn import displot, histplot, relplot\n",
    "plt.style.use(['nature'])\n",
    "\n",
    "from scipy import stats\n",
    "from waymo_devkit.conflict import Conflict\n",
    "\n",
    "with open('./pkl/conflict_pet15s.pkl', 'rb') as file:\n",
    "    conflict_list_from_pickle = pickle.load(file)\n",
    "print(f\"#Conflicts: {len(conflict_list_from_pickle)}\")\n",
    "\n",
    "conflict_list = list()\n",
    "for c in conflict_list_from_pickle:\n",
    "    conflict_list.append(\n",
    "        Conflict(\n",
    "            leader_id=c['leader_id'],\n",
    "            leader_index=c['leader_index'],\n",
    "            leader_states=c['leader_states'],\n",
    "            leader_time_at_conflict=c['leader_time_at_conflict'],\n",
    "            follower_id=c['follower_id'],\n",
    "            follower_index=c['follower_index'],\n",
    "            follower_states=c['follower_states'],\n",
    "            follower_time_at_conflict=c['follower_time_at_conflict'],\n",
    "            PET=c['PET'],\n",
    "            conflict_type=c['conflict_type'],\n",
    "            leader_is_av=c['leader_is_av'],\n",
    "            follower_is_av=c['follower_is_av'],\n",
    "            center=c['center'],\n",
    "            radius=c['radius'],\n",
    "    ))"
   ]
  },
  {
   "cell_type": "code",
   "execution_count": 2,
   "id": "a0af89bd-1c96-4ecc-b733-8ed437facee4",
   "metadata": {
    "scrolled": true
   },
   "outputs": [
    {
     "name": "stderr",
     "output_type": "stream",
     "text": [
      "889it [00:00, 123068.73it/s]"
     ]
    },
    {
     "name": "stdout",
     "output_type": "stream",
     "text": [
      "<class 'pandas.core.frame.DataFrame'>\n",
      "Int64Index: 864 entries, 0 to 888\n",
      "Data columns (total 4 columns):\n",
      " #   Column         Non-Null Count  Dtype  \n",
      "---  ------         --------------  -----  \n",
      " 0   Conflict type  864 non-null    object \n",
      " 1   Vehicle order  864 non-null    object \n",
      " 2   PET            864 non-null    float64\n",
      " 3   minTTC         811 non-null    float64\n",
      "dtypes: float64(2), object(2)\n",
      "memory usage: 33.8+ KB\n"
     ]
    },
    {
     "name": "stderr",
     "output_type": "stream",
     "text": [
      "\n"
     ]
    }
   ],
   "source": [
    "\"\"\"\n",
    "Construct a dataframe with the following columns:\n",
    "- Conflict type\n",
    "- Vehicle order\n",
    "- PET\n",
    "- minTTC\n",
    "\"\"\"\n",
    "conflict_cols_in_df = [\n",
    "    \"Conflict type\",\n",
    "    \"Vehicle order\",\n",
    "    \"PET\",\n",
    "    \"minTTC\"\n",
    "]\n",
    "\n",
    "# generate each rows in the dataframe\n",
    "conflict_rows_in_df = list()\n",
    "for index, conflict in tqdm(enumerate(conflict_list)):\n",
    "\n",
    "    leader_type = \"AV\" if conflict.leader_is_av else \"HV\"\n",
    "    follower_type = \"AV\" if conflict.follower_is_av else \"HV\" \n",
    "    conflict_type = \"Cross\" if conflict.conflict_type == \"CROSS\" else \"Merge\"\n",
    "    conflict_rows_in_df.append([\n",
    "        conflict_type,\n",
    "        leader_type+\"-\"+follower_type,\n",
    "        conflict.PET,\n",
    "        conflict.minimum_TTC,\n",
    "    ])\n",
    "conflict_df = pd.DataFrame(conflict_rows_in_df, columns=conflict_cols_in_df)\n",
    "\n",
    "# Post-process\n",
    "PET_THRESHOLD = 10\n",
    "conflict_df = conflict_df[conflict_df[\"PET\"] <= PET_THRESHOLD]\n",
    "\n",
    "# display info\n",
    "conflict_df.info()"
   ]
  },
  {
   "cell_type": "code",
   "execution_count": 3,
   "id": "6142dad5-927c-4b5d-81fd-4fcb1c8799a6",
   "metadata": {
    "scrolled": true
   },
   "outputs": [
    {
     "name": "stdout",
     "output_type": "stream",
     "text": [
      "<class 'pandas.core.frame.DataFrame'>\n",
      "Int64Index: 591 entries, 1 to 888\n",
      "Data columns (total 4 columns):\n",
      " #   Column         Non-Null Count  Dtype  \n",
      "---  ------         --------------  -----  \n",
      " 0   Conflict type  591 non-null    object \n",
      " 1   Vehicle order  591 non-null    object \n",
      " 2   PET            591 non-null    float64\n",
      " 3   minTTC         591 non-null    float64\n",
      "dtypes: float64(2), object(2)\n",
      "memory usage: 23.1+ KB\n"
     ]
    }
   ],
   "source": [
    "# Post-process: remove minTTC greater than 10s\n",
    "minTTC_THRESHOLD = 10\n",
    "conflict_df = conflict_df[(conflict_df[\"minTTC\"] <= minTTC_THRESHOLD) & \n",
    "                          (conflict_df[\"minTTC\"] >= 0)]\n",
    "\n",
    "# display info\n",
    "conflict_df.info()"
   ]
  },
  {
   "cell_type": "code",
   "execution_count": 4,
   "id": "dda648ad-03e1-4507-970f-7b6d84baec06",
   "metadata": {},
   "outputs": [
    {
     "data": {
      "text/plain": [
       "Cross    420\n",
       "Merge    171\n",
       "Name: Conflict type, dtype: int64"
      ]
     },
     "execution_count": 4,
     "metadata": {},
     "output_type": "execute_result"
    }
   ],
   "source": [
    "conflict_df[\"Conflict type\"].value_counts()"
   ]
  },
  {
   "cell_type": "code",
   "execution_count": 5,
   "id": "a62c3d9b-7286-41f5-b562-e38f447b8903",
   "metadata": {},
   "outputs": [
    {
     "data": {
      "text/plain": [
       "Conflict type  Vehicle order\n",
       "Cross          HV-HV            216\n",
       "               AV-HV            134\n",
       "Merge          AV-HV            113\n",
       "Cross          HV-AV             70\n",
       "Merge          HV-HV             45\n",
       "               HV-AV             13\n",
       "dtype: int64"
      ]
     },
     "execution_count": 5,
     "metadata": {},
     "output_type": "execute_result"
    }
   ],
   "source": [
    "conflict_df[[\"Conflict type\", \"Vehicle order\"]].value_counts()"
   ]
  },
  {
   "cell_type": "code",
   "execution_count": 6,
   "id": "792ce9bc-796b-449d-94a0-f3f45b9a0dfd",
   "metadata": {},
   "outputs": [
    {
     "data": {
      "text/plain": [
       "Conflict type  Vehicle order\n",
       "Cross          AV-HV            4.531782\n",
       "               HV-AV            5.371154\n",
       "               HV-HV            5.077929\n",
       "Merge          AV-HV            5.054518\n",
       "               HV-AV            6.879379\n",
       "               HV-HV            6.299577\n",
       "Name: minTTC, dtype: float64"
      ]
     },
     "execution_count": 6,
     "metadata": {},
     "output_type": "execute_result"
    }
   ],
   "source": [
    "conflict_df.groupby([\"Conflict type\", \"Vehicle order\"])['minTTC'].mean()"
   ]
  },
  {
   "cell_type": "code",
   "execution_count": 7,
   "id": "65c968d0-e87f-43ce-837a-3f850ad28d59",
   "metadata": {},
   "outputs": [
    {
     "data": {
      "text/plain": [
       "Conflict type  Vehicle order\n",
       "Cross          AV-HV            1.578383\n",
       "               HV-AV            1.465959\n",
       "               HV-HV            1.841649\n",
       "Merge          AV-HV            1.487213\n",
       "               HV-AV            1.486573\n",
       "               HV-HV            1.729135\n",
       "Name: minTTC, dtype: float64"
      ]
     },
     "execution_count": 7,
     "metadata": {},
     "output_type": "execute_result"
    }
   ],
   "source": [
    "conflict_df.groupby([\"Conflict type\", \"Vehicle order\"])['minTTC'].std()"
   ]
  },
  {
   "cell_type": "code",
   "execution_count": 9,
   "id": "526a163e-403b-415c-a4d2-7b8dcca1931f",
   "metadata": {},
   "outputs": [],
   "source": [
    "cross_df = conflict_df[conflict_df[\"Conflict type\"] == \"Cross\"]\n",
    "merge_df = conflict_df[conflict_df[\"Conflict type\"] == \"Merge\"]\n",
    "\n",
    "HVHV_cross = cross_df[cross_df[\"Vehicle order\"] == \"HV-HV\"]\n",
    "# HVHV_cross = HVHV_cross[(HVHV_cross[\"minTTC\"] <= 6) & (HVHV_cross[\"PET\"] <= 6)]\n",
    "AVHV_cross = cross_df[cross_df[\"Vehicle order\"] == \"AV-HV\"]\n",
    "# AVHV_cross = AVHV_cross[(AVHV_cross[\"minTTC\"] <= 6) & (AVHV_cross[\"PET\"] <= 6)]\n",
    "HVAV_cross = cross_df[cross_df[\"Vehicle order\"] == \"HV-AV\"]\n",
    "\n",
    "HVHV_merge = merge_df[merge_df[\"Vehicle order\"] == \"HV-HV\"]\n",
    "# HVHV_merge = HVHV_merge[(HVHV_merge[\"minTTC\"] <= 6) & (HVHV_merge[\"PET\"] <= 6)]\n",
    "AVHV_merge = merge_df[merge_df[\"Vehicle order\"] == \"AV-HV\"]\n",
    "# AVHV_merge = AVHV_merge[(AVHV_merge[\"minTTC\"] <= 6) & (AVHV_merge[\"PET\"] <= 6)]\n",
    "HVAV_merge = merge_df[merge_df[\"Vehicle order\"] == \"HV-AV\"]"
   ]
  },
  {
   "cell_type": "markdown",
   "id": "e5493b84-de32-499d-9ec2-d83ae2b6c0f4",
   "metadata": {},
   "source": [
    "## ANOVA"
   ]
  },
  {
   "cell_type": "code",
   "execution_count": 10,
   "id": "080a1863-ca2d-42d2-9381-7f600bc93c54",
   "metadata": {},
   "outputs": [
    {
     "data": {
      "text/plain": [
       "F_onewayResult(statistic=6.793232983465861, pvalue=0.001249623689077311)"
      ]
     },
     "execution_count": 10,
     "metadata": {},
     "output_type": "execute_result"
    }
   ],
   "source": [
    "stats.f_oneway(HVHV_cross.minTTC, HVAV_cross.minTTC, AVHV_cross.minTTC)"
   ]
  },
  {
   "cell_type": "code",
   "execution_count": 11,
   "id": "f8a97bf7-75e5-4fdd-b106-0507f2b0b623",
   "metadata": {},
   "outputs": [
    {
     "data": {
      "text/plain": [
       "F_onewayResult(statistic=15.702031479353334, pvalue=5.601745964653149e-07)"
      ]
     },
     "execution_count": 11,
     "metadata": {},
     "output_type": "execute_result"
    }
   ],
   "source": [
    "stats.f_oneway(HVHV_merge.minTTC, HVAV_merge.minTTC, AVHV_merge.minTTC)"
   ]
  },
  {
   "cell_type": "markdown",
   "id": "1ff55aae",
   "metadata": {},
   "source": [
    "## T-test"
   ]
  },
  {
   "cell_type": "code",
   "execution_count": 10,
   "id": "7320feae-2113-43ec-930f-fc77ab630000",
   "metadata": {},
   "outputs": [
    {
     "data": {
      "text/plain": [
       "Ttest_indResult(statistic=-1.2129195942999638, pvalue=0.22616847858325553)"
      ]
     },
     "execution_count": 10,
     "metadata": {},
     "output_type": "execute_result"
    }
   ],
   "source": [
    "# HVHV_cross, HVAV_cross\n",
    "stats.ttest_ind(HVHV_cross.minTTC, HVAV_cross.minTTC)"
   ]
  },
  {
   "cell_type": "code",
   "execution_count": 11,
   "id": "6bf9f203-9194-4aa3-9cb0-121cbf522f5f",
   "metadata": {},
   "outputs": [
    {
     "data": {
      "text/plain": [
       "Ttest_indResult(statistic=2.844970862287922, pvalue=0.004704411457038836)"
      ]
     },
     "execution_count": 11,
     "metadata": {},
     "output_type": "execute_result"
    }
   ],
   "source": [
    "# HVHV_cross, AVHV_cross\n",
    "stats.ttest_ind(HVHV_cross.minTTC, AVHV_cross.minTTC)"
   ]
  },
  {
   "cell_type": "code",
   "execution_count": 12,
   "id": "a0814d65-45a3-4317-9d0d-c8bed127c675",
   "metadata": {},
   "outputs": [
    {
     "data": {
      "text/plain": [
       "Ttest_indResult(statistic=-1.0959881285347066, pvalue=0.27777501951832534)"
      ]
     },
     "execution_count": 12,
     "metadata": {},
     "output_type": "execute_result"
    }
   ],
   "source": [
    "# HVHV_merge, HVAV_merge\n",
    "stats.ttest_ind(HVHV_merge.minTTC, HVAV_merge.minTTC)"
   ]
  },
  {
   "cell_type": "code",
   "execution_count": 13,
   "id": "35d7936f-e472-429d-87de-7634a7b3d861",
   "metadata": {
    "scrolled": true
   },
   "outputs": [
    {
     "data": {
      "text/plain": [
       "Ttest_indResult(statistic=4.529920321362502, pvalue=1.1665150271972565e-05)"
      ]
     },
     "execution_count": 13,
     "metadata": {},
     "output_type": "execute_result"
    }
   ],
   "source": [
    "# HVHV_merge, AVHV_merge\n",
    "stats.ttest_ind(HVHV_merge.minTTC, AVHV_merge.minTTC)"
   ]
  },
  {
   "cell_type": "code",
   "execution_count": 14,
   "id": "50c241c6-96ae-4220-b9f9-752a19b872c3",
   "metadata": {
    "scrolled": true
   },
   "outputs": [
    {
     "data": {
      "text/plain": [
       "Ttest_indResult(statistic=3.6937299854769288, pvalue=0.0002844416056064764)"
      ]
     },
     "execution_count": 14,
     "metadata": {},
     "output_type": "execute_result"
    }
   ],
   "source": [
    "# HVAV_cross, AVHV_cross\n",
    "stats.ttest_ind(HVAV_cross.minTTC, AVHV_cross.minTTC)"
   ]
  },
  {
   "cell_type": "code",
   "execution_count": 15,
   "id": "a2f59e0f-9295-464a-b75e-75f744ae25b1",
   "metadata": {},
   "outputs": [
    {
     "data": {
      "text/plain": [
       "Ttest_indResult(statistic=4.189866451233432, pvalue=5.257055934752222e-05)"
      ]
     },
     "execution_count": 15,
     "metadata": {},
     "output_type": "execute_result"
    }
   ],
   "source": [
    "# HVAV_merge, AVHV_merge\n",
    "stats.ttest_ind(HVAV_merge.minTTC, AVHV_merge.minTTC)"
   ]
  },
  {
   "cell_type": "markdown",
   "id": "b0970688",
   "metadata": {},
   "source": [
    "## Mann-Whitney U test"
   ]
  },
  {
   "cell_type": "markdown",
   "id": "74c5e5b9",
   "metadata": {},
   "source": [
    "Cross"
   ]
  },
  {
   "cell_type": "code",
   "execution_count": 16,
   "id": "aa6f9f15",
   "metadata": {},
   "outputs": [
    {
     "data": {
      "text/plain": [
       "MannwhitneyuResult(statistic=6358.0, pvalue=0.04571562751813564)"
      ]
     },
     "execution_count": 16,
     "metadata": {},
     "output_type": "execute_result"
    }
   ],
   "source": [
    "stats.mannwhitneyu(\n",
    "    x=HVHV_cross.minTTC,\n",
    "    y=HVAV_cross.minTTC,\n",
    "    alternative='two-sided'\n",
    ")"
   ]
  },
  {
   "cell_type": "code",
   "execution_count": 17,
   "id": "1174a333",
   "metadata": {},
   "outputs": [
    {
     "data": {
      "text/plain": [
       "MannwhitneyuResult(statistic=16922.0, pvalue=0.007763943565904572)"
      ]
     },
     "execution_count": 17,
     "metadata": {},
     "output_type": "execute_result"
    }
   ],
   "source": [
    "stats.mannwhitneyu(\n",
    "    x=HVHV_cross.minTTC,\n",
    "    y=AVHV_cross.minTTC,\n",
    "    alternative='two-sided'\n",
    ")"
   ]
  },
  {
   "cell_type": "code",
   "execution_count": 20,
   "id": "387a333c-e545-4bc3-8527-3d6582c5234d",
   "metadata": {},
   "outputs": [
    {
     "data": {
      "text/plain": [
       "MannwhitneyuResult(statistic=6396.0, pvalue=2.039393973768768e-05)"
      ]
     },
     "execution_count": 20,
     "metadata": {},
     "output_type": "execute_result"
    }
   ],
   "source": [
    "stats.mannwhitneyu(\n",
    "    x=HVAV_cross.minTTC,\n",
    "    y=AVHV_cross.minTTC,\n",
    "    alternative='two-sided'\n",
    ")"
   ]
  },
  {
   "cell_type": "markdown",
   "id": "9cd73ca9",
   "metadata": {},
   "source": [
    "Merge"
   ]
  },
  {
   "cell_type": "code",
   "execution_count": 18,
   "id": "6cb154d0",
   "metadata": {},
   "outputs": [
    {
     "data": {
      "text/plain": [
       "MannwhitneyuResult(statistic=232.0, pvalue=0.2632414365575849)"
      ]
     },
     "execution_count": 18,
     "metadata": {},
     "output_type": "execute_result"
    }
   ],
   "source": [
    "stats.mannwhitneyu(\n",
    "    x=HVHV_merge.minTTC,\n",
    "    y=HVAV_merge.minTTC,\n",
    "    alternative='two-sided'\n",
    ") # pvalue=0.2632414365575849"
   ]
  },
  {
   "cell_type": "code",
   "execution_count": 19,
   "id": "5249fe27",
   "metadata": {},
   "outputs": [
    {
     "data": {
      "text/plain": [
       "MannwhitneyuResult(statistic=3607.0, pvalue=4.1476494247348134e-05)"
      ]
     },
     "execution_count": 19,
     "metadata": {},
     "output_type": "execute_result"
    }
   ],
   "source": [
    "stats.mannwhitneyu(\n",
    "    x=HVHV_merge.minTTC,\n",
    "    y=AVHV_merge.minTTC,\n",
    "    alternative='two-sided'\n",
    ") # pvalue=4.1476494247348134e-05"
   ]
  },
  {
   "cell_type": "code",
   "execution_count": 21,
   "id": "9a6b7c85-15bb-405f-a97b-d36a313cd22c",
   "metadata": {},
   "outputs": [
    {
     "data": {
      "text/plain": [
       "MannwhitneyuResult(statistic=1202.0, pvalue=0.00018012799441551996)"
      ]
     },
     "execution_count": 21,
     "metadata": {},
     "output_type": "execute_result"
    }
   ],
   "source": [
    "stats.mannwhitneyu(\n",
    "    x=HVAV_merge.minTTC,\n",
    "    y=AVHV_merge.minTTC,\n",
    "    alternative='two-sided'\n",
    ") # "
   ]
  },
  {
   "cell_type": "markdown",
   "id": "a9c2dbe4-88eb-4659-bccd-11f5cb003a5f",
   "metadata": {},
   "source": [
    "## Distplots"
   ]
  },
  {
   "cell_type": "markdown",
   "id": "5571999b-2f41-4b78-8ebc-60aad9df658b",
   "metadata": {},
   "source": [
    "### All"
   ]
  },
  {
   "cell_type": "code",
   "execution_count": 20,
   "id": "2cf2b5e6-830d-42d6-97ef-b361901d13c5",
   "metadata": {
    "scrolled": true
   },
   "outputs": [
    {
     "data": {
      "text/plain": [
       "<Figure size 300x300 with 0 Axes>"
      ]
     },
     "metadata": {},
     "output_type": "display_data"
    },
    {
     "data": {
      "image/png": "[encoded data removed]",
      "text/plain": [
       "<Figure size 300x300 with 1 Axes>"
      ]
     },
     "metadata": {},
     "output_type": "display_data"
    }
   ],
   "source": [
    "palette = {\n",
    "    \"HV-HV\" : '#257ab6', \n",
    "    \"AV-HV\" : '#31a231',\n",
    "    \"HV-AV\" : '#ff8214',\n",
    "}\n",
    "\n",
    "HVHV_COLOR = '#257ab6'\n",
    "HVAV_COLOR = '#31a231'\n",
    "AVHV_COLOR = '#ff8214'\n",
    "\n",
    "FIGURE_WIDTH, FIGURE_HEIGHT = 3, 3\n",
    "conflictType = \"Total\"\n",
    "plt.figure(figsize=(FIGURE_WIDTH, FIGURE_HEIGHT))\n",
    "\n",
    "displot(\n",
    "    data=conflict_df,\n",
    "    x=\"minTTC\", \n",
    "    hue=\"Vehicle order\",\n",
    "    hue_order=[\"HV-HV\", \"AV-HV\", \"HV-AV\"],\n",
    "    kind=\"kde\",\n",
    "    common_norm=False,\n",
    "    palette=palette,\n",
    "    height=FIGURE_HEIGHT,\n",
    "    aspect=1.0,\n",
    "    legend=False,\n",
    ")\n",
    "\n",
    "plt.xlim([0, minTTC_THRESHOLD])\n",
    "# plt.ylim([0,0.15])\n",
    "plt.legend([\"HV-AV\", \"AV-HV\", \"HV-HV\"], title=\"Vehicle order\")\n",
    "plt.title(f\"Min TTC distribution [{conflictType}] (Waymo)\")\n",
    "# plt.savefig(f\"./outputs/plots/waymo_distribution_minTTC_{conflictType}.png\", dpi=300, bbox_inches=\"tight\")\n",
    "plt.show()"
   ]
  },
  {
   "cell_type": "markdown",
   "id": "6ed68da8-1e7a-4d21-8279-97c33774d038",
   "metadata": {},
   "source": [
    "### Merge"
   ]
  },
  {
   "cell_type": "code",
   "execution_count": 21,
   "id": "cfa60790-e4d6-43c6-82f8-2b265ccc0bef",
   "metadata": {},
   "outputs": [
    {
     "data": {
      "text/plain": [
       "<Figure size 300x300 with 0 Axes>"
      ]
     },
     "metadata": {},
     "output_type": "display_data"
    },
    {
     "data": {
      "image/png": "[encoded data removed]",
      "text/plain": [
       "<Figure size 300x300 with 1 Axes>"
      ]
     },
     "metadata": {},
     "output_type": "display_data"
    }
   ],
   "source": [
    "conflictType = \"Merge\"\n",
    "plt.figure(figsize=(FIGURE_WIDTH, FIGURE_HEIGHT))\n",
    "\n",
    "displot(\n",
    "    data=conflict_df[conflict_df[\"Conflict type\"]==conflictType],\n",
    "    x=\"minTTC\", \n",
    "    hue=\"Vehicle order\",\n",
    "    hue_order=[\"HV-HV\", \"AV-HV\", \"HV-AV\"],\n",
    "    kind=\"kde\",\n",
    "    common_norm=False,\n",
    "    palette=palette,\n",
    "    height=FIGURE_HEIGHT,\n",
    "    aspect=1.0,\n",
    "    legend=False,\n",
    ")\n",
    "\n",
    "plt.xlim([0, minTTC_THRESHOLD])\n",
    "# plt.ylim([0,0.15])\n",
    "plt.legend([\"HV-AV\", \"AV-HV\", \"HV-HV\"], title=\"Vehicle order\")\n",
    "plt.title(f\"Min TTC distribution [{conflictType}] (Waymo)\")\n",
    "plt.savefig(f\"./outputs/plots/waymo_distribution_minTTC_{conflictType}.png\", dpi=300, bbox_inches=\"tight\")\n",
    "plt.show()"
   ]
  },
  {
   "cell_type": "markdown",
   "id": "f23ba838-4889-4140-8319-cd1a52ee68d4",
   "metadata": {},
   "source": [
    "### Cross"
   ]
  },
  {
   "cell_type": "code",
   "execution_count": 22,
   "id": "397e6204-23bf-4150-afd8-cb85e8a4d505",
   "metadata": {},
   "outputs": [
    {
     "data": {
      "text/plain": [
       "<Figure size 300x300 with 0 Axes>"
      ]
     },
     "metadata": {},
     "output_type": "display_data"
    },
    {
     "data": {
      "image/png": "[encoded data removed]",
      "text/plain": [
       "<Figure size 300x300 with 1 Axes>"
      ]
     },
     "metadata": {},
     "output_type": "display_data"
    }
   ],
   "source": [
    "conflictType = \"Cross\"\n",
    "plt.figure(figsize=(FIGURE_WIDTH, FIGURE_HEIGHT))\n",
    "\n",
    "displot(\n",
    "    data=conflict_df[conflict_df[\"Conflict type\"]==conflictType],\n",
    "    x=\"minTTC\", \n",
    "    hue=\"Vehicle order\",\n",
    "    hue_order=[\"HV-HV\", \"AV-HV\", \"HV-AV\"],\n",
    "    kind=\"kde\",\n",
    "    common_norm=False,\n",
    "    palette=palette,\n",
    "    height=FIGURE_HEIGHT,\n",
    "    aspect=1.0,\n",
    "    legend=False,\n",
    ")\n",
    "\n",
    "plt.xlim([0, minTTC_THRESHOLD])\n",
    "# plt.ylim([0,0.15])\n",
    "plt.legend([\"HV-AV\", \"AV-HV\", \"HV-HV\"], title=\"Vehicle order\")\n",
    "plt.title(f\"Min TTC distribution [{conflictType}] (Waymo)\")\n",
    "plt.savefig(f\"./outputs/plots/waymo_distribution_minTTC_{conflictType}.png\", dpi=300, bbox_inches=\"tight\")\n",
    "plt.show()"
   ]
  },
  {
   "cell_type": "code",
   "execution_count": null,
   "id": "6ad5f3a4-94b2-4e59-be7e-d1d343998216",
   "metadata": {},
   "outputs": [],
   "source": []
  }
 ],
 "metadata": {
  "kernelspec": {
   "display_name": "Python 3 (ipykernel)",
   "language": "python",
   "name": "python3"
  },
  "language_info": {
   "codemirror_mode": {
    "name": "ipython",
    "version": 3
   },
   "file_extension": ".py",
   "mimetype": "text/x-python",
   "name": "python",
   "nbconvert_exporter": "python",
   "pygments_lexer": "ipython3",
   "version": "3.10.14"
  }
 },
 "nbformat": 4,
 "nbformat_minor": 5
}
