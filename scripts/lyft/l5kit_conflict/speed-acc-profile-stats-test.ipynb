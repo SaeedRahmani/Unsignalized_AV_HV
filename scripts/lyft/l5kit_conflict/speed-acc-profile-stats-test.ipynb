{
 "cells": [
  {
   "cell_type": "code",
   "execution_count": 10,
   "id": "dbaf26e9-3595-45d4-ab72-55a0cb4d70d5",
   "metadata": {},
   "outputs": [],
   "source": [
    "import pickle\n",
    "import numpy as np\n",
    "import pandas as pd\n",
    "import matplotlib.pyplot as plt\n",
    "import scienceplots\n",
    "%matplotlib inline\n",
    "from seaborn import displot, histplot\n",
    "plt.style.use(['nature'])\n",
    "from tqdm import tqdm\n",
    "from shapely.geometry import LineString\n",
    "from conflict import ConflictLyft"
   ]
  },
  {
   "cell_type": "code",
   "execution_count": 11,
   "id": "8e877201-bef7-4d70-8e5c-d7d1b29df2c6",
   "metadata": {},
   "outputs": [
    {
     "data": {
      "text/plain": [
       "(859, 886)"
      ]
     },
     "execution_count": 11,
     "metadata": {},
     "output_type": "execute_result"
    }
   ],
   "source": [
    "# first junction\n",
    "with open('./lyft_avhv_conflict_j1.pkl', 'rb') as file:\n",
    "    lyft_avhv_conflict_list1 = pickle.load(file)\n",
    "\n",
    "with open('./lyft_hvhv_conflict_j1.pkl', 'rb') as file:\n",
    "    lyft_hvhv_conflict_list1 = pickle.load(file)\n",
    "\n",
    "lyft_conflict_list1 = lyft_avhv_conflict_list1 + lyft_hvhv_conflict_list1\n",
    "\n",
    "# second junction\n",
    "with open('./lyft_avhv_conflict_j2.pkl', 'rb') as file:\n",
    "    lyft_avhv_conflict_list2 = pickle.load(file)\n",
    "\n",
    "with open('./lyft_hvhv_conflict_j2.pkl', 'rb') as file:\n",
    "    lyft_hvhv_conflict_list2 = pickle.load(file)\n",
    "\n",
    "lyft_conflict_list2 = lyft_avhv_conflict_list2 + lyft_hvhv_conflict_list2\n",
    "\n",
    "# report sample size\n",
    "len(lyft_conflict_list1), len(lyft_conflict_list2)"
   ]
  },
  {
   "cell_type": "code",
   "execution_count": 12,
   "id": "f4803678-de71-40d3-966b-5b5bcd2584d9",
   "metadata": {},
   "outputs": [
    {
     "data": {
      "text/plain": [
       "(859, 886)"
      ]
     },
     "execution_count": 12,
     "metadata": {},
     "output_type": "execute_result"
    }
   ],
   "source": [
    "# convert the type to latest conflict object\n",
    "conflict_list1 = list()\n",
    "for c_index, c in enumerate(lyft_conflict_list1):\n",
    "    # print(c_index)\n",
    "    conflict_list1.append(ConflictLyft(\n",
    "        leader_id=c.first_id,\n",
    "        follower_id=c.second_id,\n",
    "        leader_time_at_conflict=c.first_time_at_conflict,\n",
    "        follower_time_at_conflict=c.second_time_at_conflict,\n",
    "        leader_is_av=c.is_first_AV,\n",
    "        follower_is_av=c.is_second_AV,\n",
    "        PET=c.PET,\n",
    "        conflict_type=c.category.upper(),\n",
    "        leader_traj=c.first_trajectory.xy[1:-1,:],\n",
    "        follower_traj=c.second_trajectory.xy[1:-1,:],\n",
    "        leader_traj_timestamp=c.first_trajectory.t[1:-1],\n",
    "        follower_traj_timestamp=c.second_trajectory.t[1:-1],\n",
    "        leader_traj_speed=c.first_trajectory.smoothed_v,\n",
    "        follower_traj_speed=c.second_trajectory.smoothed_v,\n",
    "        junction_id=1,\n",
    "    ))\n",
    "assert len(conflict_list1) == len(lyft_conflict_list1)\n",
    "\n",
    "conflict_list2 = list()\n",
    "for c_index, c in enumerate(lyft_conflict_list2):\n",
    "    # print(c_index)\n",
    "    conflict_list2.append(ConflictLyft(\n",
    "        leader_id=c.first_id,\n",
    "        follower_id=c.second_id,\n",
    "        leader_time_at_conflict=c.first_time_at_conflict,\n",
    "        follower_time_at_conflict=c.second_time_at_conflict,\n",
    "        leader_is_av=c.is_first_AV,\n",
    "        follower_is_av=c.is_second_AV,\n",
    "        PET=c.PET,\n",
    "        conflict_type=c.category.upper(),\n",
    "        leader_traj=c.first_trajectory.xy[1:-1,:],\n",
    "        follower_traj=c.second_trajectory.xy[1:-1,:],\n",
    "        leader_traj_timestamp=c.first_trajectory.t[1:-1],\n",
    "        follower_traj_timestamp=c.second_trajectory.t[1:-1],\n",
    "        leader_traj_speed=c.first_trajectory.smoothed_v,\n",
    "        follower_traj_speed=c.second_trajectory.smoothed_v,\n",
    "        junction_id=2,\n",
    "    ))\n",
    "assert len(conflict_list2) == len(lyft_conflict_list2)\n",
    "\n",
    "conflict_list = conflict_list1 + conflict_list2\n",
    "\n",
    "len(conflict_list1), len(conflict_list2)"
   ]
  },
  {
   "cell_type": "markdown",
   "id": "4fce419d-681d-432f-9664-786ffcc6120d",
   "metadata": {
    "jp-MarkdownHeadingCollapsed": true
   },
   "source": [
    "## Speed profile"
   ]
  },
  {
   "cell_type": "code",
   "execution_count": 12,
   "id": "9031de8d-1451-432f-b31b-01ee7b25d872",
   "metadata": {},
   "outputs": [],
   "source": [
    "palette = {\n",
    "    \"HV-HV\" : '#257ab6', \n",
    "    \"AV-HV\" : '#31a231',\n",
    "    \"HV-AV\" : '#ff8214',\n",
    "}"
   ]
  },
  {
   "cell_type": "code",
   "execution_count": 15,
   "id": "2d1cd5ae-3894-4823-b5e1-0d4127420cbc",
   "metadata": {},
   "outputs": [
    {
     "data": {
      "image/png": "[encoded data removed]",
      "text/plain": [
       "<Figure size 200x200 with 1 Axes>"
      ]
     },
     "metadata": {},
     "output_type": "display_data"
    }
   ],
   "source": [
    "import seaborn as sns\n",
    "import pandas as pd\n",
    "v_threshold = 0.3\n",
    "\n",
    "plt.figure(figsize=(2, 2))\n",
    "df = pd.DataFrame(columns=['timestamp', 'speed', 'vehicle type'])\n",
    "\n",
    "for index, c in enumerate(conflict_list):\n",
    "    if c.conflict_type == \"CROSS\" and c.two_vehicles_co_exist:\n",
    "        mask = c.follower_beforeConflict_speeds_followerReach > v_threshold\n",
    "        reversed_mask = mask[::-1]\n",
    "        first_false_index = np.where(~reversed_mask)[0]\n",
    "        \n",
    "        if len(first_false_index) == 0:\n",
    "            result = c.follower_beforeConflict_speeds_followerReach\n",
    "        else:\n",
    "            last_index = len(c.follower_beforeConflict_speeds_followerReach) - first_false_index[0]\n",
    "            result = c.follower_beforeConflict_speeds_followerReach[last_index:]\n",
    "            timestamp = [i * 0.1 for i in range(len(result))]\n",
    "            types = [c.vehicle_order for _ in range(len(result))]\n",
    "\n",
    "            temp_df = pd.DataFrame({\n",
    "                'timestamp': timestamp, \n",
    "                'speed': result, \n",
    "                'vehicle type': types,\n",
    "            })\n",
    "            df = pd.concat([df, temp_df])\n",
    "            \n",
    "sns.lineplot(df, x=\"timestamp\", y=\"speed\", hue=\"vehicle type\", palette=palette, hue_order=[\"HV-HV\", \"AV-HV\", \"HV-AV\"],)\n",
    "plt.xlim([0, 5])\n",
    "plt.ylim([0, 7])\n",
    "plt.xlabel(\"Time (s)\")\n",
    "plt.ylabel(\"Speed (m/s)\")\n",
    "plt.text(2.9, 0.2, \"Lyft Crossing\", color='#949494')\n",
    "plt.legend(loc=2)\n",
    "plt.savefig(f\"./outputs/trb/lyft_speedProfile_Cross.png\", dpi=400, bbox_inches=\"tight\")\n",
    "plt.show()"
   ]
  },
  {
   "cell_type": "code",
   "execution_count": 16,
   "id": "7509826d-88b0-42e4-b323-5851e3632e36",
   "metadata": {},
   "outputs": [
    {
     "data": {
      "image/png": "[encoded data removed]",
      "text/plain": [
       "<Figure size 200x200 with 1 Axes>"
      ]
     },
     "metadata": {},
     "output_type": "display_data"
    }
   ],
   "source": [
    "import seaborn as sns\n",
    "import pandas as pd\n",
    "v_threshold = 0.3\n",
    "\n",
    "plt.figure(figsize=(2, 2))\n",
    "df = pd.DataFrame(columns=['timestamp', 'speed', 'vehicle type'])\n",
    "\n",
    "for index, c in enumerate(conflict_list):\n",
    "    if c.conflict_type == \"MERGE\" and c.two_vehicles_co_exist:\n",
    "        mask = c.follower_beforeConflict_speeds_followerReach > v_threshold\n",
    "        reversed_mask = mask[::-1]\n",
    "        first_false_index = np.where(~reversed_mask)[0]\n",
    "        \n",
    "        if len(first_false_index) == 0:\n",
    "            result = c.follower_beforeConflict_speeds_followerReach\n",
    "        else:\n",
    "            last_index = len(c.follower_beforeConflict_speeds_followerReach) - first_false_index[0]\n",
    "            result = c.follower_beforeConflict_speeds_followerReach[last_index:]\n",
    "            timestamp = [i * 0.1 for i in range(len(result))]\n",
    "            types = [c.vehicle_order for _ in range(len(result))]\n",
    "\n",
    "            temp_df = pd.DataFrame({\n",
    "                'timestamp': timestamp, \n",
    "                'speed': result, \n",
    "                'vehicle type': types,\n",
    "            })\n",
    "            df = pd.concat([df, temp_df])\n",
    "            \n",
    "\n",
    "    # if index == 10:\n",
    "        # break\n",
    "\n",
    "sns.lineplot(df, x=\"timestamp\", y=\"speed\", hue=\"vehicle type\", palette=palette, hue_order=[\"HV-HV\", \"AV-HV\", \"HV-AV\"],)\n",
    "plt.xlim([0, 5])\n",
    "plt.ylim([0, 7])\n",
    "plt.xlabel(\"Time (s)\")\n",
    "plt.ylabel(\"Speed (m/s)\")\n",
    "plt.text(3, 0.2, \"Lyft Merging\", color='#949494')\n",
    "plt.legend(loc=2)\n",
    "plt.savefig(f\"./outputs/trb/lyft_speedProfile_Merge.png\", dpi=400, bbox_inches=\"tight\")"
   ]
  },
  {
   "cell_type": "markdown",
   "id": "202d63b0-fdc0-45f8-9fff-28f594709895",
   "metadata": {},
   "source": [
    "waymo"
   ]
  },
  {
   "cell_type": "code",
   "execution_count": null,
   "id": "abde4fa9-aa7f-49b8-9613-f767771931af",
   "metadata": {},
   "outputs": [],
   "source": [
    "df = pd.read_csv(\"./outputs/plots/waymo_speedProfile_Cross.csv\")\n",
    "\n",
    "import seaborn as sns\n",
    "import pandas as pd\n",
    "v_threshold = 0.3\n",
    "\n",
    "plt.figure(figsize=(2,2))\n",
    "\n",
    "sns.lineplot(df, x=\"timestamp\", y=\"speed\", hue=\"vehicle type\", palette=palette, hue_order=[\"HV-HV\", \"AV-HV\", \"HV-AV\"],)\n",
    "plt.xlim([0, 5])\n",
    "plt.ylim([0, 7])\n",
    "plt.xlabel(\"Time (s)\")\n",
    "plt.ylabel(\"Speed (m/s)\")\n",
    "plt.text(2.35, 0.2, \"Waymo Crossing\", color='#949494')\n",
    "plt.legend(loc=2)\n",
    "plt.savefig(f\"./outputs/plots/waymo_speedProfile_Cross.png\", dpi=400, bbox_inches=\"tight\")\n"
   ]
  },
  {
   "cell_type": "code",
   "execution_count": null,
   "id": "2a84c8b4-b5c1-4861-88b3-e8c491069569",
   "metadata": {},
   "outputs": [],
   "source": [
    "df = pd.read_csv(\"./outputs/plots/waymo_speedProfile_Merge.csv\")\n",
    "\n",
    "import seaborn as sns\n",
    "import pandas as pd\n",
    "v_threshold = 0.3\n",
    "\n",
    "plt.figure(figsize=(2,2))\n",
    "\n",
    "sns.lineplot(df, x=\"timestamp\", y=\"speed\", hue=\"vehicle type\", palette=palette, hue_order=[\"HV-HV\", \"AV-HV\", \"HV-AV\"],)\n",
    "plt.xlim([0, 5])\n",
    "plt.ylim([0, 7])\n",
    "plt.xlabel(\"Time (s)\")\n",
    "plt.ylabel(\"Speed (m/s)\")\n",
    "plt.text(2.35, 0.2, \"Waymo Merging\", color='#949494')\n",
    "plt.legend(loc=2)\n",
    "plt.savefig(f\"./outputs/plots/waymo_speedProfile_Merge.png\", dpi=400, bbox_inches=\"tight\")"
   ]
  },
  {
   "cell_type": "markdown",
   "id": "f9cad7e3-1ea8-4e18-b660-6fd923f0eb8d",
   "metadata": {
    "jp-MarkdownHeadingCollapsed": true
   },
   "source": [
    "## Acceleration profile"
   ]
  },
  {
   "cell_type": "code",
   "execution_count": 17,
   "id": "21d41739-6fc5-46ab-9b29-b2f3e55d53a4",
   "metadata": {},
   "outputs": [
    {
     "data": {
      "image/png": "[encoded data removed]",
      "text/plain": [
       "<Figure size 200x200 with 1 Axes>"
      ]
     },
     "metadata": {},
     "output_type": "display_data"
    }
   ],
   "source": [
    "import seaborn as sns\n",
    "import pandas as pd\n",
    "v_threshold = 0.3\n",
    "\n",
    "plt.figure(figsize=(2,2))\n",
    "df = pd.DataFrame(columns=['timestamp', 'acc', 'vehicle type'])\n",
    "\n",
    "for index, c in enumerate(conflict_list):\n",
    "    if c.conflict_type == \"MERGE\" and c.two_vehicles_co_exist:\n",
    "        mask = c.follower_beforeConflict_speeds_followerReach > v_threshold\n",
    "        reversed_mask = mask[::-1]\n",
    "        first_false_index = np.where(~reversed_mask)[0]\n",
    "        \n",
    "        if len(first_false_index) == 0:\n",
    "            result = c.follower_beforeConflict_speeds_followerReach\n",
    "        else:\n",
    "            last_index = len(c.follower_beforeConflict_speeds_followerReach) - first_false_index[0]\n",
    "            result = c.follower_beforeConflict_speeds_followerReach[last_index:]\n",
    "            result = np.diff(result) / 0.1\n",
    "            timestamp = [i * 0.1 for i in range(len(result))]\n",
    "            types = [c.vehicle_order for _ in range(len(result))]\n",
    "\n",
    "            temp_df = pd.DataFrame({\n",
    "                'timestamp': timestamp, \n",
    "                'acc': result, \n",
    "                'vehicle type': types,\n",
    "            })\n",
    "            df = pd.concat([df, temp_df])\n",
    "\n",
    "sns.lineplot(df, x=\"timestamp\", y=\"acc\", hue=\"vehicle type\", palette=palette, hue_order=[\"HV-HV\", \"AV-HV\", \"HV-AV\"],)\n",
    "plt.xlim([0, 5])\n",
    "plt.ylim([0.5, 2.5])\n",
    "plt.xlabel(\"Time (s)\")\n",
    "plt.ylabel(\"Acceleration ($m/s^2$)\")\n",
    "plt.text(3.0, 0.55, \"Lyft Merging\", color='#949494')\n",
    "plt.legend(loc=0)\n",
    "plt.savefig(f\"./outputs/trb/acc_lyft_merge.jpg\", dpi=400, bbox_inches=\"tight\")\n",
    "# df.to_csv(\"waymo_speedProfile_Merge.csv\")"
   ]
  },
  {
   "cell_type": "code",
   "execution_count": 18,
   "id": "43b1df6f-0416-4211-ba43-148bc2c663b0",
   "metadata": {},
   "outputs": [
    {
     "data": {
      "image/png": "[encoded data removed]",
      "text/plain": [
       "<Figure size 200x200 with 1 Axes>"
      ]
     },
     "metadata": {},
     "output_type": "display_data"
    }
   ],
   "source": [
    "import seaborn as sns\n",
    "import pandas as pd\n",
    "v_threshold = 0.3\n",
    "\n",
    "plt.figure(figsize=(2,2))\n",
    "df = pd.DataFrame(columns=['timestamp', 'acc', 'vehicle type'])\n",
    "\n",
    "for index, c in enumerate(conflict_list):\n",
    "    if c.conflict_type == \"CROSS\" and c.two_vehicles_co_exist:\n",
    "        mask = c.follower_beforeConflict_speeds_followerReach > v_threshold\n",
    "        reversed_mask = mask[::-1]\n",
    "        first_false_index = np.where(~reversed_mask)[0]\n",
    "        \n",
    "        if len(first_false_index) == 0:\n",
    "            result = c.follower_beforeConflict_speeds_followerReach\n",
    "        else:\n",
    "            last_index = len(c.follower_beforeConflict_speeds_followerReach) - first_false_index[0]\n",
    "            result = c.follower_beforeConflict_speeds_followerReach[last_index:]\n",
    "            result = np.diff(result) / 0.1\n",
    "            timestamp = [i * 0.1 for i in range(len(result))]\n",
    "            types = [c.vehicle_order for _ in range(len(result))]\n",
    "\n",
    "            temp_df = pd.DataFrame({\n",
    "                'timestamp': timestamp, \n",
    "                'acc': result, \n",
    "                'vehicle type': types,\n",
    "            })\n",
    "            df = pd.concat([df, temp_df])\n",
    "\n",
    "sns.lineplot(df, x=\"timestamp\", y=\"acc\", hue=\"vehicle type\", palette=palette, hue_order=[\"HV-HV\", \"AV-HV\", \"HV-AV\"],)\n",
    "plt.xlim([0, 5])\n",
    "plt.ylim([0.5, 2.5])\n",
    "plt.xlabel(\"Time (s)\")\n",
    "plt.ylabel(\"Acceleration ($m/s^2$)\")\n",
    "plt.text(2.9, 0.55, \"Lyft Crossing\", color='#949494')\n",
    "plt.legend(loc=1)\n",
    "plt.savefig(f\"./outputs/trb/acc_lyft_cross.jpg\", dpi=400, bbox_inches=\"tight\")\n",
    "# df.to_csv(\"waymo_speedProfile_Merge.csv\")"
   ]
  },
  {
   "cell_type": "markdown",
   "id": "491fd75a-cbac-48a6-b7f2-bc836f51ba61",
   "metadata": {},
   "source": [
    "## Stats Test"
   ]
  },
  {
   "cell_type": "code",
   "execution_count": 13,
   "id": "1f017071-bdbe-4567-a2d4-899396db0e15",
   "metadata": {},
   "outputs": [
    {
     "name": "stderr",
     "output_type": "stream",
     "text": [
      "C:\\Users\\Gavin\\.conda\\envs\\lyft\\lib\\site-packages\\numpy\\core\\fromnumeric.py:3464: RuntimeWarning: Mean of empty slice.\n",
      "  return _methods._mean(a, axis=axis, dtype=dtype,\n",
      "C:\\Users\\Gavin\\.conda\\envs\\lyft\\lib\\site-packages\\numpy\\core\\_methods.py:192: RuntimeWarning: invalid value encountered in scalar divide\n",
      "  ret = ret.dtype.type(ret / rcount)\n"
     ]
    }
   ],
   "source": [
    "# Import necessary library for statistical analysis\n",
    "from scipy.stats import ttest_ind, f_oneway, mannwhitneyu, shapiro\n",
    "import pandas as pd\n",
    "import numpy as np\n",
    "\n",
    "# Define the color palette\n",
    "palette = {\n",
    "    \"HV-HV\": '#257ab6',  # Blue\n",
    "    \"AV-HV\": '#31a231',  # Green\n",
    "    \"HV-AV\": '#ff8214',  # Orange\n",
    "}\n",
    "\n",
    "# Threshold for speed filtering\n",
    "v_threshold = 0.3\n",
    "\n",
    "# DataFrames to hold results\n",
    "df_speed_cross = pd.DataFrame(columns=['average_speed', 'vehicle_type'])\n",
    "df_acc_cross = pd.DataFrame(columns=['average_acceleration', 'vehicle_type'])\n",
    "df_speed_merge = pd.DataFrame(columns=['average_speed', 'vehicle_type'])\n",
    "df_acc_merge = pd.DataFrame(columns=['average_acceleration', 'vehicle_type'])\n",
    "\n",
    "# Loop through conflicts to calculate average speed and acceleration\n",
    "for index, c in enumerate(conflict_list):\n",
    "    # Check if both vehicles exist and PET condition\n",
    "    if c.two_vehicles_co_exist:\n",
    "        # Process for CROSS conflicts\n",
    "        if c.conflict_type == \"CROSS\":\n",
    "            # Calculate average speed for CROSS\n",
    "            mask = c.follower_beforeConflict_speeds_followerReach > v_threshold\n",
    "            reversed_mask = mask[::-1]\n",
    "            first_false_index = np.where(~reversed_mask)[0]\n",
    "\n",
    "            if len(first_false_index) == 0:\n",
    "                speed_result = c.follower_beforeConflict_speeds_followerReach\n",
    "            else:\n",
    "                last_index = len(c.follower_beforeConflict_speeds_followerReach) - first_false_index[0]\n",
    "                speed_result = c.follower_beforeConflict_speeds_followerReach[last_index:]\n",
    "\n",
    "            average_speed = np.mean(speed_result)\n",
    "            temp_speed_df = pd.DataFrame({'average_speed': [average_speed], 'vehicle_type': [c.vehicle_order]})\n",
    "            df_speed_cross = pd.concat([df_speed_cross, temp_speed_df], ignore_index=True)\n",
    "            \n",
    "            # Calculate average acceleration for CROSS\n",
    "            acc_result = np.diff(speed_result) / 0.1\n",
    "            average_acceleration = np.mean(acc_result)\n",
    "            temp_acc_df = pd.DataFrame({'average_acceleration': [average_acceleration], 'vehicle_type': [c.vehicle_order]})\n",
    "            df_acc_cross = pd.concat([df_acc_cross, temp_acc_df], ignore_index=True)\n",
    "\n",
    "        # Process for MERGE conflicts\n",
    "        if c.conflict_type == \"MERGE\":\n",
    "            # Calculate average speed for MERGE\n",
    "            mask = c.follower_beforeConflict_speeds_followerReach > v_threshold\n",
    "            reversed_mask = mask[::-1]\n",
    "            first_false_index = np.where(~reversed_mask)[0]\n",
    "\n",
    "            if len(first_false_index) == 0:\n",
    "                speed_result = c.follower_beforeConflict_speeds_followerReach\n",
    "            else:\n",
    "                last_index = len(c.follower_beforeConflict_speeds_followerReach) - first_false_index[0]\n",
    "                speed_result = c.follower_beforeConflict_speeds_followerReach[last_index:]\n",
    "\n",
    "            average_speed = np.mean(speed_result)\n",
    "            temp_speed_df = pd.DataFrame({'average_speed': [average_speed], 'vehicle_type': [c.vehicle_order]})\n",
    "            df_speed_merge = pd.concat([df_speed_merge, temp_speed_df], ignore_index=True)\n",
    "            \n",
    "            # Calculate average acceleration for MERGE\n",
    "            acc_result = np.diff(speed_result) / 0.1\n",
    "            average_acceleration = np.mean(acc_result)\n",
    "            temp_acc_df = pd.DataFrame({'average_acceleration': [average_acceleration], 'vehicle_type': [c.vehicle_order]})\n",
    "            df_acc_merge = pd.concat([df_acc_merge, temp_acc_df], ignore_index=True)"
   ]
  },
  {
   "cell_type": "code",
   "execution_count": 5,
   "id": "bfbceaaf-180e-40df-aa80-27358fa78854",
   "metadata": {},
   "outputs": [],
   "source": [
    "df_speed_cross.to_csv(\"./outputs/trb/lyft_cross_vel.csv\", index=False)\n",
    "df_speed_merge.to_csv(\"./outputs/trb/lyft_merge_vel.csv\", index=False)\n",
    "df_acc_cross.to_csv(\"./outputs/trb/lyft_cross_acc.csv\", index=False)\n",
    "df_acc_merge.to_csv(\"./outputs/trb/lyft_merge_acc.csv\", index=False)"
   ]
  },
  {
   "cell_type": "code",
   "execution_count": 14,
   "id": "21debd77-1119-43f0-b9a0-76fce3ac59a4",
   "metadata": {},
   "outputs": [],
   "source": [
    "# Calculate mean and variance for each scenario and vehicle type\n",
    "\n",
    "# Crossing Speeds\n",
    "mean_speed_hv_hv_cross = df_speed_cross[df_speed_cross['vehicle_type'] == 'HV-HV']['average_speed'].mean()\n",
    "var_speed_hv_hv_cross = df_speed_cross[df_speed_cross['vehicle_type'] == 'HV-HV']['average_speed'].var()\n",
    "\n",
    "mean_speed_av_hv_cross = df_speed_cross[df_speed_cross['vehicle_type'] == 'AV-HV']['average_speed'].mean()\n",
    "var_speed_av_hv_cross = df_speed_cross[df_speed_cross['vehicle_type'] == 'AV-HV']['average_speed'].var()\n",
    "\n",
    "mean_speed_hv_av_cross = df_speed_cross[df_speed_cross['vehicle_type'] == 'HV-AV']['average_speed'].mean()\n",
    "var_speed_hv_av_cross = df_speed_cross[df_speed_cross['vehicle_type'] == 'HV-AV']['average_speed'].var()\n",
    "\n",
    "# Merging Speeds\n",
    "mean_speed_hv_hv_merge = df_speed_merge[df_speed_merge['vehicle_type'] == 'HV-HV']['average_speed'].mean()\n",
    "var_speed_hv_hv_merge = df_speed_merge[df_speed_merge['vehicle_type'] == 'HV-HV']['average_speed'].var()\n",
    "\n",
    "mean_speed_av_hv_merge = df_speed_merge[df_speed_merge['vehicle_type'] == 'AV-HV']['average_speed'].mean()\n",
    "var_speed_av_hv_merge = df_speed_merge[df_speed_merge['vehicle_type'] == 'AV-HV']['average_speed'].var()\n",
    "\n",
    "mean_speed_hv_av_merge = df_speed_merge[df_speed_merge['vehicle_type'] == 'HV-AV']['average_speed'].mean()\n",
    "var_speed_hv_av_merge = df_speed_merge[df_speed_merge['vehicle_type'] == 'HV-AV']['average_speed'].var()\n",
    "\n",
    "# Crossing Accelerations\n",
    "mean_acc_hv_hv_cross = df_acc_cross[df_acc_cross['vehicle_type'] == 'HV-HV']['average_acceleration'].mean()\n",
    "var_acc_hv_hv_cross = df_acc_cross[df_acc_cross['vehicle_type'] == 'HV-HV']['average_acceleration'].var()\n",
    "\n",
    "mean_acc_av_hv_cross = df_acc_cross[df_acc_cross['vehicle_type'] == 'AV-HV']['average_acceleration'].mean()\n",
    "var_acc_av_hv_cross = df_acc_cross[df_acc_cross['vehicle_type'] == 'AV-HV']['average_acceleration'].var()\n",
    "\n",
    "mean_acc_hv_av_cross = df_acc_cross[df_acc_cross['vehicle_type'] == 'HV-AV']['average_acceleration'].mean()\n",
    "var_acc_hv_av_cross = df_acc_cross[df_acc_cross['vehicle_type'] == 'HV-AV']['average_acceleration'].var()\n",
    "\n",
    "# Merging Accelerations\n",
    "mean_acc_hv_hv_merge = df_acc_merge[df_acc_merge['vehicle_type'] == 'HV-HV']['average_acceleration'].mean()\n",
    "var_acc_hv_hv_merge = df_acc_merge[df_acc_merge['vehicle_type'] == 'HV-HV']['average_acceleration'].var()\n",
    "\n",
    "mean_acc_av_hv_merge = df_acc_merge[df_acc_merge['vehicle_type'] == 'AV-HV']['average_acceleration'].mean()\n",
    "var_acc_av_hv_merge = df_acc_merge[df_acc_merge['vehicle_type'] == 'AV-HV']['average_acceleration'].var()\n",
    "\n",
    "mean_acc_hv_av_merge = df_acc_merge[df_acc_merge['vehicle_type'] == 'HV-AV']['average_acceleration'].mean()\n",
    "var_acc_hv_av_merge = df_acc_merge[df_acc_merge['vehicle_type'] == 'HV-AV']['average_acceleration'].var()"
   ]
  },
  {
   "cell_type": "code",
   "execution_count": 15,
   "id": "fdcc0c85-7f31-4981-a0a2-0e16e0520207",
   "metadata": {},
   "outputs": [],
   "source": [
    "df_speed_merge.dropna(inplace=True)\n",
    "df_acc_merge.dropna(inplace=True)"
   ]
  },
  {
   "cell_type": "markdown",
   "id": "99ba2363-14f3-4e00-9f57-a6dd0e0db83c",
   "metadata": {
    "jp-MarkdownHeadingCollapsed": true
   },
   "source": [
    "### Normality Test"
   ]
  },
  {
   "cell_type": "code",
   "execution_count": 61,
   "id": "2cc722f1-7010-4ec8-8670-e3c6edb3cba3",
   "metadata": {},
   "outputs": [
    {
     "data": {
      "text/plain": [
       "1.1855026523313549e-20"
      ]
     },
     "execution_count": 61,
     "metadata": {},
     "output_type": "execute_result"
    }
   ],
   "source": [
    "# HVHV cross\n",
    "shapiro(df_speed_cross[df_speed_cross['vehicle_type'] == 'HV-HV']['average_speed']).pvalue"
   ]
  },
  {
   "cell_type": "code",
   "execution_count": 62,
   "id": "5e466258-38fa-4dbd-a612-71f3ecece076",
   "metadata": {},
   "outputs": [
    {
     "data": {
      "text/plain": [
       "3.8430043787229806e-05"
      ]
     },
     "execution_count": 62,
     "metadata": {},
     "output_type": "execute_result"
    }
   ],
   "source": [
    "# AVHV cross\n",
    "shapiro(df_speed_cross[df_speed_cross['vehicle_type'] == 'AV-HV']['average_speed']).pvalue"
   ]
  },
  {
   "cell_type": "code",
   "execution_count": 63,
   "id": "3d3897ec-77ee-42c9-9b5e-0967313497ad",
   "metadata": {},
   "outputs": [
    {
     "data": {
      "text/plain": [
       "1.8609633606114567e-15"
      ]
     },
     "execution_count": 63,
     "metadata": {},
     "output_type": "execute_result"
    }
   ],
   "source": [
    "# HVAV cross\n",
    "shapiro(df_speed_cross[df_speed_cross['vehicle_type'] == 'HV-AV']['average_speed']).pvalue"
   ]
  },
  {
   "cell_type": "code",
   "execution_count": 65,
   "id": "d887a142-6ed6-4f51-9590-e3dd0589113a",
   "metadata": {},
   "outputs": [
    {
     "data": {
      "text/plain": [
       "3.61165602380949e-20"
      ]
     },
     "execution_count": 65,
     "metadata": {},
     "output_type": "execute_result"
    }
   ],
   "source": [
    "# HVHV merge\n",
    "shapiro(df_speed_merge[df_speed_merge['vehicle_type'] == 'HV-HV']['average_speed']).pvalue"
   ]
  },
  {
   "cell_type": "code",
   "execution_count": 66,
   "id": "b4397b48-f9b7-4cbb-aae3-6ec19f7a6fba",
   "metadata": {},
   "outputs": [
    {
     "data": {
      "text/plain": [
       "1.0"
      ]
     },
     "execution_count": 66,
     "metadata": {},
     "output_type": "execute_result"
    }
   ],
   "source": [
    "# AVHV merge\n",
    "shapiro(df_speed_merge[df_speed_merge['vehicle_type'] == 'AV-HV']['average_speed']).pvalue"
   ]
  },
  {
   "cell_type": "code",
   "execution_count": 67,
   "id": "ddb414b7-35a2-45ff-b50b-2b99f7becd62",
   "metadata": {},
   "outputs": [
    {
     "data": {
      "text/plain": [
       "1.0"
      ]
     },
     "execution_count": 67,
     "metadata": {},
     "output_type": "execute_result"
    }
   ],
   "source": [
    "# HVAV merge\n",
    "shapiro(df_speed_merge[df_speed_merge['vehicle_type'] == 'HV-AV']['average_speed']).pvalue"
   ]
  },
  {
   "cell_type": "code",
   "execution_count": 69,
   "id": "944f0aee-173e-4058-aa7b-f468d7b20c31",
   "metadata": {},
   "outputs": [],
   "source": [
    "# Acceleration"
   ]
  },
  {
   "cell_type": "code",
   "execution_count": 68,
   "id": "cb4dbfab-9092-433f-9c62-d750c90bda34",
   "metadata": {},
   "outputs": [
    {
     "data": {
      "text/plain": [
       "0.0005421481328085065"
      ]
     },
     "execution_count": 68,
     "metadata": {},
     "output_type": "execute_result"
    }
   ],
   "source": [
    "# HVHV cross\n",
    "shapiro(df_acc_cross[df_acc_cross['vehicle_type'] == 'HV-HV']['average_acceleration']).pvalue"
   ]
  },
  {
   "cell_type": "code",
   "execution_count": 70,
   "id": "cad10eb5-5278-461a-8c36-c3d59be9bebc",
   "metadata": {},
   "outputs": [
    {
     "data": {
      "text/plain": [
       "0.08118756115436554"
      ]
     },
     "execution_count": 70,
     "metadata": {},
     "output_type": "execute_result"
    }
   ],
   "source": [
    "# AVHV cross\n",
    "shapiro(df_acc_cross[df_acc_cross['vehicle_type'] == 'AV-HV']['average_acceleration']).pvalue"
   ]
  },
  {
   "cell_type": "code",
   "execution_count": 71,
   "id": "419d4cfd-f39c-4c36-9cad-f5b40c5fa954",
   "metadata": {},
   "outputs": [
    {
     "data": {
      "text/plain": [
       "2.2640115476812994e-11"
      ]
     },
     "execution_count": 71,
     "metadata": {},
     "output_type": "execute_result"
    }
   ],
   "source": [
    "# HVAV cross\n",
    "shapiro(df_acc_cross[df_acc_cross['vehicle_type'] == 'HV-AV']['average_acceleration']).pvalue"
   ]
  },
  {
   "cell_type": "code",
   "execution_count": 73,
   "id": "0d91380e-3992-4532-978a-97257cbe4e51",
   "metadata": {},
   "outputs": [
    {
     "data": {
      "text/plain": [
       "9.975751709134784e-06"
      ]
     },
     "execution_count": 73,
     "metadata": {},
     "output_type": "execute_result"
    }
   ],
   "source": [
    "# HVHV merge\n",
    "shapiro(df_acc_merge[df_acc_merge['vehicle_type'] == 'HV-HV']['average_acceleration']).pvalue"
   ]
  },
  {
   "cell_type": "code",
   "execution_count": 74,
   "id": "f203a432-6d8d-47da-be47-bcae93ac5f36",
   "metadata": {},
   "outputs": [
    {
     "data": {
      "text/plain": [
       "1.0"
      ]
     },
     "execution_count": 74,
     "metadata": {},
     "output_type": "execute_result"
    }
   ],
   "source": [
    "# AVHV merge\n",
    "shapiro(df_acc_merge[df_acc_merge['vehicle_type'] == 'AV-HV']['average_acceleration']).pvalue"
   ]
  },
  {
   "cell_type": "code",
   "execution_count": 75,
   "id": "5eb754b6-24ad-4214-a100-fc1e8b2f6ee8",
   "metadata": {},
   "outputs": [
    {
     "data": {
      "text/plain": [
       "1.0"
      ]
     },
     "execution_count": 75,
     "metadata": {},
     "output_type": "execute_result"
    }
   ],
   "source": [
    "# HVAV merge\n",
    "shapiro(df_acc_merge[df_acc_merge['vehicle_type'] == 'HV-AV']['average_acceleration']).pvalue"
   ]
  },
  {
   "cell_type": "markdown",
   "id": "350c74aa-2469-4b7a-b467-bd0ed797dd4b",
   "metadata": {},
   "source": [
    "### Mann-Whitney U Test"
   ]
  },
  {
   "cell_type": "code",
   "execution_count": 17,
   "id": "5793c72d-ed23-4d8b-8bbf-2ab92e2761db",
   "metadata": {},
   "outputs": [
    {
     "data": {
      "text/plain": [
       "1.913818114333219e-05"
      ]
     },
     "execution_count": 17,
     "metadata": {},
     "output_type": "execute_result"
    }
   ],
   "source": [
    "#---- speed -----#\n",
    "# HVHV::AVHV cross\n",
    "mannwhitneyu(\n",
    "    df_speed_cross[df_speed_cross['vehicle_type'] == 'HV-HV']['average_speed'],\n",
    "    df_speed_cross[df_speed_cross['vehicle_type'] == 'AV-HV']['average_speed'],\n",
    ").pvalue # 0.4023102325441612\n",
    "\n",
    "# HVHV::HVAV cross\n",
    "mannwhitneyu(\n",
    "    df_speed_cross[df_speed_cross['vehicle_type'] == 'HV-HV']['average_speed'],\n",
    "    df_speed_cross[df_speed_cross['vehicle_type'] == 'HV-AV']['average_speed']\n",
    ").pvalue # 5.500951973185261e-07\n",
    "\n",
    "# AVHV::HVAV cross\n",
    "mannwhitneyu(\n",
    "    df_speed_cross[df_speed_cross['vehicle_type'] == 'AV-HV']['average_speed'],\n",
    "    df_speed_cross[df_speed_cross['vehicle_type'] == 'HV-AV']['average_speed']\n",
    ").pvalue # 2.477728840686374e-05\n",
    "\n",
    "# HVHV::AVHV merge\n",
    "mannwhitneyu(\n",
    "    df_speed_merge[df_speed_merge['vehicle_type'] == 'HV-HV']['average_speed'],\n",
    "    df_speed_merge[df_speed_merge['vehicle_type'] == 'AV-HV']['average_speed'],\n",
    ").pvalue # 0.2247086905699881\n",
    "\n",
    "# HVHV::HVAV merge\n",
    "mannwhitneyu(\n",
    "    df_speed_merge[df_speed_merge['vehicle_type'] == 'HV-HV']['average_speed'],\n",
    "    df_speed_merge[df_speed_merge['vehicle_type'] == 'HV-AV']['average_speed']\n",
    ").pvalue # 1.085666963181627e-08\n",
    "\n",
    "# AVHV::HVAV merge\n",
    "mannwhitneyu(\n",
    "    df_speed_merge[df_speed_merge['vehicle_type'] == 'AV-HV']['average_speed'],\n",
    "    df_speed_merge[df_speed_merge['vehicle_type'] == 'HV-AV']['average_speed']\n",
    ").pvalue # 1.913818114333219e-05"
   ]
  },
  {
   "cell_type": "code",
   "execution_count": 20,
   "id": "f65a4008-f0fa-4c97-820e-9847abae8dcb",
   "metadata": {},
   "outputs": [
    {
     "data": {
      "text/plain": [
       "5.765201318248143e-08"
      ]
     },
     "execution_count": 20,
     "metadata": {},
     "output_type": "execute_result"
    }
   ],
   "source": [
    "#----- acc -----#\n",
    "# HVHV::AVHV cross\n",
    "mannwhitneyu(\n",
    "    df_acc_cross[df_acc_cross['vehicle_type'] == 'HV-HV']['average_acceleration'],\n",
    "    df_acc_cross[df_acc_cross['vehicle_type'] == 'AV-HV']['average_acceleration'],\n",
    ").pvalue # 0.05856934269642199\n",
    "\n",
    "# HVHV::HVAV cross\n",
    "mannwhitneyu(\n",
    "    df_acc_cross[df_acc_cross['vehicle_type'] == 'HV-HV']['average_acceleration'],\n",
    "    df_acc_cross[df_acc_cross['vehicle_type'] == 'HV-AV']['average_acceleration']\n",
    ").pvalue # 2.9107423964283866e-07\n",
    "\n",
    "# AVHV::HVAV cross\n",
    "mannwhitneyu(\n",
    "    df_acc_cross[df_acc_cross['vehicle_type'] == 'AV-HV']['average_acceleration'],\n",
    "    df_acc_cross[df_acc_cross['vehicle_type'] == 'HV-AV']['average_acceleration']\n",
    ").pvalue # 0.6078273928728375\n",
    "\n",
    "# HVHV::AVHV merge\n",
    "mannwhitneyu(\n",
    "    df_acc_merge[df_acc_merge['vehicle_type'] == 'HV-HV']['average_acceleration'],\n",
    "    df_acc_merge[df_acc_merge['vehicle_type'] == 'AV-HV']['average_acceleration'],\n",
    ").pvalue # 0.25603504049474946\n",
    "\n",
    "# HVHV::HVAV merge\n",
    "mannwhitneyu(\n",
    "    df_acc_merge[df_acc_merge['vehicle_type'] == 'HV-HV']['average_acceleration'],\n",
    "    df_acc_merge[df_acc_merge['vehicle_type'] == 'HV-AV']['average_acceleration']\n",
    ").pvalue # 2.3807397533474027e-17\n",
    "\n",
    "# AVHV::HVAV merge\n",
    "mannwhitneyu(\n",
    "    df_acc_merge[df_acc_merge['vehicle_type'] == 'AV-HV']['average_acceleration'],\n",
    "    df_acc_merge[df_acc_merge['vehicle_type'] == 'HV-AV']['average_acceleration']\n",
    ").pvalue # 5.765201318248143e-08"
   ]
  },
  {
   "cell_type": "markdown",
   "id": "73044c7e-f9e6-4cfe-a5ed-48b23d968220",
   "metadata": {},
   "source": [
    "### T-Test"
   ]
  },
  {
   "cell_type": "code",
   "execution_count": 23,
   "id": "ce29309e-75c7-464a-91bd-bb04a629e588",
   "metadata": {},
   "outputs": [
    {
     "data": {
      "text/plain": [
       "1.936921980773114e-11"
      ]
     },
     "execution_count": 23,
     "metadata": {},
     "output_type": "execute_result"
    }
   ],
   "source": [
    "#---- speed -----#\n",
    "# HVHV::AVHV cross\n",
    "ttest_ind(\n",
    "    df_speed_cross[df_speed_cross['vehicle_type'] == 'HV-HV']['average_speed'],\n",
    "    df_speed_cross[df_speed_cross['vehicle_type'] == 'AV-HV']['average_speed'],\n",
    ").pvalue # 0.375484500104893\n",
    "\n",
    "# HVHV::HVAV cross\n",
    "ttest_ind(\n",
    "    df_speed_cross[df_speed_cross['vehicle_type'] == 'HV-HV']['average_speed'],\n",
    "    df_speed_cross[df_speed_cross['vehicle_type'] == 'HV-AV']['average_speed']\n",
    ").pvalue # 0.0004906095493061557\n",
    "\n",
    "# AVHV::HVAV cross\n",
    "ttest_ind(\n",
    "    df_speed_cross[df_speed_cross['vehicle_type'] == 'AV-HV']['average_speed'],\n",
    "    df_speed_cross[df_speed_cross['vehicle_type'] == 'HV-AV']['average_speed']\n",
    ").pvalue # 0.00043893089366563864\n",
    "\n",
    "# HVHV::AVHV merge\n",
    "ttest_ind(\n",
    "    df_speed_merge[df_speed_merge['vehicle_type'] == 'HV-HV']['average_speed'],\n",
    "    df_speed_merge[df_speed_merge['vehicle_type'] == 'AV-HV']['average_speed'],\n",
    ").pvalue # 0.054218615938421026\n",
    "\n",
    "# HVHV::HVAV merge\n",
    "ttest_ind(\n",
    "    df_speed_merge[df_speed_merge['vehicle_type'] == 'HV-HV']['average_speed'],\n",
    "    df_speed_merge[df_speed_merge['vehicle_type'] == 'HV-AV']['average_speed']\n",
    ").pvalue # 3.810551679352431e-09\n",
    "\n",
    "\n",
    "# AVHV::HVAV merge\n",
    "ttest_ind(\n",
    "    df_speed_merge[df_speed_merge['vehicle_type'] == 'AV-HV']['average_speed'],\n",
    "    df_speed_merge[df_speed_merge['vehicle_type'] == 'HV-AV']['average_speed']\n",
    ").pvalue # 1.936921980773114e-11"
   ]
  },
  {
   "cell_type": "code",
   "execution_count": 26,
   "id": "0c49c9fc-3fe3-48e6-be03-c28c006059bf",
   "metadata": {},
   "outputs": [
    {
     "data": {
      "text/plain": [
       "1.0086353743418747e-17"
      ]
     },
     "execution_count": 26,
     "metadata": {},
     "output_type": "execute_result"
    }
   ],
   "source": [
    "#----- acc -----#\n",
    "# HVHV::AVHV cross\n",
    "ttest_ind(\n",
    "    df_acc_cross[df_acc_cross['vehicle_type'] == 'HV-HV']['average_acceleration'],\n",
    "    df_acc_cross[df_acc_cross['vehicle_type'] == 'AV-HV']['average_acceleration'],\n",
    ").pvalue # 0.09930287688417751\n",
    "\n",
    "# HVHV::HVAV cross\n",
    "ttest_ind(\n",
    "    df_acc_cross[df_acc_cross['vehicle_type'] == 'HV-HV']['average_acceleration'],\n",
    "    df_acc_cross[df_acc_cross['vehicle_type'] == 'HV-AV']['average_acceleration']\n",
    ").pvalue # 1.7556993488553983e-05\n",
    "\n",
    "# AVHV::HVAV cross\n",
    "ttest_ind(\n",
    "    df_acc_cross[df_acc_cross['vehicle_type'] == 'AV-HV']['average_acceleration'],\n",
    "    df_acc_cross[df_acc_cross['vehicle_type'] == 'HV-AV']['average_acceleration']\n",
    ").pvalue # 0.07309662927514265\n",
    "\n",
    "# HVHV::AVHV merge\n",
    "ttest_ind(\n",
    "    df_acc_merge[df_acc_merge['vehicle_type'] == 'HV-HV']['average_acceleration'],\n",
    "    df_acc_merge[df_acc_merge['vehicle_type'] == 'AV-HV']['average_acceleration'],\n",
    ").pvalue # 0.23208825336435404\n",
    "\n",
    "# HVHV::HVAV merge\n",
    "ttest_ind(\n",
    "    df_acc_merge[df_acc_merge['vehicle_type'] == 'HV-HV']['average_acceleration'],\n",
    "    df_acc_merge[df_acc_merge['vehicle_type'] == 'HV-AV']['average_acceleration']\n",
    ").pvalue # 1.2926822099120658e-15\n",
    "\n",
    "# AVHV::HVAV merge\n",
    "ttest_ind(\n",
    "    df_acc_merge[df_acc_merge['vehicle_type'] == 'AV-HV']['average_acceleration'],\n",
    "    df_acc_merge[df_acc_merge['vehicle_type'] == 'HV-AV']['average_acceleration']\n",
    ").pvalue # 1.0086353743418747e-17"
   ]
  },
  {
   "cell_type": "markdown",
   "id": "3323bd66-c5ed-4bc0-81dc-43d108c3f459",
   "metadata": {},
   "source": [
    "### ANOVA"
   ]
  },
  {
   "cell_type": "code",
   "execution_count": 28,
   "id": "0bca02d8-bd30-41d2-8c46-a4bd3d63d976",
   "metadata": {},
   "outputs": [
    {
     "data": {
      "text/plain": [
       "4.1491762790097053e-16"
      ]
     },
     "execution_count": 28,
     "metadata": {},
     "output_type": "execute_result"
    }
   ],
   "source": [
    "# Speed | Cross \n",
    "f_oneway(\n",
    "    df_speed_cross[df_speed_cross['vehicle_type'] == 'HV-HV']['average_speed'],\n",
    "    df_speed_cross[df_speed_cross['vehicle_type'] == 'AV-HV']['average_speed'],\n",
    "    df_speed_cross[df_speed_cross['vehicle_type'] == 'HV-AV']['average_speed']\n",
    ").pvalue # 0.0007254538798330937\n",
    "\n",
    "# Speed | Merge\n",
    "f_oneway(\n",
    "    df_speed_merge[df_speed_merge['vehicle_type'] == 'HV-HV']['average_speed'],\n",
    "    df_speed_merge[df_speed_merge['vehicle_type'] == 'AV-HV']['average_speed'],\n",
    "    df_speed_merge[df_speed_merge['vehicle_type'] == 'HV-AV']['average_speed'],\n",
    ").pvalue # 4.899091403964781e-10\n",
    "\n",
    "# Acceleration | Cross\n",
    "f_oneway(\n",
    "    df_acc_cross[df_acc_cross['vehicle_type'] == 'HV-HV']['average_acceleration'],\n",
    "    df_acc_cross[df_acc_cross['vehicle_type'] == 'AV-HV']['average_acceleration'],\n",
    "    df_acc_cross[df_acc_cross['vehicle_type'] == 'HV-AV']['average_acceleration']\n",
    ").pvalue # 8.262673391903797e-05\n",
    "\n",
    "# Acceleration | Merge\n",
    "f_oneway(\n",
    "    df_acc_merge[df_acc_merge['vehicle_type'] == 'HV-HV']['average_acceleration'],\n",
    "    df_acc_merge[df_acc_merge['vehicle_type'] == 'AV-HV']['average_acceleration'],\n",
    "    df_acc_merge[df_acc_merge['vehicle_type'] == 'HV-AV']['average_acceleration']\n",
    ").pvalue # 4.1491762790097053e-16"
   ]
  },
  {
   "cell_type": "markdown",
   "id": "d6862e73-7184-4e26-afb3-d5c336237626",
   "metadata": {},
   "source": [
    "### Visualization"
   ]
  },
  {
   "cell_type": "code",
   "execution_count": 81,
   "id": "deb0fc60-eae1-4389-a8f0-0ec0d84a4ca6",
   "metadata": {},
   "outputs": [
    {
     "name": "stdout",
     "output_type": "stream",
     "text": [
      "Average Speed Analysis for Crossing:\n",
      "HV-HV: Mean = 3.512, Variance = 2.786\n",
      "AV-HV: Mean = 3.715, Variance = 2.746\n",
      "HV-AV: Mean = 2.856, Variance = 1.715\n",
      "\n",
      "Average Acceleration Analysis for Crossing:\n",
      "HV-HV: Mean = 0.647, Variance = 0.662\n",
      "AV-HV: Mean = 0.834, Variance = 0.764\n",
      "HV-AV: Mean = 1.028, Variance = 0.210\n",
      "\n",
      "Average Speed Analysis for Merging:\n",
      "HV-HV: Mean = 3.659, Variance = 1.755\n",
      "AV-HV: Mean = 3.902, Variance = 2.255\n",
      "HV-AV: Mean = 3.069, Variance = 0.347\n",
      "\n",
      "Average Acceleration Analysis for Merging:\n",
      "HV-HV: Mean = 0.572, Variance = 0.488\n",
      "AV-HV: Mean = 0.494, Variance = 0.477\n",
      "HV-AV: Mean = 0.995, Variance = 0.073\n",
      "\n"
     ]
    }
   ],
   "source": [
    "# # Plotting average speed histogram for Crossing\n",
    "# plt.figure(figsize=(8, 4))\n",
    "# sns.histplot(df_speed_cross, x='average_speed', hue='vehicle_type', bins=30, palette=palette, kde=True)\n",
    "# plt.title('Histogram of Average Speeds (Crossing)')\n",
    "# plt.xlabel('Average Speed (m/s)')\n",
    "# plt.ylabel('Frequency')\n",
    "# plt.legend(title='Vehicle Type', labels=['HV-HV', 'AV-HV', 'HV-AV'])\n",
    "# plt.tight_layout()\n",
    "# plt.show()\n",
    "\n",
    "# # Plotting average acceleration histogram for Crossing\n",
    "# plt.figure(figsize=(8, 4))\n",
    "# sns.histplot(df_acc_cross, x='average_acceleration', hue='vehicle_type', bins=30, palette=palette, kde=True)\n",
    "# plt.title('Histogram of Average Accelerations (Crossing)')\n",
    "# plt.xlabel('Average Acceleration (m/s²)')\n",
    "# plt.ylabel('Frequency')\n",
    "# plt.legend(title='Vehicle Type', labels=['HV-HV', 'AV-HV', 'HV-AV'])\n",
    "# plt.tight_layout()\n",
    "# plt.show()\n",
    "\n",
    "# # Plotting average speed histogram for Merging\n",
    "# plt.figure(figsize=(8, 4))\n",
    "# sns.histplot(df_speed_merge, x='average_speed', hue='vehicle_type', bins=30, palette=palette, kde=True)\n",
    "# plt.title('Histogram of Average Speeds (Merging)')\n",
    "# plt.xlabel('Average Speed (m/s)')\n",
    "# plt.ylabel('Frequency')\n",
    "# plt.legend(title='Vehicle Type', labels=['HV-HV', 'AV-HV', 'HV-AV'])\n",
    "# plt.tight_layout()\n",
    "# plt.show()\n",
    "\n",
    "# # Plotting average acceleration histogram for Merging\n",
    "# plt.figure(figsize=(8, 4))\n",
    "# sns.histplot(df_acc_merge, x='average_acceleration', hue='vehicle_type', bins=30, palette=palette, kde=True)\n",
    "# plt.title('Histogram of Average Accelerations (Merging)')\n",
    "# plt.xlabel('Average Acceleration (m/s²)')\n",
    "# plt.ylabel('Frequency')\n",
    "# plt.legend(title='Vehicle Type', labels=['HV-HV', 'AV-HV', 'HV-AV'])\n",
    "# plt.tight_layout()\n",
    "# plt.show()\n",
    "\n",
    "# # Performing t-tests for average speeds in Crossing\n",
    "# t_stat_speed_av_hv_cross, p_value_speed_av_hv_cross = ttest_ind(\n",
    "#     df_speed_cross[df_speed_cross['vehicle_type'] == 'HV-HV']['average_speed'],\n",
    "#     df_speed_cross[df_speed_cross['vehicle_type'] == 'AV-HV']['average_speed'],\n",
    "#     equal_var=False\n",
    "# )\n",
    "# t_stat_speed_hv_av_cross, p_value_speed_hv_av_cross = ttest_ind(\n",
    "#     df_speed_cross[df_speed_cross['vehicle_type'] == 'HV-HV']['average_speed'],\n",
    "#     df_speed_cross[df_speed_cross['vehicle_type'] == 'HV-AV']['average_speed'],\n",
    "#     equal_var=False\n",
    "# )\n",
    "\n",
    "# # Performing t-tests for average accelerations in Crossing\n",
    "# t_stat_acc_av_hv_cross, p_value_acc_av_hv_cross = ttest_ind(\n",
    "#     df_acc_cross[df_acc_cross['vehicle_type'] == 'HV-HV']['average_acceleration'],\n",
    "#     df_acc_cross[df_acc_cross['vehicle_type'] == 'AV-HV']['average_acceleration'],\n",
    "#     equal_var=False\n",
    "# )\n",
    "# t_stat_acc_hv_av_cross, p_value_acc_hv_av_cross = ttest_ind(\n",
    "#     df_acc_cross[df_acc_cross['vehicle_type'] == 'HV-HV']['average_acceleration'],\n",
    "#     df_acc_cross[df_acc_cross['vehicle_type'] == 'HV-AV']['average_acceleration'],\n",
    "#     equal_var=False\n",
    "# )\n",
    "\n",
    "# # Performing t-tests for average speeds in Merging\n",
    "# t_stat_speed_av_hv_merge, p_value_speed_av_hv_merge = ttest_ind(\n",
    "#     df_speed_merge[df_speed_merge['vehicle_type'] == 'HV-HV']['average_speed'],\n",
    "#     df_speed_merge[df_speed_merge['vehicle_type'] == 'AV-HV']['average_speed'],\n",
    "#     equal_var=False\n",
    "# )\n",
    "# t_stat_speed_hv_av_merge, p_value_speed_hv_av_merge = ttest_ind(\n",
    "#     df_speed_merge[df_speed_merge['vehicle_type'] == 'HV-HV']['average_speed'],\n",
    "#     df_speed_merge[df_speed_merge['vehicle_type'] == 'HV-AV']['average_speed'],\n",
    "#     equal_var=False\n",
    "# )\n",
    "\n",
    "# # Performing t-tests for average accelerations in Merging\n",
    "# t_stat_acc_av_hv_merge, p_value_acc_av_hv_merge = ttest_ind(\n",
    "#     df_acc_merge[df_acc_merge['vehicle_type'] == 'HV-HV']['average_acceleration'],\n",
    "#     df_acc_merge[df_acc_merge['vehicle_type'] == 'AV-HV']['average_acceleration'],\n",
    "#     equal_var=False\n",
    "# )\n",
    "# t_stat_acc_hv_av_merge, p_value_acc_hv_av_merge = ttest_ind(\n",
    "#     df_acc_merge[df_acc_merge['vehicle_type'] == 'HV-HV']['average_acceleration'],\n",
    "#     df_acc_merge[df_acc_merge['vehicle_type'] == 'HV-AV']['average_acceleration'],\n",
    "#     equal_var=False\n",
    "# )\n",
    "\n",
    "# # Print the calculated means, variances, and t-test results\n",
    "\n",
    "print(\"Average Speed Analysis for Crossing:\")\n",
    "print(f\"HV-HV: Mean = {mean_speed_hv_hv_cross:.3f}, Variance = {var_speed_hv_hv_cross:.3f}\")\n",
    "print(f\"AV-HV: Mean = {mean_speed_av_hv_cross:.3f}, Variance = {var_speed_av_hv_cross:.3f}\")\n",
    "print(f\"HV-AV: Mean = {mean_speed_hv_av_cross:.3f}, Variance = {var_speed_hv_av_cross:.3f}\\n\")\n",
    "\n",
    "# print(\"T-test Results for Average Speeds (Crossing):\")\n",
    "# print(f\"HV-HV vs. AV-HV: t-statistic = {t_stat_speed_av_hv_cross:.3f}, p-value = {p_value_speed_av_hv_cross:.3f}\")\n",
    "# print(f\"HV-HV vs. HV-AV: t-statistic = {t_stat_speed_hv_av_cross:.3f}, p-value = {p_value_speed_hv_av_cross:.3f}\\n\")\n",
    "\n",
    "print(\"Average Acceleration Analysis for Crossing:\")\n",
    "print(f\"HV-HV: Mean = {mean_acc_hv_hv_cross:.3f}, Variance = {var_acc_hv_hv_cross:.3f}\")\n",
    "print(f\"AV-HV: Mean = {mean_acc_av_hv_cross:.3f}, Variance = {var_acc_av_hv_cross:.3f}\")\n",
    "print(f\"HV-AV: Mean = {mean_acc_hv_av_cross:.3f}, Variance = {var_acc_hv_av_cross:.3f}\\n\")\n",
    "\n",
    "# print(\"T-test Results for Average Accelerations (Crossing):\")\n",
    "# print(f\"HV-HV vs. AV-HV: t-statistic = {t_stat_acc_av_hv_cross:.3f}, p-value = {p_value_acc_av_hv_cross:.3f}\")\n",
    "# print(f\"HV-HV vs. HV-AV: t-statistic = {t_stat_acc_hv_av_cross:.3f}, p-value = {p_value_acc_hv_av_cross:.3f}\\n\")\n",
    "\n",
    "print(\"Average Speed Analysis for Merging:\")\n",
    "print(f\"HV-HV: Mean = {mean_speed_hv_hv_merge:.3f}, Variance = {var_speed_hv_hv_merge:.3f}\")\n",
    "print(f\"AV-HV: Mean = {mean_speed_av_hv_merge:.3f}, Variance = {var_speed_av_hv_merge:.3f}\")\n",
    "print(f\"HV-AV: Mean = {mean_speed_hv_av_merge:.3f}, Variance = {var_speed_hv_av_merge:.3f}\\n\")\n",
    "\n",
    "# print(\"T-test Results for Average Speeds (Merging):\")\n",
    "# print(f\"HV-HV vs. AV-HV: t-statistic = {t_stat_speed_av_hv_merge:.3f}, p-value = {p_value_speed_av_hv_merge:.3f}\")\n",
    "# print(f\"HV-HV vs. HV-AV: t-statistic = {t_stat_speed_hv_av_merge:.3f}, p-value = {p_value_speed_hv_av_merge:.3f}\\n\")\n",
    "\n",
    "print(\"Average Acceleration Analysis for Merging:\")\n",
    "print(f\"HV-HV: Mean = {mean_acc_hv_hv_merge:.3f}, Variance = {var_acc_hv_hv_merge:.3f}\")\n",
    "print(f\"AV-HV: Mean = {mean_acc_av_hv_merge:.3f}, Variance = {var_acc_av_hv_merge:.3f}\")\n",
    "print(f\"HV-AV: Mean = {mean_acc_hv_av_merge:.3f}, Variance = {var_acc_hv_av_merge:.3f}\\n\")\n",
    "\n",
    "# print(\"T-test Results for Average Accelerations (Merging):\")\n",
    "# print(f\"HV-HV vs. AV-HV: t-statistic = {t_stat_acc_av_hv_merge:.3f}, p-value = {p_value_acc_av_hv_merge:.3f}\")\n",
    "# print(f\"HV-HV vs. HV-AV: t-statistic = {t_stat_acc_hv_av_merge:.3f}, p-value = {p_value_acc_hv_av_merge:.3f}\")"
   ]
  },
  {
   "cell_type": "code",
   "execution_count": null,
   "id": "bd97015d-5288-4e31-ae11-2e8c1da4ba6d",
   "metadata": {},
   "outputs": [],
   "source": []
  }
 ],
 "metadata": {
  "kernelspec": {
   "display_name": "Python 3 (ipykernel)",
   "language": "python",
   "name": "python3"
  },
  "language_info": {
   "codemirror_mode": {
    "name": "ipython",
    "version": 3
   },
   "file_extension": ".py",
   "mimetype": "text/x-python",
   "name": "python",
   "nbconvert_exporter": "python",
   "pygments_lexer": "ipython3",
   "version": "3.8.18"
  }
 },
 "nbformat": 4,
 "nbformat_minor": 5
}
