{
 "cells": [
  {
   "cell_type": "code",
   "execution_count": 1,
   "id": "424411b6-68f6-4a8c-85b1-062acf925fb2",
   "metadata": {},
   "outputs": [],
   "source": [
    "import pandas as pd\n",
    "pd.set_option(\"display.float_format\", \"{:.3f}\".format)\n",
    "from scipy.stats import ttest_ind, mannwhitneyu"
   ]
  },
  {
   "cell_type": "markdown",
   "id": "9bb94466-df94-4c25-a9e6-a050a371d7f7",
   "metadata": {},
   "source": [
    "## PET"
   ]
  },
  {
   "cell_type": "code",
   "execution_count": 2,
   "id": "8fca39db-89da-4076-be02-0f4ca25f98c6",
   "metadata": {},
   "outputs": [],
   "source": [
    "# PET\n",
    "PET_waymo = pd.read_csv(\"./outputs/trb/waymo_pet.csv\")\n",
    "PET_lyft = pd.read_csv(\"./outputs/trb/lyft_pet.csv\")"
   ]
  },
  {
   "cell_type": "code",
   "execution_count": 3,
   "id": "f50f4fdd-354d-4247-9ed5-a3fca4a675a7",
   "metadata": {
    "scrolled": true
   },
   "outputs": [
    {
     "name": "stdout",
     "output_type": "stream",
     "text": [
      "PET comparison\n",
      "  Conflict type Vehicle order  T-test p-value  Mann-Whitney p-value\n",
      "0         Cross         HV-AV           0.000                 0.000\n",
      "1         Cross         HV-HV           0.000                 0.000\n",
      "2         Merge         HV-AV           0.000                 0.000\n",
      "3         Cross         AV-HV           0.951                 0.629\n",
      "4         Merge         HV-HV           0.001                 0.035\n",
      "5         Merge         AV-HV           0.523                 0.001\n"
     ]
    }
   ],
   "source": [
    "common_groups = set(zip(PET_waymo['Conflict type'], PET_waymo['Vehicle order'])) & set(zip(PET_lyft['Conflict type'], PET_lyft['Vehicle order']))\n",
    "results = []\n",
    "\n",
    "for conflict_type, vehicle_order in common_groups:\n",
    " \n",
    "    waymo_data = PET_waymo[(PET_waymo['Conflict type'] == conflict_type) & (PET_waymo['Vehicle order'] == vehicle_order)]['PET']\n",
    "    lyft_data = PET_lyft[(PET_lyft['Conflict type'] == conflict_type) & (PET_lyft['Vehicle order'] == vehicle_order)]['PET']\n",
    "\n",
    "    t_stat, t_pvalue = ttest_ind(waymo_data, lyft_data, equal_var=False)\n",
    "    mw_stat, mw_pvalue = mannwhitneyu(waymo_data, lyft_data, alternative='two-sided')\n",
    "\n",
    "    results.append({\n",
    "        'Conflict type': conflict_type,\n",
    "        'Vehicle order': vehicle_order,\n",
    "        'T-test p-value': t_pvalue,\n",
    "        'Mann-Whitney p-value': mw_pvalue\n",
    "    })\n",
    "\n",
    "results_df = pd.DataFrame(results)\n",
    "print(\"PET comparison\")\n",
    "print(results_df)"
   ]
  },
  {
   "cell_type": "markdown",
   "id": "2b34929b-00c6-44c8-bb10-12c99a83ab0a",
   "metadata": {},
   "source": [
    "## Min TTC"
   ]
  },
  {
   "cell_type": "code",
   "execution_count": 4,
   "id": "ff996e8b-b863-47db-8d6b-e1f3a9fb25af",
   "metadata": {},
   "outputs": [],
   "source": [
    "# minTTC\n",
    "minTTC_waymo = pd.read_csv(\"./outputs/trb/waymo_minttc.csv\")\n",
    "minTTC_lyft = pd.read_csv(\"./outputs/trb/lyft_minttc.csv\")"
   ]
  },
  {
   "cell_type": "code",
   "execution_count": 5,
   "id": "992875f4-ab3f-42c7-85f9-dc423da3df7e",
   "metadata": {},
   "outputs": [
    {
     "name": "stdout",
     "output_type": "stream",
     "text": [
      "minTTC comparison\n",
      "  Conflict type Vehicle order  T-test p-value  Mann-Whitney p-value\n",
      "0         Cross         HV-AV           0.007                 0.018\n",
      "1         Cross         HV-HV           0.028                 0.076\n",
      "2         Merge         HV-AV           0.439                 0.647\n",
      "3         Cross         AV-HV           0.002                 0.009\n",
      "4         Merge         HV-HV           0.536                 0.612\n",
      "5         Merge         AV-HV           0.295                 0.422\n"
     ]
    }
   ],
   "source": [
    "common_groups = set(zip(minTTC_waymo['Conflict type'], minTTC_waymo['Vehicle order'])) & set(zip(minTTC_lyft['Conflict type'], minTTC_lyft['Vehicle order']))\n",
    "results = []\n",
    "\n",
    "for conflict_type, vehicle_order in common_groups:\n",
    "\n",
    "    waymo_data = minTTC_waymo[(minTTC_waymo['Conflict type'] == conflict_type) & (minTTC_waymo['Vehicle order'] == vehicle_order)]['minTTC']\n",
    "    lyft_data = minTTC_lyft[(minTTC_lyft['Conflict type'] == conflict_type) & (minTTC_lyft['Vehicle order'] == vehicle_order)]['minTTC']\n",
    "\n",
    "    t_stat, t_pvalue = ttest_ind(waymo_data, lyft_data, equal_var=False)\n",
    "    mw_stat, mw_pvalue = mannwhitneyu(waymo_data, lyft_data, alternative='two-sided')\n",
    "\n",
    "    results.append({\n",
    "        'Conflict type': conflict_type,\n",
    "        'Vehicle order': vehicle_order,\n",
    "        'T-test p-value': t_pvalue,\n",
    "        'Mann-Whitney p-value': mw_pvalue\n",
    "    })\n",
    "\n",
    "results_df = pd.DataFrame(results)\n",
    "print(\"minTTC comparison\")\n",
    "print(results_df)"
   ]
  },
  {
   "cell_type": "markdown",
   "id": "d4909bb2-c88e-4269-b4a3-282f77927852",
   "metadata": {},
   "source": [
    "## MRD"
   ]
  },
  {
   "cell_type": "code",
   "execution_count": 19,
   "id": "f1c3816d-e1e3-4e0b-8473-7cd86e89bbcb",
   "metadata": {},
   "outputs": [],
   "source": [
    "# MRD\n",
    "MRD_waymo = pd.read_csv(\"./outputs/trb/waymo_mrd.csv\")\n",
    "MRD_lyft = pd.read_csv(\"./outputs/trb/lyft_mrd.csv\")"
   ]
  },
  {
   "cell_type": "code",
   "execution_count": 20,
   "id": "d480ec7e-8420-47f6-abc1-0d4cbba9a38f",
   "metadata": {},
   "outputs": [
    {
     "name": "stdout",
     "output_type": "stream",
     "text": [
      "maxREQDEC comparison\n",
      "  Conflict type Vehicle order  T-test p-value  Mann-Whitney p-value\n",
      "0         Cross         HV-AV           0.000                 0.000\n",
      "1         Cross         HV-HV           0.042                 0.043\n",
      "2         Merge         HV-AV           0.000                 0.000\n",
      "3         Cross         AV-HV           0.027                 0.038\n",
      "4         Merge         HV-HV           0.927                 0.887\n",
      "5         Merge         AV-HV           0.386                 0.519\n"
     ]
    }
   ],
   "source": [
    "common_groups = set(zip(MRD_waymo['Conflict type'], MRD_waymo['Vehicle order'])) & set(zip(MRD_lyft['Conflict type'], MRD_lyft['Vehicle order']))\n",
    "results = []\n",
    "\n",
    "for conflict_type, vehicle_order in common_groups:\n",
    " \n",
    "    waymo_data = MRD_waymo[(MRD_waymo['Conflict type'] == conflict_type) & (MRD_waymo['Vehicle order'] == vehicle_order)]['maxREQDEC']\n",
    "    lyft_data = MRD_lyft[(MRD_lyft['Conflict type'] == conflict_type) & (MRD_lyft['Vehicle order'] == vehicle_order)]['maxREQDEC']\n",
    "\n",
    "    t_stat, t_pvalue = ttest_ind(waymo_data, lyft_data, equal_var=False)\n",
    "    mw_stat, mw_pvalue = mannwhitneyu(waymo_data, lyft_data, alternative='two-sided')\n",
    "\n",
    "    results.append({\n",
    "        'Conflict type': conflict_type,\n",
    "        'Vehicle order': vehicle_order,\n",
    "        'T-test p-value': t_pvalue,\n",
    "        'Mann-Whitney p-value': mw_pvalue\n",
    "    })\n",
    "\n",
    "results_df = pd.DataFrame(results)\n",
    "print(\"maxREQDEC comparison\")\n",
    "print(results_df)"
   ]
  },
  {
   "cell_type": "markdown",
   "id": "57405beb-e646-490b-acf9-cfebc594fc5f",
   "metadata": {},
   "source": [
    "## Follower speed"
   ]
  },
  {
   "cell_type": "code",
   "execution_count": 21,
   "id": "2ab53b5f-8142-4e88-8aee-8131f03a855b",
   "metadata": {},
   "outputs": [],
   "source": [
    "# FollowerSpeed\n",
    "FollowerSpeed_waymo = pd.read_csv(\"./outputs/trb/waymo_follower_speed.csv\")\n",
    "FollowerSpeed_lyft = pd.read_csv(\"./outputs/trb/lyft_follower_speed.csv\")"
   ]
  },
  {
   "cell_type": "code",
   "execution_count": 22,
   "id": "a64c51d1-ad5d-47d0-a45b-aa00613d6a17",
   "metadata": {
    "scrolled": true
   },
   "outputs": [
    {
     "name": "stdout",
     "output_type": "stream",
     "text": [
      "follower_conflict_v comparison\n",
      "  Conflict type Vehicle order  T-test p-value  Mann-Whitney p-value\n",
      "0         Cross         HV-AV           0.000                 0.000\n",
      "1         Cross         HV-HV           0.000                 0.000\n",
      "2         Merge         HV-AV           0.794                 0.806\n",
      "3         Cross         AV-HV           0.047                 0.044\n",
      "4         Merge         HV-HV           0.000                 0.000\n",
      "5         Merge         AV-HV           0.096                 0.010\n"
     ]
    }
   ],
   "source": [
    "common_groups = set(zip(FollowerSpeed_waymo['Conflict type'], FollowerSpeed_waymo['Vehicle order'])) & set(zip(FollowerSpeed_lyft['Conflict type'], FollowerSpeed_lyft['Vehicle order']))\n",
    "results = []\n",
    "\n",
    "for conflict_type, vehicle_order in common_groups:\n",
    " \n",
    "    waymo_data = FollowerSpeed_waymo[(FollowerSpeed_waymo['Conflict type'] == conflict_type) & (FollowerSpeed_waymo['Vehicle order'] == vehicle_order)]['follower_conflict_v']\n",
    "    lyft_data = FollowerSpeed_lyft[(FollowerSpeed_lyft['Conflict type'] == conflict_type) & (FollowerSpeed_lyft['Vehicle order'] == vehicle_order)]['follower_conflict_v']\n",
    "\n",
    "    t_stat, t_pvalue = ttest_ind(waymo_data, lyft_data, equal_var=False)\n",
    "    mw_stat, mw_pvalue = mannwhitneyu(waymo_data, lyft_data, alternative='two-sided')\n",
    "\n",
    "    results.append({\n",
    "        'Conflict type': conflict_type,\n",
    "        'Vehicle order': vehicle_order,\n",
    "        'T-test p-value': t_pvalue,\n",
    "        'Mann-Whitney p-value': mw_pvalue\n",
    "    })\n",
    "\n",
    "results_df = pd.DataFrame(results)\n",
    "print(\"follower_conflict_v comparison\")\n",
    "print(results_df)"
   ]
  },
  {
   "cell_type": "markdown",
   "id": "2476f20b-962e-4423-a35f-aad45a9e5ec2",
   "metadata": {},
   "source": [
    "## Speed"
   ]
  },
  {
   "cell_type": "code",
   "execution_count": 52,
   "id": "16c41e85-77cc-42ed-be18-d0e2af72d099",
   "metadata": {},
   "outputs": [],
   "source": [
    "speed_waymo_merge = pd.read_csv(\"./outputs/trb/waymo_merge_vel.csv\")\n",
    "speed_waymo_cross = pd.read_csv(\"./outputs/trb/waymo_cross_vel.csv\")\n",
    "speed_waymo_merge[\"Conflict type\"] = \"Merge\"\n",
    "speed_waymo_cross[\"Conflict type\"] = \"Cross\"\n",
    "\n",
    "speed_lyft_merge = pd.read_csv(\"./outputs/trb/lyft_merge_vel.csv\")\n",
    "speed_lyft_cross = pd.read_csv(\"./outputs/trb/lyft_cross_vel.csv\")\n",
    "speed_lyft_merge[\"Conflict type\"] = \"Merge\"\n",
    "speed_lyft_cross[\"Conflict type\"] = \"Cross\"\n",
    "\n",
    "speed_waymo = pd.concat([speed_waymo_merge, speed_waymo_cross]).dropna()\n",
    "speed_lyft = pd.concat([speed_lyft_merge, speed_lyft_cross]).dropna()"
   ]
  },
  {
   "cell_type": "code",
   "execution_count": 53,
   "id": "1c337510-2be1-41d0-838a-e80a0584b8b1",
   "metadata": {},
   "outputs": [
    {
     "name": "stdout",
     "output_type": "stream",
     "text": [
      "Speed comparison\n",
      "  Conflict type Vehicle order  T-test p-value  Mann-Whitney p-value\n",
      "0         Cross         HV-AV           0.015                 0.000\n",
      "1         Cross         HV-HV           0.367                 0.006\n",
      "2         Merge         HV-AV           0.010                 0.003\n",
      "3         Cross         AV-HV           0.034                 0.430\n",
      "4         Merge         HV-HV           0.125                 0.182\n",
      "5         Merge         AV-HV           0.207                 0.875\n"
     ]
    }
   ],
   "source": [
    "common_groups = set(zip(speed_waymo['Conflict type'], speed_waymo['vehicle_type'])) & set(zip(speed_lyft['Conflict type'], speed_lyft['vehicle_type']))\n",
    "results = []\n",
    "\n",
    "for conflict_type, vehicle_order in common_groups:\n",
    " \n",
    "    waymo_data = speed_waymo[(speed_waymo['Conflict type'] == conflict_type) & (speed_waymo['vehicle_type'] == vehicle_order)]['average_speed']\n",
    "    lyft_data = speed_lyft[(speed_lyft['Conflict type'] == conflict_type) & (speed_lyft['vehicle_type'] == vehicle_order)]['average_speed']\n",
    "\n",
    "    t_stat, t_pvalue = ttest_ind(waymo_data, lyft_data, equal_var=False)\n",
    "    mw_stat, mw_pvalue = mannwhitneyu(waymo_data, lyft_data, alternative='two-sided')\n",
    "\n",
    "    results.append({\n",
    "        'Conflict type': conflict_type,\n",
    "        'Vehicle order': vehicle_order,\n",
    "        'T-test p-value': t_pvalue,\n",
    "        'Mann-Whitney p-value': mw_pvalue\n",
    "    })\n",
    "\n",
    "results_df = pd.DataFrame(results)\n",
    "print(\"Speed comparison\")\n",
    "print(results_df)"
   ]
  },
  {
   "cell_type": "markdown",
   "id": "dcfc6e67-a5ce-45b2-9d12-fe61cf5dcd3c",
   "metadata": {},
   "source": [
    "## Acceleration"
   ]
  },
  {
   "cell_type": "code",
   "execution_count": 54,
   "id": "b3e4ff27-188b-4371-bdbd-ac5217234f8b",
   "metadata": {},
   "outputs": [],
   "source": [
    "acc_waymo_merge = pd.read_csv(\"./outputs/trb/waymo_merge_acc.csv\")\n",
    "acc_waymo_cross = pd.read_csv(\"./outputs/trb/waymo_cross_acc.csv\")\n",
    "acc_waymo_merge[\"Conflict type\"] = \"Merge\"\n",
    "acc_waymo_cross[\"Conflict type\"] = \"Cross\"\n",
    "\n",
    "acc_lyft_merge = pd.read_csv(\"./outputs/trb/lyft_merge_acc.csv\")\n",
    "acc_lyft_cross = pd.read_csv(\"./outputs/trb/lyft_cross_acc.csv\")\n",
    "acc_lyft_merge[\"Conflict type\"] = \"Merge\"\n",
    "acc_lyft_cross[\"Conflict type\"] = \"Cross\"\n",
    "\n",
    "acc_waymo = pd.concat([acc_waymo_merge, acc_waymo_cross]).dropna()\n",
    "acc_lyft = pd.concat([acc_lyft_merge, acc_lyft_cross]).dropna()"
   ]
  },
  {
   "cell_type": "code",
   "execution_count": 51,
   "id": "10927784-ce4f-4e1c-9ad0-516205722fe2",
   "metadata": {},
   "outputs": [
    {
     "name": "stdout",
     "output_type": "stream",
     "text": [
      "Acceleration comparison\n",
      "  Conflict type Vehicle order  T-test p-value  Mann-Whitney p-value\n",
      "0         Cross         HV-AV           0.000                 0.000\n",
      "1         Cross         HV-HV           0.000                 0.000\n",
      "2         Merge         HV-AV           0.684                 0.667\n",
      "3         Cross         AV-HV           0.837                 0.721\n",
      "4         Merge         HV-HV           0.682                 0.489\n",
      "5         Merge         AV-HV           0.529                 0.468\n"
     ]
    }
   ],
   "source": [
    "common_groups = set(zip(acc_waymo['Conflict type'], acc_waymo['vehicle_type'])) & set(zip(acc_lyft['Conflict type'], acc_lyft['vehicle_type']))\n",
    "results = []\n",
    "\n",
    "for conflict_type, vehicle_order in common_groups:\n",
    " \n",
    "    waymo_data = acc_waymo[(acc_waymo['Conflict type'] == conflict_type) & (acc_waymo['vehicle_type'] == vehicle_order)]['average_acceleration']\n",
    "    lyft_data = acc_lyft[(acc_lyft['Conflict type'] == conflict_type) & (acc_lyft['vehicle_type'] == vehicle_order)]['average_acceleration']\n",
    "\n",
    "    t_stat, t_pvalue = ttest_ind(waymo_data, lyft_data, equal_var=False)\n",
    "    mw_stat, mw_pvalue = mannwhitneyu(waymo_data, lyft_data, alternative='two-sided')\n",
    "\n",
    "    results.append({\n",
    "        'Conflict type': conflict_type,\n",
    "        'Vehicle order': vehicle_order,\n",
    "        'T-test p-value': t_pvalue,\n",
    "        'Mann-Whitney p-value': mw_pvalue\n",
    "    })\n",
    "\n",
    "results_df = pd.DataFrame(results)\n",
    "print(\"Acceleration comparison\")\n",
    "print(results_df)"
   ]
  },
  {
   "cell_type": "code",
   "execution_count": null,
   "id": "9e6f9dae-0014-4bc6-90c7-07a3332b347a",
   "metadata": {},
   "outputs": [],
   "source": []
  }
 ],
 "metadata": {
  "kernelspec": {
   "display_name": "Python 3 (ipykernel)",
   "language": "python",
   "name": "python3"
  },
  "language_info": {
   "codemirror_mode": {
    "name": "ipython",
    "version": 3
   },
   "file_extension": ".py",
   "mimetype": "text/x-python",
   "name": "python",
   "nbconvert_exporter": "python",
   "pygments_lexer": "ipython3",
   "version": "3.8.18"
  }
 },
 "nbformat": 4,
 "nbformat_minor": 5
}
