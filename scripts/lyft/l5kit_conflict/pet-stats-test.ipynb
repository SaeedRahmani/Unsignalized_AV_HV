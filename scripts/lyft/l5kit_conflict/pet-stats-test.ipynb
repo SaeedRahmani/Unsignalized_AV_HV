{
 "cells": [
  {
   "cell_type": "code",
   "execution_count": 1,
   "id": "3e31d584-2d42-4c30-8820-2f60575c8295",
   "metadata": {},
   "outputs": [],
   "source": [
    "import pickle\n",
    "import numpy as np\n",
    "import pandas as pd\n",
    "import matplotlib.pyplot as plt\n",
    "# import scienceplots\n",
    "%matplotlib inline\n",
    "from seaborn import displot, histplot\n",
    "plt.style.use(['seaborn-v0_8-paper'])\n",
    "from tqdm import tqdm\n",
    "from shapely.geometry import LineString\n",
    "from conflict import ConflictLyft\n",
    "from scipy import stats\n",
    "import statsmodels.api as sm "
   ]
  },
  {
   "cell_type": "markdown",
   "id": "34c13480-46ce-4bfa-a96d-e45bb4daef55",
   "metadata": {},
   "source": [
    "## Data process"
   ]
  },
  {
   "cell_type": "code",
   "execution_count": 2,
   "id": "669d41b6-e6fa-4856-a5f0-cd9cc557ba49",
   "metadata": {},
   "outputs": [],
   "source": [
    "with open('./lyft_avhv_conflict.pkl', 'rb') as file:\n",
    "    lyft_avhv_conflict_list = pickle.load(file)\n",
    "\n",
    "with open('./lyft_hvhv_conflict.pkl', 'rb') as file:\n",
    "    lyft_hvhv_conflict_list = pickle.load(file)\n",
    "\n",
    "lyft_conflict_list = lyft_avhv_conflict_list + lyft_hvhv_conflict_list\n",
    "\n",
    "# convert the type to latest conflict object\n",
    "conflict_list = list()\n",
    "for c_index, c in enumerate(lyft_conflict_list):\n",
    "    # print(c_index)\n",
    "    conflict_list.append(ConflictLyft(\n",
    "        leader_id=c.first_id,\n",
    "        follower_id=c.second_id,\n",
    "        leader_time_at_conflict=c.first_time_at_conflict,\n",
    "        follower_time_at_conflict=c.second_time_at_conflict,\n",
    "        leader_is_av=c.is_first_AV,\n",
    "        follower_is_av=c.is_second_AV,\n",
    "        PET=c.PET,\n",
    "        conflict_type=c.category.upper(),\n",
    "        leader_traj=c.first_trajectory.xy[1:-1,:],\n",
    "        follower_traj=c.second_trajectory.xy[1:-1,:],\n",
    "        leader_traj_timestamp=c.first_trajectory.t[1:-1],\n",
    "        follower_traj_timestamp=c.second_trajectory.t[1:-1],\n",
    "        leader_traj_speed=c.first_trajectory.smoothed_v,\n",
    "        follower_traj_speed=c.second_trajectory.smoothed_v,\n",
    "    ))\n",
    "assert len(conflict_list) == len(lyft_conflict_list)"
   ]
  },
  {
   "cell_type": "code",
   "execution_count": 3,
   "id": "1452c74e",
   "metadata": {},
   "outputs": [
    {
     "name": "stderr",
     "output_type": "stream",
     "text": [
      "1745it [00:00, 497218.78it/s]"
     ]
    },
    {
     "name": "stdout",
     "output_type": "stream",
     "text": [
      "<class 'pandas.core.frame.DataFrame'>\n",
      "Int64Index: 1745 entries, 0 to 1744\n",
      "Data columns (total 3 columns):\n",
      " #   Column         Non-Null Count  Dtype  \n",
      "---  ------         --------------  -----  \n",
      " 0   Conflict type  1745 non-null   object \n",
      " 1   Vehicle order  1745 non-null   object \n",
      " 2   PET            1745 non-null   float64\n",
      "dtypes: float64(1), object(2)\n",
      "memory usage: 54.5+ KB\n"
     ]
    },
    {
     "name": "stderr",
     "output_type": "stream",
     "text": [
      "\n"
     ]
    }
   ],
   "source": [
    "\"\"\"\n",
    "Construct a dataframe with the following columns:\n",
    "- Conflict type\n",
    "- Vehicle order\n",
    "- PET\n",
    "\"\"\"\n",
    "conflict_cols_in_df = [\n",
    "    \"Conflict type\",\n",
    "    \"Vehicle order\",\n",
    "    \"PET\"\n",
    "]\n",
    "\n",
    "# generate each rows in the dataframe\n",
    "conflict_rows_in_df = list()\n",
    "\n",
    "for index, conflict in tqdm(enumerate(conflict_list)):\n",
    "    leader_type = \"AV\" if conflict.leader_is_av else \"HV\"\n",
    "    follower_type = \"AV\" if conflict.follower_is_av else \"HV\" \n",
    "    conflict_type = \"Cross\" if conflict.conflict_type == \"CROSS\" else \"Merge\"\n",
    "    conflict_rows_in_df.append([\n",
    "        conflict_type,\n",
    "        leader_type+\"-\"+follower_type,\n",
    "        conflict.PET,\n",
    "    ])\n",
    "conflict_df = pd.DataFrame(conflict_rows_in_df, columns=conflict_cols_in_df)\n",
    "\n",
    "# Post-process\n",
    "PET_THRESHOLD = 10\n",
    "conflict_df = conflict_df[conflict_df[\"PET\"] <= PET_THRESHOLD]\n",
    "\n",
    "# display info\n",
    "conflict_df.info()"
   ]
  },
  {
   "cell_type": "markdown",
   "id": "3ef48a19-f054-4a7a-a852-19291e431cef",
   "metadata": {},
   "source": [
    "#Conflicts"
   ]
  },
  {
   "cell_type": "code",
   "execution_count": 4,
   "id": "6917ba95-2a9f-475a-bda4-9b5afc2dc2c3",
   "metadata": {},
   "outputs": [
    {
     "data": {
      "text/plain": [
       "Merge    1134\n",
       "Cross     611\n",
       "Name: Conflict type, dtype: int64"
      ]
     },
     "execution_count": 4,
     "metadata": {},
     "output_type": "execute_result"
    }
   ],
   "source": [
    "conflict_df[\"Conflict type\"].value_counts()"
   ]
  },
  {
   "cell_type": "code",
   "execution_count": 5,
   "id": "3c7bf688-4014-4b99-8871-8e000d6f99cb",
   "metadata": {},
   "outputs": [
    {
     "data": {
      "text/plain": [
       "Conflict type  Vehicle order\n",
       "Merge          HV-HV            793\n",
       "Cross          HV-HV            456\n",
       "Merge          HV-AV            190\n",
       "               AV-HV            151\n",
       "Cross          HV-AV             93\n",
       "               AV-HV             62\n",
       "dtype: int64"
      ]
     },
     "execution_count": 5,
     "metadata": {},
     "output_type": "execute_result"
    }
   ],
   "source": [
    "conflict_df[[\"Conflict type\", \"Vehicle order\"]].value_counts()"
   ]
  },
  {
   "cell_type": "markdown",
   "id": "16ce4a70-9724-43ef-85ac-35df351bce9b",
   "metadata": {},
   "source": [
    "Mean"
   ]
  },
  {
   "cell_type": "code",
   "execution_count": 6,
   "id": "02550736-76cf-422f-ab17-784a9078fa05",
   "metadata": {},
   "outputs": [
    {
     "data": {
      "text/plain": [
       "Conflict type  Vehicle order\n",
       "Cross          AV-HV            3.845161\n",
       "               HV-AV            7.346237\n",
       "               HV-HV            4.675219\n",
       "Merge          AV-HV            3.331126\n",
       "               HV-AV            7.075789\n",
       "               HV-HV            4.624842\n",
       "Name: PET, dtype: float64"
      ]
     },
     "execution_count": 6,
     "metadata": {},
     "output_type": "execute_result"
    }
   ],
   "source": [
    "# mean\n",
    "conflict_df.groupby([\"Conflict type\", \"Vehicle order\"])['PET'].mean()"
   ]
  },
  {
   "cell_type": "markdown",
   "id": "667d9bfb-6e4f-4ad4-ab56-f9e2e2f276ba",
   "metadata": {},
   "source": [
    "Std"
   ]
  },
  {
   "cell_type": "code",
   "execution_count": 7,
   "id": "ad9e316f-c6f0-4505-9667-6590567f649e",
   "metadata": {},
   "outputs": [
    {
     "data": {
      "text/plain": [
       "Conflict type  Vehicle order\n",
       "Cross          AV-HV            1.273909\n",
       "               HV-AV            1.300715\n",
       "               HV-HV            2.175200\n",
       "Merge          AV-HV            1.678975\n",
       "               HV-AV            1.894588\n",
       "               HV-HV            2.378444\n",
       "Name: PET, dtype: float64"
      ]
     },
     "execution_count": 7,
     "metadata": {},
     "output_type": "execute_result"
    }
   ],
   "source": [
    "# std \n",
    "conflict_df.groupby([\"Conflict type\", \"Vehicle order\"])['PET'].std()"
   ]
  },
  {
   "cell_type": "code",
   "execution_count": 8,
   "id": "887de7f6-a806-4915-b01c-034a97168322",
   "metadata": {},
   "outputs": [],
   "source": [
    "cross_df = conflict_df[conflict_df[\"Conflict type\"] == \"Cross\"]\n",
    "merge_df = conflict_df[conflict_df[\"Conflict type\"] == \"Merge\"]\n",
    "\n",
    "HVHV_cross = cross_df[cross_df[\"Vehicle order\"] == \"HV-HV\"]\n",
    "AVHV_cross = cross_df[cross_df[\"Vehicle order\"] == \"AV-HV\"]\n",
    "HVAV_cross = cross_df[cross_df[\"Vehicle order\"] == \"HV-AV\"]\n",
    "\n",
    "HVHV_merge = merge_df[merge_df[\"Vehicle order\"] == \"HV-HV\"]\n",
    "AVHV_merge = merge_df[merge_df[\"Vehicle order\"] == \"AV-HV\"]\n",
    "HVAV_merge = merge_df[merge_df[\"Vehicle order\"] == \"HV-AV\"]"
   ]
  },
  {
   "cell_type": "code",
   "execution_count": 9,
   "id": "ff5c9a36-4989-4ae1-a054-aca9fc6d2fd4",
   "metadata": {},
   "outputs": [],
   "source": [
    "conflict_df.to_csv(\"./outputs/trb/lyft_pet.csv\", index=False)"
   ]
  },
  {
   "cell_type": "markdown",
   "id": "4bce169b-7a4e-48c5-80a7-3e3d182154f2",
   "metadata": {},
   "source": [
    "## Stats Test"
   ]
  },
  {
   "cell_type": "markdown",
   "id": "a2444e54-afae-46de-93f2-177c355f8e6f",
   "metadata": {
    "jp-MarkdownHeadingCollapsed": true
   },
   "source": [
    "### Normality Test"
   ]
  },
  {
   "cell_type": "code",
   "execution_count": 78,
   "id": "f6b21efa-b849-47de-837e-a87ebfcb9b42",
   "metadata": {},
   "outputs": [
    {
     "data": {
      "text/plain": [
       "1.6619397911199485e-06"
      ]
     },
     "execution_count": 78,
     "metadata": {},
     "output_type": "execute_result"
    }
   ],
   "source": [
    "# HVHV::Cross\n",
    "stats.shapiro(HVHV_cross.PET).pvalue # 4.0118783295461924e-11\n",
    "\n",
    "# AVHV::Cross\n",
    "stats.shapiro(AVHV_cross.PET).pvalue # 0.022226838394999504\n",
    "\n",
    "# HVAV::Cross\n",
    "stats.shapiro(HVAV_cross.PET).pvalue # 0.0005004151607863605\n",
    "\n",
    "# HVHV::Merge\n",
    "stats.shapiro(HVHV_merge.PET).pvalue # 2.2616701998072816e-18\n",
    "\n",
    "# AVHV::Merge\n",
    "stats.shapiro(AVHV_merge.PET).pvalue # 1.682047903739381e-11\n",
    "\n",
    "# HVAV::Merge\n",
    "stats.shapiro(HVAV_merge.PET).pvalue # 1.6619397911199485e-06"
   ]
  },
  {
   "cell_type": "markdown",
   "id": "35f21e23-5e46-447c-955f-8ec360d4687d",
   "metadata": {},
   "source": [
    "### Mann-Whitney U Test"
   ]
  },
  {
   "cell_type": "code",
   "execution_count": 12,
   "id": "f62717d7-0183-4919-8342-105eadffeb08",
   "metadata": {},
   "outputs": [
    {
     "data": {
      "text/plain": [
       "1.0461366620748009e-38"
      ]
     },
     "execution_count": 12,
     "metadata": {},
     "output_type": "execute_result"
    }
   ],
   "source": [
    "# HVHV::HVAV | Cross\n",
    "stats.mannwhitneyu(x=HVHV_cross.PET, y=HVAV_cross.PET, alternative=\"two-sided\").pvalue # 3.3968684980172054e-25\n",
    "\n",
    "# HVHV::AVHV | Cross\n",
    "stats.mannwhitneyu(x=HVHV_cross.PET, y=AVHV_cross.PET, alternative=\"two-sided\").pvalue # 0.005834042105093738\n",
    "\n",
    "# HVHV::HVAV | Merge\n",
    "stats.mannwhitneyu(HVHV_merge.PET, HVAV_merge.PET, alternative=\"two-sided\").pvalue # 4.320736121733289e-33\n",
    "\n",
    "# HVHV::AVHV | Merge\n",
    "stats.mannwhitneyu(HVHV_merge.PET, AVHV_merge.PET, alternative=\"two-sided\").pvalue # 6.473436096260261e-12\n",
    "\n",
    "# AVHV::HVAV | Cross\n",
    "stats.mannwhitneyu(AVHV_cross.PET, HVAV_cross.PET, alternative=\"two-sided\").pvalue # 7.322476713102058e-23\n",
    "\n",
    "# AVHV::HVAV | Merge\n",
    "stats.mannwhitneyu(AVHV_merge.PET, HVAV_merge.PET, alternative=\"two-sided\").pvalue # 1.0461366620748009e-38\n"
   ]
  },
  {
   "cell_type": "markdown",
   "id": "3452141e-7cb7-466a-a24c-cd1e9220bf16",
   "metadata": {},
   "source": [
    "### T-Test"
   ]
  },
  {
   "cell_type": "code",
   "execution_count": 15,
   "id": "12fb837c-bb98-4443-836e-c6d5e3af7488",
   "metadata": {},
   "outputs": [
    {
     "data": {
      "text/plain": [
       "1.4961574697278332e-55"
      ]
     },
     "execution_count": 15,
     "metadata": {},
     "output_type": "execute_result"
    }
   ],
   "source": [
    "# HVHV::HVAV | Cross\n",
    "stats.ttest_ind(HVHV_cross.PET, HVAV_cross.PET).pvalue # 2.8717940787212612e-27\n",
    "\n",
    "# HVHV::AVHV | Cross\n",
    "stats.ttest_ind(HVHV_cross.PET, AVHV_cross.PET).pvalue # 0.003478778612099769\n",
    "\n",
    "# HVHV::HVAV | Merge\n",
    "stats.ttest_ind(HVHV_merge.PET, HVAV_merge.PET).pvalue # 6.750517798820859e-37\n",
    "\n",
    "# HVHV::AVHV | Merge\n",
    "stats.ttest_ind(HVHV_merge.PET, AVHV_merge.PET).pvalue # 2.661792417462183e-10\n",
    "\n",
    "# AVHV::HVAV | Cross\n",
    "stats.ttest_ind(AVHV_cross.PET, HVAV_cross.PET,).pvalue # 6.415030209689625e-36\n",
    "\n",
    "# AVHV::HVAV | Merge\n",
    "stats.ttest_ind(AVHV_merge.PET, HVAV_merge.PET).pvalue # 1.4961574697278332e-55"
   ]
  },
  {
   "cell_type": "markdown",
   "id": "51c4426a-4e12-432b-abcc-e68b79e078e4",
   "metadata": {},
   "source": [
    "### ANOVA"
   ]
  },
  {
   "cell_type": "code",
   "execution_count": 57,
   "id": "343268ae-3ecb-4cd9-89ed-fea73b128248",
   "metadata": {},
   "outputs": [
    {
     "data": {
      "text/plain": [
       "5.737005309103852e-32"
      ]
     },
     "execution_count": 57,
     "metadata": {},
     "output_type": "execute_result"
    }
   ],
   "source": [
    "# Merge\n",
    "stats.f_oneway(HVHV_merge.PET, HVAV_merge.PET, AVHV_merge.PET).pvalue # 3.3339397298706515e-53\n",
    "\n",
    "# Cross\n",
    "stats.f_oneway(HVHV_cross.PET, HVAV_cross.PET, AVHV_cross.PET).pvalue # 5.737005309103852e-32"
   ]
  },
  {
   "cell_type": "markdown",
   "id": "1ca1ef94-3543-4b6f-9aed-a3f99df97d4c",
   "metadata": {},
   "source": [
    "## Draw distributions"
   ]
  },
  {
   "cell_type": "markdown",
   "id": "a154786a-2662-4198-bf56-bd39a320ba34",
   "metadata": {},
   "source": [
    "### Total"
   ]
  },
  {
   "cell_type": "code",
   "execution_count": 59,
   "id": "d94c1114-d8b3-4476-a09a-25fcc97b9681",
   "metadata": {},
   "outputs": [
    {
     "data": {
      "text/plain": [
       "<Figure size 300x300 with 0 Axes>"
      ]
     },
     "metadata": {},
     "output_type": "display_data"
    },
    {
     "data": {
      "image/png": "[encoded data removed]",
      "text/plain": [
       "<Figure size 300x300 with 1 Axes>"
      ]
     },
     "metadata": {},
     "output_type": "display_data"
    }
   ],
   "source": [
    "palette = {\n",
    "    \"HV-HV\" : '#257ab6', \n",
    "    \"AV-HV\" : '#31a231',\n",
    "    \"HV-AV\" : '#ff8214',\n",
    "}\n",
    "\n",
    "HVHV_COLOR = '#257ab6'\n",
    "HVAV_COLOR = '#31a231'\n",
    "AVHV_COLOR = '#ff8214'\n",
    "\n",
    "FIGURE_WIDTH, FIGURE_HEIGHT = 3, 3\n",
    "plt.figure(figsize=(FIGURE_WIDTH, FIGURE_HEIGHT))\n",
    "\n",
    "displot(\n",
    "    data=conflict_df,\n",
    "    x=\"PET\", \n",
    "    hue=\"Vehicle order\",\n",
    "    hue_order=[\"HV-HV\", \"AV-HV\", \"HV-AV\"],\n",
    "    kind=\"kde\",\n",
    "    common_norm=False,\n",
    "    palette=palette,\n",
    "    height=FIGURE_HEIGHT,\n",
    "    aspect=1.0,\n",
    "    legend=False,\n",
    ")\n",
    "\n",
    "plt.xlim([0,PET_THRESHOLD])\n",
    "# plt.ylim([0,0.15])\n",
    "plt.legend([\"HV-AV\", \"AV-HV\", \"HV-HV\"], title=\"Vehicle order\")\n",
    "plt.title(\"PET distribution [Total] (Lyft)\")\n",
    "# plt.savefig(\"./outputs/plots/lyft_distribution_PET_Total.png\", dpi=300, bbox_inches=\"tight\")\n",
    "plt.show()"
   ]
  },
  {
   "cell_type": "markdown",
   "id": "971ea582-e70b-41e5-af4b-bca57ad485e1",
   "metadata": {},
   "source": [
    "### Merge"
   ]
  },
  {
   "cell_type": "code",
   "execution_count": 60,
   "id": "14d920a2-f201-451c-93e0-fb69302dada6",
   "metadata": {},
   "outputs": [
    {
     "data": {
      "text/plain": [
       "<Figure size 300x300 with 0 Axes>"
      ]
     },
     "metadata": {},
     "output_type": "display_data"
    },
    {
     "data": {
      "image/png": "[encoded data removed]",
      "text/plain": [
       "<Figure size 300x300 with 1 Axes>"
      ]
     },
     "metadata": {},
     "output_type": "display_data"
    }
   ],
   "source": [
    "plt.figure(figsize=(FIGURE_WIDTH, FIGURE_HEIGHT))\n",
    "\n",
    "displot(\n",
    "    data=conflict_df[conflict_df[\"Conflict type\"]==\"Merge\"],\n",
    "    x=\"PET\", \n",
    "    hue=\"Vehicle order\",\n",
    "    hue_order=[\"HV-HV\", \"AV-HV\", \"HV-AV\"],\n",
    "    kind=\"kde\",\n",
    "    common_norm=False,\n",
    "    palette=palette,\n",
    "    height=FIGURE_HEIGHT,\n",
    "    aspect=1.0,\n",
    "    legend=False,\n",
    ")\n",
    "\n",
    "plt.xlim([0,PET_THRESHOLD])\n",
    "# plt.ylim([0,0.15])\n",
    "plt.legend([\"HV-AV\", \"AV-HV\", \"HV-HV\"], title=\"Vehicle order\")\n",
    "plt.title(\"PET distribution [Merge] (Lyft)\")\n",
    "# plt.savefig(\"./outputs/plots/lyft_distribution_PET_Merge.png\", dpi=300, bbox_inches=\"tight\")\n",
    "plt.show()"
   ]
  },
  {
   "cell_type": "markdown",
   "id": "e347dd84-a656-4e36-9f8f-268aee50b5ea",
   "metadata": {},
   "source": [
    "### Cross"
   ]
  },
  {
   "cell_type": "code",
   "execution_count": 61,
   "id": "7da32ca7-a6bf-4059-8507-7bd475a39ca2",
   "metadata": {},
   "outputs": [
    {
     "data": {
      "text/plain": [
       "<Figure size 300x300 with 0 Axes>"
      ]
     },
     "metadata": {},
     "output_type": "display_data"
    },
    {
     "data": {
      "image/png": "[encoded data removed]",
      "text/plain": [
       "<Figure size 300x300 with 1 Axes>"
      ]
     },
     "metadata": {},
     "output_type": "display_data"
    }
   ],
   "source": [
    "plt.figure(figsize=(FIGURE_WIDTH, FIGURE_HEIGHT))\n",
    "\n",
    "displot(\n",
    "    data=conflict_df[conflict_df[\"Conflict type\"]==\"Cross\"],\n",
    "    x=\"PET\", \n",
    "    hue=\"Vehicle order\",\n",
    "    hue_order=[\"HV-HV\", \"AV-HV\", \"HV-AV\"],\n",
    "    kind=\"kde\",\n",
    "    common_norm=False,\n",
    "    palette=palette,\n",
    "    height=FIGURE_HEIGHT,\n",
    "    aspect=1.0,\n",
    "    legend=False,\n",
    ")\n",
    "\n",
    "plt.xlim([0,PET_THRESHOLD])\n",
    "# plt.ylim([0,0.15])\n",
    "plt.legend([\"HV-AV\", \"AV-HV\", \"HV-HV\"], title=\"Vehicle order\")\n",
    "plt.title(\"PET distribution [Cross] (Lyft)\")\n",
    "# plt.savefig(\"./outputs/plots/lyft_distribution_PET_Cross.png\", dpi=300, bbox_inches=\"tight\")\n",
    "plt.show()"
   ]
  },
  {
   "cell_type": "code",
   "execution_count": null,
   "id": "e5a08f2e-54c7-41da-89af-21af797841d0",
   "metadata": {},
   "outputs": [],
   "source": []
  }
 ],
 "metadata": {
  "kernelspec": {
   "display_name": "Python 3 (ipykernel)",
   "language": "python",
   "name": "python3"
  },
  "language_info": {
   "codemirror_mode": {
    "name": "ipython",
    "version": 3
   },
   "file_extension": ".py",
   "mimetype": "text/x-python",
   "name": "python",
   "nbconvert_exporter": "python",
   "pygments_lexer": "ipython3",
   "version": "3.8.18"
  }
 },
 "nbformat": 4,
 "nbformat_minor": 5
}
