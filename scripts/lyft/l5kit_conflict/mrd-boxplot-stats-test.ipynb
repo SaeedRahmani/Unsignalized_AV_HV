{
 "cells": [
  {
   "cell_type": "code",
   "execution_count": 7,
   "id": "e5dd6c76-bdaa-4a44-9899-2203810f207b",
   "metadata": {},
   "outputs": [],
   "source": [
    "import pickle\n",
    "import numpy as np\n",
    "import pandas as pd\n",
    "import matplotlib.pyplot as plt\n",
    "import scienceplots\n",
    "%matplotlib inline\n",
    "from seaborn import displot, histplot, relplot, boxplot\n",
    "plt.style.use(['nature'])\n",
    "from tqdm import tqdm\n",
    "from shapely.geometry import LineString\n",
    "from conflict import ConflictLyft\n",
    "from scipy import stats\n",
    "import statsmodels.api as sm "
   ]
  },
  {
   "cell_type": "code",
   "execution_count": 8,
   "id": "d0c1fc96-4da4-4e8b-86d8-13e07f4a1782",
   "metadata": {},
   "outputs": [
    {
     "data": {
      "text/plain": [
       "(859, 886)"
      ]
     },
     "execution_count": 8,
     "metadata": {},
     "output_type": "execute_result"
    }
   ],
   "source": [
    "# first junction\n",
    "with open('./lyft_avhv_conflict_j1.pkl', 'rb') as file:\n",
    "    lyft_avhv_conflict_list1 = pickle.load(file)\n",
    "\n",
    "with open('./lyft_hvhv_conflict_j1.pkl', 'rb') as file:\n",
    "    lyft_hvhv_conflict_list1 = pickle.load(file)\n",
    "\n",
    "lyft_conflict_list1 = lyft_avhv_conflict_list1 + lyft_hvhv_conflict_list1\n",
    "\n",
    "# second junction\n",
    "with open('./lyft_avhv_conflict_j2.pkl', 'rb') as file:\n",
    "    lyft_avhv_conflict_list2 = pickle.load(file)\n",
    "\n",
    "with open('./lyft_hvhv_conflict_j2.pkl', 'rb') as file:\n",
    "    lyft_hvhv_conflict_list2 = pickle.load(file)\n",
    "\n",
    "lyft_conflict_list2 = lyft_avhv_conflict_list2 + lyft_hvhv_conflict_list2\n",
    "\n",
    "# report sample size\n",
    "len(lyft_conflict_list1), len(lyft_conflict_list2)"
   ]
  },
  {
   "cell_type": "code",
   "execution_count": 9,
   "id": "005ba858-0685-43fb-b79b-aa32c126b0e9",
   "metadata": {},
   "outputs": [
    {
     "data": {
      "text/plain": [
       "(859, 886)"
      ]
     },
     "execution_count": 9,
     "metadata": {},
     "output_type": "execute_result"
    }
   ],
   "source": [
    "# convert the type to latest conflict object\n",
    "conflict_list1 = list()\n",
    "for c_index, c in enumerate(lyft_conflict_list1):\n",
    "    # print(c_index)\n",
    "    conflict_list1.append(ConflictLyft(\n",
    "        leader_id=c.first_id,\n",
    "        follower_id=c.second_id,\n",
    "        leader_time_at_conflict=c.first_time_at_conflict,\n",
    "        follower_time_at_conflict=c.second_time_at_conflict,\n",
    "        leader_is_av=c.is_first_AV,\n",
    "        follower_is_av=c.is_second_AV,\n",
    "        PET=c.PET,\n",
    "        conflict_type=c.category.upper(),\n",
    "        leader_traj=c.first_trajectory.xy[1:-1,:],\n",
    "        follower_traj=c.second_trajectory.xy[1:-1,:],\n",
    "        leader_traj_timestamp=c.first_trajectory.t[1:-1],\n",
    "        follower_traj_timestamp=c.second_trajectory.t[1:-1],\n",
    "        leader_traj_speed=c.first_trajectory.smoothed_v,\n",
    "        follower_traj_speed=c.second_trajectory.smoothed_v,\n",
    "        junction_id=1,\n",
    "    ))\n",
    "assert len(conflict_list1) == len(lyft_conflict_list1)\n",
    "\n",
    "conflict_list2 = list()\n",
    "for c_index, c in enumerate(lyft_conflict_list2):\n",
    "    # print(c_index)\n",
    "    conflict_list2.append(ConflictLyft(\n",
    "        leader_id=c.first_id,\n",
    "        follower_id=c.second_id,\n",
    "        leader_time_at_conflict=c.first_time_at_conflict,\n",
    "        follower_time_at_conflict=c.second_time_at_conflict,\n",
    "        leader_is_av=c.is_first_AV,\n",
    "        follower_is_av=c.is_second_AV,\n",
    "        PET=c.PET,\n",
    "        conflict_type=c.category.upper(),\n",
    "        leader_traj=c.first_trajectory.xy[1:-1,:],\n",
    "        follower_traj=c.second_trajectory.xy[1:-1,:],\n",
    "        leader_traj_timestamp=c.first_trajectory.t[1:-1],\n",
    "        follower_traj_timestamp=c.second_trajectory.t[1:-1],\n",
    "        leader_traj_speed=c.first_trajectory.smoothed_v,\n",
    "        follower_traj_speed=c.second_trajectory.smoothed_v,\n",
    "        junction_id=2,\n",
    "    ))\n",
    "assert len(conflict_list2) == len(lyft_conflict_list2)\n",
    "\n",
    "conflict_list = conflict_list1 + conflict_list2\n",
    "\n",
    "len(conflict_list1), len(conflict_list2)"
   ]
  },
  {
   "cell_type": "code",
   "execution_count": 10,
   "id": "88417691-b273-461c-a78c-f41358bb5cd0",
   "metadata": {},
   "outputs": [
    {
     "name": "stderr",
     "output_type": "stream",
     "text": [
      "1745it [00:00, 111213.33it/s]"
     ]
    },
    {
     "name": "stdout",
     "output_type": "stream",
     "text": [
      "<class 'pandas.core.frame.DataFrame'>\n",
      "Int64Index: 1745 entries, 0 to 1744\n",
      "Data columns (total 4 columns):\n",
      " #   Column         Non-Null Count  Dtype  \n",
      "---  ------         --------------  -----  \n",
      " 0   Conflict type  1745 non-null   object \n",
      " 1   Vehicle order  1745 non-null   object \n",
      " 2   PET            1745 non-null   float64\n",
      " 3   maxREQDEC      1463 non-null   float64\n",
      "dtypes: float64(2), object(2)\n",
      "memory usage: 68.2+ KB\n"
     ]
    },
    {
     "name": "stderr",
     "output_type": "stream",
     "text": [
      "\n"
     ]
    }
   ],
   "source": [
    "\"\"\"\n",
    "Construct a dataframe with the following columns:\n",
    "- Conflict type\n",
    "- Vehicle order\n",
    "- PET\n",
    "- maxREQDEC\n",
    "\"\"\"\n",
    "conflict_cols_in_df = [\n",
    "    \"Conflict type\",\n",
    "    \"Vehicle order\",\n",
    "    \"PET\",\n",
    "    \"maxREQDEC\"\n",
    "]\n",
    "\n",
    "# generate each rows in the dataframe\n",
    "conflict_rows_in_df = list()\n",
    "for index, conflict in tqdm(enumerate(conflict_list)):\n",
    "    leader_type = \"AV\" if conflict.leader_is_av else \"HV\"\n",
    "    follower_type = \"AV\" if conflict.follower_is_av else \"HV\" \n",
    "    conflict_type = \"Cross\" if conflict.conflict_type == \"CROSS\" else \"Merge\"\n",
    "    conflict_rows_in_df.append([\n",
    "        conflict_type,\n",
    "        leader_type+\"-\"+follower_type,\n",
    "        conflict.PET,\n",
    "        conflict.max_req_deceleration,\n",
    "    ])\n",
    "conflict_df = pd.DataFrame(conflict_rows_in_df, columns=conflict_cols_in_df)\n",
    "\n",
    "# Post-process\n",
    "PET_THRESHOLD = 10\n",
    "conflict_df = conflict_df[conflict_df[\"PET\"] <= PET_THRESHOLD]\n",
    "\n",
    "# display info\n",
    "conflict_df.info()"
   ]
  },
  {
   "cell_type": "code",
   "execution_count": 11,
   "id": "a6b4b4b2-95a2-45f6-8836-113bab986808",
   "metadata": {},
   "outputs": [
    {
     "name": "stdout",
     "output_type": "stream",
     "text": [
      "<class 'pandas.core.frame.DataFrame'>\n",
      "Int64Index: 1444 entries, 0 to 1744\n",
      "Data columns (total 4 columns):\n",
      " #   Column         Non-Null Count  Dtype  \n",
      "---  ------         --------------  -----  \n",
      " 0   Conflict type  1444 non-null   object \n",
      " 1   Vehicle order  1444 non-null   object \n",
      " 2   PET            1444 non-null   float64\n",
      " 3   maxREQDEC      1444 non-null   float64\n",
      "dtypes: float64(2), object(2)\n",
      "memory usage: 56.4+ KB\n"
     ]
    }
   ],
   "source": [
    "# Post-process: remove maxREQDEC greater than 10s\n",
    "maxREQDEC_THRESHOLD = 3\n",
    "conflict_df = conflict_df[conflict_df[\"maxREQDEC\"] <= maxREQDEC_THRESHOLD]\n",
    "\n",
    "# display info\n",
    "conflict_df.info()"
   ]
  },
  {
   "cell_type": "code",
   "execution_count": 12,
   "id": "259de659-325b-429a-88cd-7fecfebd3136",
   "metadata": {},
   "outputs": [],
   "source": [
    "conflict_df.to_csv(\"./outputs/trb/lyft_mrd.csv\", index=False)"
   ]
  },
  {
   "cell_type": "code",
   "execution_count": 13,
   "id": "7b70f4c6-86b6-4229-b4b6-c3e75653a6bf",
   "metadata": {},
   "outputs": [
    {
     "data": {
      "text/plain": [
       "Conflict type  Vehicle order\n",
       "Cross          AV-HV            0.875449\n",
       "               HV-AV            0.657767\n",
       "               HV-HV            0.607787\n",
       "Merge          AV-HV            0.849572\n",
       "               HV-AV            0.539334\n",
       "               HV-HV            0.588414\n",
       "Name: maxREQDEC, dtype: float64"
      ]
     },
     "execution_count": 13,
     "metadata": {},
     "output_type": "execute_result"
    }
   ],
   "source": [
    "conflict_df.groupby([\"Conflict type\", \"Vehicle order\"])['maxREQDEC'].mean()"
   ]
  },
  {
   "cell_type": "code",
   "execution_count": 14,
   "id": "2558e796-9fff-406e-a267-1d8d72c71800",
   "metadata": {},
   "outputs": [
    {
     "data": {
      "text/plain": [
       "Conflict type  Vehicle order\n",
       "Cross          AV-HV            0.562512\n",
       "               HV-AV            0.249066\n",
       "               HV-HV            0.524341\n",
       "Merge          AV-HV            0.387019\n",
       "               HV-AV            0.225277\n",
       "               HV-HV            0.448165\n",
       "Name: maxREQDEC, dtype: float64"
      ]
     },
     "execution_count": 14,
     "metadata": {},
     "output_type": "execute_result"
    }
   ],
   "source": [
    "conflict_df.groupby([\"Conflict type\", \"Vehicle order\"])['maxREQDEC'].std()"
   ]
  },
  {
   "cell_type": "code",
   "execution_count": 15,
   "id": "d1c9039d-10d3-4222-8c60-c43f1aa2b321",
   "metadata": {},
   "outputs": [],
   "source": [
    "HVHV = conflict_df[conflict_df[\"Vehicle order\"] == \"HV-HV\"]\n",
    "AVHV = conflict_df[conflict_df[\"Vehicle order\"] == \"AV-HV\"]\n",
    "HVAV = conflict_df[conflict_df[\"Vehicle order\"] == \"HV-AV\"]\n",
    "\n",
    "cross_df = conflict_df[conflict_df[\"Conflict type\"] == \"Cross\"]\n",
    "merge_df = conflict_df[conflict_df[\"Conflict type\"] == \"Merge\"]\n",
    "\n",
    "HVHV_cross = cross_df[cross_df[\"Vehicle order\"] == \"HV-HV\"]\n",
    "AVHV_cross = cross_df[cross_df[\"Vehicle order\"] == \"AV-HV\"]\n",
    "HVAV_cross = cross_df[cross_df[\"Vehicle order\"] == \"HV-AV\"]\n",
    "\n",
    "HVHV_merge = merge_df[merge_df[\"Vehicle order\"] == \"HV-HV\"]\n",
    "AVHV_merge = merge_df[merge_df[\"Vehicle order\"] == \"AV-HV\"]\n",
    "HVAV_merge = merge_df[merge_df[\"Vehicle order\"] == \"HV-AV\"]"
   ]
  },
  {
   "cell_type": "markdown",
   "id": "eca45303-c88b-4a10-89e3-ed22be56bf9f",
   "metadata": {},
   "source": [
    "## Stats Test"
   ]
  },
  {
   "cell_type": "markdown",
   "id": "ed1360eb-2ca2-4b05-b698-a91a9a04b44a",
   "metadata": {
    "jp-MarkdownHeadingCollapsed": true
   },
   "source": [
    "### Normality Test"
   ]
  },
  {
   "cell_type": "code",
   "execution_count": 22,
   "id": "621fe20d-1073-4c1a-b560-67b28c4d2c37",
   "metadata": {},
   "outputs": [
    {
     "data": {
      "text/plain": [
       "5.13558293113725e-12"
      ]
     },
     "execution_count": 22,
     "metadata": {},
     "output_type": "execute_result"
    }
   ],
   "source": [
    "# HVHV::Cross\n",
    "stats.shapiro(HVHV_cross.maxREQDEC).pvalue # 2.7307268605218e-15\n",
    "\n",
    "# AVHV::Cross\n",
    "stats.shapiro(AVHV_cross.maxREQDEC).pvalue # 0.01003706268966198\n",
    "\n",
    "# HVAV::Cross\n",
    "stats.shapiro(HVAV_cross.maxREQDEC).pvalue # 2.0142603140982374e-09\n",
    "\n",
    "# HVHV::Merge\n",
    "stats.shapiro(HVHV_merge.maxREQDEC).pvalue # 7.960624010262096e-20\n",
    "\n",
    "# AVHV::Merge\n",
    "stats.shapiro(AVHV_merge.maxREQDEC).pvalue # 0.2329382449388504\n",
    "\n",
    "# HVAV::Merge\n",
    "stats.shapiro(HVAV_merge.maxREQDEC).pvalue # 5.13558293113725e-12"
   ]
  },
  {
   "cell_type": "markdown",
   "id": "3ca43706-1686-416a-a2ee-0b4940ba71d4",
   "metadata": {},
   "source": [
    "### Mann-Whitney U Test"
   ]
  },
  {
   "cell_type": "code",
   "execution_count": 18,
   "id": "aecde55c-4f15-45da-8478-b2982048aa18",
   "metadata": {},
   "outputs": [
    {
     "data": {
      "text/plain": [
       "7.940332091555702e-14"
      ]
     },
     "execution_count": 18,
     "metadata": {},
     "output_type": "execute_result"
    }
   ],
   "source": [
    "# HVHV::HVAV | Cross\n",
    "stats.mannwhitneyu(x=HVHV_cross.maxREQDEC, y=HVAV_cross.maxREQDEC, alternative=\"two-sided\").pvalue # 0.003201624314039191\n",
    "\n",
    "# HVHV::AVHV | Cross\n",
    "stats.mannwhitneyu(x=HVHV_cross.maxREQDEC, y=AVHV_cross.maxREQDEC, alternative=\"two-sided\").pvalue # 0.0008079146367372274\n",
    "\n",
    "# HVAV::AVHV | Cross\n",
    "stats.mannwhitneyu(x=HVAV_cross.maxREQDEC, y=AVHV_cross.maxREQDEC, alternative=\"two-sided\").pvalue # 0.0007147080884238544\n",
    "\n",
    "# HVHV::HVAV | Merge\n",
    "stats.mannwhitneyu(HVHV_merge.maxREQDEC, HVAV_merge.maxREQDEC, alternative=\"two-sided\").pvalue # 0.7526399149083962\n",
    "\n",
    "# HVHV::AVHV | Merge\n",
    "stats.mannwhitneyu(HVHV_merge.maxREQDEC, AVHV_merge.maxREQDEC, alternative=\"two-sided\").pvalue # 3.6724763949104476e-13\n",
    "\n",
    "# HVAV::AVHV | Merge\n",
    "stats.mannwhitneyu(x=HVAV_merge.maxREQDEC, y=AVHV_merge.maxREQDEC, alternative=\"two-sided\").pvalue # 7.940332091555702e-14"
   ]
  },
  {
   "cell_type": "markdown",
   "id": "e7f0e774-7120-4bf3-9c5a-c94ad2caa7af",
   "metadata": {},
   "source": [
    "### T-test"
   ]
  },
  {
   "cell_type": "code",
   "execution_count": 21,
   "id": "2b4f3e91-69c9-4007-ab88-43a41956fa9e",
   "metadata": {},
   "outputs": [
    {
     "data": {
      "text/plain": [
       "6.405479734908932e-18"
      ]
     },
     "execution_count": 21,
     "metadata": {},
     "output_type": "execute_result"
    }
   ],
   "source": [
    "# HVHV::HVAV | Cross !!\n",
    "stats.ttest_ind(HVHV_cross.maxREQDEC, HVAV_cross.maxREQDEC).pvalue # 0.3757728595618033\n",
    "\n",
    "# HVHV::AVHV | Cross\n",
    "stats.ttest_ind(HVHV_cross.maxREQDEC, AVHV_cross.maxREQDEC).pvalue # 0.00029747357786155985\n",
    "\n",
    "# HVAV::AVHV | Cross\n",
    "stats.ttest_ind(HVAV_cross.maxREQDEC, AVHV_cross.maxREQDEC).pvalue # 0.0013298178381811628\n",
    "\n",
    "# HVHV::HVAV | Merge\n",
    "stats.ttest_ind(HVHV_merge.maxREQDEC, HVAV_merge.maxREQDEC).pvalue # 0.14826428647623469\n",
    "\n",
    "# HVHV::AVHV | Merge\n",
    "stats.ttest_ind(HVHV_merge.maxREQDEC, AVHV_merge.maxREQDEC).pvalue # 2.1216350509041634e-10\n",
    "\n",
    "# HVAV::AVHV | Merge\n",
    "stats.ttest_ind(HVAV_merge.maxREQDEC, AVHV_merge.maxREQDEC).pvalue # 6.405479734908932e-18"
   ]
  },
  {
   "cell_type": "markdown",
   "id": "85d5d7fb-c553-4928-a8af-eeb26fdb68ab",
   "metadata": {},
   "source": [
    "### ANOVA"
   ]
  },
  {
   "cell_type": "code",
   "execution_count": 10,
   "id": "2c4e3572-fc32-49b7-a438-b964a1082194",
   "metadata": {},
   "outputs": [
    {
     "data": {
      "text/plain": [
       "0.0004586689202786895"
      ]
     },
     "execution_count": 10,
     "metadata": {},
     "output_type": "execute_result"
    }
   ],
   "source": [
    "# Merge\n",
    "stats.f_oneway(HVHV_merge.maxREQDEC, HVAV_merge.maxREQDEC, AVHV_merge.maxREQDEC).pvalue # 8.38626989011627e-13\n",
    "\n",
    "# Cross\n",
    "stats.f_oneway(HVHV_cross.maxREQDEC, HVAV_cross.maxREQDEC, AVHV_cross.maxREQDEC).pvalue # 0.0004586689202786895"
   ]
  },
  {
   "cell_type": "markdown",
   "id": "e6c8e9db-4008-4982-a599-dfab7f29f235",
   "metadata": {},
   "source": [
    "## Boxplots"
   ]
  },
  {
   "cell_type": "code",
   "execution_count": 10,
   "id": "12fab6e5-bdad-410f-a211-394b2386fe5a",
   "metadata": {},
   "outputs": [],
   "source": [
    "palette = {\n",
    "    \"HV-HV\" : '#257ab6', \n",
    "    \"AV-HV\" : '#31a231',\n",
    "    \"HV-AV\" : '#ff8214',\n",
    "}"
   ]
  },
  {
   "cell_type": "markdown",
   "id": "1e1ea8b1-c57a-4deb-a0fd-b0486aa410bb",
   "metadata": {},
   "source": [
    "Lyft"
   ]
  },
  {
   "cell_type": "code",
   "execution_count": 11,
   "id": "dcee440a-0965-4478-8c35-ec8a64d10457",
   "metadata": {},
   "outputs": [
    {
     "data": {
      "image/png": "[encoded data removed]",
      "text/plain": [
       "<Figure size 220x220 with 1 Axes>"
      ]
     },
     "metadata": {},
     "output_type": "display_data"
    }
   ],
   "source": [
    "HVHV_COLOR = '#257ab6'\n",
    "HVAV_COLOR = '#31a231'\n",
    "AVHV_COLOR = '#ff8214'\n",
    "\n",
    "FIGURE_WIDTH, FIGURE_HEIGHT = 2.2, 2.2\n",
    "conflictType = \"Merge\"\n",
    "plt.figure(figsize=(FIGURE_WIDTH, FIGURE_HEIGHT))\n",
    "\n",
    "g = boxplot(\n",
    "    data=conflict_df[conflict_df[\"Conflict type\"] == conflictType],\n",
    "    y=\"maxREQDEC\",\n",
    "    hue=\"Vehicle order\",\n",
    "    hue_order=[\"HV-HV\", \"AV-HV\", \"HV-AV\"],\n",
    "    palette=palette,\n",
    "    gap=.5,\n",
    "    legend=True,\n",
    ")\n",
    "\n",
    "g.set_xlabel(\"Vehicle order\")\n",
    "g.set_ylabel(\"Max required deceleration ($m/s^2$)\")\n",
    "\n",
    "handles, labels = g.get_legend_handles_labels()\n",
    "g.legend(handles=handles[0:], labels=labels[0:])\n",
    "plt.ylim([0, 2])\n",
    "\n",
    "plt.title(f\"Lyft merging\")\n",
    "plt.savefig(f\"./outputs/trb/mrd_lyft_merge.png\", dpi=300, bbox_inches=\"tight\")\n",
    "plt.show()"
   ]
  },
  {
   "cell_type": "code",
   "execution_count": 12,
   "id": "6601a3f2-632e-41d9-9e3c-1c0d9846e9b4",
   "metadata": {},
   "outputs": [
    {
     "data": {
      "image/png": "[encoded data removed]",
      "text/plain": [
       "<Figure size 220x220 with 1 Axes>"
      ]
     },
     "metadata": {},
     "output_type": "display_data"
    }
   ],
   "source": [
    "palette = {\n",
    "    \"HV-HV\" : '#257ab6', \n",
    "    \"AV-HV\" : '#31a231',\n",
    "    \"HV-AV\" : '#ff8214',\n",
    "}\n",
    "\n",
    "HVHV_COLOR = '#257ab6'\n",
    "HVAV_COLOR = '#31a231'\n",
    "AVHV_COLOR = '#ff8214'\n",
    "\n",
    "FIGURE_WIDTH, FIGURE_HEIGHT = 2.2, 2.2\n",
    "conflictType = \"Cross\"\n",
    "plt.figure(figsize=(FIGURE_WIDTH, FIGURE_HEIGHT))\n",
    "\n",
    "g = boxplot(\n",
    "    data=conflict_df[conflict_df[\"Conflict type\"] == conflictType],\n",
    "    y=\"maxREQDEC\",\n",
    "    hue=\"Vehicle order\",\n",
    "    hue_order=[\"HV-HV\", \"AV-HV\", \"HV-AV\"],\n",
    "    palette=palette,\n",
    "    gap=.5,\n",
    "    legend=True,\n",
    ")\n",
    "\n",
    "g.set_xlabel(\"Vehicle order\")\n",
    "g.set_ylabel(\"Max required deceleration ($m/s^2$)\")\n",
    "handles, labels = g.get_legend_handles_labels()\n",
    "g.legend(handles=handles[0:], labels=labels[0:])\n",
    "plt.ylim([0, 2])\n",
    "\n",
    "plt.title(f\"Lyft crossing\")\n",
    "plt.savefig(f\"./outputs/trb/mrd_lyft_cross.png\", dpi=300, bbox_inches=\"tight\")\n",
    "plt.show()"
   ]
  },
  {
   "cell_type": "markdown",
   "id": "0354c3d6-814b-4218-bb2e-b91f270b9e21",
   "metadata": {},
   "source": [
    "Waymo "
   ]
  },
  {
   "cell_type": "code",
   "execution_count": 44,
   "id": "0cd23694-f1b7-4df1-a1d7-96c3f5da1584",
   "metadata": {},
   "outputs": [],
   "source": [
    "# palette = {\n",
    "#     \"HV-HV\" : '#257ab6', \n",
    "#     \"AV-HV\" : '#31a231',\n",
    "#     \"HV-AV\" : '#ff8214',\n",
    "# }\n",
    "\n",
    "# HVHV_COLOR = '#257ab6'\n",
    "# HVAV_COLOR = '#31a231'\n",
    "# AVHV_COLOR = '#ff8214'\n",
    "\n",
    "# FIGURE_WIDTH, FIGURE_HEIGHT = 2.2, 2.2\n",
    "# conflictType = \"Cross\"\n",
    "# plt.figure(figsize=(FIGURE_WIDTH, FIGURE_HEIGHT))\n",
    "\n",
    "# df = pd.read_csv(\"./outputs/plots/waymo_max_req_dec_cross.csv\")\n",
    "# g = boxplot(\n",
    "#     data=df,\n",
    "#     y=\"maxREQDEC\",\n",
    "#     hue=\"Vehicle order\",\n",
    "#     hue_order=[\"HV-HV\", \"AV-HV\", \"HV-AV\"],\n",
    "#     palette=palette,\n",
    "#     gap=.5,\n",
    "#     legend=True,\n",
    "# )\n",
    "\n",
    "# g.set_xlabel(\"Vehicle order\")\n",
    "# g.set_ylabel(\"Max required deceleration ($m/s^2$)\")\n",
    "# handles, labels = g.get_legend_handles_labels()\n",
    "# g.legend(handles=handles[0:], labels=labels[0:])\n",
    "# plt.ylim([0, 2])\n",
    "\n",
    "# plt.title(f\"Waymo crossing\")\n",
    "# plt.savefig(f\"./outputs/trb/mrd_waymo_cross.png\", dpi=300, bbox_inches=\"tight\")\n",
    "# plt.show()"
   ]
  },
  {
   "cell_type": "code",
   "execution_count": 43,
   "id": "59e21077-d6de-4501-baf2-2e6034f2dc2f",
   "metadata": {},
   "outputs": [],
   "source": [
    "# palette = {\n",
    "#     \"HV-HV\" : '#257ab6', \n",
    "#     \"AV-HV\" : '#31a231',\n",
    "#     \"HV-AV\" : '#ff8214',\n",
    "# }\n",
    "\n",
    "# HVHV_COLOR = '#257ab6'\n",
    "# HVAV_COLOR = '#31a231'\n",
    "# AVHV_COLOR = '#ff8214'\n",
    "\n",
    "# FIGURE_WIDTH, FIGURE_HEIGHT = 2.2, 2.2\n",
    "# conflictType = \"Merge\"\n",
    "# plt.figure(figsize=(FIGURE_WIDTH, FIGURE_HEIGHT))\n",
    "\n",
    "# df = pd.read_csv(\"./outputs/plots/waymo_max_req_dec_merge.csv\")\n",
    "# g = boxplot(\n",
    "#     data=df,\n",
    "#     y=\"maxREQDEC\",\n",
    "#     hue=\"Vehicle order\",\n",
    "#     hue_order=[\"HV-HV\", \"AV-HV\", \"HV-AV\"],\n",
    "#     palette=palette,\n",
    "#     gap=.5,\n",
    "#     legend=True,\n",
    "# )\n",
    "\n",
    "# g.set_xlabel(\"Vehicle order\")\n",
    "# g.set_ylabel(\"Max required deceleration ($m/s^2$)\")\n",
    "# handles, labels = g.get_legend_handles_labels()\n",
    "# g.legend(handles=handles[0:], labels=labels[0:])\n",
    "# plt.ylim([0, 2])\n",
    "# plt.title(f\"Waymo merging\")\n",
    "# plt.savefig(f\"./outputs/plots/mrd_waymo_merge.png\", dpi=300, bbox_inches=\"tight\")\n",
    "# plt.show()"
   ]
  },
  {
   "cell_type": "code",
   "execution_count": null,
   "id": "3482f6e2-d318-4fb3-869a-52627453955c",
   "metadata": {},
   "outputs": [],
   "source": []
  }
 ],
 "metadata": {
  "kernelspec": {
   "display_name": "Python 3 (ipykernel)",
   "language": "python",
   "name": "python3"
  },
  "language_info": {
   "codemirror_mode": {
    "name": "ipython",
    "version": 3
   },
   "file_extension": ".py",
   "mimetype": "text/x-python",
   "name": "python",
   "nbconvert_exporter": "python",
   "pygments_lexer": "ipython3",
   "version": "3.8.18"
  }
 },
 "nbformat": 4,
 "nbformat_minor": 5
}
