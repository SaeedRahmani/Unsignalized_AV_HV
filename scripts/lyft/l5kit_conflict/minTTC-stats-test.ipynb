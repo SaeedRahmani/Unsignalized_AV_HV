{
 "cells": [
  {
   "cell_type": "code",
   "execution_count": 1,
   "id": "7dc24564-09e9-4a45-bc10-385c81e916a7",
   "metadata": {},
   "outputs": [],
   "source": [
    "import pickle\n",
    "import numpy as np\n",
    "import pandas as pd\n",
    "import matplotlib.pyplot as plt\n",
    "# import scienceplots\n",
    "%matplotlib inline\n",
    "from seaborn import displot, histplot\n",
    "plt.style.use(['seaborn-v0_8-paper'])\n",
    "from tqdm import tqdm\n",
    "from shapely.geometry import LineString\n",
    "from scipy import stats\n",
    "from conflict import ConflictLyft\n",
    "import statsmodels.api as sm "
   ]
  },
  {
   "cell_type": "markdown",
   "id": "e6f55ad1-d024-4c62-9343-72f265fd4931",
   "metadata": {},
   "source": [
    "## Data process"
   ]
  },
  {
   "cell_type": "code",
   "execution_count": 2,
   "id": "a72a5e51-6be8-4bc0-a5e0-8804e2aaa7e1",
   "metadata": {},
   "outputs": [
    {
     "data": {
      "text/plain": [
       "(859, 886)"
      ]
     },
     "execution_count": 2,
     "metadata": {},
     "output_type": "execute_result"
    }
   ],
   "source": [
    "# first junction\n",
    "with open('./lyft_avhv_conflict_j1.pkl', 'rb') as file:\n",
    "    lyft_avhv_conflict_list1 = pickle.load(file)\n",
    "\n",
    "with open('./lyft_hvhv_conflict_j1.pkl', 'rb') as file:\n",
    "    lyft_hvhv_conflict_list1 = pickle.load(file)\n",
    "\n",
    "lyft_conflict_list1 = lyft_avhv_conflict_list1 + lyft_hvhv_conflict_list1\n",
    "\n",
    "# second junction\n",
    "with open('./lyft_avhv_conflict_j2.pkl', 'rb') as file:\n",
    "    lyft_avhv_conflict_list2 = pickle.load(file)\n",
    "\n",
    "with open('./lyft_hvhv_conflict_j2.pkl', 'rb') as file:\n",
    "    lyft_hvhv_conflict_list2 = pickle.load(file)\n",
    "\n",
    "lyft_conflict_list2 = lyft_avhv_conflict_list2 + lyft_hvhv_conflict_list2\n",
    "\n",
    "# report sample size\n",
    "len(lyft_conflict_list1), len(lyft_conflict_list2)"
   ]
  },
  {
   "cell_type": "code",
   "execution_count": 3,
   "id": "63a6a2f6-2d3a-4574-b7b6-a4d5b28b34b5",
   "metadata": {},
   "outputs": [
    {
     "data": {
      "text/plain": [
       "(859, 886)"
      ]
     },
     "execution_count": 3,
     "metadata": {},
     "output_type": "execute_result"
    }
   ],
   "source": [
    "# convert the type to latest conflict object\n",
    "conflict_list1 = list()\n",
    "for c_index, c in enumerate(lyft_conflict_list1):\n",
    "    # print(c_index)\n",
    "    conflict_list1.append(ConflictLyft(\n",
    "        leader_id=c.first_id,\n",
    "        follower_id=c.second_id,\n",
    "        leader_time_at_conflict=c.first_time_at_conflict,\n",
    "        follower_time_at_conflict=c.second_time_at_conflict,\n",
    "        leader_is_av=c.is_first_AV,\n",
    "        follower_is_av=c.is_second_AV,\n",
    "        PET=c.PET,\n",
    "        conflict_type=c.category.upper(),\n",
    "        leader_traj=c.first_trajectory.xy[1:-1,:],\n",
    "        follower_traj=c.second_trajectory.xy[1:-1,:],\n",
    "        leader_traj_timestamp=c.first_trajectory.t[1:-1],\n",
    "        follower_traj_timestamp=c.second_trajectory.t[1:-1],\n",
    "        leader_traj_speed=c.first_trajectory.smoothed_v,\n",
    "        follower_traj_speed=c.second_trajectory.smoothed_v,\n",
    "        junction_id=1,\n",
    "    ))\n",
    "assert len(conflict_list1) == len(lyft_conflict_list1)\n",
    "\n",
    "conflict_list2 = list()\n",
    "for c_index, c in enumerate(lyft_conflict_list2):\n",
    "    # print(c_index)\n",
    "    conflict_list2.append(ConflictLyft(\n",
    "        leader_id=c.first_id,\n",
    "        follower_id=c.second_id,\n",
    "        leader_time_at_conflict=c.first_time_at_conflict,\n",
    "        follower_time_at_conflict=c.second_time_at_conflict,\n",
    "        leader_is_av=c.is_first_AV,\n",
    "        follower_is_av=c.is_second_AV,\n",
    "        PET=c.PET,\n",
    "        conflict_type=c.category.upper(),\n",
    "        leader_traj=c.first_trajectory.xy[1:-1,:],\n",
    "        follower_traj=c.second_trajectory.xy[1:-1,:],\n",
    "        leader_traj_timestamp=c.first_trajectory.t[1:-1],\n",
    "        follower_traj_timestamp=c.second_trajectory.t[1:-1],\n",
    "        leader_traj_speed=c.first_trajectory.smoothed_v,\n",
    "        follower_traj_speed=c.second_trajectory.smoothed_v,\n",
    "        junction_id=2,\n",
    "    ))\n",
    "assert len(conflict_list2) == len(lyft_conflict_list2)\n",
    "\n",
    "conflict_list = conflict_list1 + conflict_list2\n",
    "\n",
    "len(conflict_list1), len(conflict_list2)"
   ]
  },
  {
   "cell_type": "code",
   "execution_count": 4,
   "id": "1452c74e",
   "metadata": {
    "scrolled": true
   },
   "outputs": [
    {
     "name": "stderr",
     "output_type": "stream",
     "text": [
      "1745it [00:00, 108331.02it/s]"
     ]
    },
    {
     "name": "stdout",
     "output_type": "stream",
     "text": [
      "<class 'pandas.core.frame.DataFrame'>\n",
      "Int64Index: 1745 entries, 0 to 1744\n",
      "Data columns (total 4 columns):\n",
      " #   Column         Non-Null Count  Dtype  \n",
      "---  ------         --------------  -----  \n",
      " 0   Conflict type  1745 non-null   object \n",
      " 1   Vehicle order  1745 non-null   object \n",
      " 2   PET            1745 non-null   float64\n",
      " 3   minTTC         1256 non-null   float64\n",
      "dtypes: float64(2), object(2)\n",
      "memory usage: 68.2+ KB\n"
     ]
    },
    {
     "name": "stderr",
     "output_type": "stream",
     "text": [
      "\n"
     ]
    }
   ],
   "source": [
    "\"\"\"\n",
    "Construct a dataframe with the following columns:\n",
    "- Conflict type\n",
    "- Vehicle order\n",
    "- PET\n",
    "\"\"\"\n",
    "conflict_cols_in_df = [\n",
    "    \"Conflict type\",\n",
    "    \"Vehicle order\",\n",
    "    \"PET\",\n",
    "    \"minTTC\"\n",
    "]\n",
    "\n",
    "# generate each rows in the dataframe\n",
    "conflict_rows_in_df = list()\n",
    "\n",
    "for index, conflict in tqdm(enumerate(conflict_list)):\n",
    "    leader_type = \"AV\" if conflict.leader_is_av else \"HV\"\n",
    "    follower_type = \"AV\" if conflict.follower_is_av else \"HV\" \n",
    "    conflict_type = \"Cross\" if conflict.conflict_type == \"CROSS\" else \"Merge\"\n",
    "    conflict_rows_in_df.append([\n",
    "        conflict_type,\n",
    "        leader_type+\"-\"+follower_type,\n",
    "        conflict.PET,\n",
    "        conflict.minimum_TTC,\n",
    "    ])\n",
    "conflict_df = pd.DataFrame(conflict_rows_in_df, columns=conflict_cols_in_df)\n",
    "\n",
    "# Post-process\n",
    "PET_THRESHOLD = 10\n",
    "conflict_df = conflict_df[conflict_df[\"PET\"] <= PET_THRESHOLD]\n",
    "\n",
    "# display info\n",
    "conflict_df.info()"
   ]
  },
  {
   "cell_type": "code",
   "execution_count": 5,
   "id": "6b2498f5-5db6-4036-ad9d-b9b34a1bb628",
   "metadata": {
    "scrolled": true
   },
   "outputs": [
    {
     "data": {
      "text/html": [
       "<div>\n",
       "<style scoped>\n",
       "    .dataframe tbody tr th:only-of-type {\n",
       "        vertical-align: middle;\n",
       "    }\n",
       "\n",
       "    .dataframe tbody tr th {\n",
       "        vertical-align: top;\n",
       "    }\n",
       "\n",
       "    .dataframe thead th {\n",
       "        text-align: right;\n",
       "    }\n",
       "</style>\n",
       "<table border=\"1\" class=\"dataframe\">\n",
       "  <thead>\n",
       "    <tr style=\"text-align: right;\">\n",
       "      <th></th>\n",
       "      <th>PET</th>\n",
       "      <th>minTTC</th>\n",
       "    </tr>\n",
       "  </thead>\n",
       "  <tbody>\n",
       "    <tr>\n",
       "      <th>count</th>\n",
       "      <td>1256.000000</td>\n",
       "      <td>1256.000000</td>\n",
       "    </tr>\n",
       "    <tr>\n",
       "      <th>mean</th>\n",
       "      <td>4.776990</td>\n",
       "      <td>14.945458</td>\n",
       "    </tr>\n",
       "    <tr>\n",
       "      <th>std</th>\n",
       "      <td>2.358497</td>\n",
       "      <td>51.980654</td>\n",
       "    </tr>\n",
       "    <tr>\n",
       "      <th>min</th>\n",
       "      <td>0.100000</td>\n",
       "      <td>0.199954</td>\n",
       "    </tr>\n",
       "    <tr>\n",
       "      <th>25%</th>\n",
       "      <td>2.900000</td>\n",
       "      <td>4.374050</td>\n",
       "    </tr>\n",
       "    <tr>\n",
       "      <th>50%</th>\n",
       "      <td>4.200000</td>\n",
       "      <td>6.260120</td>\n",
       "    </tr>\n",
       "    <tr>\n",
       "      <th>75%</th>\n",
       "      <td>6.600000</td>\n",
       "      <td>11.144130</td>\n",
       "    </tr>\n",
       "    <tr>\n",
       "      <th>max</th>\n",
       "      <td>9.900000</td>\n",
       "      <td>948.547791</td>\n",
       "    </tr>\n",
       "  </tbody>\n",
       "</table>\n",
       "</div>"
      ],
      "text/plain": [
       "               PET       minTTC\n",
       "count  1256.000000  1256.000000\n",
       "mean      4.776990    14.945458\n",
       "std       2.358497    51.980654\n",
       "min       0.100000     0.199954\n",
       "25%       2.900000     4.374050\n",
       "50%       4.200000     6.260120\n",
       "75%       6.600000    11.144130\n",
       "max       9.900000   948.547791"
      ]
     },
     "execution_count": 5,
     "metadata": {},
     "output_type": "execute_result"
    }
   ],
   "source": [
    "conflict_df.dropna(inplace=True)\n",
    "conflict_df.describe()"
   ]
  },
  {
   "cell_type": "code",
   "execution_count": 6,
   "id": "fc00f1d7-c060-4ec0-99e2-1ee7424b2dbd",
   "metadata": {},
   "outputs": [
    {
     "name": "stdout",
     "output_type": "stream",
     "text": [
      "<class 'pandas.core.frame.DataFrame'>\n",
      "Int64Index: 902 entries, 0 to 1744\n",
      "Data columns (total 4 columns):\n",
      " #   Column         Non-Null Count  Dtype  \n",
      "---  ------         --------------  -----  \n",
      " 0   Conflict type  902 non-null    object \n",
      " 1   Vehicle order  902 non-null    object \n",
      " 2   PET            902 non-null    float64\n",
      " 3   minTTC         902 non-null    float64\n",
      "dtypes: float64(2), object(2)\n",
      "memory usage: 35.2+ KB\n"
     ]
    }
   ],
   "source": [
    "# Post-process: remove minTTC greater than 10s\n",
    "minTTC_THRESHOLD = 10\n",
    "conflict_df = conflict_df[(conflict_df[\"minTTC\"] <= minTTC_THRESHOLD) & (conflict_df[\"minTTC\"] >= 0)]\n",
    "\n",
    "# display info\n",
    "conflict_df.info()"
   ]
  },
  {
   "cell_type": "code",
   "execution_count": 7,
   "id": "02f74598-3813-480c-b9c7-5dd6ccf05bf8",
   "metadata": {},
   "outputs": [],
   "source": [
    "conflict_df.to_csv(\"./outputs/trb/lyft_minttc.csv\", index=False)"
   ]
  },
  {
   "cell_type": "code",
   "execution_count": 8,
   "id": "19c55eaf-b16d-4016-a285-e466bf746df4",
   "metadata": {},
   "outputs": [
    {
     "data": {
      "text/plain": [
       "Conflict type  Vehicle order\n",
       "Cross          HV-HV            312\n",
       "Merge          HV-HV            261\n",
       "               AV-HV            116\n",
       "Cross          HV-AV             88\n",
       "Merge          HV-AV             73\n",
       "Cross          AV-HV             52\n",
       "dtype: int64"
      ]
     },
     "execution_count": 8,
     "metadata": {},
     "output_type": "execute_result"
    }
   ],
   "source": [
    "conflict_df[[\"Conflict type\", \"Vehicle order\"]].value_counts()"
   ]
  },
  {
   "cell_type": "code",
   "execution_count": 9,
   "id": "7f3f9540-ea62-4a94-b51d-e90b71308958",
   "metadata": {},
   "outputs": [
    {
     "data": {
      "text/plain": [
       "Conflict type  Vehicle order\n",
       "Cross          AV-HV            3.847012\n",
       "               HV-AV            4.808126\n",
       "               HV-HV            4.707623\n",
       "Merge          AV-HV            5.272730\n",
       "               HV-AV            7.230813\n",
       "               HV-HV            6.123642\n",
       "Name: minTTC, dtype: float64"
      ]
     },
     "execution_count": 9,
     "metadata": {},
     "output_type": "execute_result"
    }
   ],
   "source": [
    "# mean\n",
    "conflict_df.groupby([\"Conflict type\", \"Vehicle order\"])['minTTC'].mean()"
   ]
  },
  {
   "cell_type": "code",
   "execution_count": 10,
   "id": "376ca564-afed-47d2-b27c-82d14dbee4f0",
   "metadata": {},
   "outputs": [
    {
     "data": {
      "text/plain": [
       "Conflict type  Vehicle order\n",
       "Cross          AV-HV            1.235444\n",
       "               HV-AV            1.010519\n",
       "               HV-HV            1.976755\n",
       "Merge          AV-HV            1.658126\n",
       "               HV-AV            1.388844\n",
       "               HV-HV            1.890104\n",
       "Name: minTTC, dtype: float64"
      ]
     },
     "execution_count": 10,
     "metadata": {},
     "output_type": "execute_result"
    }
   ],
   "source": [
    "conflict_df.groupby([\"Conflict type\", \"Vehicle order\"])['minTTC'].std()"
   ]
  },
  {
   "cell_type": "code",
   "execution_count": 11,
   "id": "7a309597-9aac-4903-b76f-4343095fa180",
   "metadata": {},
   "outputs": [],
   "source": [
    "cross_df = conflict_df[conflict_df[\"Conflict type\"] == \"Cross\"]\n",
    "merge_df = conflict_df[conflict_df[\"Conflict type\"] == \"Merge\"]\n",
    "\n",
    "HVHV_cross = cross_df[cross_df[\"Vehicle order\"] == \"HV-HV\"]\n",
    "AVHV_cross = cross_df[cross_df[\"Vehicle order\"] == \"AV-HV\"]\n",
    "HVAV_cross = cross_df[cross_df[\"Vehicle order\"] == \"HV-AV\"]\n",
    "\n",
    "HVHV_merge = merge_df[merge_df[\"Vehicle order\"] == \"HV-HV\"]\n",
    "AVHV_merge = merge_df[merge_df[\"Vehicle order\"] == \"AV-HV\"]\n",
    "HVAV_merge = merge_df[merge_df[\"Vehicle order\"] == \"HV-AV\"]"
   ]
  },
  {
   "cell_type": "markdown",
   "id": "98bc1d1b-9987-4d97-8e81-a951533487ff",
   "metadata": {},
   "source": [
    "## Stats Test"
   ]
  },
  {
   "cell_type": "markdown",
   "id": "f48f2a7e-f025-4d57-b91e-5cd840b860e8",
   "metadata": {
    "jp-MarkdownHeadingCollapsed": true
   },
   "source": [
    "### Normality Test"
   ]
  },
  {
   "cell_type": "code",
   "execution_count": 12,
   "id": "92624bb4-e31c-467a-8c0e-45b6b9db41f7",
   "metadata": {},
   "outputs": [
    {
     "data": {
      "text/plain": [
       "0.009552793577313423"
      ]
     },
     "execution_count": 12,
     "metadata": {},
     "output_type": "execute_result"
    }
   ],
   "source": [
    "# HVHV::Cross\n",
    "stats.shapiro(HVHV_cross.minTTC).pvalue # 0.0013318812707439065\n",
    "\n",
    "# AVHV::Cross\n",
    "stats.shapiro(AVHV_cross.minTTC).pvalue # 0.009552793577313423\n",
    "\n",
    "# HVAV::Cross\n",
    "# stats.shapiro(HVAV_cross.minTTC).pvalue # 1.8525666334312518e-08\n",
    "\n",
    "# HVHV::Merge\n",
    "# stats.shapiro(HVHV_merge.minTTC).pvalue # 0.01097436249256134\n",
    "\n",
    "# # AVHV::Merge\n",
    "# stats.shapiro(AVHV_merge.minTTC).pvalue # 7.534129690611735e-05\n",
    "\n",
    "# # HVAV::Merge\n",
    "# stats.shapiro(HVAV_merge.minTTC).pvalue # 0.005976205691695213"
   ]
  },
  {
   "cell_type": "markdown",
   "id": "e0391c9e-e74c-44a0-bfe9-16e322088231",
   "metadata": {},
   "source": [
    "### Mann-Whitney U Test"
   ]
  },
  {
   "cell_type": "code",
   "execution_count": 14,
   "id": "e3d12cce-e611-4954-96df-0fb6226bfa1b",
   "metadata": {},
   "outputs": [
    {
     "data": {
      "text/plain": [
       "2.6155781602860208e-08"
      ]
     },
     "execution_count": 14,
     "metadata": {},
     "output_type": "execute_result"
    }
   ],
   "source": [
    "# HVHV::HVAV | Cross\n",
    "stats.mannwhitneyu(HVHV_cross.minTTC, HVAV_cross.minTTC, alternative=\"two-sided\").pvalue # 0.16129197503279735\n",
    "\n",
    "# HVHV::AVHV | Cross\n",
    "stats.mannwhitneyu(HVHV_cross.minTTC, AVHV_cross.minTTC, alternative=\"two-sided\").pvalue # 0.0015150268244350502\n",
    "\n",
    "# AVHV::HVAV | Cross\n",
    "stats.mannwhitneyu(AVHV_cross.minTTC, HVAV_cross.minTTC, alternative=\"two-sided\").pvalue # 2.6155781602860208e-08\n",
    "\n",
    "# HVHV::HVAV | Merge\n",
    "stats.mannwhitneyu(HVHV_merge.minTTC, HVAV_merge.minTTC, alternative=\"two-sided\").pvalue # 4.220351289438643e-06\n",
    "\n",
    "# HVHV::AVHV | Merge\n",
    "stats.mannwhitneyu(HVHV_merge.minTTC, AVHV_merge.minTTC, alternative=\"two-sided\").pvalue # 5.414551374980084e-06\n",
    "\n",
    "# AVHV::HVAV | Merge\n",
    "stats.mannwhitneyu(AVHV_merge.minTTC, HVAV_merge.minTTC, alternative=\"two-sided\").pvalue # 1.044283807412752e-13"
   ]
  },
  {
   "cell_type": "markdown",
   "id": "8f68e861-a806-4d22-87ec-cf869fbf350e",
   "metadata": {},
   "source": [
    "### T-test"
   ]
  },
  {
   "cell_type": "code",
   "execution_count": 16,
   "id": "d5c62438-91d3-4634-9746-bf661cffb4b2",
   "metadata": {},
   "outputs": [
    {
     "data": {
      "text/plain": [
       "1.0855600942863575e-14"
      ]
     },
     "execution_count": 16,
     "metadata": {},
     "output_type": "execute_result"
    }
   ],
   "source": [
    "# HVHV::HVAV | Cross\n",
    "stats.ttest_ind(HVHV_cross.minTTC, HVAV_cross.minTTC).pvalue # 0.5413644244587317\n",
    "\n",
    "# HVHV::AVHV | Cross\n",
    "stats.ttest_ind(HVHV_cross.minTTC, AVHV_cross.minTTC).pvalue # 0.002649860465489942\n",
    "\n",
    "# HVAV::AVHV | Cross\n",
    "stats.ttest_ind(HVAV_cross.minTTC, AVHV_cross.minTTC).pvalue # 1.713192557029741e-06\n",
    "\n",
    "# HVHV::HVAV | Merge\n",
    "stats.ttest_ind(HVHV_merge.minTTC, HVAV_merge.minTTC).pvalue # 4.523053305065609e-06\n",
    "\n",
    "# HVHV::AVHV | Merge\n",
    "stats.ttest_ind(HVHV_merge.minTTC, AVHV_merge.minTTC).pvalue # 3.556817965250776e-05\n",
    "\n",
    "# HVAV::AVHV | Merge\n",
    "stats.ttest_ind(HVAV_merge.minTTC, AVHV_merge.minTTC).pvalue # 1.0855600942863575e-14"
   ]
  },
  {
   "cell_type": "markdown",
   "id": "43c13dc4-d4dc-40ee-a6f3-4bd154f54ab0",
   "metadata": {
    "jp-MarkdownHeadingCollapsed": true
   },
   "source": [
    "### ANOVA"
   ]
  },
  {
   "cell_type": "code",
   "execution_count": 40,
   "id": "b699eede-ee3c-4cb5-b90b-3421c288a7f8",
   "metadata": {},
   "outputs": [
    {
     "data": {
      "text/plain": [
       "0.004038859999884124"
      ]
     },
     "execution_count": 40,
     "metadata": {},
     "output_type": "execute_result"
    }
   ],
   "source": [
    "# Merge\n",
    "stats.f_oneway(HVHV_merge.minTTC, HVAV_merge.minTTC, AVHV_merge.minTTC).pvalue # 3.8137697368361735e-12\n",
    "\n",
    "# Cross\n",
    "stats.f_oneway(HVHV_cross.minTTC, HVAV_cross.minTTC, AVHV_cross.minTTC).pvalue # 0.004038859999884124"
   ]
  },
  {
   "cell_type": "markdown",
   "id": "d4a0a5d0-1057-48c1-aa3c-7a75234e13e5",
   "metadata": {},
   "source": [
    "## Draw distributions"
   ]
  },
  {
   "cell_type": "markdown",
   "id": "9711e139-c82a-4877-bd04-7ead05c6e5b4",
   "metadata": {},
   "source": [
    "### Total"
   ]
  },
  {
   "cell_type": "code",
   "execution_count": 13,
   "id": "d94c1114-d8b3-4476-a09a-25fcc97b9681",
   "metadata": {},
   "outputs": [
    {
     "data": {
      "text/plain": [
       "<Figure size 300x300 with 0 Axes>"
      ]
     },
     "metadata": {},
     "output_type": "display_data"
    },
    {
     "data": {
      "image/png": "[encoded data removed]",
      "text/plain": [
       "<Figure size 300x300 with 1 Axes>"
      ]
     },
     "metadata": {},
     "output_type": "display_data"
    }
   ],
   "source": [
    "palette = {\n",
    "    \"HV-HV\" : '#257ab6', \n",
    "    \"AV-HV\" : '#31a231',\n",
    "    \"HV-AV\" : '#ff8214',\n",
    "}\n",
    "\n",
    "HVHV_COLOR = '#257ab6'\n",
    "HVAV_COLOR = '#31a231'\n",
    "AVHV_COLOR = '#ff8214'\n",
    "\n",
    "FIGURE_WIDTH, FIGURE_HEIGHT = 3, 3\n",
    "plt.figure(figsize=(FIGURE_WIDTH, FIGURE_HEIGHT))\n",
    "\n",
    "displot(\n",
    "    data=conflict_df,\n",
    "    x=\"minTTC\", \n",
    "    hue=\"Vehicle order\",\n",
    "    hue_order=[\"HV-HV\", \"AV-HV\", \"HV-AV\"],\n",
    "    kind=\"kde\",\n",
    "    common_norm=False,\n",
    "    palette=palette,\n",
    "    height=FIGURE_HEIGHT,\n",
    "    aspect=1.0,\n",
    "    legend=False,\n",
    ")\n",
    "\n",
    "plt.xlim([0,PET_THRESHOLD])\n",
    "# plt.ylim([0,0.15])\n",
    "plt.legend([\"HV-AV\", \"AV-HV\", \"HV-HV\"], title=\"Vehicle order\")\n",
    "plt.title(\"Min TTC distribution [Total] (Lyft)\")\n",
    "# plt.savefig(\"./outputs/plots/lyft_distribution_minTTC_Total.png\", dpi=300, bbox_inches=\"tight\")\n",
    "plt.show()"
   ]
  },
  {
   "cell_type": "markdown",
   "id": "466a48a2-7abd-42cc-b8ff-64158162037b",
   "metadata": {},
   "source": [
    "### Merge"
   ]
  },
  {
   "cell_type": "code",
   "execution_count": 14,
   "id": "724b142c-3cde-40b0-b90e-7ac3f1c7e732",
   "metadata": {},
   "outputs": [
    {
     "data": {
      "text/plain": [
       "<Figure size 300x300 with 0 Axes>"
      ]
     },
     "metadata": {},
     "output_type": "display_data"
    },
    {
     "data": {
      "image/png": "[encoded data removed]",
      "text/plain": [
       "<Figure size 300x300 with 1 Axes>"
      ]
     },
     "metadata": {},
     "output_type": "display_data"
    }
   ],
   "source": [
    "conflictType = \"Merge\"\n",
    "plt.figure(figsize=(FIGURE_WIDTH, FIGURE_HEIGHT))\n",
    "\n",
    "displot(\n",
    "    data=conflict_df[conflict_df[\"Conflict type\"]==conflictType],\n",
    "    x=\"minTTC\", \n",
    "    hue=\"Vehicle order\",\n",
    "    hue_order=[\"HV-HV\", \"AV-HV\", \"HV-AV\"],\n",
    "    kind=\"kde\",\n",
    "    common_norm=False,\n",
    "    palette=palette,\n",
    "    height=FIGURE_HEIGHT,\n",
    "    aspect=1.0,\n",
    "    legend=False,\n",
    ")\n",
    "\n",
    "plt.xlim([0, minTTC_THRESHOLD])\n",
    "# plt.ylim([0,0.15])\n",
    "plt.legend([\"HV-AV\", \"AV-HV\", \"HV-HV\"], title=\"Vehicle order\")\n",
    "plt.title(f\"Min TTC distribution [{conflictType}] (Lyft)\")\n",
    "plt.savefig(f\"./outputs/plots/lyft_distribution_minTTC_{conflictType}.png\", dpi=300, bbox_inches=\"tight\")\n",
    "plt.show()"
   ]
  },
  {
   "cell_type": "markdown",
   "id": "91420b22-fee7-4a83-8b3c-da5357da256e",
   "metadata": {},
   "source": [
    "### Cross"
   ]
  },
  {
   "cell_type": "code",
   "execution_count": 20,
   "id": "b0fee334-72e9-4e00-b941-978bf03d4b9e",
   "metadata": {},
   "outputs": [
    {
     "data": {
      "text/plain": [
       "<Figure size 300x300 with 0 Axes>"
      ]
     },
     "metadata": {},
     "output_type": "display_data"
    },
    {
     "data": {
      "image/png": "[encoded data removed]",
      "text/plain": [
       "<Figure size 300x300 with 1 Axes>"
      ]
     },
     "metadata": {},
     "output_type": "display_data"
    }
   ],
   "source": [
    "conflictType = \"Cross\"\n",
    "plt.figure(figsize=(FIGURE_WIDTH, FIGURE_HEIGHT))\n",
    "\n",
    "displot(\n",
    "    data=conflict_df[conflict_df[\"Conflict type\"]==conflictType],\n",
    "    x=\"minTTC\", \n",
    "    hue=\"Vehicle order\",\n",
    "    hue_order=[\"HV-HV\", \"AV-HV\", \"HV-AV\"],\n",
    "    kind=\"kde\",\n",
    "    common_norm=False,\n",
    "    palette=palette,\n",
    "    height=FIGURE_HEIGHT,\n",
    "    aspect=1.0,\n",
    "    legend=False,\n",
    ")\n",
    "\n",
    "# plt.xlim([0, minTTC_THRESHOLD])\n",
    "# plt.ylim([0,0.15])\n",
    "plt.legend([\"HV-AV\", \"AV-HV\", \"HV-HV\"], title=\"Vehicle order\")\n",
    "plt.title(f\"Min TTC distribution [{conflictType}] (Lyft)\")\n",
    "plt.savefig(f\"./outputs/plots/lyft_distribution_minTTC_{conflictType}.png\", dpi=300, bbox_inches=\"tight\")\n",
    "plt.show()"
   ]
  },
  {
   "cell_type": "code",
   "execution_count": null,
   "id": "654cf3fd-ebdc-405c-9329-711df41d9eca",
   "metadata": {},
   "outputs": [],
   "source": []
  }
 ],
 "metadata": {
  "kernelspec": {
   "display_name": "Python 3 (ipykernel)",
   "language": "python",
   "name": "python3"
  },
  "language_info": {
   "codemirror_mode": {
    "name": "ipython",
    "version": 3
   },
   "file_extension": ".py",
   "mimetype": "text/x-python",
   "name": "python",
   "nbconvert_exporter": "python",
   "pygments_lexer": "ipython3",
   "version": "3.8.18"
  }
 },
 "nbformat": 4,
 "nbformat_minor": 5
}
