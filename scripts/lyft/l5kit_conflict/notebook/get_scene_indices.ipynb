{
 "cells": [
  {
   "cell_type": "code",
   "execution_count": 14,
   "id": "04ba82bb-13ed-4a7b-a753-37df07d222d2",
   "metadata": {},
   "outputs": [],
   "source": [
    "import numpy as np\n",
    "import matplotlib.pyplot as plt\n",
    "from tqdm import tqdm\n",
    "\n",
    "from l5kit_conflict.analysis.post_process import load_l5kit_potential_conflicts\n",
    "\n",
    "np.set_printoptions(suppress=True)\n",
    "plt.style.use(\"ggplot\")"
   ]
  },
  {
   "cell_type": "code",
   "execution_count": 15,
   "id": "fd344725-9e88-4135-9578-d4ccc4978aaa",
   "metadata": {},
   "outputs": [
    {
     "name": "stdout",
     "output_type": "stream",
     "text": [
      "1> Loading pickle files ...\n",
      "HVHV dataset #samples: 739\n",
      "AVHV dataset #samples: 678\n",
      "2> Removing unnecessary conflicts ...\n",
      "HVHV dataset #samples: 608\n",
      "AVHV dataset #samples: 508\n",
      "3> Removing AVHV conflicts with non-continuous AV trajectories ...\n",
      "HVHV dataset #samples: 608\n",
      "AVHV dataset #samples: 479\n",
      "4> Post-processing the complex potential conflicts ...\n",
      "HVHV dataset #samples: 459\n",
      "AVHV dataset #samples: 400\n"
     ]
    }
   ],
   "source": [
    "AVHV_potential_conflict_dataset, HVHV_potential_conflict_dataset = load_l5kit_potential_conflicts()"
   ]
  },
  {
   "cell_type": "code",
   "execution_count": 20,
   "id": "4d397863-fe05-40c2-bdce-fe705d2b4c5c",
   "metadata": {},
   "outputs": [
    {
     "name": "stdout",
     "output_type": "stream",
     "text": [
      "AVHV - PET\n"
     ]
    },
    {
     "name": "stderr",
     "output_type": "stream",
     "text": [
      "100%|████████████████████████████████████████████████████████████████████████████| 400/400 [00:00<00:00, 397470.17it/s]\n"
     ]
    },
    {
     "name": "stdout",
     "output_type": "stream",
     "text": [
      "(101218, 101219) train2 1.7\n",
      "(23029, 23030) train2 1.5\n",
      "(25411, 25412) train2 1.8\n",
      "(47528, 47529) train2 1.3\n",
      "(98580, 98581) train2 1.8\n",
      "(2572, 2573) train2 1.9\n",
      "(5295, 5296) train2 1.9\n",
      "(12151, 12152) train2 1.7\n",
      "(54256, 54257) train2 1.7\n",
      "(61349, 61350) train2 1.7\n",
      "(80605, 80606) train2 1.9\n",
      "(90921, 90922, 90923) train2 1.7\n",
      "(91093, 91094) train2 1.7\n",
      "(116605, 116606) train2 1.7\n",
      "(126552, 126553) train2 1.9\n",
      "(15486, 15487) validate 1.5\n",
      "HVHV - PET\n"
     ]
    },
    {
     "name": "stderr",
     "output_type": "stream",
     "text": [
      "100%|████████████████████████████████████████████████████████████████████████████████████████| 459/459 [00:00<?, ?it/s]"
     ]
    },
    {
     "name": "stdout",
     "output_type": "stream",
     "text": [
      "(27989, 27990, 27991) train2 1.7\n",
      "(28438, 28439, 28440) train2 1.7\n",
      "(46521, 46522, 46523) train2 1.9\n",
      "(103592, 103593, 103594) train2 1.9\n",
      "(103863, 103864, 103865) train2 1.9\n",
      "(105161, 105162, 105163) train2 1.0\n",
      "(105161, 105162, 105163) train2 1.8\n",
      "(128758, 128759, 128760) train2 0.8\n",
      "(3863, 3864) train2 1.9\n",
      "(28593, 28594) train2 1.7\n",
      "(49306, 49307) train2 1.6\n",
      "(59327, 59328, 59329) train2 1.2\n",
      "(60184, 60185, 60186) train2 1.5\n",
      "(64313, 64314) train2 1.8\n",
      "(65052, 65053, 65054) train2 1.3\n",
      "(65655, 65656) train2 1.5\n",
      "(75684, 75685, 75686) train2 1.7\n",
      "(77994, 77995) train2 1.9\n",
      "(81087, 81088) train2 1.9\n",
      "(82776, 82777) train2 1.8\n",
      "(96288, 96289, 96290) train2 1.6\n",
      "(104283, 104284) train2 1.9\n",
      "(10517, 10518) train2 1.9\n",
      "(59453, 59454) train2 1.9\n",
      "(6662, 6663, 6664) validate 0.4\n",
      "(8809, 8810) validate 1.4\n"
     ]
    },
    {
     "name": "stderr",
     "output_type": "stream",
     "text": [
      "\n"
     ]
    }
   ],
   "source": [
    "PET_threshold = 2\n",
    "\n",
    "print(\"AVHV - PET\")\n",
    "\n",
    "for conflict in tqdm(AVHV_potential_conflict_dataset):\n",
    "    if conflict.PET < PET_threshold:\n",
    "        print(conflict.scene_indices, conflict.dataset, conflict.PET)\n",
    "\n",
    "print(\"HVHV - PET\")\n",
    "\n",
    "for conflict in tqdm(HVHV_potential_conflict_dataset):\n",
    "    if conflict.PET < PET_threshold:\n",
    "        print(conflict.scene_indices, conflict.dataset, conflict.PET)"
   ]
  },
  {
   "cell_type": "code",
   "execution_count": 17,
   "id": "f330c1b7-af5f-43d7-97b3-3de67bd983e8",
   "metadata": {},
   "outputs": [
    {
     "name": "stdout",
     "output_type": "stream",
     "text": [
      "AVHV - TTC\n"
     ]
    },
    {
     "name": "stderr",
     "output_type": "stream",
     "text": [
      "D:\\github\\lyft_intersection\\extract_intersections\\l5kit_conflict\\analysis\\conflict.py:146: RuntimeWarning: divide by zero encountered in scalar divide\n",
      "  TTCs.append(length_trajectory / second_speeds_before_collision[i])\n"
     ]
    },
    {
     "name": "stdout",
     "output_type": "stream",
     "text": [
      "HVHV - TTC\n",
      "(39579, 39580) train2 0.6769223285421939\n",
      "(90564, 90565, 90566) train2 0.5206053566207716\n",
      "(6662, 6663, 6664) validate 0.6758156953214375\n"
     ]
    }
   ],
   "source": [
    "TTC_threshold = 1\n",
    "\n",
    "print(\"AVHV - TTC\")\n",
    "\n",
    "for conflict in AVHV_potential_conflict_dataset:\n",
    "    if conflict.minimum_TTC != None:\n",
    "        if conflict.minimum_TTC < TTC_threshold:\n",
    "            print(conflict.scene_indices, conflict.dataset, conflict.minimum_TTC)\n",
    "\n",
    "print(\"HVHV - TTC\")\n",
    "\n",
    "for conflict in HVHV_potential_conflict_dataset:\n",
    "    if conflict.minimum_TTC != None:\n",
    "        if conflict.minimum_TTC < TTC_threshold:\n",
    "            print(conflict.scene_indices, conflict.dataset, conflict.minimum_TTC)"
   ]
  },
  {
   "cell_type": "code",
   "execution_count": null,
   "id": "0e6359fd-86c5-4708-a86f-5c74a99b2250",
   "metadata": {},
   "outputs": [],
   "source": []
  }
 ],
 "metadata": {
  "kernelspec": {
   "display_name": "Python 3 (ipykernel)",
   "language": "python",
   "name": "python3"
  },
  "language_info": {
   "codemirror_mode": {
    "name": "ipython",
    "version": 3
   },
   "file_extension": ".py",
   "mimetype": "text/x-python",
   "name": "python",
   "nbconvert_exporter": "python",
   "pygments_lexer": "ipython3",
   "version": "3.8.18"
  }
 },
 "nbformat": 4,
 "nbformat_minor": 5
}
