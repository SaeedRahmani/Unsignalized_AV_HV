{
 "cells": [
  {
   "cell_type": "code",
   "execution_count": 24,
   "id": "793c759f-590e-4927-9326-d542fb9528a0",
   "metadata": {},
   "outputs": [],
   "source": [
    "import pickle\n",
    "import numpy as np\n",
    "np.set_printoptions(suppress=True)\n",
    "import pandas as pd\n",
    "import matplotlib.pyplot as plt\n",
    "%matplotlib inline\n",
    "import scienceplots\n",
    "from tqdm import tqdm\n",
    "from seaborn import displot, histplot, relplot\n",
    "plt.style.use(['nature'])\n",
    "from shapely.geometry import LineString\n",
    "from conflict import ConflictLyft"
   ]
  },
  {
   "cell_type": "code",
   "execution_count": 25,
   "id": "1dcb17bc-2818-4552-bcb9-9b6b37306b4e",
   "metadata": {},
   "outputs": [
    {
     "data": {
      "text/plain": [
       "(859, 886)"
      ]
     },
     "execution_count": 25,
     "metadata": {},
     "output_type": "execute_result"
    }
   ],
   "source": [
    "# first junction\n",
    "with open('./lyft_avhv_conflict_j1.pkl', 'rb') as file:\n",
    "    lyft_avhv_conflict_list1 = pickle.load(file)\n",
    "\n",
    "with open('./lyft_hvhv_conflict_j1.pkl', 'rb') as file:\n",
    "    lyft_hvhv_conflict_list1 = pickle.load(file)\n",
    "\n",
    "lyft_conflict_list1 = lyft_avhv_conflict_list1 + lyft_hvhv_conflict_list1\n",
    "\n",
    "# second junction\n",
    "with open('./lyft_avhv_conflict_j2.pkl', 'rb') as file:\n",
    "    lyft_avhv_conflict_list2 = pickle.load(file)\n",
    "\n",
    "with open('./lyft_hvhv_conflict_j2.pkl', 'rb') as file:\n",
    "    lyft_hvhv_conflict_list2 = pickle.load(file)\n",
    "\n",
    "lyft_conflict_list2 = lyft_avhv_conflict_list2 + lyft_hvhv_conflict_list2\n",
    "\n",
    "# report sample size\n",
    "len(lyft_conflict_list1), len(lyft_conflict_list2)"
   ]
  },
  {
   "cell_type": "code",
   "execution_count": 36,
   "id": "9aca4854-df42-4dd9-8e00-3340131245a1",
   "metadata": {},
   "outputs": [
    {
     "data": {
      "text/plain": [
       "(859, 886)"
      ]
     },
     "execution_count": 36,
     "metadata": {},
     "output_type": "execute_result"
    }
   ],
   "source": [
    "# convert the type to latest conflict object\n",
    "conflict_list1 = list()\n",
    "for c_index, c in enumerate(lyft_conflict_list1):\n",
    "    # print(c_index)\n",
    "    conflict_list1.append(ConflictLyft(\n",
    "        leader_id=c.first_id,\n",
    "        follower_id=c.second_id,\n",
    "        leader_time_at_conflict=c.first_time_at_conflict,\n",
    "        follower_time_at_conflict=c.second_time_at_conflict,\n",
    "        leader_is_av=c.is_first_AV,\n",
    "        follower_is_av=c.is_second_AV,\n",
    "        PET=c.PET,\n",
    "        conflict_type=c.category.upper(),\n",
    "        leader_traj=c.first_trajectory.xy[1:-1,:],\n",
    "        follower_traj=c.second_trajectory.xy[1:-1,:],\n",
    "        leader_traj_timestamp=c.first_trajectory.t[1:-1],\n",
    "        follower_traj_timestamp=c.second_trajectory.t[1:-1],\n",
    "        leader_traj_speed=c.first_trajectory.smoothed_v,\n",
    "        follower_traj_speed=c.second_trajectory.smoothed_v,\n",
    "        junction_id=1,\n",
    "    ))\n",
    "assert len(conflict_list1) == len(lyft_conflict_list1)\n",
    "\n",
    "conflict_list2 = list()\n",
    "for c_index, c in enumerate(lyft_conflict_list2):\n",
    "    # print(c_index)\n",
    "    conflict_list2.append(ConflictLyft(\n",
    "        leader_id=c.first_id,\n",
    "        follower_id=c.second_id,\n",
    "        leader_time_at_conflict=c.first_time_at_conflict,\n",
    "        follower_time_at_conflict=c.second_time_at_conflict,\n",
    "        leader_is_av=c.is_first_AV,\n",
    "        follower_is_av=c.is_second_AV,\n",
    "        PET=c.PET,\n",
    "        conflict_type=c.category.upper(),\n",
    "        leader_traj=c.first_trajectory.xy[1:-1,:],\n",
    "        follower_traj=c.second_trajectory.xy[1:-1,:],\n",
    "        leader_traj_timestamp=c.first_trajectory.t[1:-1],\n",
    "        follower_traj_timestamp=c.second_trajectory.t[1:-1],\n",
    "        leader_traj_speed=c.first_trajectory.smoothed_v,\n",
    "        follower_traj_speed=c.second_trajectory.smoothed_v,\n",
    "        junction_id=2,\n",
    "    ))\n",
    "assert len(conflict_list2) == len(lyft_conflict_list2)\n",
    "\n",
    "conflict_list = conflict_list1 # + conflict_list2\n",
    "\n",
    "len(conflict_list1), len(conflict_list2)"
   ]
  },
  {
   "cell_type": "code",
   "execution_count": 37,
   "id": "88417691-b273-461c-a78c-f41358bb5cd0",
   "metadata": {},
   "outputs": [
    {
     "name": "stdout",
     "output_type": "stream",
     "text": [
      "<class 'pandas.core.frame.DataFrame'>\n",
      "Int64Index: 27113 entries, 0 to 27112\n",
      "Data columns (total 4 columns):\n",
      " #   Column         Non-Null Count  Dtype  \n",
      "---  ------         --------------  -----  \n",
      " 0   Conflict type  27113 non-null  object \n",
      " 1   Vehicle order  27113 non-null  object \n",
      " 2   PET            27113 non-null  float64\n",
      " 3   TA             27113 non-null  float64\n",
      "dtypes: float64(2), object(2)\n",
      "memory usage: 1.0+ MB\n"
     ]
    },
    {
     "data": {
      "text/plain": [
       "(None, (27113, 4))"
      ]
     },
     "execution_count": 37,
     "metadata": {},
     "output_type": "execute_result"
    }
   ],
   "source": [
    "\"\"\"\n",
    "Construct a dataframe with the following columns:\n",
    "- Conflict type\n",
    "- Vehicle order\n",
    "- PET\n",
    "- TA\n",
    "\"\"\"\n",
    "conflict_cols_in_df = [\n",
    "    \"Conflict type\",\n",
    "    \"Vehicle order\",\n",
    "    \"PET\",\n",
    "    \"TA\"\n",
    "]\n",
    "\n",
    "# generate each rows in the dataframe\n",
    "conflict_rows_in_df = list()\n",
    "for conflict in conflict_list:\n",
    "    timeAdvantage_list = conflict.time_advantages\n",
    "    leader_type = \"AV\" if conflict.leader_is_av else \"HV\"\n",
    "    follower_type = \"AV\" if conflict.follower_is_av else \"HV\" \n",
    "    conflict_type = \"Cross\" if conflict.conflict_type == \"CROSS\" else \"Merge\"\n",
    "    PET = conflict.PET\n",
    "    for TA in timeAdvantage_list[30:]:\n",
    "        conflict_rows_in_df.append([\n",
    "                conflict_type,\n",
    "                leader_type+\"-\"+follower_type,\n",
    "                PET,\n",
    "                TA,\n",
    "            ])\n",
    "\n",
    "conflict_df = pd.DataFrame(conflict_rows_in_df, columns=conflict_cols_in_df)\n",
    "\n",
    "# Post-process\n",
    "PET_THRESHOLD = 10\n",
    "conflict_df = conflict_df[conflict_df[\"PET\"] <= PET_THRESHOLD]\n",
    "\n",
    "# display info\n",
    "conflict_df.info(), conflict_df.shape"
   ]
  },
  {
   "cell_type": "code",
   "execution_count": 38,
   "id": "a6b4b4b2-95a2-45f6-8836-113bab986808",
   "metadata": {},
   "outputs": [
    {
     "name": "stdout",
     "output_type": "stream",
     "text": [
      "<class 'pandas.core.frame.DataFrame'>\n",
      "Int64Index: 8209 entries, 0 to 16180\n",
      "Data columns (total 4 columns):\n",
      " #   Column         Non-Null Count  Dtype  \n",
      "---  ------         --------------  -----  \n",
      " 0   Conflict type  8209 non-null   object \n",
      " 1   Vehicle order  8209 non-null   object \n",
      " 2   PET            8209 non-null   float64\n",
      " 3   TA             8209 non-null   float64\n",
      "dtypes: float64(2), object(2)\n",
      "memory usage: 320.7+ KB\n"
     ]
    }
   ],
   "source": [
    "# Post-process: remove TA \n",
    "TA_MAX = 20\n",
    "TA_MIN = -20\n",
    "conflict_df = conflict_df[(conflict_df[\"TA\"] <= TA_MAX) & (conflict_df[\"TA\"] >= TA_MIN)]\n",
    "conflict_df = conflict_df[conflict_df[\"Vehicle order\"] != \"HV-HV\"]\n",
    "# display info\n",
    "conflict_df.info()"
   ]
  },
  {
   "cell_type": "code",
   "execution_count": 39,
   "id": "8a8c795e-6c93-4e22-abaa-d4760af54a4f",
   "metadata": {},
   "outputs": [
    {
     "data": {
      "image/png": "[encoded data removed]",
      "text/plain": [
       "<Figure size 300x300 with 1 Axes>"
      ]
     },
     "metadata": {},
     "output_type": "display_data"
    }
   ],
   "source": [
    "FIGURE_WIDTH, FIGURE_HEIGHT = 3, 3\n",
    "palette = {\n",
    "    \"HV-HV\" : '#257ab6', \n",
    "    \"AV-HV\" : '#31a231',\n",
    "    \"HV-AV\" : '#ff8214',\n",
    "}\n",
    "plt.figure(figsize=(FIGURE_WIDTH, FIGURE_HEIGHT))\n",
    "conflictType = \"Merge\"\n",
    "histplot(\n",
    "    data=conflict_df[conflict_df[\"Conflict type\"] == conflictType],\n",
    "    x=\"TA\", \n",
    "    bins=50,\n",
    "    hue=\"Vehicle order\",\n",
    "    # col=\"Vehicle order\",\n",
    "    hue_order=[\"AV-HV\", \"HV-AV\"],\n",
    "    common_norm=False,\n",
    "    stat=\"density\",\n",
    "    palette=palette,\n",
    "    multiple=\"layer\",\n",
    "    element=\"step\",\n",
    "    kde=False,\n",
    "    # aspect=1.0,\n",
    "    # facet_kws=dict(sharey=False)\n",
    ")\n",
    "\n",
    "plt.xlim([-20, 20])\n",
    "# plt.ylim([0,0.15])\n",
    "plt.legend([\"AV-HV\", \"HV-AV\"], loc=\"upper left\")\n",
    "plt.title(f\"TA distribution [{conflictType}] (Lyft)\")\n",
    "# plt.savefig(f\"./outputs/plots/waymo_distribution_TA_{conflictType}.png\", dpi=300, bbox_inches=\"tight\")\n",
    "plt.show()\n",
    "\n",
    "conflict_df[conflict_df[\"Conflict type\"] == conflictType].to_csv(\"lyft_ta_merge.csv\")"
   ]
  },
  {
   "cell_type": "code",
   "execution_count": 40,
   "id": "77f2fb5e-5b51-4c99-9a70-7827d80df261",
   "metadata": {},
   "outputs": [
    {
     "data": {
      "image/png": "[encoded data removed]",
      "text/plain": [
       "<Figure size 300x300 with 1 Axes>"
      ]
     },
     "metadata": {},
     "output_type": "display_data"
    }
   ],
   "source": [
    "FIGURE_WIDTH, FIGURE_HEIGHT = 3, 3\n",
    "\n",
    "plt.figure(figsize=(FIGURE_WIDTH, FIGURE_HEIGHT))\n",
    "conflictType = \"Cross\"\n",
    "histplot(\n",
    "    data=conflict_df[conflict_df[\"Conflict type\"] == conflictType],\n",
    "    x=\"TA\", \n",
    "    bins=50,\n",
    "    hue=\"Vehicle order\",\n",
    "    fill=True,\n",
    "    hue_order=[\"AV-HV\", \"HV-AV\"],\n",
    "    common_norm=False,\n",
    "    stat=\"density\",\n",
    "    palette=palette,\n",
    "    multiple=\"layer\",\n",
    "    element=\"step\",\n",
    "    # aspect=1.0,\n",
    "    # legend=False,\n",
    "    # facet_kws=dict(sharey=False)\n",
    ")\n",
    "\n",
    "# plt.xlim([0, TTC_THRESHOLD])\n",
    "# plt.ylim([0,0.15])\n",
    "plt.legend([\"AV-HV\", \"HV-AV\"], loc=\"upper left\")\n",
    "plt.title(f\"TA distribution [{conflictType}] (Lyft)\")\n",
    "# plt.savefig(f\"./outputs/plots/waymo_distribution_TA_{conflictType}.png\", dpi=300, bbox_inches=\"tight\")\n",
    "plt.show()\n",
    "# conflict_df[conflict_df[\"Conflict type\"] == conflictType].to_csv(\"lyft_ta_cross.csv\")"
   ]
  },
  {
   "cell_type": "code",
   "execution_count": null,
   "id": "9c68c9fe-c557-4cd5-b597-52e4e00355d0",
   "metadata": {},
   "outputs": [],
   "source": []
  },
  {
   "cell_type": "code",
   "execution_count": null,
   "id": "07b770d5-5ec6-45c7-a1a6-392a49c72e9a",
   "metadata": {},
   "outputs": [],
   "source": []
  },
  {
   "cell_type": "code",
   "execution_count": 41,
   "id": "7e76a827-aed2-44cf-8aa7-db9e6bc81201",
   "metadata": {},
   "outputs": [
    {
     "data": {
      "image/png": "[encoded data removed]",
      "text/plain": [
       "<Figure size 300x300 with 1 Axes>"
      ]
     },
     "metadata": {},
     "output_type": "display_data"
    }
   ],
   "source": [
    "palette = {\n",
    "    \"HV-HV\" : '#257ab6', \n",
    "    \"AV-HV\" : '#31a231',\n",
    "    \"HV-AV\" : '#ff8214',\n",
    "}\n",
    "\n",
    "HVHV_COLOR = '#257ab6'\n",
    "HVAV_COLOR = '#31a231'\n",
    "AVHV_COLOR = '#ff8214'\n",
    "\n",
    "FIGURE_WIDTH, FIGURE_HEIGHT = 3, 3\n",
    "conflictType = \"Total\"\n",
    "plt.figure(figsize=(FIGURE_WIDTH, FIGURE_HEIGHT))\n",
    "\n",
    "histplot(\n",
    "    data=conflict_df,\n",
    "    x=\"TA\", \n",
    "    bins=30,\n",
    "    hue=\"Vehicle order\",\n",
    "    # col=\"Vehicle order\",\n",
    "    # hue_order=[\"HV-HV\", \"AV-HV\", \"HV-AV\"],\n",
    "    common_norm=False,\n",
    "    stat=\"density\",\n",
    "    # palette=palette,\n",
    "    multiple=\"layer\",\n",
    "    element=\"step\",\n",
    "    # aspect=1.0,\n",
    "    # legend=False,\n",
    "    # facet_kws=dict(sharey=False)\n",
    ")\n",
    "\n",
    "# plt.xlim([0, TTC_THRESHOLD])\n",
    "# plt.ylim([0,0.15])\n",
    "# plt.legend([\"HV-AV\", \"AV-HV\", \"HV-HV\"], title=\"Vehicle order\")\n",
    "plt.title(f\"TA distribution [{conflictType}] (Waymo)\")\n",
    "# plt.savefig(f\"./outputs/plots/waymo_distribution_TA_{conflictType}.png\", dpi=300, bbox_inches=\"tight\")\n",
    "plt.show()"
   ]
  },
  {
   "cell_type": "code",
   "execution_count": null,
   "id": "7170f7e6-d04c-4062-8519-fbaa032cb81e",
   "metadata": {},
   "outputs": [],
   "source": []
  }
 ],
 "metadata": {
  "kernelspec": {
   "display_name": "Python 3 (ipykernel)",
   "language": "python",
   "name": "python3"
  },
  "language_info": {
   "codemirror_mode": {
    "name": "ipython",
    "version": 3
   },
   "file_extension": ".py",
   "mimetype": "text/x-python",
   "name": "python",
   "nbconvert_exporter": "python",
   "pygments_lexer": "ipython3",
   "version": "3.8.18"
  }
 },
 "nbformat": 4,
 "nbformat_minor": 5
}
