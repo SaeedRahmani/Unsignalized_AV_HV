{
 "cells": [
  {
   "cell_type": "code",
   "execution_count": 3,
   "id": "f88cb9cb-d486-406e-9386-985f84b5482e",
   "metadata": {},
   "outputs": [],
   "source": [
    "import os\n",
    "import numpy as np\n",
    "import zarr\n",
    "import matplotlib.pyplot as plt\n",
    "from tqdm.notebook import tqdm\n",
    "import PIL\n",
    "import imageio\n",
    "\n",
    "# load the configuration file\n",
    "from l5kit.configs import load_config_data\n",
    "from l5kit.configs.config import load_metadata\n",
    "# load the dataset from zarr\n",
    "from l5kit.data import ChunkedDataset, LocalDataManager\n",
    "# load the Ego/Agent-based dataset\n",
    "from l5kit.dataset import EgoDataset, AgentDataset, IntersectionDataset\n",
    "# define the road_network protobuf data structure\n",
    "from l5kit.data.proto.road_network_pb2 import RoadNetworkNode, RoadNetworkSegment\n",
    "# Semantic map api\n",
    "from l5kit.data.map_api import MapAPI\n",
    "# rasterizer\n",
    "from l5kit.rasterization import build_rasterizer\n",
    "# geometry\n",
    "from l5kit.geometry import transform_points\n",
    "# trajectory\n",
    "from l5kit.visualization import draw_trajectory, TARGET_POINTS_COLOR"
   ]
  },
  {
   "cell_type": "code",
   "execution_count": 4,
   "id": "223201f1-14dc-4f6a-b22f-2b0fb2f89616",
   "metadata": {},
   "outputs": [
    {
     "name": "stdout",
     "output_type": "stream",
     "text": [
      "{'format_version': 4, 'model_params': {'model_architecture': 'resnet50', 'history_num_frames': 0, 'future_num_frames': 50, 'step_time': 0.1, 'render_ego_history': True}, 'raster_params': {'raster_size': [224, 224], 'pixel_size': [0.5, 0.5], 'ego_center': [0.25, 0.5], 'map_type': 'py_semantic', 'satellite_map_key': 'aerial_map/aerial_map.png', 'semantic_map_key': 'semantic_map/semantic_map.pb', 'dataset_meta_key': 'meta.json', 'filter_agents_threshold': 0.5, 'disable_traffic_light_faces': False, 'set_origin_to_bottom': True}, 'val_data_loader': {'key': 'scenes-train/train.zarr', 'batch_size': 12, 'shuffle': False, 'num_workers': 16}}\n",
      "+------------+------------+------------+---------------+-----------------+----------------------+----------------------+----------------------+---------------------+\n",
      "| Num Scenes | Num Frames | Num Agents | Num TR lights | Total Time (hr) | Avg Frames per Scene | Avg Agents per Frame | Avg Scene Time (sec) | Avg Frame frequency |\n",
      "+------------+------------+------------+---------------+-----------------+----------------------+----------------------+----------------------+---------------------+\n",
      "|   16265    |  4039527   | 320124624  |    38735988   |      112.19     |        248.36        |        79.25         |        24.83         |        10.00        |\n",
      "+------------+------------+------------+---------------+-----------------+----------------------+----------------------+----------------------+---------------------+\n"
     ]
    }
   ],
   "source": [
    "# load the configuration file\n",
    "cfg = load_config_data(\"./visualisation_config_train_1.yaml\")\n",
    "print(cfg)\n",
    "\n",
    "# load the dataset from zarr\n",
    "os.environ[\"L5KIT_DATA_FOLDER\"] = \"./\" ## Set the environmental variable\n",
    "dm = LocalDataManager()\n",
    "dataset_path = dm.require(cfg[\"val_data_loader\"][\"key\"])\n",
    "# print(dataset_path) # scenes\\sample.zarr\n",
    "zarr_dataset = ChunkedDataset(dataset_path)\n",
    "zarr_dataset.open()\n",
    "print(zarr_dataset)"
   ]
  },
  {
   "cell_type": "code",
   "execution_count": 5,
   "id": "8d81c9e3-4d65-4eef-8692-7ac6359b81fd",
   "metadata": {},
   "outputs": [],
   "source": [
    "# create the rasterizer and dataset\n",
    "\n",
    "cfg[\"raster_params\"][\"map_type\"] = \"intersection\" # \"py_satellite\" # \"py_semantic\"   \n",
    "intersection_rast = build_rasterizer(cfg, dm)\n",
    "intersection_dataset = IntersectionDataset(cfg, zarr_dataset, intersection_rast)"
   ]
  },
  {
   "cell_type": "code",
   "execution_count": 6,
   "id": "cc264be8-89de-4680-a544-870f672fd7cf",
   "metadata": {},
   "outputs": [
    {
     "name": "stdout",
     "output_type": "stream",
     "text": [
      "#frames in the scenes-train/train.zarr: 4039527\n",
      "#scenes in the scenes-train/train.zarr: 16265\n"
     ]
    }
   ],
   "source": [
    "print(f\"#frames in the {cfg['val_data_loader']['key']}: {len(intersection_dataset)}\")\n",
    "print(f\"#scenes in the {cfg['val_data_loader']['key']}: {len(intersection_dataset.cumulative_sizes)}\")"
   ]
  },
  {
   "cell_type": "markdown",
   "id": "1b97a061-f213-49be-9a10-690e05d24f8f",
   "metadata": {},
   "source": [
    "```python\n",
    "# keys in a frame:\n",
    "\n",
    "dict_keys(['frame_index', 'image', 'target_positions', 'target_yaws', 'target_velocities', 'target_availabilities', \n",
    "        'history_positions', 'history_yaws', 'history_velocities', 'history_availabilities', \n",
    "        'world_to_image', 'raster_from_agent', 'raster_from_world', 'agent_from_world', 'world_from_agent', \n",
    "        'centroid', 'yaw', 'extent', 'history_extents', 'future_extents', 'scene_index', \n",
    "        'host_id', 'timestamp', 'track_id', 'is_intersection_included'])\n",
    "```"
   ]
  },
  {
   "cell_type": "markdown",
   "id": "8ee04416-c4b7-4ec5-9958-c0f3245dd3e6",
   "metadata": {},
   "source": [
    "Iterate the dataset to get all the frames that include the intersection"
   ]
  },
  {
   "cell_type": "code",
   "execution_count": 7,
   "id": "5b90b69d-8db9-4726-9a54-6592267e176d",
   "metadata": {
    "scrolled": true
   },
   "outputs": [
    {
     "data": {
      "application/vnd.jupyter.widget-view+json": {
       "model_id": "ee537483d4d145bc998c845d2d5e8edc",
       "version_major": 2,
       "version_minor": 0
      },
      "text/plain": [
       "Identify the intersection of interest inside scenes-train/train.zarr::   0%|          | 0/4039527 [00:00<?, ?f…"
      ]
     },
     "metadata": {},
     "output_type": "display_data"
    }
   ],
   "source": [
    "frames_including_intersection = []\n",
    "scenes_including_intersection = []\n",
    "\n",
    "for idx, frame in tqdm(enumerate(intersection_dataset), \n",
    "                       total=len(intersection_dataset), \n",
    "                       unit=\"frame\",\n",
    "                       desc=f\"Identify the intersection of interest inside {cfg['val_data_loader']['key']}:\"):\n",
    "    if frame[\"is_intersection_included\"]:\n",
    "        # save the frame_id\n",
    "        frames_including_intersection.append(idx)\n",
    "        # FIXME: save the scene_id\n",
    "        scenes_including_intersection.append(frame[\"scene_index\"])"
   ]
  },
  {
   "cell_type": "code",
   "execution_count": 8,
   "id": "94a4cf7a-1c7f-49fa-ae1f-a176ff952454",
   "metadata": {},
   "outputs": [
    {
     "data": {
      "text/plain": [
       "(186992, 1290)"
      ]
     },
     "execution_count": 8,
     "metadata": {},
     "output_type": "execute_result"
    }
   ],
   "source": [
    "len(set(frames_including_intersection)), len(set(scenes_including_intersection))"
   ]
  },
  {
   "cell_type": "code",
   "execution_count": 10,
   "id": "50c44e55-4ca2-43aa-b982-8575ec6843f4",
   "metadata": {},
   "outputs": [
    {
     "name": "stdout",
     "output_type": "stream",
     "text": [
      "#scenes including the intersection:\n",
      "1290\n"
     ]
    }
   ],
   "source": [
    "print(f\"#scenes including the intersection:\\n{len(set(scenes_including_intersection))}\")"
   ]
  },
  {
   "cell_type": "code",
   "execution_count": 16,
   "id": "5e081e82-c5d5-44f2-b3ac-d8bb09ff0253",
   "metadata": {},
   "outputs": [],
   "source": [
    "import pickle\n",
    "\n",
    "# TODO: save the ids in picked files:\n",
    "with open(\"./train1_scenes_including_intersection.pkl\", 'wb') as file:\n",
    "    pickle.dump(set(scenes_including_intersection), file)\n",
    "\n",
    "with open(\"./train1_frames_including_intersection.pkl\", 'wb') as file:\n",
    "    pickle.dump(set(frames_including_intersection), file)"
   ]
  },
  {
   "cell_type": "code",
   "execution_count": 18,
   "id": "20d24f2b-106e-413e-9977-716e7f3a24ed",
   "metadata": {},
   "outputs": [],
   "source": [
    "with open(\"./train1_scenes_including_intersection.pkl\", 'rb') as file:\n",
    "    set_scenes_including_intersection = pickle.load(file)\n",
    "\n",
    "list_scenes_including_intersection = list(set_scenes_including_intersection)\n",
    "\n",
    "with open(\"./train1_frames_including_intersection.pkl\", 'rb') as file:\n",
    "    set_frames_including_intersection = pickle.load(file)\n",
    "\n",
    "list_frames_including_intersection = list(set_frames_including_intersection)"
   ]
  },
  {
   "cell_type": "code",
   "execution_count": 19,
   "id": "e7b585c1-7bec-4077-923e-df12d8c86b34",
   "metadata": {},
   "outputs": [
    {
     "data": {
      "text/plain": [
       "671"
      ]
     },
     "execution_count": 19,
     "metadata": {},
     "output_type": "execute_result"
    }
   ],
   "source": [
    "list_scenes_including_intersection2 = np.array(list_scenes_including_intersection[1:])\n",
    "list_scenes_including_intersection1 = np.array(list_scenes_including_intersection[:-1])\n",
    "\n",
    "diff = list_scenes_including_intersection2 - list_scenes_including_intersection1\n",
    "np.sum(diff == 1)"
   ]
  },
  {
   "cell_type": "markdown",
   "id": "231a94c5-2681-44d7-850d-dba2d721ebcc",
   "metadata": {},
   "source": [
    "## Visualization / Verification"
   ]
  },
  {
   "cell_type": "markdown",
   "id": "868a733a-9382-4ea6-af9a-bd8a61ee0f5f",
   "metadata": {},
   "source": [
    "Use GIF animation to check whether the frame includes the intersection"
   ]
  },
  {
   "cell_type": "code",
   "execution_count": null,
   "id": "9159f440-35c3-401a-9e4b-92c7c8030ad9",
   "metadata": {},
   "outputs": [],
   "source": [
    "from IPython.display import display, clear_output\n",
    "import PIL\n",
    " \n",
    "cfg[\"raster_params\"][\"map_type\"] = \"py_satellite\"\n",
    "rast = build_rasterizer(cfg, dm)\n",
    "dataset = EgoDataset(cfg, zarr_dataset, rast)\n",
    "scene_idx = 56\n",
    "indexes = dataset.get_scene_indices(scene_idx)\n",
    "images = [] # to store the frame for GIF\n",
    "\n",
    "for idx in indexes:\n",
    "    \n",
    "    data = dataset[idx]\n",
    "    im = data[\"image\"].transpose(1, 2, 0)\n",
    "    im = dataset.rasterizer.to_rgb(im)\n",
    "    target_positions_pixels = transform_points(data[\"target_positions\"], data[\"raster_from_agent\"])\n",
    "    center_in_pixels = np.asarray(cfg[\"raster_params\"][\"ego_center\"]) * cfg[\"raster_params\"][\"raster_size\"]\n",
    "    # draw_trajectory(im, target_positions_pixels, TARGET_POINTS_COLOR, yaws=data[\"target_yaws\"])\n",
    "    clear_output(wait=True)\n",
    "    display(PIL.Image.fromarray(im))\n",
    "\n",
    "    pil_image = PIL.Image.fromarray(im)\n",
    "    images.append(pil_image)\n",
    "\n",
    "imageio.mimsave(f\"./scene_gif/scene_{scene_idx}.gif\", images)\n",
    "clear_output(wait=True)"
   ]
  },
  {
   "cell_type": "markdown",
   "id": "597fab97-b2b5-4005-bf3b-80b2119c436a",
   "metadata": {},
   "source": [
    "Use satellite map to check whether the frame includes the intersection"
   ]
  },
  {
   "cell_type": "code",
   "execution_count": null,
   "id": "979c8825-1ecb-42b6-9602-6e22be232d4f",
   "metadata": {},
   "outputs": [],
   "source": [
    "frameIndex = 23120\n",
    "cfg[\"raster_params\"][\"map_type\"] = \"py_satellite\" # \"intersection\" # \"py_semantic\"   \n",
    "rast = build_rasterizer(cfg, dm)\n",
    "dataset = IntersectionDataset(cfg, zarr_dataset, rast)\n",
    "data = dataset[frameIndex]\n",
    "\n",
    "im = data[\"image\"].transpose(1, 2, 0) # (224, 224, 5)\n",
    "im = dataset.rasterizer.to_rgb(im) # (224, 224, 3)\n",
    "target_positions_pixels = transform_points(data[\"target_positions\"], data[\"raster_from_agent\"])\n",
    "# draw_trajectory(im, target_positions_pixels, TARGET_POINTS_COLOR, yaws=data[\"target_yaws\"])\n",
    "\n",
    "plt.imshow(im)\n",
    "plt.show()"
   ]
  },
  {
   "cell_type": "code",
   "execution_count": null,
   "id": "5c1eec78-d884-4342-bf31-08b7a5e471b8",
   "metadata": {},
   "outputs": [],
   "source": []
  }
 ],
 "metadata": {
  "kernelspec": {
   "display_name": "Python 3 (ipykernel)",
   "language": "python",
   "name": "python3"
  },
  "language_info": {
   "codemirror_mode": {
    "name": "ipython",
    "version": 3
   },
   "file_extension": ".py",
   "mimetype": "text/x-python",
   "name": "python",
   "nbconvert_exporter": "python",
   "pygments_lexer": "ipython3",
   "version": "3.8.18"
  }
 },
 "nbformat": 4,
 "nbformat_minor": 5
}
