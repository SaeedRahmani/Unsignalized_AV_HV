{
 "cells": [
  {
   "cell_type": "markdown",
   "id": "3d571593-a438-4dc8-a963-556b331101a4",
   "metadata": {},
   "source": [
    "# Aggregate all the conflicts into one pickle file"
   ]
  },
  {
   "cell_type": "markdown",
   "id": "a6bcedd3-1dfc-464f-ad02-44ab2af92287",
   "metadata": {},
   "source": [
    "## Junction 1\n",
    "\n",
    "These pkl files are loaded:\n",
    "- AVHV: `./pickle_backup/conflicts/junction1/lyft_avhv_conflict.pkl`\n",
    "- HVHV: `./pickle_backup/conflicts/junction1/lyft_hvhv_conflict.pkl`"
   ]
  },
  {
   "cell_type": "code",
   "execution_count": 34,
   "id": "8c545c2f-58f8-4366-af2e-a8074ed9c3db",
   "metadata": {},
   "outputs": [
    {
     "data": {
      "text/plain": [
       "(400, 459)"
      ]
     },
     "execution_count": 34,
     "metadata": {},
     "output_type": "execute_result"
    }
   ],
   "source": [
    "import pickle\n",
    "\n",
    "# load conflicts in junction 1 (j1)\n",
    "with open(\"./pickle_backup/conflicts/junction1/lyft_avhv_conflict.pkl\", \"rb\") as f:\n",
    "    avhv_j1 = pickle.load(f)\n",
    "with open(\"./pickle_backup/conflicts/junction1/lyft_hvhv_conflict.pkl\", \"rb\") as f:\n",
    "    hvhv_j1 = pickle.load(f)\n",
    "\n",
    "with open('lyft_avhv_conflict_j1.pkl', 'wb') as f:\n",
    "    pickle.dump(avhv_j1, f)\n",
    "with open('lyft_hvhv_conflict_j1.pkl', 'wb') as f:\n",
    "    pickle.dump(hvhv_j1, f)\n",
    "\n",
    "# report sample size\n",
    "len(avhv_j1), len(hvhv_j1)"
   ]
  },
  {
   "cell_type": "markdown",
   "id": "bca8d642-754c-4fb4-8106-52a14ad758c5",
   "metadata": {},
   "source": [
    "## Junction 2 \n",
    "\n",
    "The train2 dataset is split into 5 pieces."
   ]
  },
  {
   "cell_type": "code",
   "execution_count": 26,
   "id": "3dc94502-e967-4d27-b9e2-68cac5c80485",
   "metadata": {},
   "outputs": [],
   "source": [
    "from l5kit_conflict.pickle.io import load_potential_conflict_pickle_junction2\n",
    "from l5kit_conflict.analysis.post_process import remove_non_continuous_AV_trajectory, get_dataset_as_dict, get_dataset_as_list"
   ]
  },
  {
   "cell_type": "markdown",
   "id": "8beb448c-6334-478f-ab9d-e1baa6afb55a",
   "metadata": {},
   "source": [
    "split 1 and 2"
   ]
  },
  {
   "cell_type": "code",
   "execution_count": 27,
   "id": "9b6da27c-cf7a-4117-88d6-9386b0ee709f",
   "metadata": {},
   "outputs": [
    {
     "data": {
      "text/plain": [
       "(43, 256)"
      ]
     },
     "execution_count": 27,
     "metadata": {},
     "output_type": "execute_result"
    }
   ],
   "source": [
    "# avhv_1 = remove_non_continuous_AV_trajectory(load_potential_conflict_pickle_junction2(\"AVHV\", \"train2\", 1, 10), 10)\n",
    "# avhv_2 = remove_non_continuous_AV_trajectory(load_potential_conflict_pickle_junction2(\"AVHV\", \"train2\", 2, 10), 10)\n",
    "hvhv_1 = load_potential_conflict_pickle_junction2(\"HVHV\", \"train2\", 1, 10)\n",
    "hvhv_2 = load_potential_conflict_pickle_junction2(\"HVHV\", \"train2\", 2, 10)\n",
    "avhv_1 = load_potential_conflict_pickle_junction2(\"AVHV\", \"train2\", 1, 10)\n",
    "avhv_2 = load_potential_conflict_pickle_junction2(\"AVHV\", \"train2\", 2, 10)\n",
    "\n",
    "hvhv_1[\"cross\"].pop(\"turnLeftFromLeft&turnLeftFromTop\")\n",
    "hvhv_2[\"cross\"].pop(\"turnLeftFromLeft&turnLeftFromTop\")\n",
    "\n",
    "avhv_1 = remove_non_continuous_AV_trajectory(avhv_1, 10)\n",
    "avhv_2 = remove_non_continuous_AV_trajectory(avhv_2, 10)\n",
    "\n",
    "cf_dict12 = get_dataset_as_dict(hvhv_1, hvhv_2, avhv_1, avhv_2)\n",
    "avhv_12, hvhv_12 = get_dataset_as_list(cf_dict12, True)\n",
    "len(avhv_12), len(hvhv_12)"
   ]
  },
  {
   "cell_type": "markdown",
   "id": "f6ebfea9-8c10-4067-a0e3-21641dcfce26",
   "metadata": {},
   "source": [
    "split 3 and 4"
   ]
  },
  {
   "cell_type": "code",
   "execution_count": 28,
   "id": "36b3e9f5-6d50-4ecb-ae75-6eee1cfe4b4c",
   "metadata": {},
   "outputs": [
    {
     "data": {
      "text/plain": [
       "(30, 291)"
      ]
     },
     "execution_count": 28,
     "metadata": {},
     "output_type": "execute_result"
    }
   ],
   "source": [
    "hvhv_3 = load_potential_conflict_pickle_junction2(\"HVHV\", \"train2\", 3, 10)\n",
    "hvhv_4 = load_potential_conflict_pickle_junction2(\"HVHV\", \"train2\", 4, 10)\n",
    "avhv_3 = load_potential_conflict_pickle_junction2(\"AVHV\", \"train2\", 3, 10)\n",
    "avhv_4 = load_potential_conflict_pickle_junction2(\"AVHV\", \"train2\", 4, 10)\n",
    "\n",
    "hvhv_3[\"cross\"].pop(\"turnLeftFromLeft&turnLeftFromTop\")\n",
    "hvhv_4[\"cross\"].pop(\"turnLeftFromLeft&turnLeftFromTop\")\n",
    "\n",
    "avhv_3 = remove_non_continuous_AV_trajectory(avhv_3, 10)\n",
    "avhv_4 = remove_non_continuous_AV_trajectory(avhv_4, 10)\n",
    "\n",
    "cf_dict34 = get_dataset_as_dict(hvhv_3, hvhv_4, avhv_3, avhv_4)\n",
    "avhv_34, hvhv_34 = get_dataset_as_list(cf_dict34, True)\n",
    "len(avhv_34), len(hvhv_34)"
   ]
  },
  {
   "cell_type": "markdown",
   "id": "b90a87e6-43a7-4e9a-8c11-6a75481823b8",
   "metadata": {},
   "source": [
    "split 5 and val"
   ]
  },
  {
   "cell_type": "code",
   "execution_count": 29,
   "id": "964ebc5f-c204-48c9-959a-0ca8b65578b7",
   "metadata": {},
   "outputs": [
    {
     "data": {
      "text/plain": [
       "(23, 243)"
      ]
     },
     "execution_count": 29,
     "metadata": {},
     "output_type": "execute_result"
    }
   ],
   "source": [
    "hvhv_5 = load_potential_conflict_pickle_junction2(\"HVHV\", \"train2\", 5, 10)\n",
    "avhv_5 = load_potential_conflict_pickle_junction2(\"AVHV\", \"train2\", 5, 10)\n",
    "hvhv_val = load_potential_conflict_pickle_junction2(\"HVHV\", \"validate\", 1, 10)\n",
    "avhv_val = load_potential_conflict_pickle_junction2(\"AVHV\", \"validate\", 1, 10)\n",
    "\n",
    "hvhv_5[\"cross\"].pop(\"turnLeftFromLeft&turnLeftFromTop\")\n",
    "hvhv_val[\"cross\"].pop(\"turnLeftFromLeft&turnLeftFromTop\")\n",
    "\n",
    "avhv_5 = remove_non_continuous_AV_trajectory(avhv_5, 10)\n",
    "avhv_val = remove_non_continuous_AV_trajectory(avhv_val, 10)\n",
    "\n",
    "cf_dict5v = get_dataset_as_dict(hvhv_5, hvhv_val, avhv_5, avhv_val)\n",
    "avhv_5v, hvhv_5v = get_dataset_as_list(cf_dict5v, True)\n",
    "len(avhv_5v), len(hvhv_5v)"
   ]
  },
  {
   "cell_type": "code",
   "execution_count": 33,
   "id": "ba855e12-4869-41f7-918f-53547f3383ad",
   "metadata": {},
   "outputs": [
    {
     "data": {
      "text/plain": [
       "(96, 790)"
      ]
     },
     "execution_count": 33,
     "metadata": {},
     "output_type": "execute_result"
    }
   ],
   "source": [
    "# aggregate the lists\n",
    "avhv_j2 = avhv_12 + avhv_34 + avhv_5v\n",
    "hvhv_j2 = hvhv_12 + hvhv_34 + hvhv_5v\n",
    "\n",
    "with open('lyft_avhv_conflict_j2.pkl', 'wb') as f:\n",
    "    pickle.dump(avhv_j2, f)\n",
    "with open('lyft_hvhv_conflict_j2.pkl', 'wb') as f:\n",
    "    pickle.dump(hvhv_j2, f)\n",
    "\n",
    "# report sample size\n",
    "len(avhv_j2), len(hvhv_j2)"
   ]
  },
  {
   "cell_type": "markdown",
   "id": "d9848ef6-7058-4942-a9c1-40b84f3ca6a1",
   "metadata": {},
   "source": [
    "## Aggregation\n",
    "\n",
    "Save all the conflicts into two pkl files:\n",
    "- `lyft_avhv_conflict.pkl`\n",
    "- `lyft_hvhv_conflict.pkl`"
   ]
  },
  {
   "cell_type": "code",
   "execution_count": 25,
   "id": "8e398fa7-393a-4969-acf4-dae0660dba43",
   "metadata": {},
   "outputs": [],
   "source": [
    "# aggregate two junctions\n",
    "avhv = avhv_j1 + avhv_j2\n",
    "hvhv = hvhv_j1 + hvhv_j2\n",
    "\n",
    "# report sample size\n",
    "len(avhv), len(hvhv)\n",
    "\n",
    "# dump as pkl\n",
    "with open('lyft_avhv_conflict.pkl', 'wb') as f:\n",
    "    pickle.dump(avhv, f)\n",
    "with open('lyft_hvhv_conflict.pkl', 'wb') as f:\n",
    "    pickle.dump(hvhv, f)"
   ]
  },
  {
   "cell_type": "code",
   "execution_count": null,
   "id": "8f7139e8-1407-4076-9ff1-564059385d1f",
   "metadata": {},
   "outputs": [],
   "source": []
  }
 ],
 "metadata": {
  "kernelspec": {
   "display_name": "Python 3 (ipykernel)",
   "language": "python",
   "name": "python3"
  },
  "language_info": {
   "codemirror_mode": {
    "name": "ipython",
    "version": 3
   },
   "file_extension": ".py",
   "mimetype": "text/x-python",
   "name": "python",
   "nbconvert_exporter": "python",
   "pygments_lexer": "ipython3",
   "version": "3.8.18"
  }
 },
 "nbformat": 4,
 "nbformat_minor": 5
}
