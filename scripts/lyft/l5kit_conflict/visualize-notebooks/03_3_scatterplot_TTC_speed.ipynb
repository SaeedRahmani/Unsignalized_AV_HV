{
 "cells": [
  {
   "cell_type": "code",
   "execution_count": 3,
   "id": "bdf1ce61-2a2a-4a86-82db-0c3c3f2890dd",
   "metadata": {},
   "outputs": [
    {
     "name": "stderr",
     "output_type": "stream",
     "text": [
      "C:\\Users\\LocalAdmin\\Documents\\GitHub\\lyft_intersection\\extract_intersections\\conflict.py:172: RuntimeWarning: divide by zero encountered in scalar divide\n",
      "  follower_trajectory_length / self.follower_beforeConflict_speeds[follower_index] - \\\n",
      "C:\\Users\\LocalAdmin\\Documents\\GitHub\\lyft_intersection\\extract_intersections\\conflict.py:173: RuntimeWarning: divide by zero encountered in scalar divide\n",
      "  leader_trajectory_length / self.leader_beforeConflict_speeds[leader_index]\n",
      "C:\\Users\\LocalAdmin\\Documents\\GitHub\\lyft_intersection\\extract_intersections\\conflict.py:157: RuntimeWarning: divide by zero encountered in scalar divide\n",
      "  TTCs.append(follower_trajectory_length / (self.follower_beforeConflict_speeds[follower_index]))\n"
     ]
    }
   ],
   "source": [
    "import pickle\n",
    "import numpy as np\n",
    "import pandas as pd\n",
    "import matplotlib.pyplot as plt\n",
    "# import scienceplots\n",
    "%matplotlib inline\n",
    "from seaborn import displot, histplot, scatterplot, relplot\n",
    "plt.style.use(['seaborn-v0_8-paper'])\n",
    "from tqdm import tqdm\n",
    "from shapely.geometry import LineString\n",
    "from conflict import ConflictLyft\n",
    "\n",
    "with open('./lyft_avhv_conflict.pkl', 'rb') as file:\n",
    "    lyft_avhv_conflict_list = pickle.load(file)\n",
    "\n",
    "with open('./lyft_hvhv_conflict.pkl', 'rb') as file:\n",
    "    lyft_hvhv_conflict_list = pickle.load(file)\n",
    "\n",
    "lyft_conflict_list = lyft_avhv_conflict_list + lyft_hvhv_conflict_list\n",
    "\n",
    "# convert the type to latest conflict object\n",
    "conflict_list = list()\n",
    "for c_index, c in enumerate(lyft_conflict_list):\n",
    "    # print(c_index)\n",
    "    conflict_list.append(ConflictLyft(\n",
    "        leader_id=c.first_id,\n",
    "        follower_id=c.second_id,\n",
    "        leader_time_at_conflict=c.first_time_at_conflict,\n",
    "        follower_time_at_conflict=c.second_time_at_conflict,\n",
    "        leader_is_av=c.is_first_AV,\n",
    "        follower_is_av=c.is_second_AV,\n",
    "        PET=c.PET,\n",
    "        conflict_type=c.category.upper(),\n",
    "        leader_traj=c.first_trajectory.xy[1:-1,:],\n",
    "        follower_traj=c.second_trajectory.xy[1:-1,:],\n",
    "        leader_traj_timestamp=c.first_trajectory.t[1:-1],\n",
    "        follower_traj_timestamp=c.second_trajectory.t[1:-1],\n",
    "        leader_traj_speed=c.first_trajectory.smoothed_v,\n",
    "        follower_traj_speed=c.second_trajectory.smoothed_v,\n",
    "    ))\n",
    "assert len(conflict_list) == len(lyft_conflict_list)"
   ]
  },
  {
   "cell_type": "code",
   "execution_count": 5,
   "id": "0d4a73eb-0327-400c-95d6-0b5879869ba5",
   "metadata": {},
   "outputs": [
    {
     "name": "stdout",
     "output_type": "stream",
     "text": [
      "<class 'pandas.core.frame.DataFrame'>\n",
      "Int64Index: 35272 entries, 0 to 35271\n",
      "Data columns (total 6 columns):\n",
      " #   Column          Non-Null Count  Dtype  \n",
      "---  ------          --------------  -----  \n",
      " 0   Conflict type   35272 non-null  object \n",
      " 1   Vehicle order   35272 non-null  object \n",
      " 2   PET             35272 non-null  float64\n",
      " 3   TTC             35272 non-null  float64\n",
      " 4   leader_speed    35272 non-null  float64\n",
      " 5   follower_speed  35272 non-null  float64\n",
      "dtypes: float64(4), object(2)\n",
      "memory usage: 1.9+ MB\n"
     ]
    },
    {
     "data": {
      "text/plain": [
       "(None, (35272, 6))"
      ]
     },
     "execution_count": 5,
     "metadata": {},
     "output_type": "execute_result"
    }
   ],
   "source": [
    "conflict_cols_in_df = [\n",
    "    \"Conflict type\",\n",
    "    \"Vehicle order\",\n",
    "    \"PET\",\n",
    "    \"TTC\",\n",
    "    \"leader_speed\",\n",
    "    \"follower_speed\",\n",
    "]\n",
    "\n",
    "# generate each rows in the dataframe\n",
    "conflict_rows_in_df = list()\n",
    "for conflict in conflict_list:\n",
    "    leader_type = \"AV\" if conflict.leader_is_av else \"HV\"\n",
    "    follower_type = \"AV\" if conflict.follower_is_av else \"HV\" \n",
    "    conflict_type = \"Cross\" if conflict.conflict_type == \"CROSS\" else \"Merge\"\n",
    "    PET = conflict.PET\n",
    "\n",
    "    if conflict.two_vehicles_co_exist:\n",
    "        states = conflict.states_before_conflictPoint[:, [1,6,7]]\n",
    "        states = states[~np.isnan(states).any(axis=1)]\n",
    "        \n",
    "        for state in states:\n",
    "            conflict_rows_in_df.append([\n",
    "                    conflict_type,\n",
    "                    leader_type+\"-\"+follower_type,\n",
    "                    PET,\n",
    "                    state[0],\n",
    "                    state[1],\n",
    "                    state[2],\n",
    "                ])\n",
    "\n",
    "conflict_df = pd.DataFrame(conflict_rows_in_df, columns=conflict_cols_in_df)\n",
    "\n",
    "# Post-process\n",
    "PET_THRESHOLD = 10\n",
    "conflict_df = conflict_df[conflict_df[\"PET\"] <= PET_THRESHOLD]\n",
    "\n",
    "# display info\n",
    "conflict_df.info(), conflict_df.shape"
   ]
  },
  {
   "cell_type": "code",
   "execution_count": 6,
   "id": "5ff1c3b6-a70d-472f-8375-06d1fc39bf88",
   "metadata": {},
   "outputs": [
    {
     "name": "stdout",
     "output_type": "stream",
     "text": [
      "<class 'pandas.core.frame.DataFrame'>\n",
      "Int64Index: 18248 entries, 0 to 35258\n",
      "Data columns (total 6 columns):\n",
      " #   Column          Non-Null Count  Dtype  \n",
      "---  ------          --------------  -----  \n",
      " 0   Conflict type   18248 non-null  object \n",
      " 1   Vehicle order   18248 non-null  object \n",
      " 2   PET             18248 non-null  float64\n",
      " 3   TTC             18248 non-null  float64\n",
      " 4   leader_speed    18248 non-null  float64\n",
      " 5   follower_speed  18248 non-null  float64\n",
      "dtypes: float64(4), object(2)\n",
      "memory usage: 997.9+ KB\n"
     ]
    }
   ],
   "source": [
    "# Post-process: remove TTC greater than 10s\n",
    "TTC_THRESHOLD = 10\n",
    "conflict_df = conflict_df[conflict_df[\"TTC\"] <= TTC_THRESHOLD]\n",
    "\n",
    "# display info\n",
    "conflict_df.info()"
   ]
  },
  {
   "cell_type": "code",
   "execution_count": 15,
   "id": "44453b56-0532-4f13-b4da-6b8e3785cc3f",
   "metadata": {},
   "outputs": [
    {
     "data": {
      "text/plain": [
       "<Figure size 300x300 with 0 Axes>"
      ]
     },
     "metadata": {},
     "output_type": "display_data"
    },
    {
     "data": {
      "image/png": "[encoded data removed]",
      "text/plain": [
       "<Figure size 300x300 with 1 Axes>"
      ]
     },
     "metadata": {},
     "output_type": "display_data"
    }
   ],
   "source": [
    "FIGURE_WIDTH, FIGURE_HEIGHT = 3, 3\n",
    "conflictType = \"Total\"\n",
    "plt.figure(figsize=(FIGURE_WIDTH, FIGURE_HEIGHT))\n",
    "\n",
    "displot(\n",
    "    data=conflict_df,\n",
    "    x=\"TTC\", \n",
    "    y=\"follower_speed\",\n",
    "    height=FIGURE_HEIGHT,\n",
    "    aspect=1.0,\n",
    ")\n",
    "\n",
    "plt.xlim([0, TTC_THRESHOLD])\n",
    "plt.ylim([0, 15])\n",
    "# plt.legend([\"HV-AV\", \"AV-HV\", \"HV-HV\"], title=\"Vehicle order\")\n",
    "plt.title(f\"TTC - Follower speed [{conflictType}] (Lyft)\")\n",
    "# plt.savefig(f\"./outputs/plots/waymo_distribution_TTC_{conflictType}.png\", dpi=300, bbox_inches=\"tight\")\n",
    "plt.show()"
   ]
  },
  {
   "cell_type": "code",
   "execution_count": 16,
   "id": "facf14f9-a536-4e8b-8246-107806248a58",
   "metadata": {},
   "outputs": [
    {
     "data": {
      "text/plain": [
       "<Figure size 300x300 with 0 Axes>"
      ]
     },
     "metadata": {},
     "output_type": "display_data"
    },
    {
     "data": {
      "image/png": "[encoded data removed]",
      "text/plain": [
       "<Figure size 300x300 with 1 Axes>"
      ]
     },
     "metadata": {},
     "output_type": "display_data"
    }
   ],
   "source": [
    "FIGURE_WIDTH, FIGURE_HEIGHT = 3, 3\n",
    "conflictType = \"Total\"\n",
    "plt.figure(figsize=(FIGURE_WIDTH, FIGURE_HEIGHT))\n",
    "\n",
    "displot(\n",
    "    data=conflict_df,\n",
    "    x=\"TTC\", \n",
    "    y=\"leader_speed\",\n",
    "    height=FIGURE_HEIGHT,\n",
    "    aspect=1.0,\n",
    ")\n",
    "\n",
    "plt.xlim([0, TTC_THRESHOLD])\n",
    "plt.ylim([0, 15])\n",
    "# plt.legend([\"HV-AV\", \"AV-HV\", \"HV-HV\"], title=\"Vehicle order\")\n",
    "plt.title(f\"TTC - Leader speed [{conflictType}] (Lyft)\")\n",
    "# plt.savefig(f\"./outputs/plots/waymo_distribution_TTC_{conflictType}.png\", dpi=300, bbox_inches=\"tight\")\n",
    "plt.show()"
   ]
  },
  {
   "cell_type": "code",
   "execution_count": null,
   "id": "fd02b4d0-0709-47d4-a6c6-84f5a0122236",
   "metadata": {},
   "outputs": [],
   "source": []
  }
 ],
 "metadata": {
  "kernelspec": {
   "display_name": "Python 3 (ipykernel)",
   "language": "python",
   "name": "python3"
  },
  "language_info": {
   "codemirror_mode": {
    "name": "ipython",
    "version": 3
   },
   "file_extension": ".py",
   "mimetype": "text/x-python",
   "name": "python",
   "nbconvert_exporter": "python",
   "pygments_lexer": "ipython3",
   "version": "3.8.18"
  }
 },
 "nbformat": 4,
 "nbformat_minor": 5
}
