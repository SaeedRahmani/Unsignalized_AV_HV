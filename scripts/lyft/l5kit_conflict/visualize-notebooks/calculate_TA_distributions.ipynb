{
 "cells": [
  {
   "cell_type": "code",
   "execution_count": 1,
   "id": "30983d7d-2081-4b63-98f8-ab1c6d5ebcf3",
   "metadata": {},
   "outputs": [
    {
     "name": "stderr",
     "output_type": "stream",
     "text": [
      "D:\\github\\lyft_intersection\\l5kit\\l5kit\\l5kit\\dataset\\select_agents.py:31: UserWarning: Windows detected. BLOSC_NOLOCK has not been set as it causes memory leaks on Windows.However, writing the mask with this config may be inconsistent.\n",
      "  warnings.warn(\n"
     ]
    }
   ],
   "source": [
    "import numpy as np\n",
    "import matplotlib.pyplot as plt\n",
    "\n",
    "from shapely.geometry import LineString, Polygon\n",
    "from l5kit_conflict.pickle.io import load_potential_conflict_pickle, report_AVHV_conflicts, report_HVHV_conflicts\n",
    "from l5kit_conflict.filter.helper import multiline_to_single_line, multi2singleLineString\n",
    "from l5kit_conflict.analysis.conflict import Conflict\n",
    "from l5kit_conflict.analysis.trajectory import Trajectory\n",
    "from l5kit_conflict.analysis.post_process import post_process, compute_position_based_velocities, three_sigma_smoothing\n",
    "\n",
    "np.set_printoptions(suppress=True)\n",
    "plt.style.use(\"ggplot\")"
   ]
  },
  {
   "cell_type": "code",
   "execution_count": 3,
   "id": "c153e448-f57d-42d7-bc80-579d17a06ba2",
   "metadata": {},
   "outputs": [
    {
     "name": "stdout",
     "output_type": "stream",
     "text": [
      "Post-processing\n"
     ]
    }
   ],
   "source": [
    "# %% load datasets.\n",
    "delta_time = 10  # 10 seconds for now [April 3rd, meeting];\n",
    "AVHV_val_conflict_dataset = load_potential_conflict_pickle(dataset_type=\"AVHV\", dataset_name=\"validate\",\n",
    "                                                           delta_time=delta_time)\n",
    "HVHV_val_conflict_dataset = load_potential_conflict_pickle(dataset_type=\"HVHV\", dataset_name=\"validate\",\n",
    "                                                           delta_time=delta_time)\n",
    "\n",
    "AVHV_train_conflict_dataset = load_potential_conflict_pickle(dataset_type=\"AVHV\", dataset_name=\"train2\",\n",
    "                                                             delta_time=delta_time)\n",
    "HVHV_train_conflict_dataset = load_potential_conflict_pickle(dataset_type=\"HVHV\", dataset_name=\"train2\",\n",
    "                                                             delta_time=delta_time)\n",
    "\n",
    "print(\"Post-processing\")\n",
    "conflicts = []\n",
    "conflicts = conflicts + post_process(AVHV_val_conflict_dataset, \"val\")\n",
    "conflicts = conflicts + post_process(AVHV_train_conflict_dataset, \"train\")\n",
    "# 646 AVHV/HVAV conflicts"
   ]
  },
  {
   "cell_type": "code",
   "execution_count": null,
   "id": "23a92581-9d94-4960-9389-051ac8db58d5",
   "metadata": {},
   "outputs": [],
   "source": [
    "# %% define the collections of TAs.\n",
    "HVHV_TAs = []\n",
    "AVHV_TAs = []\n",
    "HVAV_TAs = []\n",
    "HVHV_TAs_merge = []\n",
    "AVHV_TAs_merge = []\n",
    "HVAV_TAs_merge = []\n",
    "HVHV_TAs_cross = []\n",
    "AVHV_TAs_cross = []\n",
    "HVAV_TAs_cross = []\n",
    "\n",
    "plt.figure(figsize=(4,3))\n",
    "\n",
    "print(\"Calculate the TA distribution\")\n",
    "for index, conflict in enumerate(conflicts):\n",
    "    print(index)\n",
    "    first_xyt = np.hstack(\n",
    "        [conflict.first_trajectory.xy, conflict.first_trajectory.t.reshape((-1,1))])\n",
    "    second_xyt = np.hstack(\n",
    "        [conflict.second_trajectory.xy, conflict.second_trajectory.t.reshape((-1,1))])\n",
    "    \n",
    "    # extract the trajectory within the study rectangle\n",
    "    first_xyt = first_xyt[\n",
    "        (first_xyt[:, 0] <= Trajectory.X_MAX) &\n",
    "        (first_xyt[:, 0] >= Trajectory.X_MIN) &\n",
    "        (first_xyt[:, 1] <= Trajectory.Y_MAX) &\n",
    "        (first_xyt[:, 1] >= Trajectory.Y_MIN)\n",
    "    ]\n",
    "    second_xyt = second_xyt[\n",
    "        (second_xyt[:, 0] <= Trajectory.X_MAX) &\n",
    "        (second_xyt[:, 0] >= Trajectory.X_MIN) &\n",
    "        (second_xyt[:, 1] <= Trajectory.Y_MAX) &\n",
    "        (second_xyt[:, 1] >= Trajectory.Y_MIN)\n",
    "    ]\n",
    "    \n",
    "    # take the first timestamp that two vehicles co-exist\n",
    "    coexist_start_time = max(first_xyt[0, 2], second_xyt[0, 2])\n",
    "    first_xyt = first_xyt[\n",
    "        (conflict.first_time_at_conflict > first_xyt[:, 2]) &\n",
    "        (first_xyt[:, 2] >= coexist_start_time)\n",
    "        ]    \n",
    "    second_xyt = second_xyt[\n",
    "        (conflict.first_time_at_conflict > second_xyt[:, 2]) &\n",
    "        (second_xyt[:, 2] >= coexist_start_time)\n",
    "        ]\n",
    "    \n",
    "    # %% discard the samples with short trajectory (unable to calculate position-based speed)\n",
    "    if first_xyt.shape[0] < 3 or second_xyt.shape[0] < 3:\n",
    "        continue\n",
    "    assert first_xyt[0, 2] == second_xyt[0, 2], \\\n",
    "        f\"Two vehicles' initial states were not in the same time instant.\"\n",
    "    \n",
    "    \n",
    "    if first_xyt.shape[0] !=  second_xyt.shape[0]:\n",
    "        print(\"Non-equal two trajectories\", first_xyt.shape, second_xyt.shape)\n",
    "        len_traj = min(first_xyt.shape[0], second_xyt.shape[0]) - 2\n",
    "    else:\n",
    "        len_traj = first_xyt.shape[0] - 2\n",
    "\n",
    "    this_traj_TAs = []\n",
    "    for jdx in range(len_traj):\n",
    "        # %% calculate the length and speed -> to get TA\n",
    "        len_first_traj = LineString(first_xyt[jdx:, :2]).length  \n",
    "        vs = compute_position_based_velocities(first_xyt[jdx:, :2])\n",
    "        # print(vs.shape)\n",
    "        first_speeds = three_sigma_smoothing(vs)\n",
    "        print(first_speeds.shape)\n",
    "        first_speed = first_speeds[3]\n",
    "        len_second_traj = LineString(second_xyt[jdx:, :2]).length\n",
    "        second_speed = three_sigma_smoothing(compute_position_based_velocities(second_xyt[jdx:, :2]))[3]\n",
    "        TA = len_second_traj / second_speed - len_first_traj / first_speed\n",
    "       \n",
    "        if conflict.is_first_AV:\n",
    "            AVHV_TAs.append(TA)\n",
    "            if conflict.category == \"merge\":\n",
    "                AVHV_TAs_merge.append(TA)\n",
    "            else:\n",
    "                AVHV_TAs_cross.append(TA)\n",
    "        else:\n",
    "            HVAV_TAs.append(TA)\n",
    "            if conflict.category == \"merge\":\n",
    "                HVAV_TAs_merge.append(TA)\n",
    "            else:\n",
    "                HVAV_TAs_cross.append(TA)\n",
    "        this_traj_TAs.append(TA)\n",
    "\n",
    "        \n",
    "    # # print(conflict.is_first_AV, conflict.PET)\n",
    "    # # conflict.plot()\n",
    "\n",
    "    # if index == 55:\n",
    "    #     plt.plot(this_traj_TAs)\n",
    "    #     # print(this_traj_TAs)\n",
    "    #     # plt.scatter(first_xyt[:len(this_traj_TAs),0], first_xyt[:len(this_traj_TAs),1], c=this_traj_TAs, s=2, vmin=-10, vmax=10)\n",
    "    #     # plt.scatter(second_xyt[:len(this_traj_TAs),0], second_xyt[:len(this_traj_TAs),1], c=this_traj_TAs, s=2, vmin=-10, vmax=10)\n",
    "    #     # plt.colorbar()\n",
    "    #     # plt.xlim((-800,-700))\n",
    "    #     plt.ylim((-20,20))\n",
    "    #     break\n",
    "# plt.ylim([-50,50])"
   ]
  },
  {
   "cell_type": "code",
   "execution_count": 5,
   "id": "563ba9ff-bcf5-4a6b-8f6b-e7dacf0c4e35",
   "metadata": {},
   "outputs": [
    {
     "name": "stdout",
     "output_type": "stream",
     "text": [
      "(19562,)\n",
      "(14848,)\n"
     ]
    }
   ],
   "source": [
    "AVHV_TAs = np.array(AVHV_TAs)\n",
    "HVAV_TAs = np.array(HVAV_TAs)\n",
    "AVHV_TAs_merge = np.array(AVHV_TAs_merge)\n",
    "HVAV_TAs_merge = np.array(HVAV_TAs_merge)\n",
    "AVHV_TAs_cross = np.array(AVHV_TAs_cross)\n",
    "HVAV_TAs_cross = np.array(HVAV_TAs_cross)\n",
    "\n",
    "TA_MIN = -15\n",
    "TA_MAX = 20\n",
    "\n",
    "print(AVHV_TAs.shape)\n",
    "\n",
    "AVHV_TAs = AVHV_TAs[\n",
    "    (AVHV_TAs >= TA_MIN) &\n",
    "    (AVHV_TAs <= TA_MAX)\n",
    "]\n",
    "\n",
    "print(AVHV_TAs.shape)\n",
    "\n",
    "HVAV_TAs = HVAV_TAs[\n",
    "    (HVAV_TAs >= TA_MIN) &\n",
    "    (HVAV_TAs <= TA_MAX)\n",
    "]\n",
    "\n",
    "AVHV_TAs_merge = AVHV_TAs_merge[\n",
    "    (AVHV_TAs_merge >= TA_MIN) &\n",
    "    (AVHV_TAs_merge <= TA_MAX)\n",
    "]\n",
    "HVAV_TAs_merge = HVAV_TAs_merge[\n",
    "    (HVAV_TAs_merge >= TA_MIN) &\n",
    "    (HVAV_TAs_merge <= TA_MAX)\n",
    "]\n",
    "\n",
    "AVHV_TAs_cross = AVHV_TAs_cross[\n",
    "    (AVHV_TAs_cross >= TA_MIN) &\n",
    "    (AVHV_TAs_cross <= TA_MAX)\n",
    "]\n",
    "HVAV_TAs_cross = HVAV_TAs_cross[\n",
    "    (HVAV_TAs_cross >= TA_MIN) &\n",
    "    (HVAV_TAs_cross <= TA_MAX)\n",
    "]"
   ]
  },
  {
   "cell_type": "code",
   "execution_count": 6,
   "id": "29eab059-acec-4c93-a7e7-eba754b93798",
   "metadata": {},
   "outputs": [
    {
     "data": {
      "image/png": "[encoded data removed]",
      "text/plain": [
       "<Figure size 500x300 with 2 Axes>"
      ]
     },
     "metadata": {},
     "output_type": "display_data"
    }
   ],
   "source": [
    "# %% draw distribution\n",
    "fig, axs = plt.subplots(1, 2, figsize=(5, 3), sharey=True, sharex=True)\n",
    "\n",
    "sca0 = axs[0].hist(x=AVHV_TAs_merge, bins=100)\n",
    "sca1 = axs[1].hist(x=HVAV_TAs_merge, bins=100, color='blue')\n",
    "# sca2 = axs[2].scatter(x=HVAV_PETs_cross, y=HVAV_average_speeds_first_cross, s=20, marker=\"o\", c=HVAV_MRDs_cross, cmap=\"Reds\", vmin=0, vmax=5)\n",
    "\n",
    "axs[0].set_title(r\"AVHV\")\n",
    "axs[0].set_xlabel(\"Time advantages\")\n",
    "axs[0].set_ylabel(\"Count\")\n",
    "axs[0].set_xlim([TA_MIN, TA_MAX])\n",
    "\n",
    "axs[1].set_title(r\"HVAV\")\n",
    "axs[1].set_xlabel(\"Time advantages\")\n",
    "# axs[1].set_ylabel(\"Average speed\")\n",
    "\n",
    "# axs[2].set_title(r\"$\\bf{HV}$-AV crossing\")\n",
    "# axs[2].set_xlabel(\"Post encroachment time\")\n",
    "# axs[2].set_ylabel(\"Average speed\")\n",
    "\n",
    "plt.tight_layout()\n",
    "plt.show()"
   ]
  },
  {
   "cell_type": "code",
   "execution_count": 7,
   "id": "cc04422a-ce89-43e0-81a2-1a5afa2c8cd9",
   "metadata": {},
   "outputs": [
    {
     "data": {
      "image/png": "[encoded data removed]",
      "text/plain": [
       "<Figure size 500x300 with 2 Axes>"
      ]
     },
     "metadata": {},
     "output_type": "display_data"
    }
   ],
   "source": [
    "# %% draw distribution\n",
    "fig, axs = plt.subplots(1, 2, figsize=(5, 3), sharey=True, sharex=True)\n",
    "\n",
    "sca0 = axs[0].hist(x=AVHV_TAs_cross, bins=100)\n",
    "sca1 = axs[1].hist(x=HVAV_TAs_cross, bins=100, color='blue')\n",
    "# sca2 = axs[2].scatter(x=HVAV_PETs_cross, y=HVAV_average_speeds_first_cross, s=20, marker=\"o\", c=HVAV_MRDs_cross, cmap=\"Reds\", vmin=0, vmax=5)\n",
    "\n",
    "axs[0].set_title(r\"AVHV\")\n",
    "axs[0].set_xlabel(\"Time advantages\")\n",
    "axs[0].set_ylabel(\"Count\")\n",
    "axs[0].set_xlim([TA_MIN, TA_MAX])\n",
    "\n",
    "axs[1].set_title(r\"HVAV\")\n",
    "axs[1].set_xlabel(\"Time advantages\")\n",
    "# axs[1].set_ylabel(\"Average speed\")\n",
    "\n",
    "# axs[2].set_title(r\"$\\bf{HV}$-AV crossing\")\n",
    "# axs[2].set_xlabel(\"Post encroachment time\")\n",
    "# axs[2].set_ylabel(\"Average speed\")\n",
    "\n",
    "plt.tight_layout()\n",
    "plt.show()"
   ]
  },
  {
   "cell_type": "code",
   "execution_count": 8,
   "id": "67a9fee4-8dcd-4f00-8d13-848829f10f29",
   "metadata": {},
   "outputs": [
    {
     "data": {
      "image/png": "[encoded data removed]",
      "text/plain": [
       "<Figure size 500x300 with 2 Axes>"
      ]
     },
     "metadata": {},
     "output_type": "display_data"
    }
   ],
   "source": [
    "# %% draw distribution\n",
    "fig, axs = plt.subplots(1, 2, figsize=(5, 3), sharey=True, sharex=True)\n",
    "\n",
    "sca0 = axs[0].hist(x=AVHV_TAs, bins=100)\n",
    "sca1 = axs[1].hist(x=HVAV_TAs, bins=100, color='blue')\n",
    "# sca2 = axs[2].scatter(x=HVAV_PETs_cross, y=HVAV_average_speeds_first_cross, s=20, marker=\"o\", c=HVAV_MRDs_cross, cmap=\"Reds\", vmin=0, vmax=5)\n",
    "\n",
    "axs[0].set_title(r\"AVHV\")\n",
    "axs[0].set_xlabel(\"Time advantages\")\n",
    "axs[0].set_ylabel(\"Count\")\n",
    "axs[0].set_xlim([TA_MIN, TA_MAX])\n",
    "\n",
    "axs[1].set_title(r\"HVAV\")\n",
    "axs[1].set_xlabel(\"Time advantages\")\n",
    "# axs[1].set_ylabel(\"Average speed\")\n",
    "\n",
    "# axs[2].set_title(r\"$\\bf{HV}$-AV crossing\")\n",
    "# axs[2].set_xlabel(\"Post encroachment time\")\n",
    "# axs[2].set_ylabel(\"Average speed\")\n",
    "\n",
    "plt.tight_layout()\n",
    "plt.show()"
   ]
  },
  {
   "cell_type": "code",
   "execution_count": null,
   "id": "5aaa477f-5ee7-4fe6-8ff8-43bec7081057",
   "metadata": {},
   "outputs": [],
   "source": []
  },
  {
   "cell_type": "code",
   "execution_count": null,
   "id": "4ae0248d-cb55-4aef-ac6e-e954b70935e2",
   "metadata": {},
   "outputs": [],
   "source": []
  }
 ],
 "metadata": {
  "kernelspec": {
   "display_name": "Python 3 (ipykernel)",
   "language": "python",
   "name": "python3"
  },
  "language_info": {
   "codemirror_mode": {
    "name": "ipython",
    "version": 3
   },
   "file_extension": ".py",
   "mimetype": "text/x-python",
   "name": "python",
   "nbconvert_exporter": "python",
   "pygments_lexer": "ipython3",
   "version": "3.8.18"
  }
 },
 "nbformat": 4,
 "nbformat_minor": 5
}
