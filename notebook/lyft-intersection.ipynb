{
 "cells": [
  {
   "cell_type": "code",
   "execution_count": 1,
   "id": "initial_id",
   "metadata": {},
   "outputs": [],
   "source": [
    "import os\n",
    "from l5kit.data import ChunkedDataset, LocalDataManager\n",
    "# !pip install protobuf==3.20.* # solve the \"Descriptors cannot be created directly\" issue\n",
    "from l5kit.dataset import EgoDataset, AgentDataset\n",
    "from l5kit.rasterization import build_rasterizer\n",
    "from l5kit.configs import load_config_data"
   ]
  },
  {
   "cell_type": "code",
   "execution_count": 9,
   "id": "a3965371-4767-4cc8-9d07-6b318fee99f5",
   "metadata": {},
   "outputs": [],
   "source": [
    "os.environ[\"L5KIT_DATA_FOLDER\"] = \"./\"\n",
    "dm = LocalDataManager()\n",
    "\n",
    "zarr_data_path: str = \"../raw_data/lyft/scenes/sample.zarr\"\n",
    "config_yaml_path: str = \"../raw_data/lyft/configs/config-sample.yaml\"\n",
    "dm.require(key=zarr_data_path) # validate the path.\n",
    "\n",
    "chunk_dataset = ChunkedDataset(path=zarr_data_path)\n",
    "chunk_dataset.open()\n",
    "\n",
    "cfg = load_config_data(path=config_yaml_path)"
   ]
  },
  {
   "cell_type": "code",
   "execution_count": 10,
   "id": "97e21b7e-5158-462f-97d9-2ef7f982a02b",
   "metadata": {},
   "outputs": [
    {
     "name": "stdout",
     "output_type": "stream",
     "text": [
      "+------------+------------+------------+---------------+-----------------+----------------------+----------------------+----------------------+---------------------+\n",
      "| Num Scenes | Num Frames | Num Agents | Num TR lights | Total Time (hr) | Avg Frames per Scene | Avg Agents per Frame | Avg Scene Time (sec) | Avg Frame frequency |\n",
      "+------------+------------+------------+---------------+-----------------+----------------------+----------------------+----------------------+---------------------+\n",
      "|    100     |   24838    |  1893736   |     316008    |       0.69      |        248.38        |        76.24         |        24.83         |        10.00        |\n",
      "+------------+------------+------------+---------------+-----------------+----------------------+----------------------+----------------------+---------------------+\n"
     ]
    }
   ],
   "source": [
    "rast = build_rasterizer(cfg, dm)\n",
    "ego_dataset = EgoDataset(cfg, chunk_dataset, rast)\n",
    "print(ego_dataset)"
   ]
  },
  {
   "cell_type": "code",
   "execution_count": null,
   "id": "6e08d5e1-9ade-4992-aa5e-0f610f76c680",
   "metadata": {},
   "outputs": [],
   "source": []
  }
 ],
 "metadata": {
  "kernelspec": {
   "display_name": "Python 3 (ipykernel)",
   "language": "python",
   "name": "python3"
  },
  "language_info": {
   "codemirror_mode": {
    "name": "ipython",
    "version": 3
   },
   "file_extension": ".py",
   "mimetype": "text/x-python",
   "name": "python",
   "nbconvert_exporter": "python",
   "pygments_lexer": "ipython3",
   "version": "3.8.20"
  }
 },
 "nbformat": 4,
 "nbformat_minor": 5
}
